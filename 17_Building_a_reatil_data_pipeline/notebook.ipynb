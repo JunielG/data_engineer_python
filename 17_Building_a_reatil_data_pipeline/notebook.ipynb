{
 "cells": [
  {
   "cell_type": "markdown",
   "id": "ef36f535-4bdc-4e2b-a22a-179372324b26",
   "metadata": {},
   "source": [
    "![walmartecomm](walmartecomm.jpg)\n",
    "\n",
    "Walmart is the biggest retail store in the United States. Just like others, they have been expanding their e-commerce part of the business. By the end of 2022, e-commerce represented a roaring $80 billion in sales, which is 13% of total sales of Walmart. One of the main factors that affects their sales is public holidays, like the Super Bowl, Labour Day, Thanksgiving, and Christmas. \n",
    "\n",
    "In this project, you have been tasked with creating a data pipeline for the analysis of supply and demand around the holidays, along with conducting a preliminary analysis of the data. You will be working with two data sources: grocery sales and complementary data. You have been provided with the `grocery_sales` table in `PostgreSQL` database with the following features:\n",
    "\n",
    "# `grocery_sales`\n",
    "- `\"index\"` - unique ID of the row\n",
    "- `\"Store_ID\"` - the store number\n",
    "- `\"Date\"` - the week of sales\n",
    "- `\"Weekly_Sales\"` - sales for the given store\n",
    "\n",
    "Also, you have the `extra_data.parquet` file that contains complementary data:\n",
    "\n",
    "# `extra_data.parquet`\n",
    "- `\"IsHoliday\"` - Whether the week contains a public holiday - 1 if yes, 0 if no.\n",
    "- `\"Temperature\"` - Temperature on the day of sale\n",
    "- `\"Fuel_Price\"` - Cost of fuel in the region\n",
    "- `\"CPI\"` – Prevailing consumer price index\n",
    "- `\"Unemployment\"` - The prevailing unemployment rate\n",
    "- `\"MarkDown1\"`, `\"MarkDown2\"`, `\"MarkDown3\"`, `\"MarkDown4\"` - number of promotional markdowns\n",
    "- `\"Dept\"` - Department Number in each store\n",
    "- `\"Size\"` - size of the store\n",
    "- `\"Type\"` - type of the store (depends on `Size` column)\n",
    "\n",
    "You will need to merge those files and perform some data manipulations. The transformed DataFrame can then be stored as the `clean_data` variable containing the following columns:\n",
    "- `\"Store_ID\"`\n",
    "- `\"Month\"`\n",
    "- `\"Dept\"`\n",
    "- `\"IsHoliday\"`\n",
    "- `\"Weekly_Sales\"`\n",
    "- `\"CPI\"`\n",
    "- \"`\"Unemployment\"`\"\n",
    "\n",
    "After merging and cleaning the data, you will have to analyze monthly sales of Walmart and store the results of your analysis as the `agg_data` variable that should look like:\n",
    "\n",
    "|  Month | Weekly_Sales  | \n",
    "|---|---|\n",
    "| 1.0  |  33174.178494 |\n",
    "|  2.0 |  34333.326579 |\n",
    "|  ... | ...  |  \n",
    "\n",
    "Finally, you should save the `clean_data` and `agg_data` as the csv files.\n",
    "\n",
    "It is recommended to use `pandas` for this project. "
   ]
  },
  {
   "cell_type": "code",
   "execution_count": 2,
   "id": "59fe49dc-cda5-4d22-bb10-49e94cdb6437",
   "metadata": {
    "collapsed": false,
    "customType": "sql",
    "dataFrameVariableName": "grocery_sales",
    "executionCancelledAt": null,
    "executionTime": null,
    "jupyter": {
     "outputs_hidden": false,
     "source_hidden": false
    },
    "lastExecutedAt": null,
    "lastExecutedByKernel": null,
    "lastScheduledRunId": null,
    "lastSuccessfullyExecutedCode": null,
    "outputsMetadata": {
     "0": {
      "height": 86,
      "tableState": {},
      "type": "dataFrame"
     }
    },
    "sqlCellMode": "dataFrame",
    "sqlSource": {
     "integrationId": "89e17161-a224-4a8a-846b-0adc0fe7a4b1",
     "type": "integration"
    }
   },
   "outputs": [
    {
     "@datacamp/metadata": {
      "executedQuery": "-- Write your SQL query here\nSELECT * FROM grocery_sales\nLIMIT 5;",
      "executedQueryParameters": []
     },
     "data": {
      "application/com.datacamp.data-table.v2+json": {
       "table": {
        "data": {
         "Date": [
          "2010-02-05T00:00:00.000",
          "2010-02-05T00:00:00.000",
          "2010-02-05T00:00:00.000",
          "2010-02-05T00:00:00.000",
          "2010-02-05T00:00:00.000"
         ],
         "Dept": [
          1,
          26,
          17,
          45,
          28
         ],
         "Store_ID": [
          1,
          1,
          1,
          1,
          1
         ],
         "Weekly_Sales": [
          24924.5,
          11737.12,
          13223.76,
          37.44,
          1085.29
         ],
         "index": [
          0,
          1,
          2,
          3,
          4
         ],
         "level_0": [
          0,
          1,
          2,
          3,
          4
         ]
        },
        "schema": {
         "fields": [
          {
           "name": "level_0",
           "type": "integer"
          },
          {
           "name": "index",
           "type": "integer"
          },
          {
           "name": "Store_ID",
           "type": "integer"
          },
          {
           "name": "Date",
           "type": "datetime"
          },
          {
           "name": "Dept",
           "type": "integer"
          },
          {
           "name": "Weekly_Sales",
           "type": "number"
          }
         ],
         "pandas_version": "1.4.0",
         "primaryKey": [
          "level_0"
         ]
        }
       },
       "total_rows": 5,
       "truncation_type": null
      },
      "text/html": [
       "<div>\n",
       "<style scoped>\n",
       "    .dataframe tbody tr th:only-of-type {\n",
       "        vertical-align: middle;\n",
       "    }\n",
       "\n",
       "    .dataframe tbody tr th {\n",
       "        vertical-align: top;\n",
       "    }\n",
       "\n",
       "    .dataframe thead th {\n",
       "        text-align: right;\n",
       "    }\n",
       "</style>\n",
       "<table border=\"1\" class=\"dataframe\">\n",
       "  <thead>\n",
       "    <tr style=\"text-align: right;\">\n",
       "      <th></th>\n",
       "      <th>index</th>\n",
       "      <th>Store_ID</th>\n",
       "      <th>Date</th>\n",
       "      <th>Dept</th>\n",
       "      <th>Weekly_Sales</th>\n",
       "    </tr>\n",
       "  </thead>\n",
       "  <tbody>\n",
       "    <tr>\n",
       "      <th>0</th>\n",
       "      <td>0</td>\n",
       "      <td>1</td>\n",
       "      <td>2010-02-05</td>\n",
       "      <td>1</td>\n",
       "      <td>24924.50</td>\n",
       "    </tr>\n",
       "    <tr>\n",
       "      <th>1</th>\n",
       "      <td>1</td>\n",
       "      <td>1</td>\n",
       "      <td>2010-02-05</td>\n",
       "      <td>26</td>\n",
       "      <td>11737.12</td>\n",
       "    </tr>\n",
       "    <tr>\n",
       "      <th>2</th>\n",
       "      <td>2</td>\n",
       "      <td>1</td>\n",
       "      <td>2010-02-05</td>\n",
       "      <td>17</td>\n",
       "      <td>13223.76</td>\n",
       "    </tr>\n",
       "    <tr>\n",
       "      <th>3</th>\n",
       "      <td>3</td>\n",
       "      <td>1</td>\n",
       "      <td>2010-02-05</td>\n",
       "      <td>45</td>\n",
       "      <td>37.44</td>\n",
       "    </tr>\n",
       "    <tr>\n",
       "      <th>4</th>\n",
       "      <td>4</td>\n",
       "      <td>1</td>\n",
       "      <td>2010-02-05</td>\n",
       "      <td>28</td>\n",
       "      <td>1085.29</td>\n",
       "    </tr>\n",
       "  </tbody>\n",
       "</table>\n",
       "</div>"
      ],
      "text/plain": [
       "   index  Store_ID       Date  Dept  Weekly_Sales\n",
       "0      0         1 2010-02-05     1      24924.50\n",
       "1      1         1 2010-02-05    26      11737.12\n",
       "2      2         1 2010-02-05    17      13223.76\n",
       "3      3         1 2010-02-05    45         37.44\n",
       "4      4         1 2010-02-05    28       1085.29"
      ]
     },
     "execution_count": 2,
     "metadata": {
      "application/com.datacamp.data-table.v2+json": {
       "status": "success"
      }
     },
     "output_type": "execute_result"
    }
   ],
   "source": [
    "-- Write your SQL query here\n",
    "SELECT * FROM grocery_sales\n",
    "LIMIT 5;"
   ]
  },
  {
   "cell_type": "code",
   "execution_count": 3,
   "id": "c0d64ff1-a4ca-4a82-a8b4-e210244dedc1",
   "metadata": {
    "executionCancelledAt": null,
    "executionTime": 3390,
    "lastExecutedAt": 1748882782888,
    "lastExecutedByKernel": "9242f546-2d97-4e69-89c2-3472aaa9ce0b",
    "lastScheduledRunId": null,
    "lastSuccessfullyExecutedCode": "import pandas as pd\nimport os\n\n# Extract function is already implemented for you \ndef extract(store_data, extra_data):\n    extra_df = pd.read_parquet(extra_data)\n    merged_df = store_data.merge(extra_df, on = \"index\")\n    return merged_df\n\n# Call the extract() function and store it as the \"merged_df\" variable\nmerged_df = extract(grocery_sales, \"extra_data.parquet\")"
   },
   "outputs": [],
   "source": [
    "import pandas as pd\n",
    "import os\n",
    "\n",
    "# Extract function is already implemented for you \n",
    "def extract(store_data, extra_data):\n",
    "    extra_df = pd.read_parquet(extra_data)\n",
    "    merged_df = store_data.merge(extra_df, on = \"index\")\n",
    "    return merged_df\n",
    "\n",
    "# Call the extract() function and store it as the \"merged_df\" variable\n",
    "merged_df = extract(grocery_sales, \"extra_data.parquet\")"
   ]
  },
  {
   "cell_type": "code",
   "execution_count": 4,
   "id": "6d3c25e2-e7d8-4c33-9be0-d45f03b2cf43",
   "metadata": {
    "executionCancelledAt": null,
    "executionTime": 15,
    "lastExecutedAt": 1748883202063,
    "lastExecutedByKernel": "9242f546-2d97-4e69-89c2-3472aaa9ce0b",
    "lastScheduledRunId": null,
    "lastSuccessfullyExecutedCode": "# Create the transform() function with one parameter: \"raw_data\"\ndef transform(raw_data):\n  # Write your code here\n  # Filling NaNs values using mean method\n  # Set inplace = True to do the replacing on the current DataFrame\n    raw_data.fillna(\n        {\n          'CPI': raw_data['CPI'].mean(),\n          'Weekly_Sales': raw_data['Weekly_Sales'].mean(),\n          'Unemployment': raw_data['Unemployment'].mean(),\n        }, inplace= True\n    )\n\n  # Define the type of the \"Date\" column and its format\n    raw_data[\"Date\"] = pd.to_datetime(raw_data[\"Date\"], format = \"%Y-%m-%d\")\n    \n    # Extract the month value from the \"Date\" column to calculate monthly sales later on\n    raw_data[\"Month\"] = raw_data[\"Date\"].dt.month\n\n    # Filter the entire DataFrame using the \"Weekly_Sales\" column. Use .loc to access a group of rows\n    raw_data = raw_data.loc[raw_data[\"Weekly_Sales\"] > 10000, :]\n    \n    # Drop unnecessary columns. Set axis = 1 to specify that the columns should be removed\n    raw_data = raw_data.drop([\"index\", \"Temperature\", \"Fuel_Price\", \"MarkDown1\", \"MarkDown2\",\n                              \"MarkDown3\", \"MarkDown4\", \"MarkDown5\", \"Type\", \"Size\", \"Date\"]\n                             ,axis = 1)\n    return raw_data"
   },
   "outputs": [],
   "source": [
    "# Create the transform() function with one parameter: \"raw_data\"\n",
    "def transform(raw_data):\n",
    "  # Write your code here\n",
    "  # Filling NaNs values using mean method\n",
    "  # Set inplace = True to do the replacing on the current DataFrame\n",
    "    raw_data.fillna(\n",
    "        {\n",
    "          'CPI': raw_data['CPI'].mean(),\n",
    "          'Weekly_Sales': raw_data['Weekly_Sales'].mean(),\n",
    "          'Unemployment': raw_data['Unemployment'].mean(),\n",
    "        }, inplace= True\n",
    "    )\n",
    "\n",
    "  # Define the type of the \"Date\" column and its format\n",
    "    raw_data[\"Date\"] = pd.to_datetime(raw_data[\"Date\"], format = \"%Y-%m-%d\")\n",
    "    \n",
    "    # Extract the month value from the \"Date\" column to calculate monthly sales later on\n",
    "    raw_data[\"Month\"] = raw_data[\"Date\"].dt.month\n",
    "\n",
    "    # Filter the entire DataFrame using the \"Weekly_Sales\" column. Use .loc to access a group of rows\n",
    "    raw_data = raw_data.loc[raw_data[\"Weekly_Sales\"] > 10000, :]\n",
    "    \n",
    "    # Drop unnecessary columns. Set axis = 1 to specify that the columns should be removed\n",
    "    raw_data = raw_data.drop([\"index\", \"Temperature\", \"Fuel_Price\", \"MarkDown1\", \"MarkDown2\",\n",
    "                              \"MarkDown3\", \"MarkDown4\", \"MarkDown5\", \"Type\", \"Size\", \"Date\"]\n",
    "                             ,axis = 1)\n",
    "    return raw_data"
   ]
  },
  {
   "cell_type": "code",
   "execution_count": 5,
   "id": "620b7289-06cd-4205-be9e-a50dc8d36cf0",
   "metadata": {
    "executionCancelledAt": null,
    "executionTime": 14,
    "lastExecutedAt": 1748883215204,
    "lastExecutedByKernel": "9242f546-2d97-4e69-89c2-3472aaa9ce0b",
    "lastScheduledRunId": null,
    "lastSuccessfullyExecutedCode": "# Call the transform() function and pass the merged DataFrame\nclean_data = transform(merged_df)"
   },
   "outputs": [],
   "source": [
    "# Call the transform() function and pass the merged DataFrame\n",
    "clean_data = transform(merged_df)"
   ]
  },
  {
   "cell_type": "code",
   "execution_count": 7,
   "id": "b19b15e3-6624-47a9-927f-d3f12fe8212d",
   "metadata": {
    "executionCancelledAt": null,
    "executionTime": 13,
    "lastExecutedAt": 1748883302273,
    "lastExecutedByKernel": "9242f546-2d97-4e69-89c2-3472aaa9ce0b",
    "lastScheduledRunId": null,
    "lastSuccessfullyExecutedCode": "# Create the avg_weekly_sales_per_month function that takes in the cleaned data from the last step\ndef avg_weekly_sales_per_month(clean_data):\n    # Write your code here\n    holidays_sales = clean_data[[\"Month\", \"Weekly_Sales\"]]\n   \t# Create a chain operation with groupby(), agg(), reset_index(), and round() functions\n    # Group by the \"Month\" column and calculate the average monthly sales\n    # Call reset_index() to start a new index order\n    # Round the results to two decimal places\n    holidays_sales = (holidays_sales.groupby(\"Month\")\n    .agg(Avg_Sales = (\"Weekly_Sales\", \"mean\"))\n    .reset_index().round(2))\n    return holidays_sales"
   },
   "outputs": [],
   "source": [
    "# Create the avg_weekly_sales_per_month function that takes in the cleaned data from the last step\n",
    "def avg_weekly_sales_per_month(clean_data):\n",
    "    # Write your code here\n",
    "    holidays_sales = clean_data[[\"Month\", \"Weekly_Sales\"]]\n",
    "   \t# Create a chain operation with groupby(), agg(), reset_index(), and round() functions\n",
    "    # Group by the \"Month\" column and calculate the average monthly sales\n",
    "    # Call reset_index() to start a new index order\n",
    "    # Round the results to two decimal places\n",
    "    holidays_sales = (holidays_sales.groupby(\"Month\")\n",
    "    .agg(Avg_Sales = (\"Weekly_Sales\", \"mean\"))\n",
    "    .reset_index().round(2))\n",
    "    return holidays_sales"
   ]
  },
  {
   "cell_type": "code",
   "execution_count": 8,
   "id": "fe875e27-b0cf-4e52-994e-4ae1fe6e8876",
   "metadata": {
    "executionCancelledAt": null,
    "executionTime": 16,
    "lastExecutedAt": 1748883312058,
    "lastExecutedByKernel": "9242f546-2d97-4e69-89c2-3472aaa9ce0b",
    "lastScheduledRunId": null,
    "lastSuccessfullyExecutedCode": "# Call the avg_weekly_sales_per_month() function and pass the cleaned DataFrame\nagg_data = avg_weekly_sales_per_month(clean_data)"
   },
   "outputs": [],
   "source": [
    "# Call the avg_weekly_sales_per_month() function and pass the cleaned DataFrame\n",
    "agg_data = avg_weekly_sales_per_month(clean_data)"
   ]
  },
  {
   "cell_type": "code",
   "execution_count": 9,
   "id": "921cb123-3153-4334-bdeb-9bb227fdc530",
   "metadata": {
    "executionCancelledAt": null,
    "executionTime": 12,
    "lastExecutedAt": 1748883331074,
    "lastExecutedByKernel": "9242f546-2d97-4e69-89c2-3472aaa9ce0b",
    "lastScheduledRunId": null,
    "lastSuccessfullyExecutedCode": "# Create the load() function that takes in the cleaned DataFrame and the aggregated one with the paths where they are going to be stored\ndef load(full_data, full_data_file_path, agg_data, agg_data_file_path):\n    # Write your code here\n    # Save both DataFrames as csv files. Set index = False to drop the index columns\n    full_data.to_csv(full_data_file_path, index = False)\n    agg_data.to_csv(agg_data_file_path, index = False)"
   },
   "outputs": [],
   "source": [
    "# Create the load() function that takes in the cleaned DataFrame and the aggregated one with the paths where they are going to be stored\n",
    "def load(full_data, full_data_file_path, agg_data, agg_data_file_path):\n",
    "    # Write your code here\n",
    "    # Save both DataFrames as csv files. Set index = False to drop the index columns\n",
    "    full_data.to_csv(full_data_file_path, index = False)\n",
    "    agg_data.to_csv(agg_data_file_path, index = False)"
   ]
  },
  {
   "cell_type": "code",
   "execution_count": 10,
   "id": "f518ad5c-214e-474b-80bd-827b0c0e1536",
   "metadata": {
    "executionCancelledAt": null,
    "executionTime": 45,
    "lastExecutedAt": 1748883342673,
    "lastExecutedByKernel": "9242f546-2d97-4e69-89c2-3472aaa9ce0b",
    "lastScheduledRunId": null,
    "lastSuccessfullyExecutedCode": "# Call the load() function and pass the cleaned and aggregated DataFrames with their paths \nload(clean_data, \"clean_data.csv\", agg_data, \"agg_data.csv\")"
   },
   "outputs": [],
   "source": [
    "# Call the load() function and pass the cleaned and aggregated DataFrames with their paths \n",
    "load(clean_data, \"clean_data.csv\", agg_data, \"agg_data.csv\")"
   ]
  },
  {
   "cell_type": "code",
   "execution_count": 11,
   "id": "61b5f58a-70cb-40b3-bdbe-20b4079276e3",
   "metadata": {
    "executionCancelledAt": null,
    "executionTime": 12,
    "lastExecutedAt": 1748883363780,
    "lastExecutedByKernel": "9242f546-2d97-4e69-89c2-3472aaa9ce0b",
    "lastScheduledRunId": null,
    "lastSuccessfullyExecutedCode": "# Create the validation() function with one parameter: file_path - to check whether the previous function was correctly executed\ndef validation(file_path):\n    # Write your code here\n    file_exists = os.path.exists(file_path)\n    # Raise an exception if the path doesn't exist, hence, if there is no file found on a given path\n    if not file_exists:\n        raise Exception(f\"There is no file at the path {file_path}\")"
   },
   "outputs": [],
   "source": [
    "# Create the validation() function with one parameter: file_path - to check whether the previous function was correctly executed\n",
    "def validation(file_path):\n",
    "    # Write your code here\n",
    "    file_exists = os.path.exists(file_path)\n",
    "    # Raise an exception if the path doesn't exist, hence, if there is no file found on a given path\n",
    "    if not file_exists:\n",
    "        raise Exception(f\"There is no file at the path {file_path}\")"
   ]
  },
  {
   "cell_type": "code",
   "execution_count": 12,
   "id": "df1659ff-41c4-4a92-9812-80c6eaa02b90",
   "metadata": {
    "executionCancelledAt": null,
    "executionTime": 49,
    "lastExecutedAt": 1748883391722,
    "lastExecutedByKernel": "9242f546-2d97-4e69-89c2-3472aaa9ce0b",
    "lastScheduledRunId": null,
    "lastSuccessfullyExecutedCode": "# Call the validation() function and pass first, the cleaned DataFrame path, and then the aggregated DataFrame path\nvalidation(\"clean_data.csv\")\nvalidation(\"agg_data.csv\")"
   },
   "outputs": [],
   "source": [
    "# Call the validation() function and pass first, the cleaned DataFrame path, and then the aggregated DataFrame path\n",
    "validation(\"clean_data.csv\")\n",
    "validation(\"agg_data.csv\")"
   ]
  }
 ],
 "metadata": {
  "colab": {
   "name": "Welcome to DataCamp Workspaces.ipynb",
   "provenance": []
  },
  "editor": "DataLab",
  "kernelspec": {
   "display_name": "Python 3 (ipykernel)",
   "language": "python",
   "name": "python3"
  },
  "language_info": {
   "codemirror_mode": {
    "name": "ipython",
    "version": 3
   },
   "file_extension": ".py",
   "mimetype": "text/x-python",
   "name": "python",
   "nbconvert_exporter": "python",
   "pygments_lexer": "ipython3",
   "version": "3.9.13"
  }
 },
 "nbformat": 4,
 "nbformat_minor": 5
}
