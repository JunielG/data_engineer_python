{
 "cells": [
  {
   "cell_type": "markdown",
   "id": "c100a5d5-63e1-4066-b1a5-031b97f0222e",
   "metadata": {},
   "source": [
    "## Introduction to spreadsheets"
   ]
  },
  {
   "cell_type": "code",
   "execution_count": null,
   "id": "9f7175db-f139-4d7e-a674-cd45463e3906",
   "metadata": {},
   "outputs": [],
   "source": [
    "# Read columns W-AB and AR of file, skipping metadata header\n",
    "survey_data = pd.read_excel(\"fcc_survey_with_headers.xlsx\",\n",
    "                            skiprows=2,\n",
    "                            usecols=\"W:AB, AR\")\n",
    "# View data\n",
    "print(survey_data.head())"
   ]
  },
  {
   "cell_type": "code",
   "execution_count": 2,
   "id": "94e78d9e-6e48-447f-8d6e-7a671f5b5b75",
   "metadata": {},
   "outputs": [
    {
     "data": {
      "text/html": [
       "<div>\n",
       "<style scoped>\n",
       "    .dataframe tbody tr th:only-of-type {\n",
       "        vertical-align: middle;\n",
       "    }\n",
       "\n",
       "    .dataframe tbody tr th {\n",
       "        vertical-align: top;\n",
       "    }\n",
       "\n",
       "    .dataframe thead th {\n",
       "        text-align: right;\n",
       "    }\n",
       "</style>\n",
       "<table border=\"1\" class=\"dataframe\">\n",
       "  <thead>\n",
       "    <tr style=\"text-align: right;\">\n",
       "      <th></th>\n",
       "      <th>FreeCodeCamp New Developer Survey Responses, 2016</th>\n",
       "      <th>Unnamed: 1</th>\n",
       "      <th>Unnamed: 2</th>\n",
       "      <th>Unnamed: 3</th>\n",
       "      <th>Unnamed: 4</th>\n",
       "      <th>Unnamed: 5</th>\n",
       "      <th>Unnamed: 6</th>\n",
       "      <th>Unnamed: 7</th>\n",
       "      <th>Unnamed: 8</th>\n",
       "      <th>Unnamed: 9</th>\n",
       "      <th>...</th>\n",
       "      <th>Unnamed: 88</th>\n",
       "      <th>Unnamed: 89</th>\n",
       "      <th>Unnamed: 90</th>\n",
       "      <th>Unnamed: 91</th>\n",
       "      <th>Unnamed: 92</th>\n",
       "      <th>Unnamed: 93</th>\n",
       "      <th>Unnamed: 94</th>\n",
       "      <th>Unnamed: 95</th>\n",
       "      <th>Unnamed: 96</th>\n",
       "      <th>Unnamed: 97</th>\n",
       "    </tr>\n",
       "  </thead>\n",
       "  <tbody>\n",
       "    <tr>\n",
       "      <th>0</th>\n",
       "      <td>Source: https://www.kaggle.com/freecodecamp/20...</td>\n",
       "      <td>NaN</td>\n",
       "      <td>NaN</td>\n",
       "      <td>NaN</td>\n",
       "      <td>NaN</td>\n",
       "      <td>NaN</td>\n",
       "      <td>NaN</td>\n",
       "      <td>NaN</td>\n",
       "      <td>NaN</td>\n",
       "      <td>NaN</td>\n",
       "      <td>...</td>\n",
       "      <td>NaN</td>\n",
       "      <td>NaN</td>\n",
       "      <td>NaN</td>\n",
       "      <td>NaN</td>\n",
       "      <td>NaN</td>\n",
       "      <td>NaN</td>\n",
       "      <td>NaN</td>\n",
       "      <td>NaN</td>\n",
       "      <td>NaN</td>\n",
       "      <td>NaN</td>\n",
       "    </tr>\n",
       "    <tr>\n",
       "      <th>1</th>\n",
       "      <td>Age</td>\n",
       "      <td>AttendedBootcamp</td>\n",
       "      <td>BootcampFinish</td>\n",
       "      <td>BootcampLoanYesNo</td>\n",
       "      <td>BootcampName</td>\n",
       "      <td>BootcampRecommend</td>\n",
       "      <td>ChildrenNumber</td>\n",
       "      <td>CityPopulation</td>\n",
       "      <td>CodeEventConferences</td>\n",
       "      <td>CodeEventDjangoGirls</td>\n",
       "      <td>...</td>\n",
       "      <td>ResourcePluralSight</td>\n",
       "      <td>ResourceSkillCrush</td>\n",
       "      <td>ResourceStackOverflow</td>\n",
       "      <td>ResourceTreehouse</td>\n",
       "      <td>ResourceUdacity</td>\n",
       "      <td>ResourceUdemy</td>\n",
       "      <td>ResourceW3Schools</td>\n",
       "      <td>SchoolDegree</td>\n",
       "      <td>SchoolMajor</td>\n",
       "      <td>StudentDebtOwe</td>\n",
       "    </tr>\n",
       "    <tr>\n",
       "      <th>2</th>\n",
       "      <td>28</td>\n",
       "      <td>0</td>\n",
       "      <td>NaN</td>\n",
       "      <td>NaN</td>\n",
       "      <td>NaN</td>\n",
       "      <td>NaN</td>\n",
       "      <td>NaN</td>\n",
       "      <td>between 100,000 and 1 million</td>\n",
       "      <td>NaN</td>\n",
       "      <td>NaN</td>\n",
       "      <td>...</td>\n",
       "      <td>NaN</td>\n",
       "      <td>NaN</td>\n",
       "      <td>NaN</td>\n",
       "      <td>NaN</td>\n",
       "      <td>NaN</td>\n",
       "      <td>NaN</td>\n",
       "      <td>NaN</td>\n",
       "      <td>some college credit, no degree</td>\n",
       "      <td>NaN</td>\n",
       "      <td>20000</td>\n",
       "    </tr>\n",
       "    <tr>\n",
       "      <th>3</th>\n",
       "      <td>22</td>\n",
       "      <td>0</td>\n",
       "      <td>NaN</td>\n",
       "      <td>NaN</td>\n",
       "      <td>NaN</td>\n",
       "      <td>NaN</td>\n",
       "      <td>NaN</td>\n",
       "      <td>between 100,000 and 1 million</td>\n",
       "      <td>NaN</td>\n",
       "      <td>NaN</td>\n",
       "      <td>...</td>\n",
       "      <td>NaN</td>\n",
       "      <td>NaN</td>\n",
       "      <td>NaN</td>\n",
       "      <td>NaN</td>\n",
       "      <td>NaN</td>\n",
       "      <td>1</td>\n",
       "      <td>NaN</td>\n",
       "      <td>some college credit, no degree</td>\n",
       "      <td>NaN</td>\n",
       "      <td>NaN</td>\n",
       "    </tr>\n",
       "    <tr>\n",
       "      <th>4</th>\n",
       "      <td>19</td>\n",
       "      <td>0</td>\n",
       "      <td>NaN</td>\n",
       "      <td>NaN</td>\n",
       "      <td>NaN</td>\n",
       "      <td>NaN</td>\n",
       "      <td>NaN</td>\n",
       "      <td>more than 1 million</td>\n",
       "      <td>NaN</td>\n",
       "      <td>NaN</td>\n",
       "      <td>...</td>\n",
       "      <td>NaN</td>\n",
       "      <td>NaN</td>\n",
       "      <td>NaN</td>\n",
       "      <td>NaN</td>\n",
       "      <td>NaN</td>\n",
       "      <td>NaN</td>\n",
       "      <td>NaN</td>\n",
       "      <td>high school diploma or equivalent (GED)</td>\n",
       "      <td>NaN</td>\n",
       "      <td>NaN</td>\n",
       "    </tr>\n",
       "  </tbody>\n",
       "</table>\n",
       "<p>5 rows × 98 columns</p>\n",
       "</div>"
      ],
      "text/plain": [
       "   FreeCodeCamp New Developer Survey Responses, 2016        Unnamed: 1  \\\n",
       "0  Source: https://www.kaggle.com/freecodecamp/20...               NaN   \n",
       "1                                                Age  AttendedBootcamp   \n",
       "2                                                 28                 0   \n",
       "3                                                 22                 0   \n",
       "4                                                 19                 0   \n",
       "\n",
       "       Unnamed: 2         Unnamed: 3    Unnamed: 4         Unnamed: 5  \\\n",
       "0             NaN                NaN           NaN                NaN   \n",
       "1  BootcampFinish  BootcampLoanYesNo  BootcampName  BootcampRecommend   \n",
       "2             NaN                NaN           NaN                NaN   \n",
       "3             NaN                NaN           NaN                NaN   \n",
       "4             NaN                NaN           NaN                NaN   \n",
       "\n",
       "       Unnamed: 6                     Unnamed: 7            Unnamed: 8  \\\n",
       "0             NaN                            NaN                   NaN   \n",
       "1  ChildrenNumber                 CityPopulation  CodeEventConferences   \n",
       "2             NaN  between 100,000 and 1 million                   NaN   \n",
       "3             NaN  between 100,000 and 1 million                   NaN   \n",
       "4             NaN            more than 1 million                   NaN   \n",
       "\n",
       "             Unnamed: 9  ...          Unnamed: 88         Unnamed: 89  \\\n",
       "0                   NaN  ...                  NaN                 NaN   \n",
       "1  CodeEventDjangoGirls  ...  ResourcePluralSight  ResourceSkillCrush   \n",
       "2                   NaN  ...                  NaN                 NaN   \n",
       "3                   NaN  ...                  NaN                 NaN   \n",
       "4                   NaN  ...                  NaN                 NaN   \n",
       "\n",
       "             Unnamed: 90        Unnamed: 91      Unnamed: 92    Unnamed: 93  \\\n",
       "0                    NaN                NaN              NaN            NaN   \n",
       "1  ResourceStackOverflow  ResourceTreehouse  ResourceUdacity  ResourceUdemy   \n",
       "2                    NaN                NaN              NaN            NaN   \n",
       "3                    NaN                NaN              NaN              1   \n",
       "4                    NaN                NaN              NaN            NaN   \n",
       "\n",
       "         Unnamed: 94                              Unnamed: 95  Unnamed: 96  \\\n",
       "0                NaN                                      NaN          NaN   \n",
       "1  ResourceW3Schools                             SchoolDegree  SchoolMajor   \n",
       "2                NaN           some college credit, no degree          NaN   \n",
       "3                NaN           some college credit, no degree          NaN   \n",
       "4                NaN  high school diploma or equivalent (GED)          NaN   \n",
       "\n",
       "      Unnamed: 97  \n",
       "0             NaN  \n",
       "1  StudentDebtOwe  \n",
       "2           20000  \n",
       "3             NaN  \n",
       "4             NaN  \n",
       "\n",
       "[5 rows x 98 columns]"
      ]
     },
     "metadata": {},
     "output_type": "display_data"
    }
   ],
   "source": [
    "# Load pandas as pd\n",
    "import pandas as pd\n",
    "\n",
    "# Read spreadsheet and assign it to survey_responses\n",
    "survey_responses = pd.read_excel('fcc-new-coder-survey.xlsx')\n",
    "\n",
    "# View the head of the dataframe\n",
    "display(survey_responses.head())"
   ]
  },
  {
   "cell_type": "markdown",
   "id": "e049e77b-0026-431f-95d8-3a39eac83b69",
   "metadata": {},
   "source": [
    "### Load a portion of a spreadsheet\n",
    "Spreadsheets meant to be read by people often have multiple tables, e.g., a small business might keep an inventory workbook with tables for different product types on a single sheet. Even tabular data may have header rows of metadata, like the New Developer Survey data here. While the metadata is useful, we don't want it in a dataframe. You'll use read_excel()'s skiprows keyword to get just the data. You'll also create a string to pass to usecols to get only columns AD and AW through BA, about future job goals."
   ]
  },
  {
   "cell_type": "code",
   "execution_count": null,
   "id": "ddef0dcc-ed55-45e3-b3f8-289c736cd6bd",
   "metadata": {},
   "outputs": [],
   "source": [
    "# Create string of lettered columns to load\n",
    "col_string = 'AD, AW:BA'\n",
    "\n",
    "# Load data with skiprows and usecols set\n",
    "survey_responses = pd.read_excel(\"fcc_survey_headers.xlsx\", \n",
    "                        skiprows=2 , \n",
    "                        usecols=col_string)\n",
    "\n",
    "# View the names of the columns selected\n",
    "print(survey_responses.columns)"
   ]
  },
  {
   "cell_type": "markdown",
   "id": "323a74f2-f557-419a-bbe4-262829963355",
   "metadata": {},
   "source": [
    "## Getting data from multiple worksheets"
   ]
  },
  {
   "cell_type": "markdown",
   "id": "eb7636be-ee12-4015-99e3-14c6c7750c4d",
   "metadata": {},
   "source": [
    "### Select a single sheet\n",
    "An Excel workbook may contain multiple sheets of related data. The New Developer Survey response workbook has sheets for different years. Because read_excel() loads only the first sheet by default, you've already gotten survey responses for 2016. Now, you'll create a dataframe of 2017 responses using read_excel()'s sheet_name argument in a couple different ways."
   ]
  },
  {
   "cell_type": "code",
   "execution_count": null,
   "id": "7a1fffe8-7bd7-49b5-bd85-6b28c81a4dcc",
   "metadata": {},
   "outputs": [],
   "source": [
    "# Create df from second worksheet by referencing its position\n",
    "responses_2017 = pd.read_excel(\"fcc_survey.xlsx\",\n",
    "                               sheet_name=1)\n",
    "\n",
    "# Graph where people would like to get a developer job\n",
    "job_prefs = responses_2017.groupby(\"JobPref\").JobPref.count()\n",
    "job_prefs.plot.barh()\n",
    "plt.show()"
   ]
  },
  {
   "cell_type": "code",
   "execution_count": null,
   "id": "4d94e724-2424-4df6-b1ee-dde0eda888dc",
   "metadata": {},
   "outputs": [],
   "source": [
    "# Create df from second worksheet by referencing its name\n",
    "responses_2017 = pd.read_excel(\"fcc_survey.xlsx\",\n",
    "sheet_name='2017')\n",
    "\n",
    "# Graph where people would like to get a developer job\n",
    "job_prefs = responses_2017.groupby(\"JobPref\").JobPref.count()\n",
    "job_prefs.plot.barh()\n",
    "plt.show()"
   ]
  },
  {
   "cell_type": "markdown",
   "id": "26d9a5b9-e186-4e2f-a79f-cd615505b2e0",
   "metadata": {},
   "source": [
    "### Select multiple sheets\n",
    "So far, you've read Excel files one sheet at a time, which lets you customize import arguments for each sheet. But if an Excel file has some sheets that you want loaded with the same parameters, you can get them in one go by passing a list of their names or indices to read_excel()'s sheet_name keyword. To get them all, pass None. You'll practice both methods to get data from fcc_survey.xlsx, which has multiple sheets of similarly-formatted data."
   ]
  },
  {
   "cell_type": "code",
   "execution_count": null,
   "id": "2e8794f9-e40f-442e-9ca0-5d23c6212324",
   "metadata": {},
   "outputs": [],
   "source": [
    "# Load both the 2016 and 2017 sheets by name\n",
    "all_survey_data = pd.read_excel(\"fcc_survey.xlsx\",\n",
    "                                sheet_name=['2016','2017'])\n",
    "\n",
    "# View the data type of all_survey_data\n",
    "print(type(all_survey_data))"
   ]
  },
  {
   "cell_type": "code",
   "execution_count": null,
   "id": "dba0142f-e889-4f42-8ddd-cc2897a22a64",
   "metadata": {},
   "outputs": [],
   "source": [
    "# Load all sheets in the Excel file\n",
    "all_survey_data = pd.read_excel(\"fcc_survey.xlsx\",\n",
    "                                sheet_name=[0, '2017'])\n",
    "\n",
    "# View the sheet names in all_survey_data\n",
    "print(all_survey_data.keys())"
   ]
  },
  {
   "cell_type": "code",
   "execution_count": null,
   "id": "f839fe26-12de-4c95-9289-2ceff1d25148",
   "metadata": {},
   "outputs": [],
   "source": [
    "# Load all sheets in the Excel file\n",
    "all_survey_data = pd.read_excel(\"fcc_survey.xlsx\",\n",
    "                                sheet_name= None)\n",
    "\n",
    "# View the sheet names in all_survey_data\n",
    "print(all_survey_data.keys())"
   ]
  },
  {
   "cell_type": "markdown",
   "id": "7cd982b4-74ee-450a-ad36-bf3a3dba0a8f",
   "metadata": {},
   "source": [
    "### Work with multiple spreadsheets\n",
    "Workbooks meant primarily for human readers, not machines, may store data about a single subject across multiple sheets. For example, a file may have a different sheet of transactions for each region or year in which a business operated.\n",
    "\n",
    "The FreeCodeCamp New Developer Survey file is set up similarly, with samples of responses from different years in different sheets. Your task here is to compile them in one dataframe for analysis.\n",
    "\n",
    "pandas has been imported as pd. All sheets have been read into the ordered dictionary responses, where sheet names are keys and dataframes are values, so you can get dataframes with the values() method."
   ]
  },
  {
   "cell_type": "code",
   "execution_count": null,
   "id": "513e46ce-5ec9-4241-88ed-18a226fbfc53",
   "metadata": {},
   "outputs": [],
   "source": [
    "# Create an empty dataframe\n",
    "all_responses = pd.DataFrame()\n",
    "\n",
    "# Set up for loop to iterate through values in responses\n",
    "for df in responses.values():\n",
    "  # Print the number of rows being added\n",
    "  print(\"Adding {} rows\".format(df.shape[0]))\n",
    "  # Concatenate all_responses and df, assign result\n",
    "  all_responses = pd.concat([all_responses, df])\n",
    "\n",
    "# Graph employment statuses in sample\n",
    "counts = all_responses.groupby(\"EmploymentStatus\").EmploymentStatus.count()\n",
    "counts.plot.barh()\n",
    "plt.show()"
   ]
  },
  {
   "cell_type": "markdown",
   "id": "9f51208b-52fa-41a3-b24d-052cf94c444f",
   "metadata": {},
   "source": [
    "## Modifying imports: true/false data"
   ]
  },
  {
   "cell_type": "markdown",
   "id": "76f4ade8-b147-413a-ba6b-971d04a5a713",
   "metadata": {},
   "source": [
    "### Set Boolean columns\n",
    "Datasets may have columns that are most accurately modeled as Boolean values. However, pandas usually loads these as floats by default, since defaulting to Booleans may have undesired effects like turning NA values into Trues.\n",
    "\n",
    "fcc_survey_subset.xlsx contains a string ID column and several True/False columns indicating financial stressors. You'll evaluate which non-ID columns have no NA values and therefore can be set as Boolean, then tell read_excel() to load them as such with the dtype argument."
   ]
  },
  {
   "cell_type": "code",
   "execution_count": null,
   "id": "26667e33-9702-4b37-b3cb-57dc56b277cc",
   "metadata": {},
   "outputs": [],
   "source": [
    "# Load the data\n",
    "survey_data = pd.read_excel(\"fcc_survey_subset.xlsx\")\n",
    "\n",
    "# Count NA values in each column\n",
    "print(survey_data.isna().sum())"
   ]
  },
  {
   "cell_type": "code",
   "execution_count": null,
   "id": "20d0ad9d-2486-4167-a264-d3f73552c6c9",
   "metadata": {},
   "outputs": [],
   "source": [
    "# Set dtype to load appropriate column(s) as Boolean data\n",
    "survey_data = pd.read_excel(\"fcc_survey_subset.xlsx\",\n",
    "                            dtype={'HasDebt': 'bool'})\n",
    "\n",
    "# View financial burdens by Boolean group\n",
    "print(survey_data.groupby('HasDebt').sum())"
   ]
  },
  {
   "cell_type": "markdown",
   "id": "5822ca4f-5efb-4ba5-bb16-e485258cc563",
   "metadata": {},
   "source": [
    "### Set custom true/false values\n",
    "In Boolean columns, pandas automatically recognizes certain values, like \"TRUE\" and 1, as True, and others, like \"FALSE\" and 0, as False. Some datasets, like survey data, can use unrecognized values, such as \"Yes\" and \"No\".\n",
    "\n",
    "For practice purposes, some Boolean columns in the New Developer Survey have been coded this way. You'll make sure they're properly interpreted with the help of the true_values and false_values arguments."
   ]
  },
  {
   "cell_type": "code",
   "execution_count": null,
   "id": "b09713bc-fa7c-4d31-934c-b84d3927ed77",
   "metadata": {},
   "outputs": [],
   "source": [
    "# Load file with Yes as a True value and No as a False value\n",
    "survey_subset = pd.read_excel(\"fcc_survey_yn_data.xlsx\",\n",
    "                              dtype={\"HasDebt\": bool,\n",
    "                              \"AttendedBootCampYesNo\": bool},\n",
    "                              true_values=['Yes'],\n",
    "                              false_values=[\"No\"])\n",
    "\n",
    "# View the data\n",
    "print(survey_subset.head())"
   ]
  },
  {
   "cell_type": "markdown",
   "id": "ee568152-3c19-47e1-b0aa-2679ec31cd6a",
   "metadata": {},
   "source": [
    "## Modifying imports: parsing dates"
   ]
  },
  {
   "cell_type": "markdown",
   "id": "08a00611-aa44-4d1e-a4e5-b083cac0a305",
   "metadata": {},
   "source": [
    "### Parse simple dates\n",
    "pandas does not infer that columns contain datetime data; it interprets them as object or string data unless told otherwise. Correctly modeling datetimes is easy when they are in a standard format -- we can use the parse_dates argument to tell read_excel() to read columns as datetime data.\n",
    "\n",
    "The New Developer Survey responses contain some columns with easy-to-parse timestamps. In this exercise, you'll make sure they're the right data type."
   ]
  },
  {
   "cell_type": "code",
   "execution_count": null,
   "id": "dfb9eafe-f5ca-4c10-b364-49dade8ac74c",
   "metadata": {},
   "outputs": [],
   "source": [
    "# Load file, with Part1StartTime parsed as datetime data\n",
    "survey_data = pd.read_excel(\"fcc_survey.xlsx\",\n",
    "                            parse_dates=['Part1StartTime'])\n",
    "\n",
    "# Print first few values of Part1StartTime\n",
    "print(survey_data.Part1StartTime.head())"
   ]
  },
  {
   "cell_type": "markdown",
   "id": "63f6b3e4-8527-4f17-ad3e-c1e37f2b2175",
   "metadata": {},
   "source": [
    "### Get datetimes from multiple columns\n",
    "Sometimes, datetime data is split across columns. A dataset might have a date and a time column, or a date may be split into year, month, and day columns.\n",
    "\n",
    "A column in this version of the survey data has been split so that dates are in one column, Part2StartDate, and times are in another, Part2StartTime. Your task is to use read_excel()'s parse_dates argument to combine them into one datetime column with a new name."
   ]
  },
  {
   "cell_type": "code",
   "execution_count": null,
   "id": "a44caea5-d565-4301-a230-7290084e88a6",
   "metadata": {},
   "outputs": [],
   "source": [
    "# Create dict of columns to combine into new datetime column\n",
    "datetime_cols = {\"Part2Start\": ['Part2StartDate', 'Part2StartTime']}\n",
    "\n",
    "\n",
    "# Load file, supplying the dict to parse_dates\n",
    "survey_data = pd.read_excel(\"fcc_survey_dts.xlsx\",\n",
    "                            parse_dates=datetime_cols)\n",
    "\n",
    "# View summary statistics about Part2Start\n",
    "print(survey_data.Part2Start.describe())"
   ]
  },
  {
   "cell_type": "markdown",
   "id": "634b10c9-3620-4087-b2c9-7a83af4c955b",
   "metadata": {},
   "source": [
    "### Parse non-standard date formats\n",
    "So far, you've parsed dates that pandas could interpret automatically. But if a date is in a non-standard format, like 19991231 for December 31, 1999, it can't be parsed at the import stage. Instead, use pd.to_datetime() to convert strings to dates after import.\n",
    "\n",
    "The New Developer Survey data has been loaded as survey_data but contains an unparsed datetime field. We'll use to_datetime() to convert it, passing in the column to convert and a string representing the date format used.\n",
    "\n",
    "For more on date format codes, see this reference. Some common codes are year (%Y), month (%m), day (%d), hour (%H), minute (%M), and second (%S)."
   ]
  },
  {
   "cell_type": "code",
   "execution_count": null,
   "id": "2f9bf3e7-0b3c-4a99-ad7b-8131edd98d1a",
   "metadata": {},
   "outputs": [],
   "source": [
    "# Parse datetimes and assign result back to Part2EndTime\n",
    "survey_data[\"Part2EndTime\"] = pd.to_datetime(survey_data[\"Part2EndTime\"], \n",
    "                                             format=\"%m%d%Y %H:%M:%S\")\n",
    "\n",
    "# Print first few values of Part2EndTime\n",
    "print(survey_data['Part2EndTime'].head())"
   ]
  },
  {
   "cell_type": "code",
   "execution_count": null,
   "id": "58d2e0cc-3086-4cc5-89b7-2ec06bc7d033",
   "metadata": {},
   "outputs": [],
   "source": []
  }
 ],
 "metadata": {
  "kernelspec": {
   "display_name": "Python 3 (ipykernel)",
   "language": "python",
   "name": "python3"
  },
  "language_info": {
   "codemirror_mode": {
    "name": "ipython",
    "version": 3
   },
   "file_extension": ".py",
   "mimetype": "text/x-python",
   "name": "python",
   "nbconvert_exporter": "python",
   "pygments_lexer": "ipython3",
   "version": "3.9.13"
  }
 },
 "nbformat": 4,
 "nbformat_minor": 5
}
