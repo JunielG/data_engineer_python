{
 "cells": [
  {
   "cell_type": "markdown",
   "id": "1b37cc7a-9721-4c50-9842-c1e50c7518a2",
   "metadata": {},
   "source": [
    "## Manually testing a data pipeline"
   ]
  },
  {
   "cell_type": "markdown",
   "id": "f2d419b2-91c5-47d0-bfe6-6f8694c7bb01",
   "metadata": {},
   "source": [
    "### Validating a data pipeline at \"checkpoints\"\n",
    "In this exercise, you'll be working with a data pipeline that extracts tax data from a CSV file, creates a new column, filters out rows based on average taxable income, and persists the data to a parquet file.\n",
    "\n",
    "pandas has been loaded as pd, and the extract(), transform(), and load() functions have already been defined. You'll use these functions to validate the data pipeline at various checkpoints throughout its execution."
   ]
  },
  {
   "cell_type": "code",
   "execution_count": null,
   "id": "70d97c0f-7262-4bc8-a3f4-68e16d443baa",
   "metadata": {},
   "outputs": [],
   "source": [
    "# Extract and transform tax_data\n",
    "raw_tax_data = extract(\"raw_tax_data.csv\")\n",
    "clean_tax_data = transform(raw_tax_data)\n",
    "\n",
    "# Check the shape of the raw_tax_data DataFrame, compare to the clean_tax_data DataFrame\n",
    "print(f\"Shape of raw_tax_data: {raw_tax_data.shape}\")\n",
    "print(f\"Shape of clean_tax_data: {clean_tax_data.shape}\\n\")\n",
    "\n",
    "\n",
    "# Read in the loaded data, observe the head of each\n",
    "to_validate = pd.read_parquet(\"clean_tax_data.parquet\")\n",
    "print(clean_tax_data.head(3))\n",
    "print(to_validate.head(3))\n",
    "\n",
    "\n",
    "# Check that the DataFrames are equal\n",
    "print(to_validate.equals(clean_tax_data))"
   ]
  },
  {
   "cell_type": "markdown",
   "id": "f79002bc-ac0e-4bca-b294-e5a5d668be90",
   "metadata": {},
   "source": [
    "### Testing a data pipeline end-to-end\n",
    "In this exercise, you'll be working with the same data pipeline as before, which extracts, transforms, and loads tax data. You'll practice testing this pipeline end-to-end to ensure the solution can be run multiple times, without duplicating the transformed data in the parquet file.\n",
    "\n",
    "pandas has been loaded as pd, and the extract(), transform(), and load() functions have already been defined."
   ]
  },
  {
   "cell_type": "code",
   "execution_count": null,
   "id": "3a1f211f-bf31-48ee-af41-105fd57edf51",
   "metadata": {},
   "outputs": [],
   "source": [
    "# Trigger the data pipeline to run three times\n",
    "for attempt in range(0, 3):\n",
    "\tprint(f\"Attempt: {attempt}\")\n",
    "\traw_tax_data = extract(\"raw_tax_data.csv\")\n",
    "\tclean_tax_data = transform(raw_tax_data)\n",
    "\tload(clean_tax_data, \"clean_tax_data.parquet\")\n",
    "\t\n",
    "\t# Print the shape of the cleaned_tax_data DataFrame\n",
    "\tprint(f\"Shape of clean_tax_data: {clean_tax_data.shape}\")\n",
    "    \n",
    "# Read in the loaded data, check the shape\n",
    "to_validate = pd.read_parquet(\"clean_tax_data.parquet\")\n",
    "print(f\"Final shape of cleaned data: {to_validate.shape}\")"
   ]
  },
  {
   "cell_type": "markdown",
   "id": "8bb88dec-b9d3-4213-8965-7e5216d2744c",
   "metadata": {},
   "source": [
    "## Unit-testing a data pipeline"
   ]
  },
  {
   "cell_type": "code",
   "execution_count": null,
   "id": "b9a0c357-cf20-4275-9a9b-94ecd0d025d0",
   "metadata": {},
   "outputs": [],
   "source": [
    "from pipeline import extract, transform, load\n",
    "\n",
    "# Build a unit test, asserting the type of clean_stock_data\n",
    "def test_transformed_data():  \n",
    "    raw_stock_data = extract(\"raw_stock_data.csv\")   \n",
    "    clean_stock_data = transform(raw_data)\n",
    "    \n",
    "    assert isinstance(clean_stock_data, pd.DataFrame)"
   ]
  },
  {
   "cell_type": "code",
   "execution_count": null,
   "id": "5f3e07f0-ea07-4f88-acf1-03abc15112fe",
   "metadata": {},
   "outputs": [],
   "source": [
    "# assert and isinstance\n",
    "pipeline_type = \"ETL\"\n",
    "\n",
    "# Check if pipeline_type is an instance of a str\n",
    "isinstance(pipeline_type, str)\n",
    "\n",
    "# Assert that the pipeline does indeed take value \"ETL\"\n",
    "assert pipeline_type == \"ETL\"\n",
    "\n",
    "# Combine assert and isinstance \n",
    "assert isinstance(pipeline_type, str)"
   ]
  },
  {
   "cell_type": "code",
   "execution_count": null,
   "id": "f7321a53-1f9b-47ed-8714-9c159d6f5ccf",
   "metadata": {},
   "outputs": [],
   "source": [
    "# Mocking data pipeline components with fixtures\n",
    "import pytest \n",
    "\n",
    "@pytest.fixture()\n",
    "def clean_data():   \n",
    "    raw_stock_data = extract(\"raw_stock_data.csv\")\n",
    "    clean_stock_data = transform(raw_data)\n",
    "    return clean_stock_data \n",
    "\n",
    "    \n",
    "def test_transformed_data(clean_data):\n",
    "    assert isinstance(clean_data, pd.DataFrame)"
   ]
  },
  {
   "cell_type": "code",
   "execution_count": null,
   "id": "806360d0-6d42-4c93-b7c0-fbc5ed01feed",
   "metadata": {},
   "outputs": [],
   "source": [
    "# Unit testing DataFrames \n",
    "def test_transformed_data(clean_data):\n",
    "    # Include other assert statements here    \n",
    "    ...\n",
    "    # Check number of columns \n",
    "    assertlen(clean_data.columns) == 4\n",
    "    \n",
    "    # Check the lower bound of a column\n",
    "    assert clean_data[\"open\"].min() >= 0\n",
    "    \n",
    "    # Check the range of a column by chaining statements with \"and\"\n",
    "    assert clean_data[\"open\"].min() >= 0and clean_data[\"open\"].max() <= 1000"
   ]
  },
  {
   "cell_type": "markdown",
   "id": "79acb6a6-5913-4995-971a-a2f0d4d30992",
   "metadata": {},
   "source": [
    "### Validating a data pipeline with assert\n",
    "To build unit tests for data pipelines, it's important to get familiar with the assert keyword, and the isinstance() function. In this exercise, you'll practice using these two tools to validate components of a data pipeline.\n",
    "\n",
    "The functions extract() and transform() have been made available for you, along with pandas, which has been imported as pd. Both extract() and transform() return a DataFrame. Good luck!"
   ]
  },
  {
   "cell_type": "code",
   "execution_count": null,
   "id": "167405e1-7399-4793-a58d-7785542b3bd5",
   "metadata": {},
   "outputs": [],
   "source": [
    "raw_tax_data = extract(\"raw_tax_data.csv\")\n",
    "clean_tax_data = transform(raw_tax_data)\n",
    "\n",
    "# Validate the number of columns in the DataFrame\n",
    "assert len(clean_tax_data.columns) == 5"
   ]
  },
  {
   "cell_type": "code",
   "execution_count": null,
   "id": "ecfa410a-b651-466e-98b8-3ba9d1260784",
   "metadata": {},
   "outputs": [],
   "source": [
    "raw_tax_data = extract(\"raw_tax_data.csv\")\n",
    "clean_tax_data = transform(raw_tax_data)\n",
    "\n",
    "# Determine if the clean_tax_data DataFrames take type pd.DataFrame\n",
    "assert(isinstance(clean_tax_data, pd.DataFrame))"
   ]
  },
  {
   "cell_type": "code",
   "execution_count": null,
   "id": "9a2fb7b0-779d-485c-8129-2cb616dc387c",
   "metadata": {},
   "outputs": [],
   "source": [
    "raw_tax_data = extract(\"raw_tax_data.csv\")\n",
    "clean_tax_data = transform(raw_tax_data)\n",
    "\n",
    "# Assert that clean_tax_data is an instance of a pd.DataFrame\n",
    "assert isinstance(clean_tax_data, pd.DataFrame)"
   ]
  },
  {
   "cell_type": "code",
   "execution_count": null,
   "id": "16045a48-de15-4a68-8b02-e972313329f2",
   "metadata": {},
   "outputs": [],
   "source": [
    "raw_tax_data = extract(\"raw_tax_data.csv\")\n",
    "clean_tax_data = transform(raw_tax_data)\n",
    "\n",
    "# Assert that clean_tax_data takes is an instance of a string\n",
    "try:\n",
    "\tassert isinstance(clean_tax_data, str)\n",
    "except Exception as e:\n",
    "\tprint(e)"
   ]
  },
  {
   "cell_type": "markdown",
   "id": "f55ac35e-457a-49cd-a7db-eb0817808c7f",
   "metadata": {},
   "source": [
    "### Writing unit tests with pytest\n",
    "In this exercise, you'll practice writing a unit test to validate a data pipeline. You'll use assert and other tools to build the tests, and determine if the data pipeline performs as it should.\n",
    "\n",
    "The functions extract() and transform() have been made available for you, along with pandas, which has been imported as pd. You'll be testing the transform() function, which is shown below."
   ]
  },
  {
   "cell_type": "code",
   "execution_count": null,
   "id": "656f31a4-698d-4135-b715-a23bfa012024",
   "metadata": {},
   "outputs": [],
   "source": [
    "import pytest\n",
    "\n",
    "def test_transformed_data():\n",
    "    raw_tax_data = extract(\"raw_tax_data.csv\")\n",
    "    clean_tax_data = transform(raw_tax_data)\n",
    "    \n",
    "    # Assert that the transform function returns a pd.DataFrame\n",
    "    assert isinstance(clean_tax_data, pd.DataFrame)\n",
    "    \n",
    "    # Assert that the clean_tax_data DataFrame has more columns than the raw_tax_data DataFrame\n",
    "    assert len(clean_tax_data.columns) > len(raw_tax_data.columns)"
   ]
  },
  {
   "cell_type": "markdown",
   "id": "a5fb89f7-bf55-4c21-b857-a417b6154c71",
   "metadata": {},
   "source": [
    "### Creating fixtures with pytest\n",
    "When building unit tests, you'll sometimes have to do a bit of setup before testing can begin. Doing this setup within a unit test can make the tests more difficult to read, and may have to be repeated several times. Luckily, pytest offers a way to solve these problems, with fixtures.\n",
    "\n",
    "For this exercise, pandas has been imported as pd, and the extract() function shown below is available for use!"
   ]
  },
  {
   "cell_type": "code",
   "execution_count": null,
   "id": "78604139-722d-4e6f-96db-8f51b2e120c7",
   "metadata": {},
   "outputs": [],
   "source": [
    "# Import pytest\n",
    "import pytest\n",
    "\n",
    "# Create a pytest fixture\n",
    "@pytest.fixture()\n",
    "def raw_tax_data():\n",
    "\traw_data = extract(\"raw_tax_data.csv\")\n",
    "    \n",
    "    # Return the raw DataFrame\n",
    "\treturn raw_data"
   ]
  },
  {
   "cell_type": "markdown",
   "id": "80f9183f-518d-4e61-851c-df055212d209",
   "metadata": {},
   "source": [
    "### Unit testing a data pipeline with fixtures\n",
    "You've learned in the last video that unit testing can help to instill more trust in your data pipeline, and can even help to catch bugs throughout development. In this exercise, you'll practice writing both fixtures and unit tests, using the pytest library and assert.\n",
    "\n",
    "The transform function that you'll be building unit tests around is shown below for reference. pandas has been imported as pd, and the pytest() library is loaded and ready for use."
   ]
  },
  {
   "cell_type": "code",
   "execution_count": null,
   "id": "2c3b971c-c0bd-473e-bdd1-8093e53a3fc7",
   "metadata": {},
   "outputs": [],
   "source": [
    "# Define a pytest fixture\n",
    "@pytest.fixture()\n",
    "def clean_tax_data():\n",
    "    raw_data = pd.read_csv(\"raw_tax_data.csv\")\n",
    "    \n",
    "    # Transform the raw_data, store in clean_data DataFrame, and return the variable\n",
    "    clean_data = transform(raw_data)\n",
    "    return clean_data"
   ]
  },
  {
   "cell_type": "code",
   "execution_count": null,
   "id": "085d1ee6-bfea-4464-a14a-396d13188757",
   "metadata": {},
   "outputs": [],
   "source": [
    "@pytest.fixture()\n",
    "def clean_tax_data():\n",
    "    raw_data = pd.read_csv(\"raw_tax_data.csv\")\n",
    "    clean_data = transform(raw_data)\n",
    "    return clean_data\n",
    "\n",
    "# Pass the fixture to the function\n",
    "@pytest.fixture()\n",
    "def test_tax_rate(clean_tax_data):\n",
    "    # Assert values are within the expected range\n",
    "    assert clean_tax_data[\"tax_rate\"].max() <= 1 and clean_tax_data[\"tax_rate\"].min() >= 0"
   ]
  },
  {
   "cell_type": "markdown",
   "id": "b4e6c0c2-dfa5-4bb0-b28c-049e1aa104cc",
   "metadata": {},
   "source": [
    "## Running a data pipeline in production"
   ]
  },
  {
   "cell_type": "markdown",
   "id": "68624e7f-7a65-4063-a212-7965916c4070",
   "metadata": {},
   "source": [
    "### Data pipeline architecture patterns\n",
    "When building data pipelines, it's best to separate the files where functions are being defined from where they are being run.\n",
    "\n",
    "In this exercise, you'll practice importing components of a pipeline into memory before using these functions to run the pipeline end-to-end. The project takes the following format, where pipeline_utils stores the extract(), transform(), and load() functions that will be used run the pipeline."
   ]
  },
  {
   "cell_type": "code",
   "execution_count": null,
   "id": "697c536a-765c-468c-b2cb-eea4c7acbbc0",
   "metadata": {},
   "outputs": [],
   "source": [
    "# Import the extract, transform, and load functions from pipeline_utils\n",
    "from pipeline_utils import extract, transform, load\n",
    "\n",
    "# Run the pipeline end to end by extracting, transforming and loading the data\n",
    "raw_tax_data = extract(\"raw_tax_data.csv\")\n",
    "clean_tax_data = transform(raw_tax_data)\n",
    "load(clean_tax_data, \"clean_tax_data.parquet\")"
   ]
  },
  {
   "cell_type": "markdown",
   "id": "40cf716a-ab41-4f18-8689-e834df40baef",
   "metadata": {},
   "source": [
    "### Running a data pipeline end-to-end\n",
    "It's important to monitor the performance of a pipeline when running in production. Earlier in the course, you explored tools such as exception handling and logging. In this last exercise, we'll practice running a pipeline end-to-end, while monitoring for exceptions and logging performance."
   ]
  },
  {
   "cell_type": "code",
   "execution_count": null,
   "id": "a5ac88b4-d166-4ac1-be40-c479bdfd9b95",
   "metadata": {},
   "outputs": [],
   "source": [
    "import logging\n",
    "\n",
    "# Import extract, transform, and load functions from pipeline_utils\n",
    "from pipeline_utils import extract, transform, load\n",
    "\n",
    "logging.basicConfig(format='%(levelname)s: %(message)s', level=logging.DEBUG)\n",
    "\n",
    "try:\n",
    "  \t# Extract, transform, and load the tax data\n",
    "\traw_tax_data = extract(\"raw_tax_data.csv\")\n",
    "\tclean_tax_data = transform(raw_tax_data)\n",
    "\tload(clean_tax_data, \"clean_tax_data.parquet\")\n",
    "    \n",
    "except Exception as e:\n",
    "\tpass"
   ]
  },
  {
   "cell_type": "code",
   "execution_count": null,
   "id": "56698001-03a2-4b7c-9e5f-9bcd6a3a1c38",
   "metadata": {},
   "outputs": [],
   "source": [
    "import logging\n",
    "from pipeline_utils import extract, transform, load\n",
    "\n",
    "logging.basicConfig(format='%(levelname)s: %(message)s', level=logging.DEBUG)\n",
    "\n",
    "try:\n",
    "\traw_tax_data = extract(\"raw_tax_data.csv\")\n",
    "\tclean_tax_data = transform(raw_tax_data)\n",
    "\tload(clean_tax_data, \"clean_tax_data.parquet\")\n",
    "    \n",
    "\tlogging.info(\"Successfully extracted, transformed and loaded data.\")  # Log a success message.\n",
    "    \n",
    "except Exception as e:\n",
    "\tlogging.error(f\"Pipeline failed with error: {e}\")  # Log failure message\n"
   ]
  },
  {
   "cell_type": "code",
   "execution_count": null,
   "id": "c68a7668-0632-464c-b731-f09d3a3a9884",
   "metadata": {},
   "outputs": [],
   "source": []
  }
 ],
 "metadata": {
  "kernelspec": {
   "display_name": "Python 3 (ipykernel)",
   "language": "python",
   "name": "python3"
  },
  "language_info": {
   "codemirror_mode": {
    "name": "ipython",
    "version": 3
   },
   "file_extension": ".py",
   "mimetype": "text/x-python",
   "name": "python",
   "nbconvert_exporter": "python",
   "pygments_lexer": "ipython3",
   "version": "3.9.13"
  }
 },
 "nbformat": 4,
 "nbformat_minor": 5
}
