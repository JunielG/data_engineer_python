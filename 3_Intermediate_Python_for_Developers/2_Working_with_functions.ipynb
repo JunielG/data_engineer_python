{
 "cells": [
  {
   "cell_type": "markdown",
   "id": "b38eb7cd-7cb4-4fce-89e7-818a877c58af",
   "metadata": {},
   "source": [
    "## Defining a custom function"
   ]
  },
  {
   "cell_type": "markdown",
   "id": "3bdd85bb-f4b1-4abe-9258-bd460c35a566",
   "metadata": {},
   "source": [
    "### Cleaning text data\n",
    "In the video, you saw how to build a custom function that performs a calculation and rounds the results. However, custom functions can be used for any task we expect to repeat! One common example is cleaning text data so that it conforms to specific requirements.\n",
    "\n",
    "In this exercise, you'll create a function that takes string data and:\n",
    "\n",
    "Replaces spaces with underscores\n",
    "Converts to lowercase\n",
    "Returns the formatted string"
   ]
  },
  {
   "cell_type": "code",
   "execution_count": 1,
   "id": "3d4e2fd6-7dc1-41d4-ae01-9b6a68e89917",
   "metadata": {},
   "outputs": [
    {
     "name": "stdout",
     "output_type": "stream",
     "text": [
      "i_love_datacamp!\n"
     ]
    }
   ],
   "source": [
    "# Create the clean_string function\n",
    "def clean_string(text):\n",
    "  \n",
    "  # Replace spaces with underscores\n",
    "  no_spaces = text.replace(\" \", \"_\")\n",
    "  \n",
    "  # Convert to lowercase\n",
    "  clean_text = no_spaces.lower()\n",
    "  \n",
    "  # Return the final text as an output\n",
    "  return clean_text\n",
    "\n",
    "converted_text = clean_string(\"I LoVe dATaCamP!\")\n",
    "print(converted_text)"
   ]
  },
  {
   "cell_type": "markdown",
   "id": "48b7de65-7ad8-4189-b071-4d13b6135289",
   "metadata": {},
   "source": [
    "### Building a password checker\n",
    "You've seen how conditional statements can be used to check for equality. Now you have the skills to build a custom function, you'll combine these two techniques to build a function called password_checker that compares a user's password to a submission, conditionally printing an output depending on the results."
   ]
  },
  {
   "cell_type": "code",
   "execution_count": 2,
   "id": "31a3709e-4ae6-4f14-9c2b-9b4ca45b0509",
   "metadata": {},
   "outputs": [
    {
     "name": "stdout",
     "output_type": "stream",
     "text": [
      "Incorrect password\n"
     ]
    }
   ],
   "source": [
    "password = \"not_very_secure_2023\"\n",
    "\n",
    "# Define the password_checker function\n",
    "def password_checker(submission):\n",
    "  \n",
    "  # Check that the password variable and the submission match\n",
    "  if submission == password:\n",
    "    print(\"Successful login!\")\n",
    "  \n",
    "  # Otherwise, print \"Incorrect password\"\n",
    "  else:\n",
    "    print(\"Incorrect password\")\n",
    "\n",
    "# Call the function    \n",
    "password_checker(\"OT_VERY_SECURE_2023\")"
   ]
  },
  {
   "cell_type": "markdown",
   "id": "c6e1dd7d-4dc8-4177-8c8b-379008ac5c58",
   "metadata": {},
   "source": [
    "## Default and keyword arguments"
   ]
  },
  {
   "cell_type": "markdown",
   "id": "7165446a-a899-4320-807d-55488053d3cb",
   "metadata": {},
   "source": [
    "### Adding a keyword argument\n",
    "Previously, you developed a custom function to clean text, as shown here:"
   ]
  },
  {
   "cell_type": "code",
   "execution_count": null,
   "id": "3de9e1c4-30be-4ead-9836-a7b9831c84b5",
   "metadata": {},
   "outputs": [],
   "source": [
    "# Define clean_text\n",
    "def clean_text(text, lower=True):\n",
    "  if lower == False:\n",
    "    clean_text = text.replace(\" \", \"_\")\n",
    "    return clean_text\n",
    "  else:\n",
    "    clean_text = text.replace(\" \", \"_\")\n",
    "    clean_text = clean_text.lower()\n",
    "    return clean_text\n",
    "\n",
    "# Define clean_text\n",
    "def clean_text_2(text, remove=None):\n",
    "  if remove != None:\n",
    "    clean_text = text.replace(remove, \"\")\n",
    "    clean_text = clean_text.lower()\n",
    "    return clean_text\n",
    "  else:\n",
    "    clean_text = text.lower()\n",
    "    return clean_text"
   ]
  },
  {
   "cell_type": "markdown",
   "id": "c49c5324-1f58-4301-962a-97292a978903",
   "metadata": {},
   "source": [
    "### Data structure converter function\n",
    "Now you've learned about the types of arguments in functions, you'll put this into practice by building a custom function that converts data into different structures."
   ]
  },
  {
   "cell_type": "code",
   "execution_count": 3,
   "id": "e7958b18-c0cd-4319-9749-ff14eb25ab37",
   "metadata": {},
   "outputs": [
    {
     "data": {
      "text/plain": [
       "{1, 2, 3, 'a', 'b', 'c'}"
      ]
     },
     "execution_count": 3,
     "metadata": {},
     "output_type": "execute_result"
    }
   ],
   "source": [
    "# Create the convert_data_structure function\n",
    "def convert_data_structure(data, data_type='list'):\n",
    "  \n",
    "  # If data_type is \"tuple\"\n",
    "  if data_type == \"tuple\":\n",
    "    data = tuple(data)\n",
    "  \n",
    "  # Else if data_type is set, convert to a set\n",
    "  elif data_type == \"set\":\n",
    "    data = set(data)\n",
    "  else:\n",
    "    data = list(data)\n",
    "  return data\n",
    "\n",
    "# Call the function to convert to a set\n",
    "convert_data_structure({\"a\", 1, \"b\", 2, \"c\", 3}, data_type=\"set\")"
   ]
  },
  {
   "cell_type": "markdown",
   "id": "fcef988a-1e68-4ec8-b6ea-a20f875488ac",
   "metadata": {},
   "source": [
    "## Docstrings"
   ]
  },
  {
   "cell_type": "markdown",
   "id": "5013fff1-0afe-4623-88e9-c687ddd17edc",
   "metadata": {},
   "source": [
    "### Single-line docstrings\n",
    "Docstrings are used to explain the purpose of a function. While the function name should be descriptive, this needs to be balanced with the length of the function name, so docstrings allow you to provide more detail.\n",
    "\n",
    "In this exercise, you'll take the previously created clean_text function and add a single-line docstring."
   ]
  },
  {
   "cell_type": "code",
   "execution_count": null,
   "id": "9d9dea8a-e054-4632-9209-e68152e71c93",
   "metadata": {},
   "outputs": [],
   "source": [
    "def clean_string(text):\n",
    "  \n",
    "  # Add a single-line docstring\n",
    "  \"\"\"Swap spaces to underscores and convert text to lowercase.\"\"\"\n",
    "  \n",
    "  no_spaces = text.replace(\" \", \"_\")\n",
    "  clean_text = no_spaces.lower()\n",
    "  return clean_text\n",
    "\n",
    "# Access the docstring\n",
    "print(clean_string.__doc__)"
   ]
  },
  {
   "cell_type": "markdown",
   "id": "11912028-3657-4b66-be9f-479cb6505a7a",
   "metadata": {},
   "source": [
    "### Multi-line docstrings\n",
    "Sometimes single-line docstrings are sufficient, but if your function is more complex or has several arguments, then it is generally a better choice to include a multi-line docstring.\n",
    "\n",
    "You'll practice this by creating a multi-line docstring for the convert_data_structure function you made earlier."
   ]
  },
  {
   "cell_type": "code",
   "execution_count": null,
   "id": "79ce33da-4bcf-46ee-9a4b-4199ca5032c3",
   "metadata": {},
   "outputs": [],
   "source": [
    "# Create the convert_data_type function\n",
    "def convert_data_structure(data, data_type=\"list\"):\n",
    "  # Add a multi-line docstring\n",
    "  \"\"\"\n",
    "  Convert a data structure to a list, tuple, or set.\n",
    "  \n",
    "  ____:\n",
    "  \t____\n",
    "    ____\n",
    "    \n",
    "  \n",
    "  \t\n",
    "  \"\"\"\n",
    "  if data_type == \"tuple\":\n",
    "    data = tuple(data)\n",
    "  elif data_type == \"set\":\n",
    "    data = set(data)\n",
    "  else:\n",
    "    data = list(data)\n",
    "  return data"
   ]
  },
  {
   "cell_type": "code",
   "execution_count": null,
   "id": "00935cda-ecfe-4530-bffb-af7fe11c7286",
   "metadata": {},
   "outputs": [],
   "source": [
    "# Create the convert_data_type function\n",
    "def convert_data_structure(data, data_type=\"list\"):\n",
    "  # Add a multi-line docstring\n",
    "  \"\"\"\n",
    "  Convert a data structure to a list, tuple, or set.\n",
    "  \n",
    "  Args:\n",
    "  \tdata (list, tuple, or set): A data structure to be converted.\n",
    "    data_type (str): String representing the type of structure to convert data to.\n",
    "    \n",
    "  \n",
    "  \t\n",
    "  \"\"\"\n",
    "  if data_type == \"tuple\":\n",
    "    data = tuple(data)\n",
    "  elif data_type == \"set\":\n",
    "    data = set(data)\n",
    "  else:\n",
    "    data = list(data)\n",
    "  return data"
   ]
  },
  {
   "cell_type": "code",
   "execution_count": null,
   "id": "140f88b6-131a-486e-9aee-eb033c133323",
   "metadata": {},
   "outputs": [],
   "source": [
    "# Create the convert_data_type function\n",
    "def convert_data_structure(data, data_type=\"list\"):\n",
    "  # Add a multi-line docstring\n",
    "  \"\"\"\n",
    "  Convert a data structure to a list, tuple, or set.\n",
    "  \n",
    "  Args:\n",
    "  \tdata (list, tuple, or set): A data structure to be converted.\n",
    "    data_type (str): String representing the type of structure to convert data to.\n",
    "    \n",
    "  Returns:\n",
    "  \tdata (list, tuple, or set): Converted data structure.\n",
    "  \"\"\"\n",
    "  if data_type == \"tuple\":\n",
    "    data = tuple(data)\n",
    "  elif data_type == \"set\":\n",
    "    data = set(data)\n",
    "  else:\n",
    "    data = list(data)\n",
    "  return data\n",
    "\n",
    "print(help(convert_data_structure))"
   ]
  },
  {
   "cell_type": "markdown",
   "id": "505e1acc-ff1a-4225-a248-974d93d0944e",
   "metadata": {},
   "source": [
    "### Arbitrary arguments"
   ]
  },
  {
   "cell_type": "markdown",
   "id": "6128e793-e5f0-4992-b4c6-ee1f5835e157",
   "metadata": {},
   "source": [
    "### Adding arbitrary arguments\n",
    "In the video, you saw that Python allows custom functions to accept any number of positional arguments through the use of \"Arbitrary arguments\". This flexibility enables functions to be used in a variety of ways while still producing the expected results!\n",
    "\n",
    "Using this power, you'll build a function that concatenates (joins together) strings, regardless of how many blocks of text are provided!"
   ]
  },
  {
   "cell_type": "code",
   "execution_count": 4,
   "id": "34181aa9-65ba-41d5-bebe-6aab2564389b",
   "metadata": {},
   "outputs": [
    {
     "name": "stdout",
     "output_type": "stream",
     "text": [
      " Python is great!\n"
     ]
    }
   ],
   "source": [
    "# Define a function called concat\n",
    "def concat(*args):\n",
    "  \n",
    "  # Create an empty string\n",
    "  result = ''\n",
    "  \n",
    "  # Iterate over the Python args tuple\n",
    "  for arg in args:\n",
    "    result += \" \" + arg\n",
    "  return result\n",
    "\n",
    "# Call the function\n",
    "print(concat(\"Python\", \"is\", \"great!\"))"
   ]
  },
  {
   "cell_type": "code",
   "execution_count": 5,
   "id": "6475fa7d-b079-47a6-bea5-8ff7d750b9f0",
   "metadata": {},
   "outputs": [
    {
     "name": "stdout",
     "output_type": "stream",
     "text": [
      " Python is great!\n"
     ]
    }
   ],
   "source": [
    "# Define a function called concat\n",
    "def concat(**kwargs):\n",
    "  \n",
    "  # Create an empty string\n",
    "  result = \"\"\n",
    "  \n",
    "  # Iterate over the Python kwargs\n",
    "  for kwarg in kwargs.values():\n",
    "    result += \" \" + kwarg\n",
    "  return result\n",
    "\n",
    "# Call the function\n",
    "print(concat(start=\"Python\", middle=\"is\", end=\"great!\"))"
   ]
  },
  {
   "cell_type": "code",
   "execution_count": null,
   "id": "bfe316b9-ba18-42d3-937b-33769de2feae",
   "metadata": {},
   "outputs": [],
   "source": []
  }
 ],
 "metadata": {
  "kernelspec": {
   "display_name": "Python 3 (ipykernel)",
   "language": "python",
   "name": "python3"
  },
  "language_info": {
   "codemirror_mode": {
    "name": "ipython",
    "version": 3
   },
   "file_extension": ".py",
   "mimetype": "text/x-python",
   "name": "python",
   "nbconvert_exporter": "python",
   "pygments_lexer": "ipython3",
   "version": "3.9.13"
  }
 },
 "nbformat": 4,
 "nbformat_minor": 5
}
