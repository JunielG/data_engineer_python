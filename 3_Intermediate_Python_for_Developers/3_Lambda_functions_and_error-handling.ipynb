{
 "cells": [
  {
   "cell_type": "markdown",
   "id": "41b78b50-de07-4b2f-91d6-fe2826b036ef",
   "metadata": {},
   "source": [
    "## Lambda functions"
   ]
  },
  {
   "cell_type": "markdown",
   "id": "f4ceaea9-2291-4cc1-a6a6-ac3c7b4dc075",
   "metadata": {},
   "source": [
    "### Adding tax\n",
    "Time to test out your lambda function skills!\n",
    "\n",
    "In this exercise, you'll use a lambda function to add a tax of 20% to the cost of the sale_price variable."
   ]
  },
  {
   "cell_type": "code",
   "execution_count": 1,
   "id": "053ab850-32c9-49d1-b9d4-a829a4def0b1",
   "metadata": {},
   "outputs": [
    {
     "name": "stdout",
     "output_type": "stream",
     "text": [
      "35.988\n"
     ]
    }
   ],
   "source": [
    "sale_price = 29.99\n",
    "\n",
    "# Define a lambda function called add_tax\n",
    "add_tax = lambda x: x * 1.2\n",
    "\n",
    "# Call the lambda function\n",
    "print(add_tax(sale_price))"
   ]
  },
  {
   "cell_type": "code",
   "execution_count": 2,
   "id": "c581faae-6d9d-4b33-bab0-691e6539ef81",
   "metadata": {},
   "outputs": [
    {
     "name": "stdout",
     "output_type": "stream",
     "text": [
      "35.988\n"
     ]
    }
   ],
   "source": [
    "# Call a lambda function adding 20% to sale_price\n",
    "print((lambda x: x * 1.2)(sale_price))"
   ]
  },
  {
   "cell_type": "markdown",
   "id": "b2083105-18db-491a-902f-c0cbb7bf75a9",
   "metadata": {},
   "source": [
    "### Lambda functions with iterables\n",
    "You've used lambda functions to perform actions on a single value; now it's time to test yourself on working with iterables.\n",
    "\n",
    "You've been provided with a list called sales_prices containing sales prices for several items. Your goal is to use a lambda function to add tax (20%) to each value in the list."
   ]
  },
  {
   "cell_type": "code",
   "execution_count": 3,
   "id": "a298ebb3-be95-4553-9723-9545c84ae460",
   "metadata": {},
   "outputs": [
    {
     "name": "stdout",
     "output_type": "stream",
     "text": [
      "[35.988, 11.94, 17.4, 47.699999999999996, 72.0]\n"
     ]
    }
   ],
   "source": [
    "sales_prices = [29.99, 9.95, 14.50, 39.75, 60.00]\n",
    "\n",
    "# Create add_taxes to add 20% to each item in sales_prices\n",
    "add_taxes = map(lambda x: x * 1.2, sales_prices)\n",
    "\n",
    "# Use add_taxes to return a new list with updated values\n",
    "print(list(add_taxes))"
   ]
  },
  {
   "cell_type": "markdown",
   "id": "d6249ffe-9e06-4dcc-a314-408409cc319b",
   "metadata": {},
   "source": [
    "## Introduction to errors"
   ]
  },
  {
   "cell_type": "markdown",
   "id": "d781f21d-6f59-4593-aebc-6a4fa92eefb6",
   "metadata": {},
   "source": [
    "### Debugging code\n",
    "Developers will inevitably produce errors when writing code—this is completely normal! The ability to read error messages and debug or fix your code is a crucial skill when building or maintaining software.\n",
    "\n",
    "In this exercise, you have been provided with code that produces errors and will need to identify the cause so that you can resolve these issues."
   ]
  },
  {
   "cell_type": "code",
   "execution_count": 4,
   "id": "ba1b3146-c64d-4bcb-a6c6-eecb4244c57d",
   "metadata": {},
   "outputs": [
    {
     "name": "stdout",
     "output_type": "stream",
     "text": [
      "[125.97, 84.32, 99.78, 154.21, 78.5, 83.67, 111.13]\n"
     ]
    }
   ],
   "source": [
    "# Define the sales list\n",
    "sales = [125.97, 84.32, 99.78, 154.21, 78.50, 83.67, 111.13]\n",
    "\n",
    "# Print the sales list\n",
    "print(sales)"
   ]
  },
  {
   "cell_type": "markdown",
   "id": "27b33c2e-f286-4da1-8752-eeecdf9b6dc1",
   "metadata": {},
   "source": [
    "## Error handling"
   ]
  },
  {
   "cell_type": "code",
   "execution_count": null,
   "id": "012c6e8a-96c1-4c67-8c13-8633937d0542",
   "metadata": {},
   "outputs": [],
   "source": [
    "def average(values):\n",
    "    try:\n",
    "        # Code that might cause an error    \n",
    "        average_value = sum(values) / len(values)\n",
    "        return average_value\n",
    "    except:\n",
    "        # Code to run if an error occurs\n",
    "        print(\"average() accepts a list or set. Please provide a correct data type.\")\n",
    "average(sales_dict)"
   ]
  },
  {
   "cell_type": "markdown",
   "id": "af416713-805a-4b7e-b8c4-c6fe975c0008",
   "metadata": {},
   "source": [
    "### Avoiding errors\n",
    "In the video, you saw a couple of approaches for error handling that can be applied to custom functions.\n",
    "\n",
    "In this exercise, you'll test out one of the approaches that avoids raising an error, printing a helpful message if an error occurs, but not terminating the script."
   ]
  },
  {
   "cell_type": "code",
   "execution_count": 5,
   "id": "efb20466-562f-4e8a-b412-eece84a9c26f",
   "metadata": {},
   "outputs": [],
   "source": [
    "def snake_case(text):\n",
    "  # Attempt to clean the text\n",
    "  try:\n",
    "    # Swap spaces for underscores\n",
    "    clean_text = text.replace(\"\", \"_\")\n",
    "    clean_text = clean_text.lower()\n",
    "  # Run this code if an error occurs\n",
    "  except:\n",
    "    print(\"The snake_case() function expects a string as an argument, please check the data type provided.\")\n",
    "    \n",
    "snake_case(\"User Name 187\")"
   ]
  },
  {
   "cell_type": "markdown",
   "id": "6541e40a-b7e6-48b2-bff8-7372b4c81865",
   "metadata": {},
   "source": [
    "### Returning errors\n",
    "Time to try out the other approach for error handling.\n",
    "\n",
    "Revise the snake_case() function to intentionally produce an error if an incorrect data type is used."
   ]
  },
  {
   "cell_type": "code",
   "execution_count": 6,
   "id": "d8869d25-903b-438e-961a-fc51e7e1e88d",
   "metadata": {},
   "outputs": [],
   "source": [
    "def snake_case(text):\n",
    "  # Check the data type\n",
    "  if type(text) == str:\n",
    "    clean_text = text.replace(\" \", \"_\")\n",
    "    clean_text = clean_text.lower()\n",
    "  else:\n",
    "    # Return a TypeError error if the wrong data type was used\n",
    "    raise TypeError(\"The snake_case() function expects a string as an argument, please check the data type provided.\")\n",
    "    \n",
    "snake_case(\"User Name 187\")"
   ]
  },
  {
   "cell_type": "code",
   "execution_count": null,
   "id": "89947d03-d95c-4099-bf08-6cc133509852",
   "metadata": {},
   "outputs": [],
   "source": []
  }
 ],
 "metadata": {
  "kernelspec": {
   "display_name": "Python 3 (ipykernel)",
   "language": "python",
   "name": "python3"
  },
  "language_info": {
   "codemirror_mode": {
    "name": "ipython",
    "version": 3
   },
   "file_extension": ".py",
   "mimetype": "text/x-python",
   "name": "python",
   "nbconvert_exporter": "python",
   "pygments_lexer": "ipython3",
   "version": "3.9.13"
  }
 },
 "nbformat": 4,
 "nbformat_minor": 5
}
