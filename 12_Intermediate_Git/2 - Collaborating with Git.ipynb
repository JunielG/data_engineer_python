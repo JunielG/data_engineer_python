{
 "cells": [
  {
   "cell_type": "markdown",
   "id": "18a0818e-664b-4aae-8d17-32182b560081",
   "metadata": {},
   "source": [
    "## Merge conflicts"
   ]
  },
  {
   "cell_type": "markdown",
   "id": "86e6027c-bfd9-4ce3-9eb4-37bfe1d661ac",
   "metadata": {},
   "source": [
    "#### Resolving a merge conflict\n",
    "You are in the main branch, and want to merge your recent edits from the documentation branch."
   ]
  },
  {
   "cell_type": "code",
   "execution_count": null,
   "id": "702f2d56-af76-4cb0-b5f7-1db284c3865a",
   "metadata": {},
   "outputs": [],
   "source": [
    "# Merge the documentation branch into your current branch, main.\n",
    "git merge documentation main\n",
    "# Edit task_list.txt, removing the conflict syntax and saving so it contains the content listed in the Context section; the final document should look like this: \n",
    "cat > task_list.txt << EOF\n",
    "TODO: Add unit tests\n",
    "TODO: Increase font size on courses pages\n",
    "EOF"
   ]
  },
  {
   "cell_type": "markdown",
   "id": "494e66b4-4c97-4062-8cf7-6169a2fd265e",
   "metadata": {},
   "source": [
    "## Introduction to remotes"
   ]
  },
  {
   "cell_type": "markdown",
   "id": "037c88f1-3f5e-483d-a304-ab08116dfc79",
   "metadata": {},
   "source": [
    "#### Cloning a repo\n",
    "You are making local back-up copies of all your Git repos, which you will then move to cloud storage.\n",
    "\n",
    "You want to start by cloning the datacamp Git repo into your current directory, archive"
   ]
  },
  {
   "cell_type": "code",
   "execution_count": null,
   "id": "6040d114-d7d3-4a20-96df-deb43ae27d00",
   "metadata": {},
   "outputs": [],
   "source": [
    "git clone /home/repl/datacamp"
   ]
  },
  {
   "cell_type": "markdown",
   "id": "61e646ae-b17f-426c-8083-13a082d329b2",
   "metadata": {},
   "source": [
    "#### Defining and identifying remotes\n",
    "Now that you have cloned the repo locally, you decide you want to name the remote as back-up so you can quickly identify remotes going forward."
   ]
  },
  {
   "cell_type": "code",
   "execution_count": null,
   "id": "cb9f2503-7cef-48b7-8194-8042c5d422ab",
   "metadata": {},
   "outputs": [],
   "source": [
    "# Add the name back-up for the /home/repl/datacamp repo.\n",
    "git remote add back-up /home/repl/datacamp\n",
    "# List all remotes including their URL(s).\n",
    "git remote -v"
   ]
  },
  {
   "cell_type": "markdown",
   "id": "9f366f22-c1b0-46f6-9541-218911649148",
   "metadata": {},
   "source": [
    "## Pulling from remotes"
   ]
  },
  {
   "cell_type": "markdown",
   "id": "56ac5623-ce43-4c63-b87a-e0faa5dc4242",
   "metadata": {},
   "source": [
    "#### Fetching from a remote\n",
    "If you are not sure how the contents of a remote repo compare to your local repo, then you can gather the remote contents from a specific branch and then compare them to your local branch.\n",
    "\n",
    "Your colleague John has set up a remote repo so that his work is backed up in the cloud and accessible to others."
   ]
  },
  {
   "cell_type": "code",
   "execution_count": null,
   "id": "5a2e41bd-456d-4054-951c-d8f81dfc22bc",
   "metadata": {},
   "outputs": [],
   "source": [
    "# Run a command to find out the name(s) of remote repos linked to your project.\n",
    "git remote\n",
    "# Fetch from the remote origin repo into your local main branch.\n",
    "git fetch origin main"
   ]
  },
  {
   "cell_type": "markdown",
   "id": "ff371247-ff4c-4bbc-a260-7a5fab5c70e0",
   "metadata": {},
   "source": [
    "## Pulling from a remote\n",
    "Fetching is great, but this only updates local references to a remote repo.\n",
    "\n",
    "If you want to develop on top of your remote repo's contents then you need to synchronize the contents with your local repo before you can continue to edit."
   ]
  },
  {
   "cell_type": "code",
   "execution_count": null,
   "id": "504cfad3-cfe5-4c44-98ee-bdd1fc59c363",
   "metadata": {},
   "outputs": [],
   "source": [
    "# Pull the remote origin repo's front-end branch into your current local branch. \n",
    "git pull origin front-end\n",
    "# Compare origin's main branch with your local branch. \n",
    "git diff origin main"
   ]
  },
  {
   "cell_type": "markdown",
   "id": "406d80b4-9b30-4e73-bad4-49936fd029ec",
   "metadata": {},
   "source": [
    "## Pushing to remotes"
   ]
  },
  {
   "cell_type": "markdown",
   "id": "f8d02cc4-c4e4-4a1a-bfa6-92862b5a84e3",
   "metadata": {},
   "source": [
    "#### Pushing to a remote\n",
    "You've been working in the documentation branch of the dc-back-up repo.\n",
    "\n",
    "All of your local changes have been saved and you're ready need to push your local changes to the origin remote."
   ]
  },
  {
   "cell_type": "code",
   "execution_count": null,
   "id": "d653faec-db64-4790-9e3c-04443b355fed",
   "metadata": {},
   "outputs": [],
   "source": [
    "git push origin documentation"
   ]
  },
  {
   "cell_type": "code",
   "execution_count": null,
   "id": "166fdc07-f431-49ed-b0ce-937278d21076",
   "metadata": {},
   "outputs": [],
   "source": []
  }
 ],
 "metadata": {
  "kernelspec": {
   "display_name": "Python 3 (ipykernel)",
   "language": "python",
   "name": "python3"
  },
  "language_info": {
   "codemirror_mode": {
    "name": "ipython",
    "version": 3
   },
   "file_extension": ".py",
   "mimetype": "text/x-python",
   "name": "python",
   "nbconvert_exporter": "python",
   "pygments_lexer": "ipython3",
   "version": "3.9.13"
  }
 },
 "nbformat": 4,
 "nbformat_minor": 5
}
