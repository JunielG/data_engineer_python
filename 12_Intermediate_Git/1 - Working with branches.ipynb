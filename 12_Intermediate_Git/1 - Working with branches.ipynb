{
 "cells": [
  {
   "cell_type": "markdown",
   "id": "6fb6ee23-9c22-4032-a420-78aebd446127",
   "metadata": {},
   "source": [
    "## Introduction to branches"
   ]
  },
  {
   "cell_type": "markdown",
   "id": "39bff3af-0771-4ef8-9269-71e2347b5054",
   "metadata": {},
   "source": [
    "#### Creating new branches\n",
    "You are working on updates to the DataCamp website, inside of a Git repo called datacamp.\n",
    "\n",
    "You've been working in the main branch of your repo, but you now know that you should create a new branch for a specific task and make edits to your project there instead.\n",
    "\n",
    "You have unsaved changes in main, so you're going to save those, then move into the llm-upgrade branch to look into improving the relevance of the responses that the AI model returns to users."
   ]
  },
  {
   "cell_type": "code",
   "execution_count": null,
   "id": "595488ba-c65a-4d4f-b41c-ce8b1459d8d8",
   "metadata": {},
   "outputs": [],
   "source": [
    "# Add the updated file main.py to the staging area. \n",
    "git add main.py\n",
    "# Make a commit with the log message \"Update source code\"\n",
    "git commit -m \"Update source code\"\n",
    "# In a single command, create and move to a new branch called llm-upgrade. \n",
    "git checkout -b llm-upgrade"
   ]
  },
  {
   "cell_type": "markdown",
   "id": "b1f2ba93-028b-4f7c-b193-de145fee2d04",
   "metadata": {},
   "source": [
    "- Correct! git branch shows you that there are four branches in your repo, and confirms you are in the front-end branch! Now let's see how we can modify and compare branches."
   ]
  },
  {
   "cell_type": "markdown",
   "id": "4f1ca9ee-0db7-4c8d-aba0-eb136d41fb93",
   "metadata": {},
   "source": [
    "## Modifying and comparing branches"
   ]
  },
  {
   "cell_type": "markdown",
   "id": "43ec5092-ea43-457a-89d1-85ff6ba13c22",
   "metadata": {},
   "source": [
    "#### Renaming branches\n",
    "You receive a service desk ticket fw2959 highlighting an issue with how bold text renders on the website.\n",
    "\n",
    "You decide to create a new branch for this work, but, in your haste, you've chosen the branch name txt.\n",
    "\n",
    "While you think this branch name should be clear to your colleagues, they've expressed confusion about what this branch represents.\n",
    "\n",
    "As a general rule, when working on a ticket in your company, the branch should include the ticket number at the start of the branch name. You decide it is best to rename it for consistency and clarity."
   ]
  },
  {
   "cell_type": "code",
   "execution_count": null,
   "id": "03682ed0-4f1e-4cb6-801f-c6828f3ec4ff",
   "metadata": {},
   "outputs": [],
   "source": [
    "git branch -m txt fw2959-text-bug"
   ]
  },
  {
   "cell_type": "markdown",
   "id": "84fb456d-0c8e-40ed-91cf-befed13069e3",
   "metadata": {},
   "source": [
    "#### Deleting branches\n",
    "Generally, branches aren't deleted until the contents have been merged back into the main branch (or wherever the live system lives).\n",
    "\n",
    "However, it's worthwhile knowing how to delete a branch that has not been merged, in case you find the scope of your project changing and a specific branch's contents are no longer required."
   ]
  },
  {
   "cell_type": "code",
   "execution_count": null,
   "id": "0b86d094-4fe1-45c5-9b81-2616183fe09f",
   "metadata": {},
   "outputs": [],
   "source": [
    "git branch -D llm-upgrade"
   ]
  },
  {
   "cell_type": "markdown",
   "id": "6cb0414f-fded-4b0b-ac14-991436c67d21",
   "metadata": {},
   "source": [
    "#### Comparing branches\n",
    "If you're working across multiple branches then you may want to compare the state of repos between branches from time to time.\n",
    "\n",
    "You are in the datacamp repository and would like to compare two branches."
   ]
  },
  {
   "cell_type": "code",
   "execution_count": null,
   "id": "b126e8b4-7725-43c3-8945-683a75c330e3",
   "metadata": {},
   "outputs": [],
   "source": [
    "git diff front-end documentation"
   ]
  },
  {
   "cell_type": "markdown",
   "id": "a25687b9-a554-4206-ae34-e78493f2a95c",
   "metadata": {},
   "source": [
    "## Merging branches"
   ]
  },
  {
   "cell_type": "markdown",
   "id": "a7edf8dc-daf8-4b37-a183-20c6cb25ea8f",
   "metadata": {},
   "source": [
    "#### Merging two branches\n",
    "You've updated some code in the ai-assistant branch, and now need to merge ai-assistant into main to keep it accurate and up to date.\n",
    "\n",
    "You are currently in the main branch."
   ]
  },
  {
   "cell_type": "code",
   "execution_count": null,
   "id": "1e68de81-b86d-4376-973a-1f3f7dbff0da",
   "metadata": {},
   "outputs": [],
   "source": [
    "git merge ai-assistant main"
   ]
  },
  {
   "cell_type": "code",
   "execution_count": null,
   "id": "a40bebed-66d0-4b2d-80a1-8b095ab0dd98",
   "metadata": {},
   "outputs": [],
   "source": []
  }
 ],
 "metadata": {
  "kernelspec": {
   "display_name": "Python 3 (ipykernel)",
   "language": "python",
   "name": "python3"
  },
  "language_info": {
   "codemirror_mode": {
    "name": "ipython",
    "version": 3
   },
   "file_extension": ".py",
   "mimetype": "text/x-python",
   "name": "python",
   "nbconvert_exporter": "python",
   "pygments_lexer": "ipython3",
   "version": "3.9.13"
  }
 },
 "nbformat": 4,
 "nbformat_minor": 5
}
