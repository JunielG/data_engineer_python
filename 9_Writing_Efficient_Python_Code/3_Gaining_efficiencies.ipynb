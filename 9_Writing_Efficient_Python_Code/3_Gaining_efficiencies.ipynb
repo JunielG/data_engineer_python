{
 "cells": [
  {
   "cell_type": "markdown",
   "id": "b37ce7cb-6d04-43c9-ad61-fc74666650ec",
   "metadata": {},
   "source": [
    "## Efficiently combining, counting, and iterating"
   ]
  },
  {
   "cell_type": "code",
   "execution_count": 1,
   "id": "43642d98-03c4-4eb9-8039-94a2d33dbba0",
   "metadata": {},
   "outputs": [
    {
     "name": "stdout",
     "output_type": "stream",
     "text": [
      "[('Bulbasaur', 45)]\n",
      "[('Bulbasaur', 45), ('Charmander', 39)]\n",
      "[('Bulbasaur', 45), ('Charmander', 39), ('Squirtle', 44)]\n"
     ]
    }
   ],
   "source": [
    "names = ['Bulbasaur', 'Charmander', 'Squirtle']\n",
    "hps = [45, 39, 44]\n",
    "\n",
    "combined = [] \n",
    "\n",
    "for i,pokemon in enumerate(names):\n",
    "    combined.append((pokemon, hps[i]))\n",
    "    print(combined)"
   ]
  },
  {
   "cell_type": "code",
   "execution_count": 2,
   "id": "0828ba82-7d15-494e-8fa6-92742a9a6a55",
   "metadata": {},
   "outputs": [
    {
     "name": "stdout",
     "output_type": "stream",
     "text": [
      "<class 'zip'>\n"
     ]
    }
   ],
   "source": [
    "combined_zip = zip(names, hps)\n",
    "print(type(combined_zip))"
   ]
  },
  {
   "cell_type": "code",
   "execution_count": 3,
   "id": "f2650bd4-eb13-4d21-b579-d4e8ed12f8cf",
   "metadata": {},
   "outputs": [
    {
     "name": "stdout",
     "output_type": "stream",
     "text": [
      "[('Bulbasaur', 45), ('Charmander', 39), ('Squirtle', 44)]\n"
     ]
    }
   ],
   "source": [
    "combined_zip_list = [*combined_zip]\n",
    "print(combined_zip_list)"
   ]
  },
  {
   "cell_type": "code",
   "execution_count": 6,
   "id": "a95d59a8-9ab6-4604-b91f-ca7e76d2d369",
   "metadata": {},
   "outputs": [
    {
     "name": "stdout",
     "output_type": "stream",
     "text": [
      "{'Grass': 1, 'Dark': 1, 'Fire': 2}\n"
     ]
    }
   ],
   "source": [
    "# Each Pokémon's type (720 total)\n",
    "poke_types = ['Grass', 'Dark', 'Fire', 'Fire'] \n",
    "\n",
    "type_counts = {}\n",
    "for poke_type in poke_types:\n",
    "    if poke_type not in type_counts:   \n",
    "      type_counts[poke_type] = 1 \n",
    "else:        \n",
    "    type_counts[poke_type] += 1\n",
    "    print(type_counts)"
   ]
  },
  {
   "cell_type": "code",
   "execution_count": 7,
   "id": "e3f87142-cf96-4399-b35f-c4e9b1ae9c73",
   "metadata": {},
   "outputs": [
    {
     "name": "stdout",
     "output_type": "stream",
     "text": [
      "Counter({'Fire': 2, 'Grass': 1, 'Dark': 1})\n"
     ]
    }
   ],
   "source": [
    "from collections import Counter\n",
    "\n",
    "type_counts = Counter(poke_types)\n",
    "print(type_counts)"
   ]
  },
  {
   "cell_type": "code",
   "execution_count": 12,
   "id": "53e7d313-8ce5-4f55-9f98-9655baa79ce2",
   "metadata": {},
   "outputs": [
    {
     "name": "stdout",
     "output_type": "stream",
     "text": [
      "[('Bug', 'Fire'), ('Bug', 'Ghost'), ('Bug', 'Grass'), ('Bug', 'Water'), ('Fire', 'Ghost'), ('Fire', 'Grass'), ('Fire', 'Water'), ('Ghost', 'Grass'), ('Ghost', 'Water'), ('Grass', 'Water')]\n"
     ]
    }
   ],
   "source": [
    "poke_types = ['Bug', 'Fire', 'Ghost', 'Grass', 'Water'] \n",
    "\n",
    "combos = [] \n",
    "\n",
    "for x in poke_types:\n",
    "    for y in poke_types: \n",
    "        if x == y:\n",
    "            continue\n",
    "        if ((x,y) not in combos) & ((y,x) not in combos): \n",
    "            combos.append((x,y))\n",
    "print(combos)"
   ]
  },
  {
   "cell_type": "code",
   "execution_count": 13,
   "id": "16154cea-9247-4fbb-a9ea-4fbfc1d217be",
   "metadata": {},
   "outputs": [
    {
     "name": "stdout",
     "output_type": "stream",
     "text": [
      "<class 'itertools.combinations'>\n"
     ]
    }
   ],
   "source": [
    "from itertools import combinations\n",
    "\n",
    "combos_obj = combinations(poke_types, 2)\n",
    "print(type(combos_obj))"
   ]
  },
  {
   "cell_type": "code",
   "execution_count": 14,
   "id": "611194f2-97b6-4b25-beba-2bd83344c37b",
   "metadata": {},
   "outputs": [
    {
     "name": "stdout",
     "output_type": "stream",
     "text": [
      "[('Bug', 'Fire'), ('Bug', 'Ghost'), ('Bug', 'Grass'), ('Bug', 'Water'), ('Fire', 'Ghost'), ('Fire', 'Grass'), ('Fire', 'Water'), ('Ghost', 'Grass'), ('Ghost', 'Water'), ('Grass', 'Water')]\n"
     ]
    }
   ],
   "source": [
    "combos = [*combos_obj]\n",
    "print(combos)"
   ]
  },
  {
   "cell_type": "markdown",
   "id": "3089f641-5c2c-4f04-8744-37bf20ef7e8d",
   "metadata": {},
   "source": [
    "### Combining Pokémon names and types\n",
    "Three lists have been loaded into your session from a dataset that contains 720 Pokémon:\n",
    "\n",
    "- The names list contains the names of each Pokémon.\n",
    "- The primary_types list contains the corresponding primary type of each Pokémon.\n",
    "- The secondary_types list contains the corresponding secondary type of each Pokémon (nan if the Pokémon has only one type).\n",
    "\n",
    "We want to combine each Pokémon's name and types together so that you easily see a description of each Pokémon. Practice using zip() to accomplish this task."
   ]
  },
  {
   "cell_type": "code",
   "execution_count": null,
   "id": "98e477f6-2b2e-4930-90d0-0f15aa737071",
   "metadata": {},
   "outputs": [],
   "source": [
    "# Combine names and primary_types\n",
    "names_type1 = [*zip(names, primary_types)]\n",
    "\n",
    "print(*names_type1[:5], sep='\\n')"
   ]
  },
  {
   "cell_type": "code",
   "execution_count": null,
   "id": "d89f9e53-1f5a-45db-9c02-2c6c4fcb85ec",
   "metadata": {},
   "outputs": [],
   "source": [
    "# Combine all three lists together\n",
    "names_types = [*zip(names, primary_types, secondary_types)]\n",
    "\n",
    "print(*names_types[:5], sep='\\n')"
   ]
  },
  {
   "cell_type": "code",
   "execution_count": null,
   "id": "ccf10203-3243-4da4-aa75-cf6d0d9db0be",
   "metadata": {},
   "outputs": [],
   "source": [
    "# Combine five items from names and three items from primary_types\n",
    "differing_lengths = [*zip(names[:5], primary_types[:3])]\n",
    "\n",
    "print(*differing_lengths, sep='\\n')"
   ]
  },
  {
   "cell_type": "markdown",
   "id": "1748159f-f82a-4a6a-a879-817f060088f8",
   "metadata": {},
   "source": [
    "### Counting Pokémon from a sample\n",
    "A sample of 500 Pokémon has been generated, and three lists from this sample have been loaded into your session:\n",
    "\n",
    "The names list contains the names of each Pokémon in the sample.\n",
    "The primary_types list containing the corresponding primary type of each Pokémon in the sample.\n",
    "The generations list contains the corresponding generation of each Pokémon in the sample.\n",
    "You want to quickly gather a few counts from these lists to better understand the sample that was generated. Use Counter from the collections module to explore what types of Pokémon are in your sample, what generations they come from, and how many Pokémon have a name that starts with a specific letter.\n",
    "\n",
    "Counter has already been imported into your session for convenience."
   ]
  },
  {
   "cell_type": "code",
   "execution_count": null,
   "id": "fb5d322d-8a36-481f-9157-83951366c764",
   "metadata": {},
   "outputs": [],
   "source": [
    "# Collect the count of primary types\n",
    "type_count = Counter(primary_types)\n",
    "print(type_count, '\\n')\n",
    "\n",
    "# Collect the count of generations\n",
    "gen_count = Counter(generations)\n",
    "print(gen_count, '\\n')\n",
    "\n",
    "# Use list comprehension to get each Pokémon's starting letter\n",
    "starting_letters = [name[0] for name in names]\n",
    "\n",
    "# Collect the count of Pokémon for each starting_letter\n",
    "starting_letters_count = Counter(starting_letters)\n",
    "print(starting_letters_count)"
   ]
  },
  {
   "cell_type": "markdown",
   "id": "fb3fdc4a-f32a-4ba1-95fa-05a7b683a7cf",
   "metadata": {},
   "source": [
    "### Combinations of Pokémon\n",
    "Ash, a Pokémon trainer, encounters a group of five Pokémon. These Pokémon have been loaded into a list within your session (called pokemon) and printed into the console for your convenience.\n",
    "\n",
    "Ash would like to try to catch some of these Pokémon, but his Pokédex can only store two Pokémon at a time. Let's use combinations from the itertools module to see what the possible pairs of Pokémon are that Ash could catch."
   ]
  },
  {
   "cell_type": "code",
   "execution_count": null,
   "id": "14897101-c72d-4394-9bd2-ab8d4cf5ab4d",
   "metadata": {},
   "outputs": [],
   "source": [
    "# Import combinations from itertools\n",
    "from itertools import combinations\n",
    "\n",
    "# Create a combination object with pairs of Pokémon\n",
    "combos_obj = combinations(pokemon, 2)\n",
    "print(type(combos_obj), '\\n')\n",
    "\n",
    "# Convert combos_obj to a list by unpacking\n",
    "combos_2 = [*combos_obj]\n",
    "print(combos_2, '\\n')\n",
    "\n",
    "# Collect all possible combinations of 4 Pokémon directly into a list\n",
    "combos_4 = [*combinations(pokemon, 4)]\n",
    "print(combos_4)"
   ]
  },
  {
   "cell_type": "markdown",
   "id": "ae6942a5-2aa9-4815-8d28-47e9baffa6a8",
   "metadata": {},
   "source": [
    "## Set theory"
   ]
  },
  {
   "cell_type": "code",
   "execution_count": 15,
   "id": "72fb562e-acde-4141-8287-d7622d44b991",
   "metadata": {},
   "outputs": [],
   "source": [
    "list_a = ['Bulbasaur', 'Charmander', 'Squirtle']\n",
    "list_b = ['Caterpie', 'Pidgey', 'Squirtle']"
   ]
  },
  {
   "cell_type": "code",
   "execution_count": 16,
   "id": "ad2b36c9-3d19-497c-943a-d964e6a4d995",
   "metadata": {},
   "outputs": [
    {
     "name": "stdout",
     "output_type": "stream",
     "text": [
      "['Squirtle']\n"
     ]
    }
   ],
   "source": [
    "in_common = []\n",
    "for pokemon_a in list_a:\n",
    "    for pokemon_b in list_b:\n",
    "        if pokemon_a == pokemon_b:   \n",
    "            in_common.append(pokemon_a)\n",
    "print(in_common)"
   ]
  },
  {
   "cell_type": "markdown",
   "id": "0c4c41e2-392b-4f17-8e51-80d9ad1f1f44",
   "metadata": {},
   "source": [
    "### Comparing Pokédexes\n",
    "Two Pokémon trainers, Ash and Misty, would like to compare their individual collections of Pokémon. Let's see what Pokémon they have in common and what Pokémon Ash has that Misty does not.\n",
    "\n",
    "Both Ash and Misty's Pokédex (their collection of Pokémon) have been loaded into your session as lists called ash_pokedex and misty_pokedex. They have been printed into the console for your convenience."
   ]
  },
  {
   "cell_type": "code",
   "execution_count": 22,
   "id": "951be672-8812-4690-ab9b-268f4259df94",
   "metadata": {},
   "outputs": [
    {
     "name": "stdout",
     "output_type": "stream",
     "text": [
      "Pokémon that exist in both sets: \n",
      "{'Psyduck', 'Squirtle'}\n",
      "\n",
      "Pokémon that Ash has and Misty does not have:\n",
      " {'Spearow', 'Pikachu', 'Wigglytuff', 'Koffing', 'Vulpix', 'Zubat', 'Rattata', 'Bulbasaur'}\n",
      "\n",
      "Pokémon that are in only one set (not both):\n",
      " {'Poliwag', 'Spearow', 'Pikachu', 'Wigglytuff', 'Koffing', 'Krabby', 'Slowbro', 'Tentacool', 'Vulpix', 'Zubat', 'Magikarp', 'Horsea', 'Vaporeon', 'Starmie', 'Rattata', 'Bulbasaur'}\n"
     ]
    }
   ],
   "source": [
    "ash_pokedex = ['Pikachu','Bulbasaur', 'Koffing','Spearow','Vulpix','Wigglytuff', 'Zubat', 'Rattata', 'Psyduck', 'Squirtle']\n",
    "misty_pokedex = ['Krabby','Horsea', 'Slowbro','Tentacool', 'Vaporeon', 'Magikarp', 'Poliwag', 'Starmie', 'Psyduck', 'Squirtle']\n",
    "\n",
    "# Convert both lists to sets\n",
    "ash_set = set(ash_pokedex)\n",
    "misty_set = set(misty_pokedex)\n",
    "\n",
    "# Find the Pokémon that exist in both sets\n",
    "both = ash_set.intersection(misty_set)\n",
    "print(f'Pokémon that exist in both sets: \\n{both}\\n')\n",
    "\n",
    "# Find the Pokémon that Ash has and Misty does not have\n",
    "ash_only = ash_set.difference(misty_set)\n",
    "print(f'Pokémon that Ash has and Misty does not have:\\n {ash_only}\\n')\n",
    "\n",
    "# Find the Pokémon that are in only one set (not both)\n",
    "unique_to_set = ash_set.symmetric_difference(misty_set)\n",
    "print(f'Pokémon that are in only one set (not both):\\n {unique_to_set}')"
   ]
  },
  {
   "cell_type": "markdown",
   "id": "9fb183b6-ba17-48d4-a3d0-0908395682ac",
   "metadata": {},
   "source": [
    "### Searching for Pokémon\n",
    "Two Pokémon trainers, Ash and Brock, have a collection of ten Pokémon each. Each trainer's Pokédex (their collection of Pokémon) has been loaded into your session as lists called ash_pokedex and brock_pokedex respectively.\n",
    "\n",
    "You'd like to see if certain Pokémon are members of either Ash or Brock's Pokédex.\n",
    "\n",
    "Let's compare using a set versus using a list when performing this membership testing."
   ]
  },
  {
   "cell_type": "code",
   "execution_count": 26,
   "id": "6f7287c4-e593-4a72-b197-e89186a272f3",
   "metadata": {},
   "outputs": [
    {
     "name": "stdout",
     "output_type": "stream",
     "text": [
      "{'Onix', 'Machop', 'Tauros', 'Dugtrio', 'Geodude', 'Omastar', 'Golem', 'Vulpix', 'Zubat', 'Kabutops'} \n",
      "\n",
      "True\n",
      "False \n",
      "\n",
      "False\n",
      "True\n"
     ]
    }
   ],
   "source": [
    "brock_pokedex = ['Onix','Geodude','Zubat','Golem', 'Vulpix','Tauros', 'Kabutops', 'Omastar', 'Machop', 'Dugtrio']\n",
    "\n",
    "# Convert Brock's Pokédex to a set\n",
    "brock_pokedex_set = set(brock_pokedex)\n",
    "print(brock_pokedex_set, '\\n')\n",
    "\n",
    "# Check if Psyduck is in Ash's list and Brock's set\n",
    "print('Psyduck' in ash_pokedex)\n",
    "print('Psyduck' in brock_pokedex_set, '\\n')\n",
    "\n",
    "# Check if Machop is in Ash's list and Brock's set\n",
    "print('Machop' in ash_pokedex)\n",
    "print('Machop' in brock_pokedex_set)"
   ]
  },
  {
   "cell_type": "code",
   "execution_count": 27,
   "id": "f81a7eeb-05bc-400e-b297-87a7abb566be",
   "metadata": {},
   "outputs": [
    {
     "name": "stdout",
     "output_type": "stream",
     "text": [
      "258 ns ± 1.57 ns per loop (mean ± std. dev. of 7 runs, 1,000,000 loops each)\n",
      "266 ns ± 0.534 ns per loop (mean ± std. dev. of 7 runs, 1,000,000 loops each)\n"
     ]
    }
   ],
   "source": [
    "%timeit 'Psyduck' in ash_pokedex, 'Psyduck' in brock_pokedex_set\n",
    "%timeit 'Machop' in ash_pokedex, 'Machop' in brock_pokedex_set"
   ]
  },
  {
   "cell_type": "markdown",
   "id": "929af147-2c4b-4455-ab14-dae3dd16d31e",
   "metadata": {},
   "source": [
    "### Gathering unique Pokémon\n",
    "A sample of 500 Pokémon has been created with replacement (meaning a Pokémon could be selected more than once and duplicates exist within the sample).\n",
    "\n",
    "Three lists have been loaded into your session:\n",
    "\n",
    "The names list contains the names of each Pokémon in the sample.\n",
    "The primary_types list containing the corresponding primary type of each Pokémon in the sample.\n",
    "The generations list contains the corresponding generation of each Pokémon in the sample.\n",
    "The below function was written to gather unique values from each list:"
   ]
  },
  {
   "cell_type": "code",
   "execution_count": 28,
   "id": "d351840d-a2a8-4011-939e-41ca384dc801",
   "metadata": {},
   "outputs": [],
   "source": [
    "def find_unique_items(data):\n",
    "    uniques = []\n",
    "\n",
    "    for item in data:\n",
    "        if item not in uniques:\n",
    "            uniques.append(item)\n",
    "\n",
    "    return uniques"
   ]
  },
  {
   "cell_type": "code",
   "execution_count": 29,
   "id": "dba01e00-428e-46d0-a06e-fd22464529b3",
   "metadata": {},
   "outputs": [
    {
     "name": "stdout",
     "output_type": "stream",
     "text": [
      "3\n"
     ]
    }
   ],
   "source": [
    "# Use the provided function to collect unique Pokémon names\n",
    "uniq_names_func = find_unique_items(names)\n",
    "print(len(uniq_names_func))"
   ]
  },
  {
   "cell_type": "code",
   "execution_count": 30,
   "id": "0e0db3f8-76e0-43f9-ab63-037187943334",
   "metadata": {},
   "outputs": [
    {
     "name": "stdout",
     "output_type": "stream",
     "text": [
      "3\n",
      "True\n"
     ]
    }
   ],
   "source": [
    "# Convert the names list to a set to collect unique Pokémon names\n",
    "uniq_names_set = set(names)\n",
    "print(len(uniq_names_set))\n",
    "\n",
    "# Check that both unique collections are equivalent\n",
    "print(sorted(uniq_names_func) == sorted(uniq_names_set))"
   ]
  },
  {
   "cell_type": "code",
   "execution_count": null,
   "id": "302443ef-781c-4b35-9f83-8eeaebb3c01f",
   "metadata": {},
   "outputs": [],
   "source": [
    "# Use the best approach to collect unique primary types and generations\n",
    "uniq_types = set(primary_types)\n",
    "uniq_gens = set(generations)\n",
    "print(uniq_types, uniq_gens, sep='\\n') "
   ]
  },
  {
   "cell_type": "markdown",
   "id": "9c91241f-33ce-4b89-97ea-aa43d0779604",
   "metadata": {},
   "source": [
    "## Eliminating loops"
   ]
  },
  {
   "cell_type": "markdown",
   "id": "1a755e71-4a8a-4bfe-a590-6159e356774d",
   "metadata": {},
   "source": [
    "### Gathering Pokémon without a loop\n",
    "A list containing 720 Pokémon has been loaded into your session as poke_names. Another list containing each Pokémon's corresponding generation has been loaded as poke_gens.\n",
    "\n",
    "A for loop has been created to filter the Pokémon that belong to generation one or two, and collect the number of letters in each Pokémon's name:"
   ]
  },
  {
   "cell_type": "code",
   "execution_count": null,
   "id": "b20875a3-a5fd-4449-a170-53757efcbcf6",
   "metadata": {},
   "outputs": [],
   "source": [
    "gen1_gen2_name_lengths_loop = []\n",
    "\n",
    "for name,gen in zip(poke_names, poke_gens):\n",
    "    if gen < 3:\n",
    "        name_length = len(name)\n",
    "        poke_tuple = (name, name_length)\n",
    "        gen1_gen2_name_lengths_loop.append(poke_tuple)"
   ]
  },
  {
   "cell_type": "code",
   "execution_count": null,
   "id": "64ff8f8b-4b18-4b57-91ac-e5707bd0a767",
   "metadata": {},
   "outputs": [],
   "source": [
    "# Collect Pokémon that belong to generation 1 or generation 2\n",
    "gen1_gen2_pokemon = [name for name,gen in zip(poke_names, poke_gens) if gen < 3]\n",
    "\n",
    "# Create a map object that stores the name lengths\n",
    "name_lengths_map = map(len, gen1_gen2_pokemon)\n",
    "\n",
    "# Combine gen1_gen2_pokemon and name_lengths_map into a list\n",
    "gen1_gen2_name_lengths = [*zip(gen1_gen2_pokemon, name_lengths_map)]\n",
    "\n",
    "print(gen1_gen2_name_lengths_loop[:5])\n",
    "print(gen1_gen2_name_lengths[:5])"
   ]
  },
  {
   "cell_type": "code",
   "execution_count": null,
   "id": "86bcba6a-eb7c-4ccc-a93c-3e66c3dc0df7",
   "metadata": {},
   "outputs": [],
   "source": [
    "[(name, len(name)) for name,gen in zip(poke_names, poke_gens) if gen < 3]"
   ]
  },
  {
   "cell_type": "markdown",
   "id": "a79ccaa0-a118-4e8e-9290-319ad22b300e",
   "metadata": {},
   "source": [
    "### Pokémon totals and averages without a loop\n",
    "A list of 720 Pokémon has been loaded into your session called names. Each Pokémon's corresponding statistics has been loaded as a NumPy array called stats. Each row of stats corresponds to a Pokémon in names and each column represents an individual Pokémon stat (HP, Attack, Defense, Special Attack, Special Defense, and Speed respectively.)\n",
    "\n",
    "You want to gather each Pokémon's total stat value (i.e., the sum of each row in stats) and each Pokémon's average stat value (i.e., the mean of each row in stats) so that you find the strongest Pokémon.\n",
    "\n",
    "The below for loop was written to collect these values:"
   ]
  },
  {
   "cell_type": "code",
   "execution_count": null,
   "id": "b09fb01a-c661-439c-96c0-a29682aa3874",
   "metadata": {},
   "outputs": [],
   "source": [
    "poke_list = []\n",
    "\n",
    "for pokemon,row in zip(names, stats):\n",
    "    total_stats = np.sum(row)\n",
    "    avg_stats = np.mean(row)\n",
    "    poke_list.append((pokemon, total_stats, avg_stats))"
   ]
  },
  {
   "cell_type": "code",
   "execution_count": null,
   "id": "f8067110-c345-4943-bea9-d97a11c8f592",
   "metadata": {},
   "outputs": [],
   "source": [
    "# Create a total stats array\n",
    "total_stats_np = np.sum(stats, axis=1)\n",
    "\n",
    "# Create an average stats array\n",
    "avg_stats_np = np.mean(stats, axis=1)\n",
    "\n",
    "# Combine names, total_stats_np, and avg_stats_np into a list\n",
    "poke_list_np = [*zip(names, total_stats_np, avg_stats_np)]\n",
    "\n",
    "print(poke_list_np == poke_list, '\\n')\n",
    "print(poke_list_np[:3])\n",
    "print(poke_list[:3], '\\n')\n",
    "top_3 = sorted(poke_list_np, key=lambda x: x[1], reverse=True)[:3]\n",
    "print('3 strongest Pokémon:\\n{}'.format(top_3))"
   ]
  },
  {
   "cell_type": "markdown",
   "id": "ee89c765-418e-4598-859a-d74031ca4c0a",
   "metadata": {},
   "source": [
    "## Writing better loops"
   ]
  },
  {
   "cell_type": "markdown",
   "id": "9ac1ef43-fa07-48c3-847c-87859e78c1b7",
   "metadata": {},
   "source": [
    "### One-time calculation loop\n",
    "A list of integers that represents each Pokémon's generation has been loaded into your session called generations. You'd like to gather the counts of each generation and determine what percentage each generation accounts for out of the total count of integers.\n",
    "\n",
    "The below loop was written to accomplish this task:"
   ]
  },
  {
   "cell_type": "code",
   "execution_count": null,
   "id": "d553e37f-efaf-4a45-81d9-f018a6d4b9eb",
   "metadata": {},
   "outputs": [],
   "source": [
    "# Import Counter\n",
    "from collections import Counter\n",
    "\n",
    "# Collect the count of each generation\n",
    "gen_counts = Counter(generations)\n",
    "\n",
    "# Improve for loop by moving one calculation above the loop\n",
    "total_count = len(generations)\n",
    "\n",
    "for gen,count in gen_counts.items():\n",
    "    gen_percent = round(count / total_count * 100, 2)\n",
    "    print('generation {}: count = {:3} percentage = {}'\n",
    "          .format(gen, count, gen_percent))"
   ]
  },
  {
   "cell_type": "markdown",
   "id": "aca05240-57b9-4065-b732-4ceb82bcb3c3",
   "metadata": {},
   "source": [
    "### Holistic conversion loop\n",
    "A list of all possible Pokémon types has been loaded into your session as pokemon_types. It's been printed in the console for convenience.\n",
    "\n",
    "You'd like to gather all the possible pairs of Pokémon types. You want to store each of these pairs in an individual list with an enumerated index as the first element of each list. This allows you to see the total number of possible pairs and provides an indexed label for each pair."
   ]
  },
  {
   "cell_type": "code",
   "execution_count": null,
   "id": "0cab7b7b-3123-4ee3-a0d4-5576c12a9e12",
   "metadata": {},
   "outputs": [],
   "source": [
    "# Collect all possible pairs using combinations()\n",
    "possible_pairs = [*combinations(pokemon_types, 2)]\n",
    "\n",
    "# Create an empty list called enumerated_tuples\n",
    "enumerated_tuples = []\n",
    "\n",
    "for i,pair in enumerate(possible_pairs, 1):\n",
    "    enumerated_pair_tuple = (i,) + pair\n",
    "    enumerated_tuples.append(enumerated_pair_tuple)\n",
    "\n",
    "# Convert all tuples in enumerated_tuples to a list\n",
    "enumerated_pairs = [*map(list, enumerated_tuples)]\n",
    "print(enumerated_pairs)"
   ]
  },
  {
   "cell_type": "markdown",
   "id": "b611104b-b69d-491d-8d52-523b839fd7c8",
   "metadata": {},
   "source": [
    "### Bringing it all together: Pokémon z-scores\n",
    "A list of 720 Pokémon has been loaded into your session as names. Each Pokémon's corresponding Health Points is stored in a NumPy array called hps. You want to analyze the Health Points using the z-score to see how many standard deviations each Pokémon's HP is from the mean of all HPs.\n",
    "\n",
    "The below code was written to calculate the HP z-score for each Pokémon and gather the Pokémon with the highest HPs based on their z-scores:"
   ]
  },
  {
   "cell_type": "code",
   "execution_count": null,
   "id": "604d932f-981f-4120-9335-2c2cde2aef98",
   "metadata": {},
   "outputs": [],
   "source": [
    "# Calculate the total HP avg and total HP standard deviation\n",
    "hp_avg = np.mean(hps)\n",
    "hp_std = np.std(hps)\n",
    "\n",
    "# Use NumPy to eliminate the previous for loop\n",
    "z_scores = (hps - hp_avg)/hp_std\n",
    "\n",
    "# Combine names, hps, and z_scores\n",
    "poke_zscores2 = [*zip(names, hps, z_scores)]\n",
    "print(*poke_zscores2[:3], sep='\\n')\n",
    "\n",
    "# Use list comprehension with the same logic as the highest_hp_pokemon code block\n",
    "highest_hp_pokemon2 = [(name, hp, zscore) for name,hp,zscore in poke_zscores2 if zscore > 2]\n",
    "print(*highest_hp_pokemon2, sep='\\n')"
   ]
  },
  {
   "cell_type": "code",
   "execution_count": null,
   "id": "952b8025-ad91-4580-ab70-a0a6a61b23c5",
   "metadata": {},
   "outputs": [],
   "source": []
  }
 ],
 "metadata": {
  "kernelspec": {
   "display_name": "Python 3 (ipykernel)",
   "language": "python",
   "name": "python3"
  },
  "language_info": {
   "codemirror_mode": {
    "name": "ipython",
    "version": 3
   },
   "file_extension": ".py",
   "mimetype": "text/x-python",
   "name": "python",
   "nbconvert_exporter": "python",
   "pygments_lexer": "ipython3",
   "version": "3.9.13"
  }
 },
 "nbformat": 4,
 "nbformat_minor": 5
}
