{
 "cells": [
  {
   "cell_type": "markdown",
   "id": "312a87f8-4530-4f07-ae34-df18922f96c2",
   "metadata": {},
   "source": [
    "## Welcome!"
   ]
  },
  {
   "cell_type": "markdown",
   "id": "19b0e5ec-8f05-4be2-a343-51d9ceccdb92",
   "metadata": {},
   "source": [
    "### A taste of things to come\n",
    "In this exercise, you'll explore both the Non-Pythonic and Pythonic ways of looping over a list."
   ]
  },
  {
   "cell_type": "code",
   "execution_count": 1,
   "id": "68ff864b-1266-4f12-8308-ee2500b6a769",
   "metadata": {},
   "outputs": [
    {
     "name": "stdout",
     "output_type": "stream",
     "text": [
      "['Kramer', 'Elaine', 'George', 'Newman']\n"
     ]
    }
   ],
   "source": [
    "names = ['Jerry', 'Kramer', 'Elaine', 'George', 'Newman'] \n",
    "\n",
    "# Print the list created using the Non-Pythonic approach\n",
    "i = 0\n",
    "new_list= []\n",
    "while i < len(names):\n",
    "    if len(names[i]) >= 6:\n",
    "        new_list.append(names[i])\n",
    "    i += 1\n",
    "print(new_list)"
   ]
  },
  {
   "cell_type": "code",
   "execution_count": 2,
   "id": "d75717f1-cf94-46be-a692-4e07a3fde869",
   "metadata": {},
   "outputs": [
    {
     "name": "stdout",
     "output_type": "stream",
     "text": [
      "['Kramer', 'Elaine', 'George', 'Newman']\n"
     ]
    }
   ],
   "source": [
    "# Print the list created by looping over the contents of names\n",
    "better_list = []\n",
    "for name in names:\n",
    "    if len(name) >= 6:\n",
    "        better_list.append(name)\n",
    "print(better_list)"
   ]
  },
  {
   "cell_type": "code",
   "execution_count": 3,
   "id": "dea0b490-d746-48aa-84af-0d1490821944",
   "metadata": {},
   "outputs": [
    {
     "name": "stdout",
     "output_type": "stream",
     "text": [
      "['Kramer', 'Elaine', 'George', 'Newman']\n"
     ]
    }
   ],
   "source": [
    "# Print the list created by using list comprehension\n",
    "best_list = [name for name in names if len(name) >= 6]\n",
    "print(best_list)"
   ]
  },
  {
   "cell_type": "markdown",
   "id": "82d9c865-5731-4bd9-93ad-761178eaf78c",
   "metadata": {},
   "source": [
    "## Building with built-ins"
   ]
  },
  {
   "cell_type": "markdown",
   "id": "7c83a2c4-2c2b-4130-9432-68a266ae2b8f",
   "metadata": {},
   "source": [
    "### Built-in practice: range()\n",
    "In this exercise, you will practice using Python's built-in function range(). Remember that you can use range() in a few different ways:\n",
    "\n",
    "1) Create a sequence of numbers from 0 to a stop value (which is exclusive). This is useful when you want to create a simple sequence of numbers starting at zero:\n",
    "\n",
    "range(stop)\n",
    "\n",
    "#### Example\n",
    "list(range(11))\n",
    "\n",
    "[0, 1, 2, 3, 4, 5, 6, 7, 8, 9, 10] \n",
    "\n",
    "2) Create a sequence of numbers from a start value to a stop value (which is exclusive) with a step size. This is useful when you want to create a sequence of numbers that increments by some value other than one. For example, a list of even numbers:\n",
    "\n",
    "range(start, stop, step)\n",
    "\n",
    "#### Example\n",
    "list(range(2,11,2))\n",
    "\n",
    "[2, 4, 6, 8, 10]"
   ]
  },
  {
   "cell_type": "code",
   "execution_count": 5,
   "id": "ad0a99c9-3fbe-4ee2-bcc4-ddd956b04fe0",
   "metadata": {},
   "outputs": [
    {
     "name": "stdout",
     "output_type": "stream",
     "text": [
      "<class 'range'>\n",
      "[0, 1, 2, 3, 4, 5]\n",
      "[1, 3, 5, 7, 9, 11]\n"
     ]
    }
   ],
   "source": [
    "# Create a range object that goes from 0 to 5\n",
    "nums = range(0, 6)\n",
    "print(type(nums))\n",
    "\n",
    "# Convert nums to a list\n",
    "nums_list = list(nums)\n",
    "print(nums_list)\n",
    "\n",
    "# Create a new list of odd numbers from 1 to 11 by unpacking a range object\n",
    "nums_list2 = [*range(1,12,2)]\n",
    "print(nums_list2)"
   ]
  },
  {
   "cell_type": "markdown",
   "id": "992e835c-e72c-4d72-ad95-468ddd3b14f3",
   "metadata": {},
   "source": [
    "### Built-in practice: enumerate()\n",
    "In this exercise, you'll practice using Python's built-in function enumerate(). This function is useful for obtaining an indexed list. For example, suppose you had a list of people that arrived at a party you are hosting. The list is ordered by arrival (Jerry was the first to arrive, followed by Kramer, etc.):"
   ]
  },
  {
   "cell_type": "code",
   "execution_count": 9,
   "id": "94deea73-5760-4cc4-97fd-4d55ecfd570e",
   "metadata": {},
   "outputs": [
    {
     "name": "stdout",
     "output_type": "stream",
     "text": [
      "For loop: [(0, 'Jerry'), (1, 'Kramer'), (2, 'Elaine'), (3, 'George'), (4, 'Newman')]\n",
      "\n",
      "List of comprenhension: [(0, 'Jerry'), (1, 'Kramer'), (2, 'Elaine'), (3, 'George'), (4, 'Newman')]\n",
      "\n",
      "Unpacking enumerate: [(1, 'Jerry'), (2, 'Kramer'), (3, 'Elaine'), (4, 'George'), (5, 'Newman')]\n"
     ]
    }
   ],
   "source": [
    "# Rewrite the for loop to use enumerate\n",
    "indexed_names = []\n",
    "for i, name in enumerate(names):\n",
    "    index_name = (i,name)\n",
    "    indexed_names.append(index_name) \n",
    "print(f'For loop: {indexed_names}\\n')\n",
    "\n",
    "# Rewrite the above for loop using list comprehension\n",
    "indexed_names_comp = [(i,name) for i,name in enumerate(names)]\n",
    "print(f'List of comprenhension: {indexed_names_comp}\\n')\n",
    "\n",
    "# Unpack an enumerate object with a starting index of one\n",
    "indexed_names_unpack = [*enumerate(names, 1)]\n",
    "print(f'Unpacking enumerate: {indexed_names_unpack}')"
   ]
  },
  {
   "cell_type": "markdown",
   "id": "27dbcbbc-8973-4ba4-bc77-9f095345bbfc",
   "metadata": {},
   "source": [
    "### Built-in practice: map()\n",
    "In this exercise, you'll practice using Python's built-in map() function to apply a function to every element of an object. Let's look at a list of party guests:"
   ]
  },
  {
   "cell_type": "code",
   "execution_count": 10,
   "id": "d15204ec-23e9-4447-a617-485f7df42ddb",
   "metadata": {},
   "outputs": [
    {
     "name": "stdout",
     "output_type": "stream",
     "text": [
      "<class 'map'>\n",
      "['JERRY', 'KRAMER', 'ELAINE', 'GEORGE', 'NEWMAN']\n"
     ]
    }
   ],
   "source": [
    "# Use map to apply str.upper to each element in names\n",
    "names_map  = map(str.upper, names)\n",
    "\n",
    "# Print the type of the names_map\n",
    "print(type(names_map))\n",
    "\n",
    "# Unpack names_map into a list\n",
    "names_uppercase = [*list(names_map)]\n",
    "\n",
    "# Print the list created above\n",
    "print(names_uppercase)"
   ]
  },
  {
   "cell_type": "markdown",
   "id": "b8fb4b85-4219-4ac0-8d01-ae9533f59003",
   "metadata": {},
   "source": [
    "## The power of NumPy arrays"
   ]
  },
  {
   "cell_type": "markdown",
   "id": "99fa2a22-57e0-4d6c-99c8-99634a1e50e5",
   "metadata": {},
   "source": [
    "### Practice with NumPy arrays\n",
    "Let's practice slicing numpy arrays and using NumPy's broadcasting concept. Remember, broadcasting refers to a numpy array's ability to vectorize operations, so they are performed on all elements of an object at once.\n",
    "\n",
    "A two-dimensional numpy array has been loaded into your session (called nums) and printed into the console for your convenience. numpy has been imported into your session as np."
   ]
  },
  {
   "cell_type": "code",
   "execution_count": 18,
   "id": "67136d56-ba9d-41f2-a18a-14922e3f6ea9",
   "metadata": {},
   "outputs": [
    {
     "data": {
      "text/plain": [
       "array([[ 1,  3,  3,  4,  5],\n",
       "       [ 6,  8,  8,  9, 10]])"
      ]
     },
     "execution_count": 18,
     "metadata": {},
     "output_type": "execute_result"
    }
   ],
   "source": [
    "import numpy as np \n",
    "\n",
    "nums = np.array([[1, 3, 3, 4, 5],\n",
    "                 [6, 8, 8, 9, 10]])\n",
    "nums"
   ]
  },
  {
   "cell_type": "code",
   "execution_count": 23,
   "id": "4c43061f-61e3-432e-9825-af52b8d52e5e",
   "metadata": {},
   "outputs": [
    {
     "name": "stdout",
     "output_type": "stream",
     "text": [
      "Second row of nums: [ 6 12  8  9 10]\n",
      "\n",
      "Elements of nums greater than six: [ 7 12  8  9 10]\n",
      "\n",
      "Doubling every element of nums: [[ 2 14  6  8 10]\n",
      " [12 24 16 18 20]]\n",
      "\n",
      "Replacing the third column of nums: [[ 1  7  4  4  5]\n",
      " [ 6 12  9  9 10]]\n"
     ]
    }
   ],
   "source": [
    "# Print second row of nums\n",
    "print(f'Second row of nums: {nums[1, :]}\\n')\n",
    "\n",
    "# Print all elements of nums that are greater than six\n",
    "print(f'Elements of nums greater than six: {nums[nums > 6]}\\n')\n",
    "\n",
    "# Double every element of nums\n",
    "nums_dbl = nums * 2\n",
    "print(f'Doubling every element of nums: {nums_dbl}\\n')\n",
    "\n",
    "# Replace the third column of nums\n",
    "nums[:, 2] = nums[:, 2] + 1\n",
    "print(f'Replacing the third column of nums: {nums}')"
   ]
  },
  {
   "cell_type": "markdown",
   "id": "c0161aee-41f3-4d59-a9f5-4c6d6abc6fab",
   "metadata": {},
   "source": [
    "### Bringing it all together: Festivus!\n",
    "In this exercise, you will be throwing a party—a Festivus if you will!\n",
    "\n",
    "You have a list of guests (the names list). Each guest, for whatever reason, has decided to show up to the party in 10-minute increments. For example, Jerry shows up to Festivus 10 minutes into the party's start time, Kramer shows up 20 minutes into the party, and so on and so forth.\n",
    "\n",
    "We want to write a few simple lines of code, using the built-ins we have covered, to welcome each of your guests and let them know how many minutes late they are to your party. Note that numpy has been imported into your session as np and the names list has been loaded as well.\n",
    "\n",
    "Let's welcome your guests!"
   ]
  },
  {
   "cell_type": "code",
   "execution_count": 24,
   "id": "914cbf57-acff-4f1d-bfa0-bf2a675f1f26",
   "metadata": {},
   "outputs": [
    {
     "name": "stdout",
     "output_type": "stream",
     "text": [
      "[10, 20, 30, 40, 50]\n"
     ]
    }
   ],
   "source": [
    "# Create a list of arrival times\n",
    "arrival_times = [*range(10, 51, 10)]\n",
    "\n",
    "print(arrival_times)"
   ]
  },
  {
   "cell_type": "code",
   "execution_count": 25,
   "id": "8dbe05f4-2452-45f0-bbea-018450f70059",
   "metadata": {},
   "outputs": [
    {
     "name": "stdout",
     "output_type": "stream",
     "text": [
      "[ 7 17 27 37 47]\n"
     ]
    }
   ],
   "source": [
    "# Create a list of arrival times\n",
    "arrival_times = [*range(10,60,10)]\n",
    "\n",
    "# Convert arrival_times to an array and update the times\n",
    "arrival_times_np = np.array(arrival_times)\n",
    "new_times = arrival_times_np - 3\n",
    "\n",
    "print(new_times)"
   ]
  },
  {
   "cell_type": "code",
   "execution_count": 26,
   "id": "9b1589b0-7b26-47c3-ac0d-476bc9d5a8f4",
   "metadata": {},
   "outputs": [
    {
     "name": "stdout",
     "output_type": "stream",
     "text": [
      "[('Jerry', 7), ('Kramer', 17), ('Elaine', 27), ('George', 37), ('Newman', 47)]\n"
     ]
    }
   ],
   "source": [
    "# Create a list of arrival times\n",
    "arrival_times = [*range(10,60,10)]\n",
    "\n",
    "# Convert arrival_times to an array and update the times\n",
    "arrival_times_np = np.array(arrival_times)\n",
    "new_times = arrival_times_np - 3\n",
    "\n",
    "# Use list comprehension and enumerate to pair guests to new times\n",
    "guest_arrivals = [(names[i],time) for i,time in enumerate(new_times)]\n",
    "\n",
    "print(guest_arrivals)"
   ]
  },
  {
   "cell_type": "code",
   "execution_count": 31,
   "id": "cb1a52a5-faf4-474b-bf2a-5e7f3233f076",
   "metadata": {},
   "outputs": [
    {
     "name": "stdout",
     "output_type": "stream",
     "text": [
      "Welcome to Festivus Jerry... You're 7 min late.\n",
      "Welcome to Festivus Kramer... You're 17 min late.\n",
      "Welcome to Festivus Elaine... You're 27 min late.\n",
      "Welcome to Festivus George... You're 37 min late.\n",
      "Welcome to Festivus Newman... You're 47 min late.\n"
     ]
    }
   ],
   "source": [
    "def welcome_guest():\n",
    "    guests = [\"Jerry\", \"Kramer\", \"Elaine\", \"George\", \"Newman\"]\n",
    "    late_minutes = [7, 17, 27, 37, 47]\n",
    "    \n",
    "    for guest, minutes in zip(guests, late_minutes):\n",
    "        print(f\"Welcome to Festivus {guest}... You're {minutes} min late.\")\n",
    "\n",
    "# Call the function to see the output\n",
    "welcome_guest()"
   ]
  },
  {
   "cell_type": "code",
   "execution_count": 32,
   "id": "e8ff3818-7af0-415f-a012-ce645e8eb36c",
   "metadata": {},
   "outputs": [
    {
     "name": "stdout",
     "output_type": "stream",
     "text": [
      "Welcome to Festivus Jerry... You're 7 min late.\n",
      "Welcome to Festivus Kramer... You're 17 min late.\n",
      "Welcome to Festivus Elaine... You're 27 min late.\n",
      "Welcome to Festivus George... You're 37 min late.\n",
      "Welcome to Festivus Newman... You're 47 min late.\n"
     ]
    }
   ],
   "source": [
    "# import numpy as np\n",
    "\n",
    "# Define the guest names\n",
    "# names = [\"Jerry\", \"Kramer\", \"Elaine\", \"George\", \"Newman\"]\n",
    "\n",
    "# Define the welcome_guest function\n",
    "def welcome_guest(guest_time_pair):\n",
    "    guest, time = guest_time_pair\n",
    "    return f\"Welcome to Festivus {guest}... You're {time} min late.\"\n",
    "\n",
    "# Create a list of arrival times\n",
    "arrival_times = [*range(10,60,10)]\n",
    "\n",
    "# Convert arrival_times to an array and update the times\n",
    "arrival_times_np = np.array(arrival_times)\n",
    "new_times = arrival_times_np - 3\n",
    "\n",
    "# Use list comprehension and enumerate to pair guests to new times\n",
    "guest_arrivals = [(names[i],time) for i,time in enumerate(new_times)]\n",
    "\n",
    "# Map the welcome_guest function to each (guest,time) pair\n",
    "welcome_map = map(welcome_guest, guest_arrivals)\n",
    "\n",
    "guest_welcomes = [*welcome_map]\n",
    "print(*guest_welcomes, sep='\\n')"
   ]
  },
  {
   "cell_type": "markdown",
   "id": "0161b832-c242-4145-856b-9b0dda613344",
   "metadata": {},
   "source": [
    "## Saved Function"
   ]
  },
  {
   "cell_type": "code",
   "execution_count": null,
   "id": "6440e80f-9103-4d96-bb63-23a0481a47fc",
   "metadata": {},
   "outputs": [],
   "source": [
    "import numpy as np\n",
    "\n",
    "# Define the guest names\n",
    "names = [\"Jerry\", \"Kramer\", \"Elaine\", \"George\", \"Newman\"]\n",
    "\n",
    "# Define the welcome_guest function\n",
    "def welcome_guest(guest_time_pair):\n",
    "    guest, time = guest_time_pair\n",
    "    return f\"Welcome to Festivus {guest}... You're {time} min late.\"\n",
    "\n",
    "# Create a list of arrival times\n",
    "arrival_times = [*range(10,60,10)]\n",
    "# Convert arrival_times to an array and update the times\n",
    "arrival_times_np = np.array(arrival_times)\n",
    "new_times = arrival_times_np - 3\n",
    "# Use list comprehension and enumerate to pair guests to new times\n",
    "guest_arrivals = [(names[i],time) for i,time in enumerate(new_times)]\n",
    "# Map the welcome_guest function to each (guest,time) pair\n",
    "welcome_map = map(welcome_guest, guest_arrivals)\n",
    "guest_welcomes = [*welcome_map]\n",
    "print(*guest_welcomes, sep='\\n')"
   ]
  },
  {
   "cell_type": "code",
   "execution_count": null,
   "id": "1edcb72e-e7f8-47a6-a805-f682e4f99ab3",
   "metadata": {},
   "outputs": [],
   "source": []
  }
 ],
 "metadata": {
  "kernelspec": {
   "display_name": "Python 3 (ipykernel)",
   "language": "python",
   "name": "python3"
  },
  "language_info": {
   "codemirror_mode": {
    "name": "ipython",
    "version": 3
   },
   "file_extension": ".py",
   "mimetype": "text/x-python",
   "name": "python",
   "nbconvert_exporter": "python",
   "pygments_lexer": "ipython3",
   "version": "3.9.13"
  }
 },
 "nbformat": 4,
 "nbformat_minor": 5
}
