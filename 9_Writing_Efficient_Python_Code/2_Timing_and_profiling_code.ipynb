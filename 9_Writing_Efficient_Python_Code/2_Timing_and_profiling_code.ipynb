{
 "cells": [
  {
   "cell_type": "markdown",
   "id": "070c032a-dd67-4da4-a552-1898fc6b1b05",
   "metadata": {},
   "source": [
    "## Examining runtime"
   ]
  },
  {
   "cell_type": "markdown",
   "id": "782760ba-dc27-4cae-a101-434d5c6bd11d",
   "metadata": {},
   "source": [
    "### Using %timeit: your turn!\n",
    "You'd like to create a list of integers from 0 to 50 using the range() function. However, you are unsure whether using list comprehension or unpacking the range object into a list is faster. Let's use %timeit to find the best implementation.\n",
    "\n",
    "For your convenience, a reference table of time orders of magnitude is provided below (faster at the top)."
   ]
  },
  {
   "cell_type": "markdown",
   "id": "98bfeaaa-64dd-42be-9e57-1e0d6fb95997",
   "metadata": {},
   "source": [
    "symbol\tname\t    unit (s)\n",
    "ns\t    nanosecond\t10-9\n",
    "µs (us)\tmicrosecond\t10-6\n",
    "ms\t    millisecond\t10-3\n",
    "s\t    second\t    100"
   ]
  },
  {
   "cell_type": "code",
   "execution_count": 1,
   "id": "bc9a03ff-4f11-4715-bd5b-684ef0cbc3ce",
   "metadata": {},
   "outputs": [
    {
     "name": "stdout",
     "output_type": "stream",
     "text": [
      "[0, 1, 2, 3, 4, 5, 6, 7, 8, 9, 10, 11, 12, 13, 14, 15, 16, 17, 18, 19, 20, 21, 22, 23, 24, 25, 26, 27, 28, 29, 30, 31, 32, 33, 34, 35, 36, 37, 38, 39, 40, 41, 42, 43, 44, 45, 46, 47, 48, 49, 50]\n"
     ]
    }
   ],
   "source": [
    "# Create a list of integers (0-50) using list comprehension\n",
    "nums_list_comp = [num for num in range(0,51)]\n",
    "print(nums_list_comp)"
   ]
  },
  {
   "cell_type": "code",
   "execution_count": 2,
   "id": "a4c66e23-2f1a-4f37-9bec-bb84626ce490",
   "metadata": {},
   "outputs": [
    {
     "name": "stdout",
     "output_type": "stream",
     "text": [
      "[0, 1, 2, 3, 4, 5, 6, 7, 8, 9, 10, 11, 12, 13, 14, 15, 16, 17, 18, 19, 20, 21, 22, 23, 24, 25, 26, 27, 28, 29, 30, 31, 32, 33, 34, 35, 36, 37, 38, 39, 40, 41, 42, 43, 44, 45, 46, 47, 48, 49, 50]\n"
     ]
    }
   ],
   "source": [
    "# Create a list of integers (0-50) by unpacking range\n",
    "nums_unpack = [*range(0,51)]\n",
    "print(nums_unpack)"
   ]
  },
  {
   "cell_type": "code",
   "execution_count": 3,
   "id": "bce5b594-fae1-432c-967d-bbeb6d9b5904",
   "metadata": {},
   "outputs": [
    {
     "name": "stdout",
     "output_type": "stream",
     "text": [
      "29.8 ns ± 0.181 ns per loop (mean ± std. dev. of 7 runs, 10,000,000 loops each)\n",
      "30.8 ns ± 2.77 ns per loop (mean ± std. dev. of 7 runs, 10,000,000 loops each)\n"
     ]
    }
   ],
   "source": [
    "nums_list_comp = [num for num in range(0,51)]\n",
    "%timeit nums_list_comp\n",
    "\n",
    "nums_unpack = [*range(0,51)]\n",
    "%timeit nums_unpack"
   ]
  },
  {
   "cell_type": "markdown",
   "id": "723d90dd-f835-417d-86aa-dd5a376bf48d",
   "metadata": {},
   "source": [
    "### Using %timeit: specifying number of runs and loops\n",
    "A list of 480 superheroes has been loaded into your session (called heroes). You'd like to analyze the runtime for converting this heroes list into a set. Instead of relying on the default settings for %timeit, you'd like to only use 5 runs and 25 loops per each run.\n",
    "\n",
    "What is the correct syntax when using %timeit and only using 5 runs with 25 loops per each run?"
   ]
  },
  {
   "cell_type": "code",
   "execution_count": null,
   "id": "e125e249-f7a2-4e3f-b9f9-caa7f30f9bab",
   "metadata": {},
   "outputs": [],
   "source": [
    "%timeit -r5 -n25 set(heroes)"
   ]
  },
  {
   "cell_type": "markdown",
   "id": "e0d17e8c-4197-4103-8386-0e1e6a8b21a3",
   "metadata": {},
   "source": [
    "### Using %timeit: formal name or literal syntax\n",
    "Python allows you to create data structures using either a formal name or a literal syntax. In this exercise, you'll explore how using a literal syntax for creating a data structure can speed up runtimes."
   ]
  },
  {
   "cell_type": "code",
   "execution_count": null,
   "id": "14c74e80-09b4-44b9-b56d-1d26259dd8a6",
   "metadata": {},
   "outputs": [],
   "source": [
    "data strc\tformal name\tliteral syntax\n",
    "list\t    list()\t    []\n",
    "dictionary\tdict()\t    {}\n",
    "tuple\t    tuple()\t    ()"
   ]
  },
  {
   "cell_type": "code",
   "execution_count": 4,
   "id": "f1e5db35-2e21-4559-97a0-15c4e1c2a0eb",
   "metadata": {},
   "outputs": [
    {
     "name": "stdout",
     "output_type": "stream",
     "text": [
      "[]\n",
      "[]\n",
      "<class 'list'>\n",
      "<class 'list'>\n"
     ]
    }
   ],
   "source": [
    "# Create a list using the formal name\n",
    "formal_list = list()\n",
    "print(formal_list)\n",
    "\n",
    "# Create a list using the literal syntax\n",
    "literal_list = ([])\n",
    "print(literal_list)\n",
    "\n",
    "# Print out the type of formal_list\n",
    "print(type(formal_list))\n",
    "\n",
    "# Print out the type of literal_list\n",
    "print(type(literal_list))"
   ]
  },
  {
   "cell_type": "code",
   "execution_count": 5,
   "id": "c5233568-ad0f-4c8e-af5a-9e2008d8cb0e",
   "metadata": {},
   "outputs": [
    {
     "name": "stdout",
     "output_type": "stream",
     "text": [
      "109 ns ± 3.5 ns per loop (mean ± std. dev. of 7 runs, 10,000,000 loops each)\n",
      "33.3 ns ± 0.218 ns per loop (mean ± std. dev. of 7 runs, 10,000,000 loops each)\n"
     ]
    }
   ],
   "source": [
    "%timeit list()\n",
    "%timeit []"
   ]
  },
  {
   "cell_type": "markdown",
   "id": "388e9722-fd76-45d0-8e2b-82ca5ea5abed",
   "metadata": {},
   "source": [
    "## Code profiling for runtime"
   ]
  },
  {
   "cell_type": "code",
   "execution_count": 6,
   "id": "b9972048-8c35-47a2-87c9-e1dadff7f548",
   "metadata": {},
   "outputs": [],
   "source": [
    "%load_ext line_profiler"
   ]
  },
  {
   "cell_type": "code",
   "execution_count": 8,
   "id": "abfd6ae6-84b9-416f-abd6-70c9ac93d3bc",
   "metadata": {},
   "outputs": [
    {
     "name": "stderr",
     "output_type": "stream",
     "text": [
      "UsageError: option -f requires argument ( allowed: \"rsf:m:D:T:u:\" )\n"
     ]
    }
   ],
   "source": [
    "%lprun -f"
   ]
  },
  {
   "cell_type": "code",
   "execution_count": null,
   "id": "bbb985ba-1358-404d-9ba0-89a2f39b9f67",
   "metadata": {},
   "outputs": [],
   "source": [
    "def convert_units(heroes, heights, weights):\n",
    "\n",
    "    new_hts = [ht * 0.39370  for ht in heights]\n",
    "    new_wts = [wt * 2.20462  for wt in weights]\n",
    "\n",
    "    hero_data = {}\n",
    "\n",
    "    for i,hero in enumerate(heroes):\n",
    "        hero_data[hero] = (new_hts[i], new_wts[i])\n",
    "\n",
    "    return hero_data"
   ]
  },
  {
   "cell_type": "code",
   "execution_count": null,
   "id": "5655c888-d3aa-419f-89f0-d39515072d89",
   "metadata": {},
   "outputs": [],
   "source": [
    "hero_data = convert_units(heroes, hts, wts)\n",
    "%lprun -f convert_units hero_data"
   ]
  },
  {
   "cell_type": "markdown",
   "id": "688307c5-cc6b-4e91-b987-a8b7f222db54",
   "metadata": {},
   "source": [
    "### Using %lprun: fix the bottleneck\n",
    "In the previous exercise, you profiled the convert_units() function and saw that the new_hts list comprehension could be a potential bottleneck. Did you notice that the new_wts list comprehension also accounted for a similar percentage of the runtime? This is an indication that you may want to create the new_hts and new_wts objects using a different technique.\n",
    "\n",
    "Since the height and weight of each hero is stored in a numpy array, you can use array broadcasting rather than list comprehension to convert the heights and weights. This has been implemented in the below function:"
   ]
  },
  {
   "cell_type": "code",
   "execution_count": null,
   "id": "24045323-2c18-4260-943e-028ff458609d",
   "metadata": {},
   "outputs": [],
   "source": [
    "def convert_units_broadcast(heroes, heights, weights):\n",
    "\n",
    "    # Array broadcasting instead of list comprehension\n",
    "    new_hts = heights * 0.39370\n",
    "    new_wts = weights * 2.20462\n",
    "\n",
    "    hero_data = {}\n",
    "\n",
    "    for i,hero in enumerate(heroes):\n",
    "        hero_data[hero] = (new_hts[i], new_wts[i])\n",
    "\n",
    "    return hero_data"
   ]
  },
  {
   "cell_type": "code",
   "execution_count": null,
   "id": "f2236edf-dcf4-4362-8d75-df1d0687d079",
   "metadata": {},
   "outputs": [],
   "source": [
    "hero_data = convert_units_broadcast(heroes, hts, wts)\n",
    "%lprun -f convert_units hero_data"
   ]
  },
  {
   "cell_type": "markdown",
   "id": "6c26a45b-525e-496e-8c18-63665e99b7da",
   "metadata": {},
   "source": [
    "## Code profiling for memory usage"
   ]
  },
  {
   "cell_type": "code",
   "execution_count": null,
   "id": "f0ea0e32-094d-4752-84bb-2929ba7ddac3",
   "metadata": {},
   "outputs": [],
   "source": [
    "%load_ext memory_profiler \n",
    "%mprun -f convert_units convert_units(heroes, hts, wts)"
   ]
  },
  {
   "cell_type": "code",
   "execution_count": null,
   "id": "d06dd658-d13d-47f6-aa3b-198516244f89",
   "metadata": {},
   "outputs": [],
   "source": [
    "from hero_funcs import convert_units"
   ]
  },
  {
   "cell_type": "markdown",
   "id": "0a1d8251-6285-4d7e-8fe2-b89e31ee56ce",
   "metadata": {},
   "source": [
    "### Using %mprun: Hero BMI\n",
    "You'd like to calculate the body mass index (BMI) for a selected sample of heroes. BMI can be calculated using the below formula:\n",
    "\n",
    "BMI = mass(kg) / height(m)^2\n",
    "\n",
    "A random sample of 25,000 superheroes has been loaded into your session as an array called sample_indices. This sample is a list of indices that corresponds to each superhero's index selected from the heroes list.\n",
    "\n",
    "A function named calc_bmi_lists has also been created and saved to a file titled bmi_lists.py. For convenience, it is displayed below:\n",
    "\n",
    "Notice that this function performs all necessary calculations using list comprehension (hence the name calc_bmi_lists()). Dig deeper into this function and analyze the memory footprint for performing your calculations using lists:\n",
    "\n",
    "- Load the memory_profiler package into your IPython session.\n",
    "- Import calc_bmi_lists from bmi_lists.\n",
    "- Once you've completed the above steps, use %mprun to profile the calc_bmi_lists() function acting on your superheroes data. The hts array and wts array have already been loaded into your session.\\\n",
    "After you've finished coding, answer the following question:\n",
    "\n",
    "How much memory do the list comprehension lines of code consume in the calc_bmi_lists() function? (i.e., what is the total sum of the Increment column for these four lines of code?)"
   ]
  },
  {
   "cell_type": "code",
   "execution_count": 12,
   "id": "f9ec8add-6198-40dd-9577-99063baa5e9e",
   "metadata": {},
   "outputs": [],
   "source": [
    "def calc_bmi_lists(sample_indices, hts, wts):\n",
    "\n",
    "    # Gather sample heights and weights as lists\n",
    "    s_hts = [hts[i] for i in sample_indices]\n",
    "    s_wts = [wts[i] for i in sample_indices]\n",
    "\n",
    "    # Convert heights from cm to m and square with list comprehension\n",
    "    s_hts_m_sqr = [(ht / 100) ** 2 for ht in s_hts]\n",
    "\n",
    "    # Calculate BMIs as a list with list comprehension\n",
    "    bmis = [s_wts[i] / s_hts_m_sqr[i] for i in range(len(sample_indices))]\n",
    "\n",
    "    return bmis"
   ]
  },
  {
   "cell_type": "markdown",
   "id": "9d2c3da2-4362-433b-bdad-62d5b62dd919",
   "metadata": {},
   "source": [
    "### Using %mprun: Hero BMI 2.0\n",
    "Let's see if using a different approach to calculate the BMIs can save some memory. If you remember, each hero's height and weight is stored in a numpy array. That means you can use NumPy's handy array indexing capabilities and broadcasting to perform your calculations. A function named calc_bmi_arrays has been created and saved to a file titled bmi_arrays.py. For convenience, it is displayed below:\n",
    "\n",
    "Notice that this function performs all necessary calculations using arrays.\n",
    "\n",
    "Let's see if this updated array approach decreases your memory footprint:\n",
    "\n",
    "- Load the memory_profiler package into your IPython session.\n",
    "- Import calc_bmi_arrays from bmi_arrays.\n",
    "- Once you've completed the above steps, use %mprun to profile the calc_bmi_arrays() function acting on your superheroes data. The sample_indices array, hts array, and wts array have been loaded into your session.\\\n",
    "After you've finished coding, answer the following question:\n",
    "\n",
    "How much memory do the array indexing and broadcasting lines of code consume in the calc_bmi_array() function? (i.e., what is the total sum of the Increment column for these four lines of code?)"
   ]
  },
  {
   "cell_type": "code",
   "execution_count": 11,
   "id": "70463eef-30ce-41b0-a9e3-b81c28df6903",
   "metadata": {},
   "outputs": [],
   "source": [
    "def calc_bmi_arrays(sample_indices, hts, wts):\n",
    "\n",
    "    # Gather sample heights and weights as arrays\n",
    "    s_hts = hts[sample_indices]\n",
    "    s_wts = wts[sample_indices]\n",
    "\n",
    "    # Convert heights from cm to m and square with broadcasting\n",
    "    s_hts_m_sqr = (s_hts / 100) ** 2\n",
    "\n",
    "    # Calculate BMIs as an array using broadcasting\n",
    "    bmis = s_wts / s_hts_m_sqr\n",
    "\n",
    "    return bmis"
   ]
  },
  {
   "cell_type": "markdown",
   "id": "bb795688-b339-4e83-9f47-1a4225fc511d",
   "metadata": {},
   "source": [
    "### Bringing it all together: Star Wars profiling\n",
    "A list of 480 superheroes has been loaded into your session (called heroes) as well as a list of each hero's corresponding publisher (called publishers).\n",
    "\n",
    "You'd like to filter the heroes list based on a hero's specific publisher, but are unsure which of the below functions is more efficient."
   ]
  },
  {
   "cell_type": "code",
   "execution_count": 10,
   "id": "6ed4d003-199b-476a-a353-dcc963b6a7a4",
   "metadata": {},
   "outputs": [],
   "source": [
    "def get_publisher_heroes(heroes, publishers, desired_publisher):\n",
    "\n",
    "    desired_heroes = []\n",
    "\n",
    "    for i,pub in enumerate(publishers):\n",
    "        if pub == desired_publisher:\n",
    "            desired_heroes.append(heroes[i])\n",
    "\n",
    "    return desired_heroes\n",
    "def get_publisher_heroes_np(heroes, publishers, desired_publisher):\n",
    "\n",
    "    heroes_np = np.array(heroes)\n",
    "    pubs_np = np.array(publishers)\n",
    "\n",
    "    desired_heroes = heroes_np[pubs_np == desired_publisher]\n",
    "\n",
    "    return desired_heroes"
   ]
  },
  {
   "cell_type": "code",
   "execution_count": null,
   "id": "6a969d54-7e9b-40fe-a32d-95cb25291c5e",
   "metadata": {},
   "outputs": [],
   "source": [
    "# Use get_publisher_heroes() to gather Star Wars heroes\n",
    "star_wars_heroes = get_publisher_heroes(heroes, publishers, 'George Lucas')\n",
    "\n",
    "print(star_wars_heroes)\n",
    "print(type(star_wars_heroes))\n",
    "\n",
    "# Use get_publisher_heroes_np() to gather Star Wars heroes\n",
    "star_wars_heroes_np = get_publisher_heroes_np(heroes, publishers, 'George Lucas')\n",
    "\n",
    "print(star_wars_heroes_np)\n",
    "print(type(star_wars_heroes_np))"
   ]
  },
  {
   "cell_type": "code",
   "execution_count": null,
   "id": "89f3044a-607d-4d6c-8115-48caeab211a0",
   "metadata": {},
   "outputs": [],
   "source": []
  }
 ],
 "metadata": {
  "kernelspec": {
   "display_name": "Python 3 (ipykernel)",
   "language": "python",
   "name": "python3"
  },
  "language_info": {
   "codemirror_mode": {
    "name": "ipython",
    "version": 3
   },
   "file_extension": ".py",
   "mimetype": "text/x-python",
   "name": "python",
   "nbconvert_exporter": "python",
   "pygments_lexer": "ipython3",
   "version": "3.9.13"
  }
 },
 "nbformat": 4,
 "nbformat_minor": 5
}
