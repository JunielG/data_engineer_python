{
 "cells": [
  {
   "cell_type": "markdown",
   "id": "5afe9dd7-5082-42b7-b6a3-77836af1a3a1",
   "metadata": {},
   "source": [
    "## Introduction to version control"
   ]
  },
  {
   "cell_type": "markdown",
   "id": "0c026dd8-c51c-4e17-bbdc-7481c5c87378",
   "metadata": {},
   "source": [
    "### Navigating the shell\n",
    "Git commands are typically performed using the shell.\n",
    "\n",
    "Understanding some common shell commands allows you to perform more of your Git workflow in the shell without spending time navigating different programs.\n",
    "\n",
    "In this exercise, you will practice some of these commands."
   ]
  },
  {
   "cell_type": "code",
   "execution_count": 2,
   "id": "ea02176d-8087-425e-ab5a-8c1487155631",
   "metadata": {},
   "outputs": [
    {
     "data": {
      "text/plain": [
       "'/Users/junielg/DataCamp/1 - Carrer Tracks/3 Carrer Tracks Data Scientist/1 - Data Science In Python/8 - Introduction to Git'"
      ]
     },
     "execution_count": 2,
     "metadata": {},
     "output_type": "execute_result"
    }
   ],
   "source": [
    "%pwd"
   ]
  },
  {
   "cell_type": "code",
   "execution_count": 4,
   "id": "986a545f-8206-4fc8-9c62-5e153f0f33dd",
   "metadata": {},
   "outputs": [
    {
     "name": "stdout",
     "output_type": "stream",
     "text": [
      "[Errno 2] No such file or directory: 'Data'\n",
      "/Users/junielg/DataCamp/1 - Carrer Tracks/3 Carrer Tracks Data Scientist/1 - Data Science In Python/8 - Introduction to Git\n"
     ]
    },
    {
     "name": "stderr",
     "output_type": "stream",
     "text": [
      "/Library/Frameworks/Python.framework/Versions/3.13/lib/python3.13/site-packages/IPython/core/magics/osm.py:393: UserWarning: This is now an optional IPython functionality, using bookmarks requires you to install the `pickleshare` library.\n",
      "  bkms = self.shell.db.get('bookmarks', {})\n"
     ]
    }
   ],
   "source": [
    "%cd Data"
   ]
  },
  {
   "cell_type": "code",
   "execution_count": 5,
   "id": "bdc0a6cb-1051-48c8-b069-fd12b6eb4e9b",
   "metadata": {},
   "outputs": [
    {
     "name": "stdout",
     "output_type": "stream",
     "text": [
      "[Errno 2] No such file or directory: 'ls'\n",
      "/Users/junielg/DataCamp/1 - Carrer Tracks/3 Carrer Tracks Data Scientist/1 - Data Science In Python/8 - Introduction to Git\n"
     ]
    },
    {
     "name": "stderr",
     "output_type": "stream",
     "text": [
      "/Library/Frameworks/Python.framework/Versions/3.13/lib/python3.13/site-packages/IPython/core/magics/osm.py:393: UserWarning: This is now an optional IPython functionality, using bookmarks requires you to install the `pickleshare` library.\n",
      "  bkms = self.shell.db.get('bookmarks', {})\n"
     ]
    }
   ],
   "source": [
    "%cd ls"
   ]
  },
  {
   "cell_type": "markdown",
   "id": "63b8a994-da4a-4644-8832-74239efb6e68",
   "metadata": {},
   "source": [
    "### Checking the version of Git\n",
    "Just like you need to know what version of a file you are working with, it's important to understand which version of Git is installed on your computer so you're aware of what functionality it offers."
   ]
  },
  {
   "cell_type": "code",
   "execution_count": null,
   "id": "aae5c9e7-dd70-475c-80f8-ef2a68e49c19",
   "metadata": {},
   "outputs": [],
   "source": [
    "git --version"
   ]
  },
  {
   "cell_type": "markdown",
   "id": "8670d315-8ecf-41db-b541-fc479d4d36df",
   "metadata": {},
   "source": [
    "## Creating repos\n",
    "### Converting an existing project\n",
    "Imagine you've been working on the mental health survey project but are only now learning about the benefits of Git!\n",
    "\n",
    "You want to convert your project into a Git repo so you can track your files moving forward.\n",
    "\n",
    "You're inside the mh_survey directory."
   ]
  },
  {
   "cell_type": "code",
   "execution_count": null,
   "id": "e29bd71a-5ee2-443c-a3e5-271dcbb71352",
   "metadata": {},
   "outputs": [],
   "source": [
    "git init"
   ]
  },
  {
   "cell_type": "markdown",
   "id": "b156032e-58b6-4b61-89ac-40c46f2d25b9",
   "metadata": {},
   "source": [
    "### Creating a new repo\n",
    "You've secured funding for an additional project that examines the relationship between stress and performance in the workplace.\n",
    "\n",
    "You plan to use Git to manage version control with your documents and data, so you'll need to create a new repo to track everything."
   ]
  },
  {
   "cell_type": "code",
   "execution_count": null,
   "id": "78b8147e-a765-40f7-8713-51d29ca75401",
   "metadata": {},
   "outputs": [],
   "source": [
    "# Create repository\n",
    "git init stress-performance"
   ]
  },
  {
   "cell_type": "code",
   "execution_count": null,
   "id": "b8da7b90-0990-492e-89bd-f769d3c05f09",
   "metadata": {},
   "outputs": [],
   "source": [
    "# Change directory\n",
    "cd stress-performance"
   ]
  },
  {
   "cell_type": "code",
   "execution_count": null,
   "id": "84940a99-126f-4aed-aca1-a8e9c82cd51b",
   "metadata": {},
   "outputs": [],
   "source": [
    "# Check git status \n",
    "git status"
   ]
  },
  {
   "cell_type": "markdown",
   "id": "9aea10f0-ff78-44d3-93cc-582679ef2701",
   "metadata": {},
   "source": [
    "## Staging and committing files\n",
    "### Adding a file to the staging area\n",
    "The staging area is used by Git to track changes to files within your current directory and sub-directories.\n",
    "\n",
    "You've created a report.md file for your mental health project. In this exercise, you'll add this file to the staging area."
   ]
  },
  {
   "cell_type": "code",
   "execution_count": null,
   "id": "663ea263-4a91-4e72-ac1b-c1fde09fad6a",
   "metadata": {},
   "outputs": [],
   "source": [
    "git add report.md"
   ]
  },
  {
   "cell_type": "markdown",
   "id": "ef374adc-5ab8-4a53-8125-953465c4720f",
   "metadata": {},
   "source": [
    "### Saving files\n",
    "You've made further edits to report.md as well as the mental_health_survey.csv, which is in the data subdirectory. Time to save these files!"
   ]
  },
  {
   "cell_type": "code",
   "execution_count": null,
   "id": "2ad677c3-4a6e-423d-b004-417f43920100",
   "metadata": {},
   "outputs": [],
   "source": [
    "# Use a single command to add the two modified files to the staging area.\n",
    "git add."
   ]
  },
  {
   "cell_type": "code",
   "execution_count": null,
   "id": "5ab1f2e5-93ac-491e-8be6-54a59d2d16ba",
   "metadata": {},
   "outputs": [],
   "source": [
    "# Check the state of files in the repo. \n",
    "git status"
   ]
  },
  {
   "cell_type": "code",
   "execution_count": null,
   "id": "6580baf8-9cee-4d19-9e0c-e8907c0e32e1",
   "metadata": {},
   "outputs": [],
   "source": [
    "# Make a commit, including an appropriate flag so you can provide a log message \n",
    "# \"Add 2 participants and update to-do list.\" as part of the command.\n",
    "git commit -m \"Add 2 participants and update to-do list\""
   ]
  },
  {
   "cell_type": "code",
   "execution_count": null,
   "id": "d1ae0b80-82d2-453a-8ef2-b1c6f42653dd",
   "metadata": {},
   "outputs": [],
   "source": []
  }
 ],
 "metadata": {
  "kernelspec": {
   "display_name": "Python 3 (ipykernel)",
   "language": "python",
   "name": "python3"
  },
  "language_info": {
   "codemirror_mode": {
    "name": "ipython",
    "version": 3
   },
   "file_extension": ".py",
   "mimetype": "text/x-python",
   "name": "python",
   "nbconvert_exporter": "python",
   "pygments_lexer": "ipython3",
   "version": "3.9.13"
  }
 },
 "nbformat": 4,
 "nbformat_minor": 5
}
