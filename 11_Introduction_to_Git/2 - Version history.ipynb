{
 "cells": [
  {
   "cell_type": "markdown",
   "id": "8ee8fa5f-83a3-4622-84ba-c98f0dbf3f60",
   "metadata": {},
   "source": [
    "## Viewing the version history\n",
    "Recall that every commit has a unique identifier called a hash.\n",
    "\n",
    "Git has a command you can use to display all commits made to a repo, along with the hash, author, and time of the commit.\n",
    "\n",
    "Using the console, run a command to find the hash of the most recent commit."
   ]
  },
  {
   "cell_type": "code",
   "execution_count": null,
   "id": "593e7879-2894-4ee6-8766-679347108b3a",
   "metadata": {},
   "outputs": [],
   "source": [
    "# Option 1\n",
    "git log\n",
    "# Option 2 \n",
    "git rev-parse HEAD\n",
    "# Option 3\n",
    "git rev-parse --short HEAD"
   ]
  },
  {
   "cell_type": "markdown",
   "id": "f4e090f4-f908-4aeb-b06f-9da7e2b90a50",
   "metadata": {},
   "source": [
    "### Finding the log message\n",
    "Log messages are a great way to summarize the changes made during a commit.\n",
    "\n",
    "What message was included for the commit hash 36b761e467df557b49c28e1abf2f2aa548217ff3?"
   ]
  },
  {
   "cell_type": "code",
   "execution_count": null,
   "id": "0b0ceef7-baef-46f4-b609-d1b95b8f230a",
   "metadata": {},
   "outputs": [],
   "source": [
    "git log"
   ]
  },
  {
   "cell_type": "markdown",
   "id": "477037a0-77a1-4778-aef2-074f6b883fd9",
   "metadata": {},
   "source": [
    "## Version history tips and tricks"
   ]
  },
  {
   "cell_type": "markdown",
   "id": "15218cdd-3b3b-4b9f-b933-ba75cc80f8b1",
   "metadata": {},
   "source": [
    "### Limiting the view of a repo's history\n",
    "Generally, suppose you need to look at a repo's history. In that case, you are seeking specific information, such as how an individual file has changed over time, who made the last edit to a file, or what changes have been made in a given period.\n",
    "\n",
    "Customizing how you view your repo's history will make it easy to find what you need as quickly as possible!"
   ]
  },
  {
   "cell_type": "code",
   "execution_count": null,
   "id": "4220ed03-0b9d-4f13-ae2c-fccb0502f3ca",
   "metadata": {},
   "outputs": [],
   "source": [
    "git log report.md\n",
    "cd data\n",
    "git log -2 mental_health_survey.csv"
   ]
  },
  {
   "cell_type": "code",
   "execution_count": null,
   "id": "2457510e-57b2-4754-9ebb-64b096cb9eb1",
   "metadata": {},
   "outputs": [],
   "source": [
    "git log --since='Month Day Year'\n",
    "git log --since='Apr 2 2024\n",
    "git log --since='Apr 2 2024' --until='Apr 11 2024'"
   ]
  },
  {
   "cell_type": "code",
   "execution_count": null,
   "id": "a36eee73-6b8c-4158-a754-5cb60be22390",
   "metadata": {},
   "outputs": [],
   "source": [
    "# Option 1   \n",
    "git log -2\n",
    "# Option 2     \n",
    "git log -2 --oneline"
   ]
  },
  {
   "cell_type": "code",
   "execution_count": null,
   "id": "add9718b-2e1f-4dcf-8fe0-2be6c27a7f99",
   "metadata": {},
   "outputs": [],
   "source": [
    "git show c27fa856"
   ]
  },
  {
   "cell_type": "markdown",
   "id": "a69dfd30-b6d8-45c6-8aee-150f42a539cd",
   "metadata": {},
   "source": [
    "### Viewing a file's history\n",
    "You've practiced limiting the view of a repo's history based on a specific number of commits. Now you'll extend this to also filter by filename."
   ]
  },
  {
   "cell_type": "code",
   "execution_count": null,
   "id": "3a6e3bb5-d593-4939-bdfd-611aa8b5fd30",
   "metadata": {},
   "outputs": [],
   "source": [
    "# Option 1\n",
    "git log -2 report.md\n",
    "# Option 2\n",
    "git log -2 --follow -- report.md"
   ]
  },
  {
   "cell_type": "markdown",
   "id": "15715228-9df1-4e01-a1a7-3bd39a88353c",
   "metadata": {},
   "source": [
    "## Comparing versions"
   ]
  },
  {
   "cell_type": "markdown",
   "id": "80f90949-8cd4-4a17-91e5-e31020704b21",
   "metadata": {},
   "source": [
    "#### Comparing staged files\n",
    "You've added two new rows of participant data to the mental_health_survey.csv file. You've now placed the updated file in the staging area.\n",
    "\n",
    "Before you commit the file, you want to check the difference between the recently modified file and the latest committed version.\n",
    "\n",
    "You are based in the data directory, where mental_health_survey.csv is located."
   ]
  },
  {
   "cell_type": "code",
   "execution_count": null,
   "id": "8e4415e4-9e28-43c0-88f4-3cc78d5e5ac9",
   "metadata": {},
   "outputs": [],
   "source": [
    "git diff --staged mental_health_survey.csv"
   ]
  },
  {
   "cell_type": "code",
   "execution_count": null,
   "id": "decc6b68-3c8b-4975-a85f-8b34f6f96a13",
   "metadata": {},
   "outputs": [],
   "source": [
    "git diff report.md\n",
    "git add report.md\n",
    "git diff --staged report.md"
   ]
  },
  {
   "cell_type": "code",
   "execution_count": null,
   "id": "c8872b90-a70c-4948-b3a0-3ebab93024ff",
   "metadata": {},
   "outputs": [],
   "source": [
    "git diff 35f4b4d 186398f\n",
    "git diff HEAD~1 HEAD"
   ]
  },
  {
   "cell_type": "code",
   "execution_count": null,
   "id": "a0af0500-176c-4186-8a98-3dee55f25d6b",
   "metadata": {},
   "outputs": [],
   "source": [
    "Command            Function \n",
    "git diff           Show changes between all unstaged files and the latest commit\n",
    "git diff report.md Show changes between an unstaged file and the latest commit\n",
    "git diff --staged  Show changes between all staged files and the latest commit\n",
    "git diff --staged report.md  Show changes between a staged file and the latest commit\n",
    "git diff 35f4b4d 186398f Show changes between two commits using hashes\n",
    "git diff HEAD~1 HEAD~2 Show changes between two commits using HEAD instead of commit hashes\n"
   ]
  },
  {
   "cell_type": "markdown",
   "id": "2c881045-66d0-4231-b605-915ab0b2de4c",
   "metadata": {},
   "source": [
    "#### Comparing to the second most recent commit\n",
    "Being able to look at what happened in a specific commit is useful to check how files have changed over time.\n",
    "\n",
    "Find out what changes occurred between the most recent and the second most recent commits and select the appropriate answer."
   ]
  },
  {
   "cell_type": "code",
   "execution_count": null,
   "id": "83380b7a-c1f6-4323-97ed-4dcc157fb7cf",
   "metadata": {},
   "outputs": [],
   "source": [
    "git diff HEAD~2 HEAD~1"
   ]
  },
  {
   "cell_type": "markdown",
   "id": "4fdbcfff-9b67-4d1f-9a8b-412f50440b76",
   "metadata": {},
   "source": [
    "## Restoring and reverting files"
   ]
  },
  {
   "cell_type": "code",
   "execution_count": null,
   "id": "649006da-3de5-4ead-b719-11ce63f7bd29",
   "metadata": {},
   "outputs": [],
   "source": [
    "git revert HEAD\n",
    "git revert --no-edit HEAD\n",
    "git revert -n HEAD\n",
    "git checkout HEAD~1 -- report.md\n",
    "git commit -m \"Checkout previous version of report.md\"\n",
    "git restore --staged summary_statistics.csv\n",
    "git add summary_statistics.csv\n",
    "git commit -m \"Adding age summary statistics\"\n",
    "git restore --staged"
   ]
  },
  {
   "cell_type": "code",
   "execution_count": null,
   "id": "f4643742-c14c-4c45-81ba-52839f6af7e0",
   "metadata": {},
   "outputs": [],
   "source": [
    "Command           Result\n",
    "git revert HEAD   Revert all files from a given commit\n",
    "git revert HEAD --no-edit  Revert without opening a text editor\n",
    "git revert HEAD -n  Revert without making a new commit\n",
    "git checkout HEAD~1 -- report.md Revert a single file from the previous commit\n",
    "git restore --staged report.md Remove a single file from the staging area\n",
    "git restore --staged Remove all files from the staging area\n"
   ]
  },
  {
   "cell_type": "markdown",
   "id": "be67bb7c-252f-466d-8fdd-8f6eb8e8ac95",
   "metadata": {},
   "source": [
    "#### Unstaging a file\n",
    "You've updated report.md and mental_health_survey.csv, adding both files to the staging area.\n",
    "\n",
    "However, you've realized that there's an incorrect data entry in the CSV file. You want to commit the report, but need to move the data out of the staging area so you can fix the error before saving that file."
   ]
  },
  {
   "cell_type": "code",
   "execution_count": null,
   "id": "7762dbf5-e924-45ca-b2e3-b845db464f8b",
   "metadata": {},
   "outputs": [],
   "source": [
    "cd data"
   ]
  },
  {
   "cell_type": "code",
   "execution_count": null,
   "id": "5275e2c8-190e-413a-9a05-a1919da69c1f",
   "metadata": {},
   "outputs": [],
   "source": [
    "git restore  --staged mental_health_survey.csv"
   ]
  },
  {
   "cell_type": "code",
   "execution_count": null,
   "id": "0ee9cb03-e526-4e25-92b3-cf592d375edf",
   "metadata": {},
   "outputs": [],
   "source": [
    "git commit -m \"Add task to fix plot in report\""
   ]
  },
  {
   "cell_type": "markdown",
   "id": "a1b493f2-3c32-40dd-a31a-b86f7a0c0e26",
   "metadata": {},
   "source": [
    "## Reverting a commit\n",
    "You have added one more row of participant data to mental_health_survey.csv. However, you've now realized that you put the data in the wrong order.\n",
    "\n",
    "In this exercise, you will revert the state of your repo to that of the previous commit."
   ]
  },
  {
   "cell_type": "code",
   "execution_count": null,
   "id": "8395b7fb-1e67-434e-a95c-0a5e9e2a4251",
   "metadata": {},
   "outputs": [],
   "source": [
    "git revert HEAD --no-edit 'mental_health_survey.csv'"
   ]
  },
  {
   "cell_type": "code",
   "execution_count": null,
   "id": "d7f4fc2e-7332-4dad-9828-3efed5ef281a",
   "metadata": {},
   "outputs": [],
   "source": []
  }
 ],
 "metadata": {
  "kernelspec": {
   "display_name": "Python 3 (ipykernel)",
   "language": "python",
   "name": "python3"
  },
  "language_info": {
   "codemirror_mode": {
    "name": "ipython",
    "version": 3
   },
   "file_extension": ".py",
   "mimetype": "text/x-python",
   "name": "python",
   "nbconvert_exporter": "python",
   "pygments_lexer": "ipython3",
   "version": "3.9.13"
  }
 },
 "nbformat": 4,
 "nbformat_minor": 5
}
