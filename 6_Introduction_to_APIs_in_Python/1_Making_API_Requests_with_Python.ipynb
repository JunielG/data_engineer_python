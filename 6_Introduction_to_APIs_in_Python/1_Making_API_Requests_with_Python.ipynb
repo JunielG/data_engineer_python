{
 "cells": [
  {
   "cell_type": "markdown",
   "id": "af76d25a-0570-4981-948e-3039b0c7852a",
   "metadata": {},
   "source": [
    "## Introduction to APIs"
   ]
  },
  {
   "cell_type": "code",
   "execution_count": null,
   "id": "1a6667aa-4925-4340-be5e-c8b3d2d56bcc",
   "metadata": {},
   "outputs": [],
   "source": [
    "Types of Web APIs \n",
    "SOAP \n",
    "Focus on strict and formal API design\n",
    "Enterprise applications \n",
    "\n",
    "REST \n",
    "Focus on simplicity & scalability\n",
    "Most common API architecture \n",
    "\n",
    "GraphQL \n",
    "Focus on flexibility\n",
    "Optimized for performance"
   ]
  },
  {
   "cell_type": "code",
   "execution_count": null,
   "id": "47202f28-d7f1-4675-ab0e-d631a32bc492",
   "metadata": {},
   "outputs": [],
   "source": [
    "from urllib.request import url \n",
    "openapi = \"http://api.music-catalog.com/\" \n",
    "\n",
    "with urlopen(api) as response: \n",
    "    data = response.read()  \n",
    "    string = data.decode()\n",
    "    print(string)"
   ]
  },
  {
   "cell_type": "code",
   "execution_count": null,
   "id": "3c829163-387c-4401-ad73-b9e799d447d0",
   "metadata": {},
   "outputs": [],
   "source": [
    "import requests \n",
    "api = \"http://api.music-catalog.com/\"\n",
    "\n",
    "response = requests.get(api)\n",
    "print(response.text)"
   ]
  },
  {
   "cell_type": "markdown",
   "id": "5c70e8c0-eb1c-4941-bc69-817bb0535f8a",
   "metadata": {},
   "source": [
    "### API requests with urllib\n",
    "For this course, you will be using the API for a Music Catalog application. This API has multiple features. You will start with the Lyrics API, which allows you to retrieve a quote from the Lyric of the day.\n",
    "\n",
    "Before you can make your first API request, you will need to know where the API can be accessed. This location is also referred to as the URL, short for Uniform Resource Locator. The URL will tell Python where to send the API request to. The URL for the Lyrics API is as follows: http://localhost:3000/lyrics/.\n",
    "\n",
    "Let's make a first request to the Lyrics API using the built-in urllib Python module."
   ]
  },
  {
   "cell_type": "code",
   "execution_count": null,
   "id": "136ea2f4-b174-4d41-acec-bddc074bfe02",
   "metadata": {},
   "outputs": [],
   "source": [
    "from urllib.request import urlopen\n",
    "\n",
    "with urlopen('http://localhost:3000/lyrics/') as response:\n",
    "  \n",
    "  # Use the correct function to read the response data from the response object\n",
    "  data = response.read()\n",
    "  encoding = response.headers.get_content_charset()\n",
    "\n",
    "  # Decode the response data so you can print it as a string later\n",
    "  string = data.decode(encoding)\n",
    "  \n",
    "  print(string)"
   ]
  },
  {
   "cell_type": "markdown",
   "id": "22598740-1da0-4a34-90af-ce644321c8c8",
   "metadata": {},
   "source": [
    "### Using the requests package\n",
    "Using urllib to integrate APIs can result in verbose and complex code as you need to take care of a lot of additional things like encoding and decoding responses.\n",
    "\n",
    "As an alternative to urllib, the requests Python package offers a simpler way to integrate APIs. A lot of functionality is available out of the box with requests, which makes your code a lot easier to write and read. Let's try the same exercise again but now with the requests package.\n",
    "\n",
    "Remember, as with the previous exercise, the URL for the Lyrics API is http://localhost:3000/lyrics."
   ]
  },
  {
   "cell_type": "code",
   "execution_count": null,
   "id": "d9b643a9-8b94-4a27-9b5f-6274693e19ef",
   "metadata": {},
   "outputs": [],
   "source": [
    "# Import the requests package\n",
    "import requests \n",
    "\n",
    "# Pass the API URL to the get function\n",
    "response = requests.get('http://localhost:3000/lyrics')\n",
    "\n",
    "# Print out the text attribute of the response object\n",
    "print(response.text)"
   ]
  },
  {
   "cell_type": "markdown",
   "id": "808dbff9-ca2b-460c-83e7-126945cca12c",
   "metadata": {},
   "source": [
    "## The basic anatomy of an API request"
   ]
  },
  {
   "cell_type": "code",
   "execution_count": null,
   "id": "dd15ac22-c74f-43ba-834d-9e6c20f6740a",
   "metadata": {},
   "outputs": [],
   "source": [
    "Component\tValue\n",
    "Protocol\thttp\n",
    "Domain\t    localhost\n",
    "Port\t    3000\n",
    "Path\t    /lyrics/random\n",
    "Artist      filter parameter artist\n",
    "Include track parameter\tinclude_track"
   ]
  },
  {
   "cell_type": "code",
   "execution_count": null,
   "id": "66715f96-7d9b-424f-8470-e7c3dc59cf06",
   "metadata": {},
   "outputs": [],
   "source": [
    "# Construct the URL string and pass it to the requests.get() function\n",
    "response = requests.get('http://localhost:3000/lyrics/random')\n",
    "\n",
    "print(response.text)"
   ]
  },
  {
   "cell_type": "code",
   "execution_count": null,
   "id": "27011e2c-6cbe-4700-85d9-84a4a142d4dd",
   "metadata": {},
   "outputs": [],
   "source": [
    "# Create a dictionary variable with query params\n",
    "query_params = {'artist':'Deep Purple'}\n",
    "\n",
    "# Pass the dictionary to the get() function\n",
    "response = requests.get('http://localhost:3000/lyrics/random', params=query_params)\n",
    "\n",
    "print(response.text)"
   ]
  },
  {
   "cell_type": "code",
   "execution_count": null,
   "id": "bb733d4e-8135-4dea-8d92-1db5a07b42ad",
   "metadata": {},
   "outputs": [],
   "source": [
    "# Add the `include_track` parameter\n",
    "query_params = {'artist': 'Deep Purple', 'include_track' : True}\n",
    "\n",
    "response = requests.get('http://localhost:3000/lyrics/random', params=query_params)\n",
    "\n",
    "# Print the response URL\n",
    "print(response.url)\n",
    "\n",
    "# Print the lyric\n",
    "print(response.text)"
   ]
  },
  {
   "cell_type": "markdown",
   "id": "69605924-9ef0-4c5c-a3bc-064847979d12",
   "metadata": {},
   "source": [
    "### Creating and deleting resources using an API\n",
    "Now that you have learned how to construct a URL, you can send requests to specific API resources. Let's see what more you can do with HTTP verbs on these resources.\n",
    "\n",
    "In this exercise, you will use the playlists API available via http://localhost:3000/playlists/. This API offers the following actions:"
   ]
  },
  {
   "cell_type": "code",
   "execution_count": null,
   "id": "3e07a230-320e-4757-a87b-370357772372",
   "metadata": {},
   "outputs": [],
   "source": [
    "Verb\tPath\t                 Description\n",
    "GET\t    playlists\t             get a list of all playlists\n",
    "GET\t    /playlists/{PlaylistId}\t get information on a single playlist using it's unique identifier PlaylistId\n",
    "POST\t/playlists\t             create a new playlist\n",
    "DELETE\t/playlists/{PlaylistId}\t remove an existing playlist using it's unique identifier PlaylistId\n"
   ]
  },
  {
   "cell_type": "code",
   "execution_count": null,
   "id": "98863e00-6b26-4332-ba72-bc7ed1309dca",
   "metadata": {},
   "outputs": [],
   "source": [
    "# Get a list of all playlists from the API\n",
    "response = requests.get('http://localhost:3000/playlists')\n",
    "print(response.text)"
   ]
  },
  {
   "cell_type": "code",
   "execution_count": null,
   "id": "7f73c2d7-cba9-4d29-82ff-523e0d3133db",
   "metadata": {},
   "outputs": [],
   "source": [
    "# Create a dictionary with the playlist info\n",
    "playlist_data = {'Name': 'Rock Ballads'}\n",
    "\n",
    "# Perform a POST request to the playlists API with your dictionary as data parameter\n",
    "response = requests.post('http://localhost:3000/playlists', data=playlist_data)\n",
    "print(response.text)"
   ]
  },
  {
   "cell_type": "code",
   "execution_count": null,
   "id": "dfe6f3fc-103d-4a48-b649-fbd43a56ac45",
   "metadata": {},
   "outputs": [],
   "source": [
    "# Perform a GET request to get info on playlist with PlaylistId 2\n",
    "response = requests.get('http://localhost:3000/playlists/2')\n",
    "\n",
    "print(response.text)"
   ]
  },
  {
   "cell_type": "code",
   "execution_count": null,
   "id": "0e0c45b1-19fe-48ae-a84c-0a718ac16180",
   "metadata": {},
   "outputs": [],
   "source": [
    "# Perform a DELETE request to the playlist API using the path to playlist with PlaylistId 2\n",
    "requests.delete('http://localhost:3000/playlists/2')\n",
    "\n",
    "# Get the list of all existing playlists again\n",
    "response = requests.get('http://localhost:3000/playlists')\n",
    "print(response.text)"
   ]
  },
  {
   "cell_type": "markdown",
   "id": "a2654c32-b9e2-47c2-b1b8-515b44470994",
   "metadata": {},
   "source": [
    "## Headers and status codes"
   ]
  },
  {
   "cell_type": "code",
   "execution_count": null,
   "id": "b61ba09f-d4f8-4d1a-a3a2-d82ca5bed9bf",
   "metadata": {},
   "outputs": [],
   "source": [
    "Status code categories                       \n",
    "1XX: Informational responses \n",
    "2XX: Successful responses\n",
    "3XX: Redirection messages\n",
    "4XX: Client error responses\n",
    "5XX: Server error responses"
   ]
  },
  {
   "cell_type": "code",
   "execution_count": null,
   "id": "efd457b0-236c-4a5f-b0f5-e40c50161028",
   "metadata": {},
   "outputs": [],
   "source": [
    "Frequently used status codes\n",
    "200: OK\n",
    "404: Not Found\n",
    "500: Internal Server Error"
   ]
  },
  {
   "cell_type": "markdown",
   "id": "8012e721-0434-495b-8e8e-edde4d7403a8",
   "metadata": {},
   "source": [
    "### Response codes and APIs\n",
    "When a client sends a request to a server, the server response includes a numeric status code, which is used to tell the client how the server responded to the request.\n",
    "\n",
    "In this exercise you will learn about the most important status codes you should know. We will send requests to valid and invalid paths and learn how we can access the status code to determine if our request was successful or not.\n",
    "\n",
    "The requests package comes with a built-in status code lookup object requests.codes you can use when you don't remember the exact numerical values.\n",
    "\n",
    "The requests package has been imported for you."
   ]
  },
  {
   "cell_type": "code",
   "execution_count": null,
   "id": "09234a1e-52e8-4e8e-a6f0-b7818815cf5c",
   "metadata": {},
   "outputs": [],
   "source": [
    "response = requests.get('http://localhost:3000/lyrics')\n",
    "\n",
    "# Check the response status code\n",
    "if (response.status_code == 200):\n",
    "  print('The server responded succesfully!')"
   ]
  },
  {
   "cell_type": "code",
   "execution_count": null,
   "id": "a19b5a32-8ac3-4b44-bb79-12dbc4475df0",
   "metadata": {},
   "outputs": [],
   "source": [
    "# Make a request to the movies endpoint of the API\n",
    "response = requests.get('http://localhost:3000/movies')\n",
    "\n",
    "if (response.status_code == 200):\n",
    "  print('The server responded succesfully!')\n",
    "  \n",
    "# Check the response status code\n",
    "elif (response.status_code == 404):\n",
    "  print('Oops, that API could not be found!')"
   ]
  },
  {
   "cell_type": "code",
   "execution_count": null,
   "id": "b7637ee2-5899-4070-82f1-4ef3d3791776",
   "metadata": {},
   "outputs": [],
   "source": [
    "response = requests.get('http://localhost:3000/movies')\n",
    "\n",
    "# Check if the response.status_code is equal to the requests.codes value for \"200 OK\"\n",
    "if (response.status_code == requests.codes.ok):\n",
    "  print('The server responded succesfully!')\n",
    "  \n",
    "# Or if the request was not successful because the API did not exist\n",
    "elif (response.status_code == requests.codes.not_found):\n",
    "  print('Oops, that API could not be found!')"
   ]
  },
  {
   "cell_type": "markdown",
   "id": "3e9ed04d-61fc-4174-88b4-6e99617ad59e",
   "metadata": {},
   "source": [
    "### Using request and response headers\n",
    "Headers contain additional information about your API calls, including the desired or used response format. Using accept and content-type headers, client and server can negotiate what response format to use.\n",
    "\n",
    "In this exercise, you'll use headers to inspect response formats after making a request and make a new request specifying the desired format via the accept header.\n",
    "\n",
    "The requests package has been imported for your convenience."
   ]
  },
  {
   "cell_type": "code",
   "execution_count": null,
   "id": "6d8fe23b-8b54-4bd9-bd37-58637527fe81",
   "metadata": {},
   "outputs": [],
   "source": [
    "response = requests.get('http://localhost:3000/lyrics')\n",
    "\n",
    "# Print the response content-type header\n",
    "print(response.headers['content-type'])"
   ]
  },
  {
   "cell_type": "code",
   "execution_count": null,
   "id": "308782d4-6b81-4605-bd95-d9c2f6bbc150",
   "metadata": {},
   "outputs": [],
   "source": [
    "response = requests.get('http://localhost:3000/lyrics')\n",
    "\n",
    "# Print the response accept header\n",
    "print(response.headers['accept'])"
   ]
  },
  {
   "cell_type": "code",
   "execution_count": null,
   "id": "db78e9f5-299e-4a5b-aa4e-ae95145a4fb8",
   "metadata": {},
   "outputs": [],
   "source": [
    "# Set the content type to application/json\n",
    "headers = {'accept': 'application/json'}\n",
    "response = requests.get('http://localhost:3000/lyrics', headers=headers)\n",
    "\n",
    "# Print the response's text\n",
    "print(response.text)"
   ]
  },
  {
   "cell_type": "markdown",
   "id": "c69b3e39-c819-4fe7-88e8-1f9b70431cc0",
   "metadata": {},
   "source": [
    "### Handling content-types errors\n",
    "What happens when you ask for a response in a specific format but the server cannot satisfy that request? Say you want to receive the response in XML rather than JSON. If the server can not respond in XML, it will respond with a specific status-code indicating that it can't reply in the requested format. The status code used in this case is 406 Not Acceptable or 406 in short. The response from the server also frequently contains an accept header which includes a list of all response formats it can respond with. Use this to learn what content types the API can respond with."
   ]
  },
  {
   "cell_type": "code",
   "execution_count": null,
   "id": "648802e6-b96f-440f-acce-1cb4242aa046",
   "metadata": {},
   "outputs": [],
   "source": [
    "# Add a header to use in the request\n",
    "headers = {'accept':'application/xml'}\n",
    "response = requests.get('http://localhost:3000/lyrics', headers=headers)\n",
    "\n",
    "# Check if the server did not accept the request\n",
    "if (response.status_code == 406):\n",
    "  print('The server can not respond in XML')\n",
    "  \n",
    "  # Print the accepted content types\n",
    "  print('These are the content types the server accepts: ' + response.headers['accept'])\n",
    "else:\n",
    "  print(response.text)"
   ]
  },
  {
   "cell_type": "code",
   "execution_count": null,
   "id": "aca6a234-24b5-4fbc-a1ee-f5b0f281e10d",
   "metadata": {},
   "outputs": [],
   "source": []
  },
  {
   "cell_type": "code",
   "execution_count": null,
   "id": "52dac70f-d477-4cc8-ad93-3e7c2c5f0723",
   "metadata": {},
   "outputs": [],
   "source": []
  }
 ],
 "metadata": {
  "kernelspec": {
   "display_name": "Python 3 (ipykernel)",
   "language": "python",
   "name": "python3"
  },
  "language_info": {
   "codemirror_mode": {
    "name": "ipython",
    "version": 3
   },
   "file_extension": ".py",
   "mimetype": "text/x-python",
   "name": "python",
   "nbconvert_exporter": "python",
   "pygments_lexer": "ipython3",
   "version": "3.9.13"
  }
 },
 "nbformat": 4,
 "nbformat_minor": 5
}
