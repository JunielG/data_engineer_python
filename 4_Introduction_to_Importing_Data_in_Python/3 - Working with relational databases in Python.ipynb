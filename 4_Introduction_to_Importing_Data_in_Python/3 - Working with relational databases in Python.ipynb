{
 "cells": [
  {
   "cell_type": "markdown",
   "id": "bb9907ec-2d53-406a-87f0-346b0b46e394",
   "metadata": {},
   "source": [
    "# Introduction to relational databases"
   ]
  },
  {
   "cell_type": "code",
   "execution_count": 1,
   "id": "29c97148-a77d-42d1-a184-dab882f2b05d",
   "metadata": {},
   "outputs": [],
   "source": [
    "import pandas as pd\n",
    "import numpy as np\n",
    "import matplotlib.pyplot as plt"
   ]
  },
  {
   "cell_type": "markdown",
   "id": "f3a1f343-78a6-4326-872d-9403a49d35e1",
   "metadata": {},
   "source": [
    "#### What is a relational database?\n",
    "- Based on relational model of data\n",
    "- First described by Edgar “Ted” Codd\n"
   ]
  },
  {
   "cell_type": "markdown",
   "id": "1ac6d582-83ab-4957-9a43-dd08e767a4cf",
   "metadata": {},
   "source": [
    "#### Relational model\n",
    "- Widely adopted\n",
    "- Codd’s 12 Rules/Commandments\\\n",
    "Consists of 13 rules (zero-indexed!)\\\n",
    "Describes what a Relational Database Management System should adhere to to be considered relational\n"
   ]
  },
  {
   "cell_type": "markdown",
   "id": "f3bccd20-da12-47e5-a7ac-ff71eb5771b0",
   "metadata": {},
   "source": [
    "#### Relational Database Management Systems\n",
    "- PostgreSQL\n",
    "- MySQL\n",
    "- SQLite\n",
    "- SQL Structured Query Language"
   ]
  },
  {
   "cell_type": "code",
   "execution_count": null,
   "id": "3e1c4430-6c63-4f5b-acb8-09f048eddd36",
   "metadata": {},
   "outputs": [],
   "source": [
    "from sqlalchemy import create_engine, inspect\n",
    "\n",
    "engine = create_engine('your_database_url')\n",
    "\n",
    "inspector = inspect(engine)\n",
    "table_names = inspector.get_table_names()\n",
    "print(table_names)\n",
    "\n",
    "# For views:\n",
    "view_names = inspector.get_view_names()\n",
    "print(view_names)\n",
    "\n",
    "# For all table and view names:\n",
    "all_names = inspector.get_table_names() + inspector.get_view_names()\n",
    "print(all_names)"
   ]
  },
  {
   "cell_type": "markdown",
   "id": "70b1407e-d07d-4118-a9c9-1b6b10c4d5a3",
   "metadata": {},
   "source": [
    "#### Explanation:\n",
    "\n",
    "SQLAlchemy has moved away from directly accessing table names via the engine object.  The inspect module provides a more robust and flexible way to get metadata about your database, including table names, column information, indexes, and more.\n",
    "\n",
    "- inspect(engine): This creates an inspector object associated with your engine.\n",
    "- inspector.get_table_names(): This method returns a list of all table names in the database.\n",
    "- inspector.get_view_names(): This method returns a list of all view names in the database.\n",
    "- inspector.get_schema_names(): This method returns a list of all schema names in the database. This is useful if you are working with a database that supports schemas (like PostgreSQL or SQL Server).\\\n",
    "Other inspector methods: The inspect object has many other useful methods. Refer to the SQLAlchemy documentation for the full list."
   ]
  },
  {
   "cell_type": "markdown",
   "id": "8d47e1a5-7ada-4314-8382-0e2ebd87f124",
   "metadata": {},
   "source": [
    "#### Example with Schema (if applicable):\n",
    "\n",
    "If you're using schemas (e.g., PostgreSQL), you might need to specify the schema:"
   ]
  },
  {
   "cell_type": "code",
   "execution_count": null,
   "id": "39de24da-7505-45c6-afdd-dd974ad4dc57",
   "metadata": {},
   "outputs": [],
   "source": [
    "from sqlalchemy import create_engine, inspect\n",
    "\n",
    "engine = create_engine('your_database_url')\n",
    "inspector = inspect(engine)\n",
    "\n",
    "schema_name = 'your_schema_name'  # Replace with your schema name\n",
    "table_names = inspector.get_table_names(schema=schema_name)\n",
    "print(table_names)\n",
    "\n",
    "# For all schemas\n",
    "schemas = inspector.get_schema_names()\n",
    "for schema in schemas:\n",
    "    tables = inspector.get_table_names(schema=schema)\n",
    "    print(f\"Schema: {schema}, Tables: {tables}\")"
   ]
  },
  {
   "cell_type": "markdown",
   "id": "fcd6f98d-4f7f-4657-b1df-f8629658e666",
   "metadata": {},
   "source": [
    "#### Key Improvements of inspect:\n",
    "\n",
    "More comprehensive: inspect provides access to much more database metadata than just table names.\n",
    "More robust: It's less likely to break due to changes in SQLAlchemy's internal implementation.\n",
    "Handles schemas: It correctly handles databases with schemas.\n",
    "Upgrade SQLAlchemy (if needed):\n",
    "\n",
    "Make sure you have a reasonably up-to-date version of SQLAlchemy.  If you're on a very old version (pre-1.4), upgrading is highly recommended.  You can upgrade using pip:"
   ]
  },
  {
   "cell_type": "code",
   "execution_count": null,
   "id": "fc09d868-9f76-4266-a42c-8d5c0dcc6ddf",
   "metadata": {},
   "outputs": [],
   "source": []
  },
  {
   "cell_type": "markdown",
   "id": "c4b25e68-ba06-4ecc-a09b-ef74c9270708",
   "metadata": {},
   "source": [
    "# Creating a database engine in Python"
   ]
  },
  {
   "cell_type": "markdown",
   "id": "0591949b-b5b2-4eb3-a2ee-29e7a2328610",
   "metadata": {},
   "source": [
    "#### Creating a database engine\n",
    "- SQLite database\\\n",
    "Fast and simple\n",
    "- SQLAlchemy\\\n",
    "Works with many Relational Database Management Systems"
   ]
  },
  {
   "cell_type": "code",
   "execution_count": 4,
   "id": "eb9f4353-22b0-4f54-9b6f-f91765e521db",
   "metadata": {},
   "outputs": [],
   "source": [
    "from sqlalchemy import create_engine, inspect\n",
    "engine = create_engine('sqlite:///Northwind.sqlite')"
   ]
  },
  {
   "cell_type": "markdown",
   "id": "adb33a7c-2626-4fa5-9c02-fa2344c1249a",
   "metadata": {},
   "source": [
    "#### Getting table names"
   ]
  },
  {
   "cell_type": "code",
   "execution_count": 5,
   "id": "49f5a6fa-0c2e-4ad2-b317-27215c32ef5d",
   "metadata": {},
   "outputs": [
    {
     "name": "stdout",
     "output_type": "stream",
     "text": [
      "['Categories', 'CustomerCustomerDemo', 'CustomerDemographics', 'Customers', 'EmployeeTerritories', 'Employees', 'Order Details', 'Orders', 'Products', 'Regions', 'Shippers', 'Suppliers', 'Territories']\n"
     ]
    }
   ],
   "source": [
    "inspector = inspect(engine)\n",
    "table_names = inspector.get_table_names()\n",
    "print(table_names)"
   ]
  },
  {
   "cell_type": "code",
   "execution_count": 6,
   "id": "a223637b-5a87-4fb4-ab39-3608efa43e7d",
   "metadata": {},
   "outputs": [
    {
     "name": "stdout",
     "output_type": "stream",
     "text": [
      "['Alphabetical list of products', 'Category Sales for 1997', 'Current Product List', 'Customer and Suppliers by City', 'Invoices', 'Order Details Extended', 'Order Subtotals', 'Orders Qry', 'Product Sales for 1997', 'ProductDetails_V', 'Products Above Average Price', 'Products by Category', 'Quarterly Orders', 'Sales Totals by Amount', 'Sales by Category', 'Summary of Sales by Quarter', 'Summary of Sales by Year']\n"
     ]
    }
   ],
   "source": [
    "# For views:\n",
    "view_names = inspector.get_view_names()\n",
    "print(view_names)"
   ]
  },
  {
   "cell_type": "code",
   "execution_count": 7,
   "id": "38e0bd32-2813-47f1-9da2-2c29436f79c5",
   "metadata": {},
   "outputs": [
    {
     "name": "stdout",
     "output_type": "stream",
     "text": [
      "['Categories', 'CustomerCustomerDemo', 'CustomerDemographics', 'Customers', 'EmployeeTerritories', 'Employees', 'Order Details', 'Orders', 'Products', 'Regions', 'Shippers', 'Suppliers', 'Territories', 'Alphabetical list of products', 'Category Sales for 1997', 'Current Product List', 'Customer and Suppliers by City', 'Invoices', 'Order Details Extended', 'Order Subtotals', 'Orders Qry', 'Product Sales for 1997', 'ProductDetails_V', 'Products Above Average Price', 'Products by Category', 'Quarterly Orders', 'Sales Totals by Amount', 'Sales by Category', 'Summary of Sales by Quarter', 'Summary of Sales by Year']\n"
     ]
    }
   ],
   "source": [
    "# For all table and view names:\n",
    "all_names = inspector.get_table_names() + inspector.get_view_names()\n",
    "print(all_names)"
   ]
  },
  {
   "cell_type": "markdown",
   "id": "d1a31945-83f7-41f5-b4b7-084a2cc0b711",
   "metadata": {},
   "source": [
    "## Creating a database engine\n",
    "Here, you're going to fire up your very first SQL engine. You'll create an engine to connect to the SQLite database 'Chinook.sqlite', which is in your working directory. Remember that to create an engine to connect to 'Northwind.sqlite', Hugo executed the command\n",
    "\n",
    "engine = create_engine('sqlite:///Northwind.sqlite')\n",
    "Here, 'sqlite:///Northwind.sqlite' is called the connection string to the SQLite database Northwind.sqlite. A little bit of background on the Chinook database: the Chinook database contains information about a semi-fictional digital media store in which media data is real and customer, employee and sales data has been manually created.\n",
    "\n",
    "Why the name Chinook, you ask? According to their website,\n",
    "\n",
    "The name of this sample database was based on the Northwind database. Chinooks are winds in the interior West of North America, where the Canadian Prairies and Great Plains meet various mountain ranges. Chinooks are most prevalent over southern Alberta in Canada. Chinook is a good name choice for a database that intends to be an alternative to Northwind."
   ]
  },
  {
   "cell_type": "code",
   "execution_count": 8,
   "id": "5cfd8a0b-074b-46f4-879c-427bd83c946d",
   "metadata": {},
   "outputs": [
    {
     "name": "stdout",
     "output_type": "stream",
     "text": [
      "['Categories', 'CustomerCustomerDemo', 'CustomerDemographics', 'Customers', 'EmployeeTerritories', 'Employees', 'Order Details', 'Orders', 'Products', 'Regions', 'Shippers', 'Suppliers', 'Territories']\n"
     ]
    }
   ],
   "source": [
    "# Import necessary module\n",
    "from sqlalchemy import create_engine, inspect\n",
    "\n",
    "# Create engine: engine\n",
    "engine = create_engine('sqlite:///Northwind.sqlite')\n",
    "\n",
    "# Save the table names to a list: table_names\n",
    "inspector = inspect(engine)\n",
    "table_names = inspector.get_table_names()\n",
    "\n",
    "# Print the table names to the shell\n",
    "print(table_names)"
   ]
  },
  {
   "cell_type": "markdown",
   "id": "191c160b-686a-4222-83d2-e6f6a08e4abe",
   "metadata": {},
   "source": [
    "# Querying relational databases in Python"
   ]
  },
  {
   "cell_type": "markdown",
   "id": "2c04d01f-0b32-4b90-8f4d-96ada9920933",
   "metadata": {},
   "source": [
    "#### Basic SQL query \n",
    "SELECT * FROM Table_Name\n",
    "- Returns all columns of all rows of the table\n",
    "\n",
    "Example:\\\n",
    "SELECT * FROM Orders \n",
    "- We’ll use SQLAlchemy and pandas\n"
   ]
  },
  {
   "cell_type": "markdown",
   "id": "e25e2366-2537-491e-b32f-2280ef0e4ae2",
   "metadata": {},
   "source": [
    "#### Workflow of SQL querying\n",
    "- Import packages and functions\n",
    "- Create the database engine\n",
    "- Connect to the engine\n",
    "- Query the database\n",
    "- Save query results to a DataFrame\n",
    "- Close the connection\n"
   ]
  },
  {
   "cell_type": "markdown",
   "id": "bec69735-3385-473c-a15b-f524aa046e4e",
   "metadata": {},
   "source": [
    "## Your first SQL query"
   ]
  },
  {
   "cell_type": "code",
   "execution_count": 12,
   "id": "54da896f-c6f9-42ba-a7f8-4c2ea012b9d0",
   "metadata": {},
   "outputs": [
    {
     "ename": "_IncompleteInputError",
     "evalue": "incomplete input (1822548742.py, line 7)",
     "output_type": "error",
     "traceback": [
      "\u001b[0;36m  Cell \u001b[0;32mIn[12], line 7\u001b[0;36m\u001b[0m\n\u001b[0;31m    con.close(\u001b[0m\n\u001b[0m              ^\u001b[0m\n\u001b[0;31m_IncompleteInputError\u001b[0m\u001b[0;31m:\u001b[0m incomplete input\n"
     ]
    }
   ],
   "source": [
    "from sqlalchemy import create_engine, inspect\n",
    "import pandas as pd\n",
    "engine = create_engine('sqlite:///Northwind.sqlite')\n",
    "con = engine.connect()\n",
    "rs = con.execute(\"SELECT * FROM Categories\")\n",
    "df = pd.DataFrame(rs.fetchall())\n",
    "con.close()"
   ]
  },
  {
   "cell_type": "markdown",
   "id": "867d6087-59b8-44f2-b79e-3a9e4e7c26ba",
   "metadata": {},
   "source": [
    "#### Printing your query results"
   ]
  },
  {
   "cell_type": "code",
   "execution_count": null,
   "id": "eb26f8d1-dd9f-4785-b21d-1e47cb237735",
   "metadata": {},
   "outputs": [],
   "source": [
    "display(df.head())"
   ]
  },
  {
   "cell_type": "markdown",
   "id": "80ac5104-44dc-4569-a937-6174f1f8b1b3",
   "metadata": {},
   "source": [
    "## Set the DataFrame column names"
   ]
  },
  {
   "cell_type": "code",
   "execution_count": 14,
   "id": "4d756481-5a32-4552-9745-9eed733e8242",
   "metadata": {},
   "outputs": [
    {
     "ename": "_IncompleteInputError",
     "evalue": "incomplete input (3200141926.py, line 6)",
     "output_type": "error",
     "traceback": [
      "\u001b[0;36m  Cell \u001b[0;32mIn[14], line 6\u001b[0;36m\u001b[0m\n\u001b[0;31m    con.close(\u001b[0m\n\u001b[0m              ^\u001b[0m\n\u001b[0;31m_IncompleteInputError\u001b[0m\u001b[0;31m:\u001b[0m incomplete input\n"
     ]
    }
   ],
   "source": [
    "engine = create_engine('sqlite:///Northwind.sqlite')\n",
    "con = engine.connect()\n",
    "rs = con.execute(\"SELECT * FROM CustomerID\")\n",
    "df = pd.DataFrame(rs.fetchall())\n",
    "df.columns = rs.keys()\n",
    "con.close()"
   ]
  },
  {
   "cell_type": "code",
   "execution_count": null,
   "id": "bb6c7345-6269-4fc0-8322-e8c631bb233c",
   "metadata": {},
   "outputs": [],
   "source": [
    "print(df.head())"
   ]
  },
  {
   "cell_type": "markdown",
   "id": "6f2cb4c1-11fe-47b2-932e-dd9acac5178b",
   "metadata": {},
   "source": [
    "### Using the context manager"
   ]
  },
  {
   "cell_type": "code",
   "execution_count": 16,
   "id": "c979211b-659e-451c-8a3a-26d879e1defe",
   "metadata": {},
   "outputs": [
    {
     "ename": "_IncompleteInputError",
     "evalue": "incomplete input (379443062.py, line 4)",
     "output_type": "error",
     "traceback": [
      "\u001b[0;36m  Cell \u001b[0;32mIn[16], line 4\u001b[0;36m\u001b[0m\n\u001b[0;31m    df.columns = rs.keys(\u001b[0m\n\u001b[0m                         ^\u001b[0m\n\u001b[0;31m_IncompleteInputError\u001b[0m\u001b[0;31m:\u001b[0m incomplete input\n"
     ]
    }
   ],
   "source": [
    "with engine.connect() as con:  \n",
    "    rs = con.execute(\"SELECT OrderID, OrderDate, ShipName FROM Orders\") \n",
    "    df = pd.DataFrame(rs.fetchmany(size=5)) \n",
    "    df.columns = rs.keys()"
   ]
  },
  {
   "cell_type": "markdown",
   "id": "44247eff-cd29-4cb5-bda3-8ac0d672754d",
   "metadata": {},
   "source": [
    "## The Hello World of SQL Queries!\n",
    "Now, it's time for liftoff! In this exercise, you'll perform the Hello World of SQL queries, SELECT, in order to retrieve all columns of the table Album in the Chinook database. Recall that the query SELECT * selects all columns."
   ]
  },
  {
   "cell_type": "code",
   "execution_count": null,
   "id": "d4a433f4-65db-4e54-a36a-6e4cac6f42fd",
   "metadata": {},
   "outputs": [],
   "source": [
    "# Import packages\n",
    "from sqlalchemy import create_engine\n",
    "import pandas as pd\n",
    "\n",
    "# Create engine: engine\n",
    "engine = create_engine('sqlite:///Northwind.sqlite')\n",
    "\n",
    "# Open engine connection: con\n",
    "con = engine.connect()\n",
    "\n",
    "# Perform query: rs\n",
    "rs = con.execute(\"SELECT * FROM Album\")\n",
    "\n",
    "# Save results of the query to DataFrame: df\n",
    "df = pd.DataFrame(rs.fetchall())\n",
    "\n",
    "# Close connection\n",
    "con.close()\n",
    "\n",
    "# Print head of DataFrame df\n",
    "print(df.head())"
   ]
  },
  {
   "cell_type": "markdown",
   "id": "cbfdaba9-ac16-457d-99fe-14ac40189633",
   "metadata": {},
   "source": [
    "## Customizing the Hello World of SQL Queries\n",
    "Congratulations on executing your first SQL query! Now you're going to figure out how to customize your query in order to:\n",
    "\n",
    "Select specified columns from a table;\\\n",
    "Select a specified number of rows;\\\n",
    "Import column names from the database table.\\\n",
    "Recall that Hugo performed a very similar query customization in the video:\n",
    "\n",
    "engine = create_engine('sqlite:///Northwind.sqlite')\n",
    "\n",
    "with engine.connect() as con:\\\n",
    "    rs = con.execute(\"SELECT OrderID, OrderDate, ShipName FROM Orders\")\\\n",
    "    df = pd.DataFrame(rs.fetchmany(size=5))\\\n",
    "    df.columns = rs.keys()\\\n",
    "Packages have already been imported as follows:\n",
    "\n",
    "from sqlalchemy import create_engine\\\n",
    "import pandas as pd\\\n",
    "The engine has also already been created:\n",
    "\n",
    "engine = create_engine('sqlite:///Chinook.sqlite')\\\n",
    "The engine connection is already open with the statement\n",
    "\n",
    "with engine.connect() as con:\n"
   ]
  },
  {
   "cell_type": "code",
   "execution_count": null,
   "id": "0b3d0ded-22aa-44e8-9722-379e7af028ef",
   "metadata": {},
   "outputs": [],
   "source": [
    "# Open engine in context manager\n",
    "# Perform query and save results to DataFrame: df\n",
    "with engine.connect() as con:\n",
    "    rs = con.execute('SELECT LastName, Title FROM Employee')\n",
    "    df = pd.DataFrame(rs.fetchmany(size=3))\n",
    "    df.columns = rs.keys()\n",
    "\n",
    "# Print the length of the DataFrame df\n",
    "print(len(df))\n",
    "\n",
    "# Print the head of the DataFrame df\n",
    "print(df.head())"
   ]
  },
  {
   "cell_type": "markdown",
   "id": "4dd3bb10-f87b-461d-ba2c-a6aadaf39036",
   "metadata": {},
   "source": [
    "## Filtering your database records using SQL's WHERE\n",
    "You can now execute a basic SQL query to select records from any table in your database and you can also perform simple query customizations to select particular columns and numbers of rows.\n",
    "\n",
    "There are a couple more standard SQL query chops that will aid you in your journey to becoming an SQL ninja.\n",
    "\n",
    "Let's say, for example that you wanted to get all records from the Customer table of the Chinook database for which the Country is 'Canada'. You can do this very easily in SQL using a SELECT statement followed by a WHERE clause as follows:\n",
    "\n",
    "SELECT * FROM Customer WHERE Country = 'Canada'\\\n",
    "In fact, you can filter any SELECT statement by any condition using a WHERE clause. This is called filtering your records.\n",
    "\n",
    "In this interactive exercise, you'll select all records of the Employee table for which 'EmployeeId' is greater than or equal to 6.\n",
    "\n",
    "Packages are already imported as follows:\n",
    "\n",
    "import pandas as pd\n",
    "from sqlalchemy import create_engine\n",
    "Query away!"
   ]
  },
  {
   "cell_type": "code",
   "execution_count": null,
   "id": "7c556763-0855-461b-9a43-64665ee7df5d",
   "metadata": {},
   "outputs": [],
   "source": [
    "# Create engine: engine\n",
    "engine = create_engine('sqlite:///Northwind.sqlite')\n",
    "\n",
    "# Open engine in context manager\n",
    "# Perform query and save results to DataFrame: df\n",
    "with engine.connect() as con:\n",
    "    rs = con.execute('SELECT * FROM Employee WHERE EmployeeId >= 6')\n",
    "    df = pd.DataFrame(rs.fetchall())\n",
    "    df.columns = rs.keys()\n",
    "\n",
    "# Print the head of the DataFrame df\n",
    "print(df.head())"
   ]
  },
  {
   "cell_type": "markdown",
   "id": "fcb5155e-f849-48c6-a0bb-7ee2a06ff39c",
   "metadata": {},
   "source": [
    "## Ordering your SQL records with ORDER BY\n",
    "You can also order your SQL query results. For example, if you wanted to get all records from the Customer table of the Chinook database and order them in increasing order by the column SupportRepId, you could do so with the following query:\n",
    "\n",
    "\"SELECT * FROM Customer ORDER BY SupportRepId\"\n",
    "In fact, you can order any SELECT statement by any column.\n",
    "\n",
    "In this interactive exercise, you'll select all records of the Employee table and order them in increasing order by the column BirthDate.\n",
    "\n",
    "Packages are already imported as follows:\n",
    "\n",
    "import pandas as pd\n",
    "from sqlalchemy import create_engine\n",
    "Get querying!"
   ]
  },
  {
   "cell_type": "code",
   "execution_count": null,
   "id": "e344064a-4df2-4a9e-b484-ef460f2bf08d",
   "metadata": {},
   "outputs": [],
   "source": [
    "# Create engine: engine\n",
    "engine = create_engine('sqlite:///Northwind.sqlite')\n",
    "\n",
    "# Open engine in context manager\n",
    "with engine.connect() as con:\n",
    "    rs = con.execute('SELECT * FROM Employee ORDER BY BirthDate ASC')\n",
    "    df = pd.DataFrame(rs.fetchall())\n",
    "\n",
    "    # Set the DataFrame's column names\n",
    "df.columns = rs.keys()\n",
    "\n",
    "# Print head of DataFrame\n",
    "print(df.head())"
   ]
  },
  {
   "cell_type": "markdown",
   "id": "4f97bd42-731d-41a2-91a6-17becc90397a",
   "metadata": {},
   "source": [
    "# Querying relational databases directly with pandas"
   ]
  },
  {
   "cell_type": "markdown",
   "id": "8a480413-7827-452f-88ce-b2135a996a01",
   "metadata": {},
   "source": [
    "#### The pandas way to query"
   ]
  },
  {
   "cell_type": "code",
   "execution_count": null,
   "id": "514e3ab6-3422-4479-bc49-360a008f59a0",
   "metadata": {},
   "outputs": [],
   "source": [
    "from sqlalchemy import create_engine\n",
    "import pandas as pd\n",
    "engine = create_engine('sqlite:///Northwind.sqlite')\n",
    "with engine.connect() as con: \n",
    "    rs = con.execute(\"SELECT * FROM Orders\")  \n",
    "    df = pd.DataFrame(rs.fetchall())  \n",
    "    df.columns = rs.keys()\n",
    "    \n",
    "df = pd.read_sql_query(\"SELECT * FROM Orders\", engine)"
   ]
  },
  {
   "cell_type": "markdown",
   "id": "6d64bdc5-6f23-4b39-9501-56aaa7ea4c5e",
   "metadata": {},
   "source": [
    "### Pandas and The Hello World of SQL Queries!\n",
    "Here, you'll take advantage of the power of pandas to write the results of your SQL query to a DataFrame in one swift line of Python code!\n",
    "\n",
    "You'll first import pandas and create the SQLite 'Chinook.sqlite' engine. Then you'll query the database to select all records from the Album table.\n",
    "\n",
    "Recall that to select all records from the Orders table in the Northwind database, Hugo executed the following command:"
   ]
  },
  {
   "cell_type": "code",
   "execution_count": null,
   "id": "42e3eb15-3caf-48d3-8497-7e7092efce44",
   "metadata": {},
   "outputs": [],
   "source": [
    "# Import packages\n",
    "from sqlalchemy import create_engine\n",
    "import pandas as pd\n",
    "\n",
    "# Create engine: engine\n",
    "engine = create_engine('sqlite:///Northwind.sqlite')\n",
    "\n",
    "# Execute query and store records in DataFrame: df\n",
    "df = pd.read_sql_query('SELECT * FROM Album', engine)\n",
    "\n",
    "# Print head of DataFrame\n",
    "print(df.head())\n",
    "\n",
    "# Open engine in context manager and store query result in df1\n",
    "with engine.connect() as con:\n",
    "    rs = con.execute(\"SELECT * FROM Album\")\n",
    "    df1 = pd.DataFrame(rs.fetchall())\n",
    "    df1.columns = rs.keys()\n",
    "\n",
    "# Confirm that both methods yield the same result\n",
    "print(df.equals(df1))"
   ]
  },
  {
   "cell_type": "markdown",
   "id": "7b318efa-57d9-4967-86e5-c25b05d8413b",
   "metadata": {},
   "source": [
    "### Pandas for more complex querying\n",
    "Here, you'll become more familiar with the pandas function read_sql_query() by using it to execute a more complex query: a SELECT statement followed by both a WHERE clause AND an ORDER BY clause.\n",
    "\n",
    "You'll build a DataFrame that contains the rows of the Employee table for which the EmployeeId is greater than or equal to 6 and you'll order these entries by BirthDate."
   ]
  },
  {
   "cell_type": "code",
   "execution_count": null,
   "id": "81e0f3c5-7493-4275-87d4-5981c5d32516",
   "metadata": {},
   "outputs": [],
   "source": [
    "# Create engine: engine\n",
    "engine = create_engine('sqlite:///Northwind.sqlite')\n",
    "\n",
    "# Execute query and store records in DataFrame: df\n",
    "df = pd.read_sql_query('SELECT * FROM Employee WHERE EmployeeId >= 6 ORDER BY BirthDate', engine)\n",
    "\n",
    "# Print head of DataFrame\n",
    "print(df.head())"
   ]
  },
  {
   "cell_type": "markdown",
   "id": "319049e0-aead-482a-924c-a9b9b05dfde9",
   "metadata": {},
   "source": [
    "## Advanced querying: exploiting table relationships"
   ]
  },
  {
   "cell_type": "markdown",
   "id": "af1ddfc1-e617-40ac-bba1-c5cbd3c5b68b",
   "metadata": {},
   "source": [
    "#### Table are linked "
   ]
  },
  {
   "cell_type": "markdown",
   "id": "dce52784-ca32-436f-afcc-2af0376ef41b",
   "metadata": {},
   "source": [
    "#### INNER JOIN in Python (pandas)"
   ]
  },
  {
   "cell_type": "code",
   "execution_count": 3,
   "id": "cd7b82b5-a13b-44e5-ad75-22c0ffdfe4a7",
   "metadata": {},
   "outputs": [
    {
     "data": {
      "text/html": [
       "<div>\n",
       "<style scoped>\n",
       "    .dataframe tbody tr th:only-of-type {\n",
       "        vertical-align: middle;\n",
       "    }\n",
       "\n",
       "    .dataframe tbody tr th {\n",
       "        vertical-align: top;\n",
       "    }\n",
       "\n",
       "    .dataframe thead th {\n",
       "        text-align: right;\n",
       "    }\n",
       "</style>\n",
       "<table border=\"1\" class=\"dataframe\">\n",
       "  <thead>\n",
       "    <tr style=\"text-align: right;\">\n",
       "      <th></th>\n",
       "      <th>OrderID</th>\n",
       "      <th>CompanyName</th>\n",
       "    </tr>\n",
       "  </thead>\n",
       "  <tbody>\n",
       "    <tr>\n",
       "      <th>0</th>\n",
       "      <td>10248</td>\n",
       "      <td>Vins et alcools Chevalier</td>\n",
       "    </tr>\n",
       "    <tr>\n",
       "      <th>1</th>\n",
       "      <td>10249</td>\n",
       "      <td>Toms Spezialitäten</td>\n",
       "    </tr>\n",
       "    <tr>\n",
       "      <th>2</th>\n",
       "      <td>10250</td>\n",
       "      <td>Hanari Carnes</td>\n",
       "    </tr>\n",
       "    <tr>\n",
       "      <th>3</th>\n",
       "      <td>10251</td>\n",
       "      <td>Victuailles en stock</td>\n",
       "    </tr>\n",
       "    <tr>\n",
       "      <th>4</th>\n",
       "      <td>10252</td>\n",
       "      <td>Suprêmes délices</td>\n",
       "    </tr>\n",
       "  </tbody>\n",
       "</table>\n",
       "</div>"
      ],
      "text/plain": [
       "   OrderID                CompanyName\n",
       "0    10248  Vins et alcools Chevalier\n",
       "1    10249         Toms Spezialitäten\n",
       "2    10250              Hanari Carnes\n",
       "3    10251       Victuailles en stock\n",
       "4    10252           Suprêmes délices"
      ]
     },
     "metadata": {},
     "output_type": "display_data"
    }
   ],
   "source": [
    "from sqlalchemy import create_engine\n",
    "import pandas as pd\n",
    "engine = create_engine('sqlite:///Northwind.sqlite')\n",
    "df = pd.read_sql_query(\"SELECT OrderID, CompanyName FROM Orders INNER JOIN Customers on Orders.CustomerID = Customers.CustomerID\", engine)\n",
    "display(df.head()) "
   ]
  },
  {
   "cell_type": "markdown",
   "id": "7877833f-4a2d-4d55-b450-e6675e534ab2",
   "metadata": {},
   "source": [
    "## The power of SQL lies in relationships between tables: INNER JOIN\n",
    "Here, you'll perform your first INNER JOIN! You'll be working with your favourite SQLite database, Chinook.sqlite. For each record in the Album table, you'll extract the Title along with the Name of the Artist. The latter will come from the Artist table and so you will need to INNER JOIN these two tables on the ArtistID column of both.\n",
    "\n",
    "Recall that to INNER JOIN the Orders and Customers tables from the Northwind database, Hugo executed the following SQL query:\n",
    "\n",
    "\"SELECT OrderID, CompanyName FROM Orders INNER JOIN Customers on Orders.CustomerID = Customers.CustomerID\"\n",
    "The following code has already been executed to import the necessary packages and to create the engine"
   ]
  },
  {
   "cell_type": "code",
   "execution_count": null,
   "id": "42e06f5a-659a-4d99-b4b6-98ee286a30ea",
   "metadata": {},
   "outputs": [],
   "source": [
    "# Open engine in context manager\n",
    "engine = create_engine('sqlite:///Northwind.sqlite')\n",
    "# Perform query and save results to DataFrame: df\n",
    "with engine.connect() as con:\n",
    "    rs = con.execute('SELECT Title, Name FROM Album INNER JOIN Artist ON Album.ArtistID = Artist.ArtistID',con) \n",
    "    df = pd.DataFrame(rs.fetchall())\n",
    "    df.columns = rs.keys()\n",
    "\n",
    "# Print head of DataFrame df\n",
    "print(df.head())"
   ]
  },
  {
   "cell_type": "markdown",
   "id": "76e1d663-199f-4770-96c0-7b8fb3bdc60d",
   "metadata": {},
   "source": [
    "## Filtering your INNER JOIN\n",
    "Congrats on performing your first INNER JOIN! You're now going to finish this chapter with one final exercise in which you perform an INNER JOIN and filter the result using a WHERE clause.\n",
    "\n",
    "Recall that to INNER JOIN the Orders and Customers tables from the Northwind database, Hugo executed the following SQL query:\n",
    "\n"
   ]
  },
  {
   "cell_type": "code",
   "execution_count": null,
   "id": "65305305-6c2d-43f2-b93e-141070a5ee6a",
   "metadata": {},
   "outputs": [],
   "source": [
    "engine = create_engine('sqlite:///Northwind.sqlite')\n",
    "\n",
    "# Execute query and store records in DataFrame: df\n",
    "df = pd.read_sql_query('SELECT * FROM PlayListTrack INNER JOIN Track ON PlaylistTrack.TrackId = Track.TrackId WHERE Milliseconds < 250000', engine)\n",
    "\n",
    "# Print head of DataFrame\n",
    "print(df.head())"
   ]
  },
  {
   "cell_type": "code",
   "execution_count": null,
   "id": "963f52b3-e683-4b0c-879a-61c36beb5d6c",
   "metadata": {},
   "outputs": [],
   "source": []
  },
  {
   "cell_type": "markdown",
   "id": "a5ad418e-faac-42f2-8cba-b755785aef0c",
   "metadata": {},
   "source": [
    "## Final Thoughts"
   ]
  },
  {
   "cell_type": "markdown",
   "id": "82cc2560-fb39-4f37-a149-564fe7041423",
   "metadata": {},
   "source": [
    "#### What you’ve learned:\n",
    "- Relational databases\n",
    "- Queries\\\n",
    "SELECT\\\n",
    "WHERE\\\n",
    "JOIN\n"
   ]
  },
  {
   "cell_type": "markdown",
   "id": "9610cc26-2dc3-4631-8eb6-e866880cc091",
   "metadata": {},
   "source": [
    "## Next course:\n",
    "- Scrape data from the web\n",
    "- Interact with APIs"
   ]
  },
  {
   "cell_type": "code",
   "execution_count": null,
   "id": "e3855633-434b-4f6b-aaf3-2d5f1a2930b8",
   "metadata": {},
   "outputs": [],
   "source": []
  }
 ],
 "metadata": {
  "kernelspec": {
   "display_name": "Python 3 (ipykernel)",
   "language": "python",
   "name": "python3"
  },
  "language_info": {
   "codemirror_mode": {
    "name": "ipython",
    "version": 3
   },
   "file_extension": ".py",
   "mimetype": "text/x-python",
   "name": "python",
   "nbconvert_exporter": "python",
   "pygments_lexer": "ipython3",
   "version": "3.9.13"
  }
 },
 "nbformat": 4,
 "nbformat_minor": 5
}
