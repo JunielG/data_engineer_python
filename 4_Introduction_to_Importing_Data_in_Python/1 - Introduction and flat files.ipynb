{
 "cells": [
  {
   "cell_type": "markdown",
   "id": "d70213fa-4303-43fb-a143-813d441386f4",
   "metadata": {},
   "source": [
    "# Welcome to the course!"
   ]
  },
  {
   "cell_type": "markdown",
   "id": "341dde7b-b7b6-41a5-97e0-b14c97455068",
   "metadata": {},
   "source": [
    "As a data scientist, you will need to clean data, wrangle and munge it, visualize it, build predictive models, and interpret these models. Before you can do so, however, you will need to know how to get data into Python. In this course, you'll learn the many ways to import data into Python: from flat files such as .txt and .csv; from files native to other software such as Excel spreadsheets, Stata, SAS, and MATLAB files; and from relational databases such as SQLite and PostgreSQL."
   ]
  },
  {
   "cell_type": "markdown",
   "id": "94054b52-e4f7-4a0f-9f4d-5e01d9b806a2",
   "metadata": {},
   "source": [
    "### Import data\n",
    "- Flat files, e.g. .txts, .csvs\n",
    "- Files from other software"
   ]
  },
  {
   "cell_type": "markdown",
   "id": "2ebf2534-98b8-413e-89d0-7fcbbd03c0a5",
   "metadata": {},
   "source": [
    "### Import data\n",
    "- Flat files, e.g. .txts, .csvs\n",
    "- Files from other software\n",
    "- Relational databases"
   ]
  },
  {
   "cell_type": "markdown",
   "id": "b0ca9f16-7960-47fb-8582-5ab632d06dc0",
   "metadata": {},
   "source": [
    "### Reading a text file"
   ]
  },
  {
   "cell_type": "code",
   "execution_count": 1,
   "id": "06225511-b10d-4558-9ae4-da0fb2a828cd",
   "metadata": {},
   "outputs": [],
   "source": [
    "filename = 'seaslug.txt'\n",
    "file = open(filename, mode='r')  # 'r' is to read\n",
    "text = file.read()\n",
    "file.close()"
   ]
  },
  {
   "cell_type": "markdown",
   "id": "0d6654de-466a-4070-ad65-6f84b263ca70",
   "metadata": {},
   "source": [
    "### Printing a text file"
   ]
  },
  {
   "cell_type": "code",
   "execution_count": null,
   "id": "5b805e26-1d52-46cb-81f0-a37245546828",
   "metadata": {},
   "outputs": [],
   "source": [
    "print(text)"
   ]
  },
  {
   "cell_type": "markdown",
   "id": "51ab3198-4233-4def-92a5-9420c97e2235",
   "metadata": {},
   "source": [
    "### Writing to a file"
   ]
  },
  {
   "cell_type": "code",
   "execution_count": 4,
   "id": "e2a41b08-a0cf-401d-b6c7-9594cc322de4",
   "metadata": {},
   "outputs": [],
   "source": [
    "filename = 'seaslug.txt'\n",
    "file = open(filename, mode='w')  # 'w' is to write\n",
    "file.close()"
   ]
  },
  {
   "cell_type": "markdown",
   "id": "7dfcd651-f525-4731-bdab-8dd17d483d7d",
   "metadata": {},
   "source": [
    "### Context manager with"
   ]
  },
  {
   "cell_type": "code",
   "execution_count": 5,
   "id": "b35c44ab-541e-44fc-bfe8-d64561d0fcea",
   "metadata": {},
   "outputs": [
    {
     "name": "stdout",
     "output_type": "stream",
     "text": [
      "\n"
     ]
    }
   ],
   "source": [
    "with open('seaslug.txt','r') as file:\n",
    "    print(file.read())"
   ]
  },
  {
   "cell_type": "markdown",
   "id": "181a471a-d6e7-4cc9-81a4-3e48789b0d33",
   "metadata": {},
   "source": [
    "### In the exercises, you’ll:\n",
    "- Print files to the console\n",
    "- Print specific lines\n",
    "- Discuss flat files\n"
   ]
  },
  {
   "cell_type": "markdown",
   "id": "41522289-8812-4b04-a184-377c5cf12600",
   "metadata": {},
   "source": [
    "## Importing entire text files\n",
    "In this exercise, you'll be working with the file moby_dick.txt. It is a text file that contains the opening sentences of Moby Dick, one of the great American novels! In the video, you've seen you could open such a file using file = open('moby_dick.txt', mode='r'). You could then read from it with file.read() and close the file using file.close(). However, using context managers allows you to do this more effectively. In this exercise, you will gain experience opening a text file, printing its contents and, finally, closing it by using a context manager."
   ]
  },
  {
   "cell_type": "code",
   "execution_count": 1,
   "id": "ff70d544-9162-4749-a261-794a303334d6",
   "metadata": {},
   "outputs": [
    {
     "name": "stdout",
     "output_type": "stream",
     "text": [
      "CHAPTER 1. Loomings.\n",
      "\n",
      "Call me Ishmael. Some years ago--never mind how long precisely--having\n",
      "little or no money in my purse, and nothing particular to interest me on\n",
      "shore, I thought I would sail about a little and see the watery part of\n",
      "the world. It is a way I have of driving off the spleen and regulating\n",
      "the circulation. Whenever I find myself growing grim about the mouth;\n",
      "whenever it is a damp, drizzly November in my soul; whenever I find\n",
      "myself involuntarily pausing before coffin warehouses, and bringing up\n",
      "the rear of every funeral I meet; and especially whenever my hypos get\n",
      "such an upper hand of me, that it requires a strong moral principle to\n",
      "prevent me from deliberately stepping into the street, and methodically\n",
      "knocking people's hats off--then, I account it high time to get to sea\n",
      "as soon as I can. This is my substitute for pistol and ball. With a\n",
      "philosophical flourish Cato throws himself upon his sword; I quietly\n",
      "take to the ship. There is nothing surprising in this. If they but knew\n",
      "it, almost all men in their degree, some time or other, cherish very\n",
      "nearly the same feelings towards the ocean with me.\n"
     ]
    }
   ],
   "source": [
    "# Open a file as read-only and bind it to file\n",
    "with open('moby_dick.txt', 'r') as file:\n",
    "  \t# Print it\n",
    "    print(file.read())"
   ]
  },
  {
   "cell_type": "markdown",
   "id": "6baba40d-8c01-4f8d-87e4-40c68405fdd0",
   "metadata": {},
   "source": [
    "## Importing text files line by line\n",
    "For large files, we may not want to print all of their content to the shell: you may wish to print only the first few lines. Enter the .readline() method, which allows you to do this. When a file called file is open, you can print out the first line by executing file.readline(). If you execute the same command again, the second line will print, and so on.\n",
    "\n",
    "In the introductory video, Hugo also introduced the concept of a context manager. He showed that you can bind a variable file by using a context manager construct:\n",
    "\n",
    "with open('huck_finn.txt') as file:\n",
    "While still within this construct, the variable file will be bound to open('huck_finn.txt'); thus, to print the file to the shell, all the code you need to execute is:\n",
    "\n",
    "with open('huck_finn.txt') as file:\n",
    "    print(file.readline())\n",
    "You'll now use these tools to print the first few lines of moby_dick.txt!"
   ]
  },
  {
   "cell_type": "code",
   "execution_count": 2,
   "id": "06522aeb-46a6-4e37-9cd9-20f7c9883edb",
   "metadata": {},
   "outputs": [
    {
     "name": "stdout",
     "output_type": "stream",
     "text": [
      "CHAPTER 1. Loomings.\n",
      "\n",
      "\n",
      "\n",
      "Call me Ishmael. Some years ago--never mind how long precisely--having\n",
      "\n"
     ]
    }
   ],
   "source": [
    "# Read & print the first 3 lines\n",
    "with open('moby_dick.txt') as file:\n",
    "    print(file.readline())\n",
    "    print(file.readline())\n",
    "    print(file.readline())"
   ]
  },
  {
   "cell_type": "markdown",
   "id": "1a8f8893-7248-404b-93c2-90ca7f58bd2a",
   "metadata": {},
   "source": [
    "# The importance of flat files in data science"
   ]
  },
  {
   "cell_type": "markdown",
   "id": "a95f8b06-6eb5-4fad-aee1-5cbaacebee45",
   "metadata": {},
   "source": [
    "### Flat files\n",
    "- titanic.csv"
   ]
  },
  {
   "cell_type": "markdown",
   "id": "245ec7a9-f8a6-4042-bd3c-a97e36a4ce54",
   "metadata": {},
   "source": [
    "### Flat files\n",
    "- Text files containing records\n",
    "- That is, table data\n",
    "- Record: row of fields or attributes\\\n",
    "titanic.csv"
   ]
  },
  {
   "cell_type": "markdown",
   "id": "820177db-1b94-4718-889f-996f4492f9d8",
   "metadata": {},
   "source": [
    "### Flat files\n",
    "- Text files containing records\n",
    "- That is, table data\n",
    "- Record: row of fields or attributes\n",
    "- Column: feature or attribute\\\n",
    "titanic.csv"
   ]
  },
  {
   "cell_type": "markdown",
   "id": "f8ea82de-8643-4895-aaba-e5fd763a2296",
   "metadata": {},
   "source": [
    "### File extension\n",
    "- .csv - Comma separated values\n",
    "- .txt - Text file\n",
    "- commas, tabs - Delimiters\n"
   ]
  },
  {
   "cell_type": "markdown",
   "id": "8ed4bc04-82c0-4bcc-8b81-667f02db5de4",
   "metadata": {},
   "source": [
    "### Tab-delimited file\n",
    "- MNIST.txt"
   ]
  },
  {
   "cell_type": "markdown",
   "id": "2430722a-d98c-49db-a13c-cf129c43014b",
   "metadata": {},
   "source": [
    "### How do you import flat files?\n",
    "- Two main packages: NumPy, pandas\n",
    "- Here, you’ll learn to import:\\\n",
    "Flat files with numerical data (MNIST)\\\n",
    "Flat files with numerical data and strings (titanic.csv)\n"
   ]
  },
  {
   "cell_type": "code",
   "execution_count": 3,
   "id": "e4e97610-4f83-47f7-9d16-7134852feeef",
   "metadata": {},
   "outputs": [
    {
     "name": "stdout",
     "output_type": "stream",
     "text": [
      "The Zen of Python, by Tim Peters\n",
      "\n",
      "Beautiful is better than ugly.\n",
      "Explicit is better than implicit.\n",
      "Simple is better than complex.\n",
      "Complex is better than complicated.\n",
      "Flat is better than nested.\n",
      "Sparse is better than dense.\n",
      "Readability counts.\n",
      "Special cases aren't special enough to break the rules.\n",
      "Although practicality beats purity.\n",
      "Errors should never pass silently.\n",
      "Unless explicitly silenced.\n",
      "In the face of ambiguity, refuse the temptation to guess.\n",
      "There should be one-- and preferably only one --obvious way to do it.\n",
      "Although that way may not be obvious at first unless you're Dutch.\n",
      "Now is better than never.\n",
      "Although never is often better than *right* now.\n",
      "If the implementation is hard to explain, it's a bad idea.\n",
      "If the implementation is easy to explain, it may be a good idea.\n",
      "Namespaces are one honking great idea -- let's do more of those!\n"
     ]
    }
   ],
   "source": [
    "import this"
   ]
  },
  {
   "cell_type": "markdown",
   "id": "2fe0ec8a-9e32-4aec-8f2e-f76f5a38a6a2",
   "metadata": {},
   "source": [
    "# Importing flat files using NumPy"
   ]
  },
  {
   "cell_type": "markdown",
   "id": "dd5d173c-a157-48dd-bd3d-c5a22c3ed392",
   "metadata": {},
   "source": [
    "### Why NumPy?\n",
    "- NumPy arrays: standard for storing numerical data\n"
   ]
  },
  {
   "cell_type": "markdown",
   "id": "50c5d573-b92d-4e94-b02b-53c0d220e771",
   "metadata": {},
   "source": [
    "### Why NumPy?\n",
    "- NumPy arrays: standard for storing numerical data\n",
    "- Essential for other packages: e.g. scikit-learn \n",
    "- loadtxt()\n",
    "- genfromtxt()\n"
   ]
  },
  {
   "cell_type": "markdown",
   "id": "d30e1404-1fef-4fbf-b741-ad08520ae502",
   "metadata": {},
   "source": [
    "### Importing flat files using NumPy"
   ]
  },
  {
   "cell_type": "code",
   "execution_count": 4,
   "id": "6546e293-17e0-4e46-bc9f-70fe696f0be0",
   "metadata": {},
   "outputs": [
    {
     "data": {
      "text/plain": [
       "array([[1., 0., 0., ..., 0., 0., 0.],\n",
       "       [0., 0., 0., ..., 0., 0., 0.],\n",
       "       [1., 0., 0., ..., 0., 0., 0.],\n",
       "       ...,\n",
       "       [2., 0., 0., ..., 0., 0., 0.],\n",
       "       [0., 0., 0., ..., 0., 0., 0.],\n",
       "       [5., 0., 0., ..., 0., 0., 0.]])"
      ]
     },
     "execution_count": 4,
     "metadata": {},
     "output_type": "execute_result"
    }
   ],
   "source": [
    "import numpy as np\n",
    "filename = 'MNIST.txt'\n",
    "data = np.loadtxt(filename, delimiter=',')\n",
    "data"
   ]
  },
  {
   "cell_type": "markdown",
   "id": "330b4920-5308-444d-a9bc-f3e0d8570ce4",
   "metadata": {},
   "source": [
    "## Customizing your NumPy import\n",
    "- skiprows: how many rows (not indices) you wish to skip"
   ]
  },
  {
   "cell_type": "code",
   "execution_count": 6,
   "id": "2182a17f-c667-4471-8ce2-d02f5bcc0fb5",
   "metadata": {},
   "outputs": [
    {
     "name": "stdout",
     "output_type": "stream",
     "text": [
      "[[0. 0. 0. ... 0. 0. 0.]\n",
      " [1. 0. 0. ... 0. 0. 0.]\n",
      " [4. 0. 0. ... 0. 0. 0.]\n",
      " ...\n",
      " [2. 0. 0. ... 0. 0. 0.]\n",
      " [0. 0. 0. ... 0. 0. 0.]\n",
      " [5. 0. 0. ... 0. 0. 0.]]\n"
     ]
    }
   ],
   "source": [
    "filename = 'MNIST_header.txt'\n",
    "data = np.loadtxt(filename, delimiter=',', skiprows=1)\n",
    "print(data)"
   ]
  },
  {
   "cell_type": "markdown",
   "id": "0cd6b7b5-ab11-4f97-aec8-44411bf4d6bd",
   "metadata": {},
   "source": [
    "##### usecols: list of the indices of the columns you wish to keep\n"
   ]
  },
  {
   "cell_type": "code",
   "execution_count": 8,
   "id": "26cf0c9d-0eb6-455d-a699-a44ed16c7959",
   "metadata": {
    "scrolled": true
   },
   "outputs": [
    {
     "name": "stdout",
     "output_type": "stream",
     "text": [
      "[[0. 0.]\n",
      " [1. 0.]\n",
      " [4. 0.]\n",
      " [0. 0.]\n",
      " [0. 0.]\n",
      " [7. 0.]\n",
      " [3. 0.]\n",
      " [5. 0.]\n",
      " [3. 0.]\n",
      " [8. 0.]\n",
      " [9. 0.]\n",
      " [1. 0.]\n",
      " [3. 0.]\n",
      " [3. 0.]\n",
      " [1. 0.]\n",
      " [2. 0.]\n",
      " [0. 0.]\n",
      " [7. 0.]\n",
      " [5. 0.]\n",
      " [8. 0.]\n",
      " [6. 0.]\n",
      " [2. 0.]\n",
      " [0. 0.]\n",
      " [2. 0.]\n",
      " [3. 0.]\n",
      " [6. 0.]\n",
      " [9. 0.]\n",
      " [9. 0.]\n",
      " [7. 0.]\n",
      " [8. 0.]\n",
      " [9. 0.]\n",
      " [4. 0.]\n",
      " [9. 0.]\n",
      " [2. 0.]\n",
      " [1. 0.]\n",
      " [3. 0.]\n",
      " [1. 0.]\n",
      " [1. 0.]\n",
      " [4. 0.]\n",
      " [9. 0.]\n",
      " [1. 0.]\n",
      " [4. 0.]\n",
      " [4. 0.]\n",
      " [2. 0.]\n",
      " [6. 0.]\n",
      " [3. 0.]\n",
      " [7. 0.]\n",
      " [7. 0.]\n",
      " [4. 0.]\n",
      " [7. 0.]\n",
      " [5. 0.]\n",
      " [1. 0.]\n",
      " [9. 0.]\n",
      " [0. 0.]\n",
      " [2. 0.]\n",
      " [2. 0.]\n",
      " [3. 0.]\n",
      " [9. 0.]\n",
      " [1. 0.]\n",
      " [1. 0.]\n",
      " [1. 0.]\n",
      " [5. 0.]\n",
      " [0. 0.]\n",
      " [6. 0.]\n",
      " [3. 0.]\n",
      " [4. 0.]\n",
      " [8. 0.]\n",
      " [1. 0.]\n",
      " [0. 0.]\n",
      " [3. 0.]\n",
      " [9. 0.]\n",
      " [6. 0.]\n",
      " [2. 0.]\n",
      " [6. 0.]\n",
      " [4. 0.]\n",
      " [7. 0.]\n",
      " [1. 0.]\n",
      " [4. 0.]\n",
      " [1. 0.]\n",
      " [5. 0.]\n",
      " [4. 0.]\n",
      " [8. 0.]\n",
      " [9. 0.]\n",
      " [2. 0.]\n",
      " [9. 0.]\n",
      " [9. 0.]\n",
      " [8. 0.]\n",
      " [9. 0.]\n",
      " [6. 0.]\n",
      " [3. 0.]\n",
      " [6. 0.]\n",
      " [4. 0.]\n",
      " [6. 0.]\n",
      " [2. 0.]\n",
      " [9. 0.]\n",
      " [1. 0.]\n",
      " [2. 0.]\n",
      " [0. 0.]\n",
      " [5. 0.]]\n"
     ]
    }
   ],
   "source": [
    "filename = 'MNIST_header.txt'\n",
    "data = np.loadtxt(filename, delimiter=',', skiprows=1, usecols=[0,2])\n",
    "print(data)"
   ]
  },
  {
   "cell_type": "code",
   "execution_count": 9,
   "id": "a6a43209-2811-4f9a-8710-f8f2999cdd29",
   "metadata": {},
   "outputs": [
    {
     "name": "stdout",
     "output_type": "stream",
     "text": [
      "[['1.0' '0.0' '0.0' ... '0.0' '0.0' '0.0']\n",
      " ['0.0' '0.0' '0.0' ... '0.0' '0.0' '0.0']\n",
      " ['1.0' '0.0' '0.0' ... '0.0' '0.0' '0.0']\n",
      " ...\n",
      " ['2.0' '0.0' '0.0' ... '0.0' '0.0' '0.0']\n",
      " ['0.0' '0.0' '0.0' ... '0.0' '0.0' '0.0']\n",
      " ['5.0' '0.0' '0.0' ... '0.0' '0.0' '0.0']]\n"
     ]
    }
   ],
   "source": [
    "data = np.loadtxt(filename, delimiter=',', dtype=str)\n",
    "print(data)"
   ]
  },
  {
   "cell_type": "markdown",
   "id": "0e2f8e09-e787-40a8-beda-a3eaff11e8ed",
   "metadata": {},
   "source": [
    "### Mixed datatypes\n",
    "- titanic.csv"
   ]
  },
  {
   "cell_type": "markdown",
   "id": "b1646f91-208d-473d-b2eb-9a0d51983a85",
   "metadata": {},
   "source": [
    "## Using NumPy to import flat files\n",
    "In this exercise, you're now going to load the MNIST digit recognition dataset using the numpy function loadtxt() and see just how easy it can be:\n",
    "\n",
    "The first argument will be the filename.\n",
    "The second will be the delimiter which, in this case, is a comma.\n",
    "The MNIST dataset is a collection of handwritten digits from 0 to 9, frequently used in the field of machine learning. It serves as a benchmark for evaluating algorithm performance in recognizing and classifying these numbers."
   ]
  },
  {
   "cell_type": "code",
   "execution_count": 11,
   "id": "c66f8c26-bb0a-4855-a866-0cbcad7a0c0d",
   "metadata": {},
   "outputs": [
    {
     "name": "stdout",
     "output_type": "stream",
     "text": [
      "<class 'numpy.ndarray'>\n"
     ]
    },
    {
     "data": {
      "image/png": "[encoded data removed]",
      "text/plain": [
       "<Figure size 640x480 with 1 Axes>"
      ]
     },
     "metadata": {},
     "output_type": "display_data"
    }
   ],
   "source": [
    "import pandas as pd\n",
    "import numpy as np\n",
    "import matplotlib.pyplot as plt\n",
    "\n",
    "# Assign filename to variable: file\n",
    "file = 'digits.csv'\n",
    "\n",
    "# Load file as array: digits\n",
    "digits = np.loadtxt(file, delimiter=',')\n",
    "\n",
    "# Print datatype of digits\n",
    "print(type(digits))\n",
    "\n",
    "# Select and reshape a row\n",
    "im = digits[21, 1:]\n",
    "im_sq = np.reshape(im, (28, 28))\n",
    "\n",
    "# Plot reshaped data (matplotlib.pyplot already loaded as plt)\n",
    "plt.imshow(im_sq, cmap='Greys', interpolation='nearest')\n",
    "plt.show()\n"
   ]
  },
  {
   "cell_type": "markdown",
   "id": "bfb43645-5f4d-4220-ba48-80713254af63",
   "metadata": {},
   "source": [
    "## Customizing your NumPy import\n",
    "What if there are rows, such as a header, that you don't want to import? What if your file has a delimiter other than a comma? What if you only wish to import particular columns?\n",
    "\n",
    "There are a number of arguments that np.loadtxt() takes that you'll find useful:\n",
    "\n",
    "delimiter changes the delimiter that loadtxt() is expecting.\n",
    "You can use ',' for comma-delimited.\n",
    "You can use '\\t' for tab-delimited.\n",
    "skiprows allows you to specify how many rows (not indices) you wish to skip.\n",
    "usecols takes a list of the indices of the columns you wish to keep.\n",
    "The file that you'll be importing, digits_header.txt, has a header and is tab-delimited."
   ]
  },
  {
   "cell_type": "code",
   "execution_count": null,
   "id": "6bf0b510-964e-4317-9516-2f73cf85478a",
   "metadata": {},
   "outputs": [],
   "source": [
    "# Assign the filename: file\n",
    "file = 'digits_header.txt'\n",
    "\n",
    "# Load the data: data\n",
    "data = np.loadtxt(file, delimiter='\\t', skiprows=1, usecols=[0,2])\n",
    "\n",
    "# Print data\n",
    "print(data)"
   ]
  },
  {
   "cell_type": "markdown",
   "id": "572433c0-84ed-4922-a713-c6fc50450884",
   "metadata": {},
   "source": [
    "## Importing different datatypes\n",
    "The file seaslug.txt\n",
    "\n",
    "has a text header, consisting of strings\n",
    "is tab-delimited.\n",
    "This data consists of the percentage of sea slug larvae that had metamorphosed in a given time period. Read more here.\n",
    "\n",
    "Due to the header, if you tried to import it as-is using np.loadtxt(), Python would throw you a ValueError and tell you that it could not convert string to float. There are two ways to deal with this: firstly, you can set the data type argument dtype equal to str (for string).\n",
    "\n",
    "Alternatively, you can skip the first row as we have seen before, using the skiprows argument."
   ]
  },
  {
   "cell_type": "code",
   "execution_count": null,
   "id": "bf1164d9-9853-46a3-84b2-57329da2e3f0",
   "metadata": {},
   "outputs": [],
   "source": [
    "# Assign filename: file\n",
    "file = 'seaslug.txt'\n",
    "\n",
    "# Import file: data\n",
    "data = np.loadtxt(file, delimiter='\\t', dtype=str)\n",
    "\n",
    "# Print the first element of data\n",
    "print(data[0])\n",
    "\n",
    "# Import file as floats and skip the first row: data_float\n",
    "data_float = np.loadtxt(file, delimiter='\\t', dtype=float, skiprows=1)\n",
    "\n",
    "# Print the 10th element of data_float\n",
    "print(data_float[9])\n",
    "\n",
    "# Plot a scatterplot of the data\n",
    "plt.scatter(data_float[:, 0], data_float[:, 1])\n",
    "plt.xlabel('time (min.)')\n",
    "plt.ylabel('percentage of larvae')\n",
    "plt.show()"
   ]
  },
  {
   "cell_type": "markdown",
   "id": "23fe33f3-0e90-4ff1-9572-a9cfafa02e4d",
   "metadata": {},
   "source": [
    "# Importing flat files using pandas"
   ]
  },
  {
   "cell_type": "markdown",
   "id": "99d40565-c49a-4a0f-8bbc-a5833441d673",
   "metadata": {},
   "source": [
    "### What a data scientist needs\n",
    "- Two-dimensional labeled data structure(s)\n",
    "- Columns of potentially different types\n",
    "- Manipulate, slice, reshape, groupby, join, merge\n",
    "- Perform statistics\n",
    "- Work with time series data\n"
   ]
  },
  {
   "cell_type": "markdown",
   "id": "cda4d8bc-3336-4b59-a973-1c27245fcbe3",
   "metadata": {},
   "source": [
    "### Manipulating pandas DataFrames\n",
    "- Exploratory data analysis\n",
    "- Data wrangling\n",
    "- Data preprocessing\n",
    "- Building models\n",
    "- Visualization\n",
    "- Standard and best practice to use pandas\n"
   ]
  },
  {
   "cell_type": "markdown",
   "id": "b453c54a-a719-4f9a-a4bb-92e42a6a099f",
   "metadata": {},
   "source": [
    "### Importing using pandas"
   ]
  },
  {
   "cell_type": "code",
   "execution_count": 36,
   "id": "5be4350f-640c-4c2d-bf6a-7bb8f24c69de",
   "metadata": {},
   "outputs": [
    {
     "data": {
      "text/html": [
       "<div>\n",
       "<style scoped>\n",
       "    .dataframe tbody tr th:only-of-type {\n",
       "        vertical-align: middle;\n",
       "    }\n",
       "\n",
       "    .dataframe tbody tr th {\n",
       "        vertical-align: top;\n",
       "    }\n",
       "\n",
       "    .dataframe thead th {\n",
       "        text-align: right;\n",
       "    }\n",
       "</style>\n",
       "<table border=\"1\" class=\"dataframe\">\n",
       "  <thead>\n",
       "    <tr style=\"text-align: right;\">\n",
       "      <th></th>\n",
       "      <th>fixed acidity</th>\n",
       "      <th>volatile acidity</th>\n",
       "      <th>citric acid</th>\n",
       "      <th>residual sugar</th>\n",
       "      <th>chlorides</th>\n",
       "      <th>free sulfur dioxide</th>\n",
       "      <th>total sulfur dioxide</th>\n",
       "      <th>density</th>\n",
       "      <th>pH</th>\n",
       "      <th>sulphates</th>\n",
       "      <th>alcohol</th>\n",
       "      <th>quality</th>\n",
       "    </tr>\n",
       "  </thead>\n",
       "  <tbody>\n",
       "    <tr>\n",
       "      <th>0</th>\n",
       "      <td>7.4</td>\n",
       "      <td>0.70</td>\n",
       "      <td>0.00</td>\n",
       "      <td>1.9</td>\n",
       "      <td>0.076</td>\n",
       "      <td>11.0</td>\n",
       "      <td>34.0</td>\n",
       "      <td>0.9978</td>\n",
       "      <td>3.51</td>\n",
       "      <td>0.56</td>\n",
       "      <td>9.4</td>\n",
       "      <td>5</td>\n",
       "    </tr>\n",
       "    <tr>\n",
       "      <th>1</th>\n",
       "      <td>7.8</td>\n",
       "      <td>0.88</td>\n",
       "      <td>0.00</td>\n",
       "      <td>2.6</td>\n",
       "      <td>0.098</td>\n",
       "      <td>25.0</td>\n",
       "      <td>67.0</td>\n",
       "      <td>0.9968</td>\n",
       "      <td>3.20</td>\n",
       "      <td>0.68</td>\n",
       "      <td>9.8</td>\n",
       "      <td>5</td>\n",
       "    </tr>\n",
       "    <tr>\n",
       "      <th>2</th>\n",
       "      <td>7.8</td>\n",
       "      <td>0.76</td>\n",
       "      <td>0.04</td>\n",
       "      <td>2.3</td>\n",
       "      <td>0.092</td>\n",
       "      <td>15.0</td>\n",
       "      <td>54.0</td>\n",
       "      <td>0.9970</td>\n",
       "      <td>3.26</td>\n",
       "      <td>0.65</td>\n",
       "      <td>9.8</td>\n",
       "      <td>5</td>\n",
       "    </tr>\n",
       "    <tr>\n",
       "      <th>3</th>\n",
       "      <td>11.2</td>\n",
       "      <td>0.28</td>\n",
       "      <td>0.56</td>\n",
       "      <td>1.9</td>\n",
       "      <td>0.075</td>\n",
       "      <td>17.0</td>\n",
       "      <td>60.0</td>\n",
       "      <td>0.9980</td>\n",
       "      <td>3.16</td>\n",
       "      <td>0.58</td>\n",
       "      <td>9.8</td>\n",
       "      <td>6</td>\n",
       "    </tr>\n",
       "    <tr>\n",
       "      <th>4</th>\n",
       "      <td>7.4</td>\n",
       "      <td>0.70</td>\n",
       "      <td>0.00</td>\n",
       "      <td>1.9</td>\n",
       "      <td>0.076</td>\n",
       "      <td>11.0</td>\n",
       "      <td>34.0</td>\n",
       "      <td>0.9978</td>\n",
       "      <td>3.51</td>\n",
       "      <td>0.56</td>\n",
       "      <td>9.4</td>\n",
       "      <td>5</td>\n",
       "    </tr>\n",
       "  </tbody>\n",
       "</table>\n",
       "</div>"
      ],
      "text/plain": [
       "   fixed acidity  volatile acidity  citric acid  residual sugar  chlorides  \\\n",
       "0            7.4              0.70         0.00             1.9      0.076   \n",
       "1            7.8              0.88         0.00             2.6      0.098   \n",
       "2            7.8              0.76         0.04             2.3      0.092   \n",
       "3           11.2              0.28         0.56             1.9      0.075   \n",
       "4            7.4              0.70         0.00             1.9      0.076   \n",
       "\n",
       "   free sulfur dioxide  total sulfur dioxide  density    pH  sulphates  \\\n",
       "0                 11.0                  34.0   0.9978  3.51       0.56   \n",
       "1                 25.0                  67.0   0.9968  3.20       0.68   \n",
       "2                 15.0                  54.0   0.9970  3.26       0.65   \n",
       "3                 17.0                  60.0   0.9980  3.16       0.58   \n",
       "4                 11.0                  34.0   0.9978  3.51       0.56   \n",
       "\n",
       "   alcohol  quality  \n",
       "0      9.4        5  \n",
       "1      9.8        5  \n",
       "2      9.8        5  \n",
       "3      9.8        6  \n",
       "4      9.4        5  "
      ]
     },
     "execution_count": 36,
     "metadata": {},
     "output_type": "execute_result"
    }
   ],
   "source": [
    "filename = 'winequality-red.csv'\n",
    "data = pd.read_csv(filename)\n",
    "data.head()"
   ]
  },
  {
   "cell_type": "code",
   "execution_count": 37,
   "id": "0f9d9fad-18ef-40d8-b776-b6d0999797cf",
   "metadata": {},
   "outputs": [
    {
     "data": {
      "text/plain": [
       "array([[ 7.4  ,  0.7  ,  0.   , ...,  0.56 ,  9.4  ,  5.   ],\n",
       "       [ 7.8  ,  0.88 ,  0.   , ...,  0.68 ,  9.8  ,  5.   ],\n",
       "       [ 7.8  ,  0.76 ,  0.04 , ...,  0.65 ,  9.8  ,  5.   ],\n",
       "       ...,\n",
       "       [ 6.3  ,  0.51 ,  0.13 , ...,  0.75 , 11.   ,  6.   ],\n",
       "       [ 5.9  ,  0.645,  0.12 , ...,  0.71 , 10.2  ,  5.   ],\n",
       "       [ 6.   ,  0.31 ,  0.47 , ...,  0.66 , 11.   ,  6.   ]])"
      ]
     },
     "execution_count": 37,
     "metadata": {},
     "output_type": "execute_result"
    }
   ],
   "source": [
    "data_array = data.to_numpy()\n",
    "data_array"
   ]
  },
  {
   "cell_type": "markdown",
   "id": "1d6ebf04-7cab-4f90-be3b-26a70e12315a",
   "metadata": {},
   "source": [
    "### You'll experience:\n",
    "- Importing flat files in a straightforward manner\n",
    "- Importing flat files with issues such as comments and missingvalues\n"
   ]
  },
  {
   "cell_type": "markdown",
   "id": "d103274c-3843-48a1-98f5-4bd012ff4ff7",
   "metadata": {},
   "source": [
    "## Using pandas to import flat files as DataFrames (1)\n",
    "In the last exercise, you were able to import flat files containing columns with different datatypes as numpy arrays. However, the DataFrame object in pandas is a more appropriate structure in which to store such data and, thankfully, we can easily import files of mixed data types as DataFrames using the pandas functions read_csv() and read_table()."
   ]
  },
  {
   "cell_type": "code",
   "execution_count": 40,
   "id": "88295d04-166d-4200-a264-e0fcf3150c41",
   "metadata": {},
   "outputs": [
    {
     "data": {
      "text/html": [
       "<div>\n",
       "<style scoped>\n",
       "    .dataframe tbody tr th:only-of-type {\n",
       "        vertical-align: middle;\n",
       "    }\n",
       "\n",
       "    .dataframe tbody tr th {\n",
       "        vertical-align: top;\n",
       "    }\n",
       "\n",
       "    .dataframe thead th {\n",
       "        text-align: right;\n",
       "    }\n",
       "</style>\n",
       "<table border=\"1\" class=\"dataframe\">\n",
       "  <thead>\n",
       "    <tr style=\"text-align: right;\">\n",
       "      <th></th>\n",
       "      <th>PassengerId</th>\n",
       "      <th>Survived</th>\n",
       "      <th>Pclass</th>\n",
       "      <th>Sex</th>\n",
       "      <th>Age</th>\n",
       "      <th>SibSp</th>\n",
       "      <th>Parch</th>\n",
       "      <th>Ticket</th>\n",
       "      <th>Fare</th>\n",
       "      <th>Cabin</th>\n",
       "      <th>Embarked</th>\n",
       "    </tr>\n",
       "  </thead>\n",
       "  <tbody>\n",
       "    <tr>\n",
       "      <th>0</th>\n",
       "      <td>1</td>\n",
       "      <td>0</td>\n",
       "      <td>3</td>\n",
       "      <td>male</td>\n",
       "      <td>22.0</td>\n",
       "      <td>1</td>\n",
       "      <td>0</td>\n",
       "      <td>A/5 21171</td>\n",
       "      <td>7.2500</td>\n",
       "      <td>NaN</td>\n",
       "      <td>S</td>\n",
       "    </tr>\n",
       "    <tr>\n",
       "      <th>1</th>\n",
       "      <td>2</td>\n",
       "      <td>1</td>\n",
       "      <td>1</td>\n",
       "      <td>female</td>\n",
       "      <td>38.0</td>\n",
       "      <td>1</td>\n",
       "      <td>0</td>\n",
       "      <td>PC 17599</td>\n",
       "      <td>71.2833</td>\n",
       "      <td>C85</td>\n",
       "      <td>C</td>\n",
       "    </tr>\n",
       "    <tr>\n",
       "      <th>2</th>\n",
       "      <td>3</td>\n",
       "      <td>1</td>\n",
       "      <td>3</td>\n",
       "      <td>female</td>\n",
       "      <td>26.0</td>\n",
       "      <td>0</td>\n",
       "      <td>0</td>\n",
       "      <td>STON/O2. 3101282</td>\n",
       "      <td>7.9250</td>\n",
       "      <td>NaN</td>\n",
       "      <td>S</td>\n",
       "    </tr>\n",
       "    <tr>\n",
       "      <th>3</th>\n",
       "      <td>4</td>\n",
       "      <td>1</td>\n",
       "      <td>1</td>\n",
       "      <td>female</td>\n",
       "      <td>35.0</td>\n",
       "      <td>1</td>\n",
       "      <td>0</td>\n",
       "      <td>113803</td>\n",
       "      <td>53.1000</td>\n",
       "      <td>C123</td>\n",
       "      <td>S</td>\n",
       "    </tr>\n",
       "    <tr>\n",
       "      <th>4</th>\n",
       "      <td>5</td>\n",
       "      <td>0</td>\n",
       "      <td>3</td>\n",
       "      <td>male</td>\n",
       "      <td>35.0</td>\n",
       "      <td>0</td>\n",
       "      <td>0</td>\n",
       "      <td>373450</td>\n",
       "      <td>8.0500</td>\n",
       "      <td>NaN</td>\n",
       "      <td>S</td>\n",
       "    </tr>\n",
       "  </tbody>\n",
       "</table>\n",
       "</div>"
      ],
      "text/plain": [
       "   PassengerId  Survived  Pclass     Sex   Age  SibSp  Parch  \\\n",
       "0            1         0       3    male  22.0      1      0   \n",
       "1            2         1       1  female  38.0      1      0   \n",
       "2            3         1       3  female  26.0      0      0   \n",
       "3            4         1       1  female  35.0      1      0   \n",
       "4            5         0       3    male  35.0      0      0   \n",
       "\n",
       "             Ticket     Fare Cabin Embarked  \n",
       "0         A/5 21171   7.2500   NaN        S  \n",
       "1          PC 17599  71.2833   C85        C  \n",
       "2  STON/O2. 3101282   7.9250   NaN        S  \n",
       "3            113803  53.1000  C123        S  \n",
       "4            373450   8.0500   NaN        S  "
      ]
     },
     "metadata": {},
     "output_type": "display_data"
    }
   ],
   "source": [
    "# Assign the filename: file\n",
    "file = 'titanic.csv'\n",
    "\n",
    "# Read the file into a DataFrame: df\n",
    "df = pd.read_csv(file)\n",
    "\n",
    "# View the head of the DataFrame\n",
    "display(df.head())"
   ]
  },
  {
   "cell_type": "markdown",
   "id": "2b66defd-6102-4772-afe6-4cf27d9e8e8f",
   "metadata": {},
   "source": [
    "## Using pandas to import flat files as DataFrames (2)\n",
    "In the last exercise, you were able to import flat files into a pandas DataFrame. As a bonus, it is then straightforward to retrieve the corresponding numpy array using the method .to_numpy(). You'll now have a chance to do this using the MNIST dataset, which is available as digits.csv.\n",
    "\n",
    "There are a number of arguments that pd.read_csv() takes that you'll find useful for this exercise:\n",
    "\n",
    "nrows allows you to specify how many rows to read from the file. For example, nrows=10 will only import the first 10 rows.\n",
    "header accepts row numbers to use as the column labels and marks the start of the data. If the file does not contain a header row, you can set header=None, and pandas will automatically assign integer column labels starting from 0 (e.g., 0, 1, 2, …)."
   ]
  },
  {
   "cell_type": "code",
   "execution_count": 41,
   "id": "5c72fb96-fec0-4590-8b9d-ce157be8b911",
   "metadata": {},
   "outputs": [
    {
     "name": "stdout",
     "output_type": "stream",
     "text": [
      "<class 'numpy.ndarray'>\n"
     ]
    }
   ],
   "source": [
    "# Assign the filename: file\n",
    "file = 'digits.csv'\n",
    "\n",
    "# Read the first 5 rows of the file into a DataFrame: data\n",
    "data = pd.read_csv(file, header=None, nrows=5)\n",
    "\n",
    "# Build a numpy array from the DataFrame: data_array\n",
    "data_array = data.to_numpy()\n",
    "\n",
    "# Print the datatype of data_array to the shell\n",
    "print(type(data_array))"
   ]
  },
  {
   "cell_type": "markdown",
   "id": "3f9373f5-83a9-4f57-81e9-2730792defda",
   "metadata": {},
   "source": [
    "## Customizing your pandas import\n",
    "The pandas package is great at dealing with many of the issues you will encounter when importing data as a data scientist, such as comments occurring in flat files, empty lines and missing values (NA or NaN). To wrap up this chapter, you're going to import a corrupted copy of the Titanic dataset titanic_corrupt.txt, which contains comments after the character '#', and is tab-delimited.\n",
    "\n",
    "Key arguments for pd.read_csv() include:\n",
    "\n",
    "sep sets the expected delimiter.\n",
    "You can use ',' for comma-delimited.\n",
    "You can use '\\t' for tab-delimited.\n",
    "comment takes characters that comments occur after in the file, indicating that any text starting with these characters should be ignored.\n",
    "na_values takes a list of strings to identify as NA/NaN. By default, some values are already recognized as NA/NaN. Providing this argument will supply additional values."
   ]
  },
  {
   "cell_type": "code",
   "execution_count": 48,
   "id": "afa5265d-f597-4e13-8e1a-83955b7fd348",
   "metadata": {},
   "outputs": [
    {
     "data": {
      "text/html": [
       "<div>\n",
       "<style scoped>\n",
       "    .dataframe tbody tr th:only-of-type {\n",
       "        vertical-align: middle;\n",
       "    }\n",
       "\n",
       "    .dataframe tbody tr th {\n",
       "        vertical-align: top;\n",
       "    }\n",
       "\n",
       "    .dataframe thead th {\n",
       "        text-align: right;\n",
       "    }\n",
       "</style>\n",
       "<table border=\"1\" class=\"dataframe\">\n",
       "  <thead>\n",
       "    <tr style=\"text-align: right;\">\n",
       "      <th></th>\n",
       "      <th>PassengerId,Survived,Pclass,Sex,Age,SibSp,Parch,Ticket,Fare,Cabin,Embarked</th>\n",
       "    </tr>\n",
       "  </thead>\n",
       "  <tbody>\n",
       "    <tr>\n",
       "      <th>0</th>\n",
       "      <td>1,0,3,male,22.0,1,0,A/5 21171,7.25,,S</td>\n",
       "    </tr>\n",
       "    <tr>\n",
       "      <th>1</th>\n",
       "      <td>2,1,1,female,38.0,1,0,PC 17599,71.2833,C85,C</td>\n",
       "    </tr>\n",
       "    <tr>\n",
       "      <th>2</th>\n",
       "      <td>3,1,3,female,26.0,0,0,STON/O2. 3101282,7.925,,S</td>\n",
       "    </tr>\n",
       "    <tr>\n",
       "      <th>3</th>\n",
       "      <td>4,1,1,female,35.0,1,0,113803,53.1,C123,S</td>\n",
       "    </tr>\n",
       "    <tr>\n",
       "      <th>4</th>\n",
       "      <td>5,0,3,male,35.0,0,0,373450,8.05,,S</td>\n",
       "    </tr>\n",
       "  </tbody>\n",
       "</table>\n",
       "</div>"
      ],
      "text/plain": [
       "  PassengerId,Survived,Pclass,Sex,Age,SibSp,Parch,Ticket,Fare,Cabin,Embarked\n",
       "0              1,0,3,male,22.0,1,0,A/5 21171,7.25,,S                        \n",
       "1       2,1,1,female,38.0,1,0,PC 17599,71.2833,C85,C                        \n",
       "2    3,1,3,female,26.0,0,0,STON/O2. 3101282,7.925,,S                        \n",
       "3           4,1,1,female,35.0,1,0,113803,53.1,C123,S                        \n",
       "4                 5,0,3,male,35.0,0,0,373450,8.05,,S                        "
      ]
     },
     "metadata": {},
     "output_type": "display_data"
    }
   ],
   "source": [
    "# Assign filename: file\n",
    "file = 'titanic_corrupt.txt'\n",
    "\n",
    "# Import file: data\n",
    "data = pd.read_csv(file, sep='\\t', comment='#', na_values=['Nothing'])\n",
    "\n",
    "# Print the head of the DataFrame\n",
    "display(data.head())"
   ]
  },
  {
   "cell_type": "code",
   "execution_count": null,
   "id": "5545d977-0b3a-4032-a0c5-0aa8210ccfda",
   "metadata": {},
   "outputs": [],
   "source": [
    "# Plot 'Age' variable in a histogram\n",
    "pd.DataFrame.hist(data[['Age']])\n",
    "plt.xlabel('Age (years)')\n",
    "plt.ylabel('count')\n",
    "plt.show()"
   ]
  },
  {
   "cell_type": "markdown",
   "id": "239f65a1-fdd2-4200-bc2e-f90d77018f1a",
   "metadata": {},
   "source": [
    "## Final thoughts on data import\n",
    "### Next chapters:\n",
    "- Import other file types:\\\n",
    "Excel, SAS, Stata\n",
    "- Interact with relational databases\n"
   ]
  },
  {
   "cell_type": "markdown",
   "id": "f93d5747-70c1-46d2-93e9-b4f1c14060d2",
   "metadata": {},
   "source": [
    "### Next course:\n",
    "- Scrape data from the web\n",
    "- Interact with APIs\n"
   ]
  },
  {
   "cell_type": "code",
   "execution_count": null,
   "id": "9a0cb296-af87-4a1a-89a1-df3cb955a463",
   "metadata": {},
   "outputs": [],
   "source": []
  }
 ],
 "metadata": {
  "kernelspec": {
   "display_name": "Python 3 (ipykernel)",
   "language": "python",
   "name": "python3"
  },
  "language_info": {
   "codemirror_mode": {
    "name": "ipython",
    "version": 3
   },
   "file_extension": ".py",
   "mimetype": "text/x-python",
   "name": "python",
   "nbconvert_exporter": "python",
   "pygments_lexer": "ipython3",
   "version": "3.9.13"
  }
 },
 "nbformat": 4,
 "nbformat_minor": 5
}
