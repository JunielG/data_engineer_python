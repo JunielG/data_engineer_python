{
 "cells": [
  {
   "cell_type": "markdown",
   "id": "6e868479-ccaf-41f1-96c8-76e8b3779182",
   "metadata": {},
   "source": [
    "## Writing your first package"
   ]
  },
  {
   "cell_type": "markdown",
   "id": "9848f6ed-0f5f-41cf-847c-280354ee1a47",
   "metadata": {},
   "source": [
    "### Naming packages\n",
    "We covered the PEP 8 guidelines for naming packages. In this exercise, you'll use that knowledge to identify a package following the requirements.\n",
    "\n",
    "For additional reference, you can view the PEP 8 section on package naming here"
   ]
  },
  {
   "cell_type": "code",
   "execution_count": null,
   "id": "59f27d39-dbc3-43db-b850-8113d233da81",
   "metadata": {},
   "outputs": [],
   "source": [
    "# Import the package with a name that follows PEP 8\n",
    "import text_analyzer, textAnalyzer, TextAnalyzer, __text_analyzer__"
   ]
  },
  {
   "cell_type": "markdown",
   "id": "c50917be-c616-483d-948e-a6e2aea80320",
   "metadata": {},
   "source": [
    "### Recognizing packages\n",
    "The structure of your directory tree is printed below. You'll be working in the file my_script.py that you can see in the tree."
   ]
  },
  {
   "cell_type": "code",
   "execution_count": null,
   "id": "32702037-c83d-409d-a054-489a829ff25b",
   "metadata": {},
   "outputs": [],
   "source": [
    "# Import local packages \n",
    "import os\n",
    "\n",
    "print(os.listdir('MY_PACKAGE'))  # Check if the file is named correctly\n",
    "print(os.listdir('package'))     # This should have __init__.py\n",
    "print(os.listdir('py_package'))  # This should have __init__.py\n",
    "\n",
    "import package\n",
    "import py_package\n",
    "\n",
    "# View the help for each package\n",
    "help(package)\n",
    "help(py_package)"
   ]
  },
  {
   "cell_type": "markdown",
   "id": "57959255-3808-40aa-89b4-336869fc4702",
   "metadata": {},
   "source": [
    "## Adding functionality to packages"
   ]
  },
  {
   "cell_type": "markdown",
   "id": "89cf2cbb-3c28-49b9-9a8a-8a2ad39d902a",
   "metadata": {},
   "source": [
    "### Adding functionality to your package\n",
    "Thanks to your work before, you already have a skeleton for your python package. In this exercise, you will work to define the functions needed for a text analysis of word usage.\n",
    "\n",
    "In the file counter_utils.py, you will write 2 functions to be a part of your package: plot_counter and sum_counters. The structure of your package can be seen in the tree below. For the coding portions of this exercise, you will be working in the file counter_utils.py."
   ]
  },
  {
   "cell_type": "code",
   "execution_count": null,
   "id": "033197a2-8212-428e-827c-0faa5cbfdc8d",
   "metadata": {},
   "outputs": [],
   "source": [
    "# Import needed functionality\n",
    "from collections import Counter\n",
    "\n",
    "def plot_counter(counter, n_most_common=5):\n",
    "  # Subset the n_most_common items from the input counter\n",
    "  top_items = counter.most_common(n_most_common)\n",
    "  # Plot `top_items`\n",
    "  plot_counter_most_common(top_items)"
   ]
  },
  {
   "cell_type": "code",
   "execution_count": null,
   "id": "39d4c7b3-49f9-4624-9ed4-832369057b8d",
   "metadata": {},
   "outputs": [],
   "source": [
    "# Import needed functionality\n",
    "from collections import Counter\n",
    "\n",
    "def sum_counters(counters):\n",
    "  # Sum the inputted counters\n",
    "  return sum(counters, Counter())"
   ]
  },
  {
   "cell_type": "markdown",
   "id": "520a78c9-de29-446a-bd42-5741af4574dd",
   "metadata": {},
   "source": [
    "### Using your package's new functionality\n",
    "You've now created some great functionality for text analysis to your package. In this exercise, you'll leverage your package to analyze some tweets written by DataCamp & DataCamp users.\n",
    "\n",
    "The object word_counts is loaded into your environment. It contains a list of Counter objects that contain word counts from a sample of DataCamp tweets.\n",
    "\n",
    "The structure you've created can be seen in the tree below. You'll be working in my_script.py."
   ]
  },
  {
   "cell_type": "code",
   "execution_count": null,
   "id": "b2713337-e341-4dbc-ad52-598b83254983",
   "metadata": {},
   "outputs": [],
   "source": [
    "# Import local package\n",
    "import text_analyzer\n",
    "\n",
    "# Sum word_counts using sum_counters from text_analyzer\n",
    "word_count_totals = text_analyzer.sum_counters(word_counts)\n",
    "\n",
    "# Plot word_count_totals using plot_counter from text_analyzer\n",
    "text_analyzer.plot_counter(word_count_totals)"
   ]
  },
  {
   "cell_type": "markdown",
   "id": "bc249170-e170-436f-86b4-613e7ad78513",
   "metadata": {},
   "source": [
    "## Making your package portable"
   ]
  },
  {
   "cell_type": "code",
   "execution_count": null,
   "id": "fb15a956-381e-402c-80c5-c11cf19364aa",
   "metadata": {},
   "outputs": [],
   "source": [
    "from setuptools import setup \n",
    "setup(name='my_package',  \n",
    "      version='0.0.1',   \n",
    "      description='An example package for DataCamp.',   \n",
    "      author='Adam Spannbauer',  \n",
    "      author_email='spannbaueradam@gmail.com',  \n",
    "      packages=['my_package'],     \n",
    "      install_requires=['matplotlib',\n",
    "                        'numpy==1.15.4',\n",
    "                        'pycodestyle>=2.4.0'])"
   ]
  },
  {
   "cell_type": "markdown",
   "id": "11564974-d46d-4e11-bdea-d62b4d4828da",
   "metadata": {},
   "source": [
    "### Writing requirements.txt\n",
    "We covered how having a requirements.txt file can help your package be more portable by allowing your users to easily recreate its intended environment. In this exercise, you will be writing the contents of a requirements file to a python variable.\n",
    "\n",
    "Note, in practice, the code you write in this exercise would be written to its own txt file instead of a variable in your python session."
   ]
  },
  {
   "cell_type": "code",
   "execution_count": null,
   "id": "fb88cb32-c1ff-4e99-a096-00c87dee1288",
   "metadata": {},
   "outputs": [],
   "source": [
    "requirements = \"\"\"\n",
    "matplotlib>=3.0.0\n",
    "numpy==1.15.4\n",
    "pandas<=0.22.0\n",
    "pycodestyle\n",
    "\"\"\""
   ]
  },
  {
   "cell_type": "markdown",
   "id": "83854546-cb86-4b3d-bf49-aaeb0dcdb637",
   "metadata": {},
   "source": [
    "### Creating setup.py\n",
    "In order to make your package installable by pip you need to create a setup.py file. In this exercise you will create this file for the text_analyzer package you've been building."
   ]
  },
  {
   "cell_type": "code",
   "execution_count": null,
   "id": "85de0b93-096a-452d-8df6-e8db70b971fb",
   "metadata": {},
   "outputs": [],
   "source": [
    "# Import needed function from setuptools\n",
    "from setuptools import setup\n",
    "\n",
    "# Create proper setup to be used by pip\n",
    "setup(name='text_analyzer',\n",
    "      version='0.0.1',\n",
    "      description='Perform and visualize a text analysis.',\n",
    "      author='Juniel',\n",
    "      packages=['text_analyzer'])"
   ]
  },
  {
   "cell_type": "markdown",
   "id": "8ebd13b1-f855-4325-9d18-b802dd4b7be7",
   "metadata": {},
   "source": [
    "### Listing requirements in setup.py\n",
    "We created a setup.py file earlier, but we forgot to list our dependency on matplotlib in the install_requires argument. In this exercise you will practice listing your version specific dependencies by correcting the setup.py you previously wrote for your text_analyzer package."
   ]
  },
  {
   "cell_type": "code",
   "execution_count": null,
   "id": "7eb07cfa-17ab-41df-b9f6-67f0547580b0",
   "metadata": {},
   "outputs": [],
   "source": [
    "# Import needed function from setuptools\n",
    "from setuptools import setup\n",
    "\n",
    "# Create proper setup to be used by pip\n",
    "setup(name='text_analyzer',\n",
    "      version='0.0.1',\n",
    "      description='Perform and visualize a text analysis.',\n",
    "      author='Juniel',\n",
    "      packages=['text_analyzer'],\n",
    "      install_requires=['matplotlib>=3.0.0'])"
   ]
  },
  {
   "cell_type": "code",
   "execution_count": null,
   "id": "0e624fc2-e3c1-4524-ad7b-532435a7abe4",
   "metadata": {},
   "outputs": [],
   "source": []
  }
 ],
 "metadata": {
  "kernelspec": {
   "display_name": "Python 3 (ipykernel)",
   "language": "python",
   "name": "python3"
  },
  "language_info": {
   "codemirror_mode": {
    "name": "ipython",
    "version": 3
   },
   "file_extension": ".py",
   "mimetype": "text/x-python",
   "name": "python",
   "nbconvert_exporter": "python",
   "pygments_lexer": "ipython3",
   "version": "3.9.13"
  }
 },
 "nbformat": 4,
 "nbformat_minor": 5
}
