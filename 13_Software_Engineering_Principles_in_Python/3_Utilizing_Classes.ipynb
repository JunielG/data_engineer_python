{
 "cells": [
  {
   "cell_type": "markdown",
   "id": "6168b14d-2881-4954-b3e9-23cfde78558c",
   "metadata": {},
   "source": [
    "## Adding classes to a package"
   ]
  },
  {
   "cell_type": "markdown",
   "id": "ef7421f9-5684-4ac5-b592-3919b3cd77c1",
   "metadata": {},
   "source": [
    "### Writing a class for your package\n",
    "We've covered how classes can be written in Python. In this exercise, you'll be creating the beginnings of a Document class that will be a foundation for text analysis in your package. Once the class is written you will modify your package's __init__.py file to make it easily accessible by your users."
   ]
  },
  {
   "cell_type": "code",
   "execution_count": null,
   "id": "b7375ce3-054b-4265-9166-2339ec764358",
   "metadata": {},
   "outputs": [],
   "source": [
    "# Define Document class\n",
    "class Document:\n",
    "    \"\"\"A class for text analysis\n",
    "    \n",
    "    :param text: string of text to be analyzed\n",
    "    :ivar text: string of text to be analyzed; set by `text` parameter\n",
    "    \"\"\"\n",
    "    # Method to create a new instance of Document\n",
    "    def __init__(self, text):\n",
    "        # Store text parameter to the text attribute\n",
    "        self.text = text"
   ]
  },
  {
   "cell_type": "markdown",
   "id": "02f57b52-a9db-4e06-bc55-55abf3187abf",
   "metadata": {},
   "source": [
    "### Using your package's class\n",
    "You just wrote the beginnings of a Document class that you'll build upon to perform text analysis. In this exercise, you'll test out its current functionality of storing text.\n",
    "\n",
    "Below is the document tree that you've built up so far when developing your package. You'll be working in my_script.py."
   ]
  },
  {
   "cell_type": "code",
   "execution_count": null,
   "id": "7afd7bc4-04cc-45e8-a88c-796bd05cea32",
   "metadata": {},
   "outputs": [],
   "source": [
    "# Import custom text_analyzer package\n",
    "import text_analyzer\n",
    "\n",
    "# Create an instance of Document with datacamp_tweet\n",
    "my_document = text_analyzer.Document(text=datacamp_tweet)\n",
    "\n",
    "# Print the text attribute of the Document instance\n",
    "print(my_document.text)"
   ]
  },
  {
   "cell_type": "markdown",
   "id": "021645f4-de47-481d-8972-9a038deef893",
   "metadata": {},
   "source": [
    "## Adding functionality to classes"
   ]
  },
  {
   "cell_type": "markdown",
   "id": "ca89763c-386d-4a5c-8466-9aae200fe944",
   "metadata": {},
   "source": [
    "### Writing a non-public method\n",
    "In the lesson, we covered how to add functionality to classes using non-public methods. By defining methods as non-public you're signifying to the user that the method is only to be used inside the package.\n",
    "\n",
    "In this exercise, you will define a non-public method that will be leveraged by your class to count words."
   ]
  },
  {
   "cell_type": "code",
   "execution_count": null,
   "id": "ce306c27-085b-46d1-86ac-6ff787f64483",
   "metadata": {},
   "outputs": [],
   "source": [
    "class Document:\n",
    "  def __init__(self, text):\n",
    "    self.text = text\n",
    "    # pre tokenize the document with non-public tokenize method\n",
    "    self.tokens = self._tokenize()\n",
    "    # pre tokenize the document with non-public count_words\n",
    "    self.word_counts = self._count_words()\n",
    "\n",
    "  def _tokenize(self):\n",
    "    return tokenize(self.text)\n",
    "\t\n",
    "  # non-public method to tally document's word counts with Counter\n",
    "  def _count_words(self):\n",
    "    return Counter(self.tokens)"
   ]
  },
  {
   "cell_type": "markdown",
   "id": "354f9504-deab-4162-87c5-f2830f64c35a",
   "metadata": {},
   "source": [
    "### Using your class's functionality\n",
    "You've now added additional functionality to your Document class's __init__ method that automatically processes text for your users. In this exercise, you'll act as one of those users to see the benefits of your hard work.\n",
    "\n",
    "The Document class (copied below) has been loaded into your environment (complete with your new updates)."
   ]
  },
  {
   "cell_type": "code",
   "execution_count": null,
   "id": "608a58d3-85aa-4acd-8fa8-3f8b30f7af6b",
   "metadata": {},
   "outputs": [],
   "source": [
    "# create a new document instance from datacamp_tweets\n",
    "datacamp_doc = Document(datacamp_tweets)\n",
    "\n",
    "# print the first 5 tokens from datacamp_doc\n",
    "print(datacamp_doc.tokens[:5])\n",
    "\n",
    "# print the top 5 most used words in datacamp_doc\n",
    "print(datacamp_doc.word_counts.most_common(5))"
   ]
  },
  {
   "cell_type": "markdown",
   "id": "6c25c0ce-c903-4005-8aec-ca72a1cf22fc",
   "metadata": {},
   "source": [
    "## Classes and the DRY principle"
   ]
  },
  {
   "cell_type": "markdown",
   "id": "38fa9364-59e8-41e8-9d05-5ec3b71b50d3",
   "metadata": {},
   "source": [
    "### Using inheritance to create a class\n",
    "You've previously written a Document class for text analysis, but your NLP project will now have a focus on Social Media data. Your general Document class might be useful later so it's best not to destroy it while your focus shifts to tweets.\n",
    "\n",
    "Instead of copy-pasting the already written functionality, you will use the principles of 'DRY' and inheritance to quickly create your new SocialMedia class."
   ]
  },
  {
   "cell_type": "code",
   "execution_count": null,
   "id": "6658ed55-f217-4ff7-b4c1-5a10ea1f38f1",
   "metadata": {},
   "outputs": [],
   "source": [
    "# Define a SocialMedia class that is a child of the `Document class`\n",
    "class SocialMedia(Document):\n",
    "    def __init__(self, text):\n",
    "        Document.__init__(self, text)"
   ]
  },
  {
   "cell_type": "markdown",
   "id": "f134192a-07af-4973-aa06-56fe8ba10e62",
   "metadata": {},
   "source": [
    "### Adding functionality to a child class\n",
    "You've just written a SocialMedia class that inherits functionality from Document. As of now, the SocialMedia class doesn't have any functionality different from Document. In this exercise, you will build features into SocialMedia to specialize it for use with Social Media data.\n",
    "\n",
    "For reference, the definition of Document can be seen below."
   ]
  },
  {
   "cell_type": "code",
   "execution_count": null,
   "id": "8ad5111d-52d5-49ad-a812-a5ff9a40fc05",
   "metadata": {},
   "outputs": [],
   "source": [
    "# Define a SocialMedia class that is a child of the `Document class`\n",
    "class SocialMedia(Document):\n",
    "    def __init__(self, text):\n",
    "        Document.__init__(self, text)\n",
    "        self.hashtag_counts = self._count_hashtags()\n",
    "        \n",
    "    def _count_hashtags(self):\n",
    "        # Filter attribute so only words starting with '#' remain\n",
    "        return filter_word_counts(self.word_counts, first_char='#')"
   ]
  },
  {
   "cell_type": "code",
   "execution_count": null,
   "id": "942f02cc-5551-45f2-aad2-7cb9802c1384",
   "metadata": {},
   "outputs": [],
   "source": [
    "# Define a SocialMedia class that is a child of the `Document class`\n",
    "class SocialMedia(Document):\n",
    "    def __init__(self, text):\n",
    "        Document.__init__(self, text)\n",
    "        self.hashtag_counts = self._count_hashtags()\n",
    "        self.mention_counts = self._count_mentions()\n",
    "        \n",
    "    def _count_hashtags(self):\n",
    "        # Filter attribute so only words starting with '#' remain\n",
    "        return filter_word_counts(self.word_counts, first_char='#')      \n",
    "    \n",
    "    def _count_mentions(self):\n",
    "        # Filter attribute so only words starting with '@' remain\n",
    "        return filter_word_counts(self.word_counts, first_char='@')\n"
   ]
  },
  {
   "cell_type": "markdown",
   "id": "f91af68c-1217-45d4-bd96-3e38c511672c",
   "metadata": {},
   "source": [
    "### Using your child class\n",
    "Thanks to the power of inheritance you were able to create a feature-rich, SocialMedia class based on its parent, Document. Let's see some of these features in action.\n",
    "\n",
    "Below is the full definition of SocialMedia for reference. Additionally, SocialMedia has been added to __init__.py for ease of use."
   ]
  },
  {
   "cell_type": "code",
   "execution_count": null,
   "id": "f5c58e4a-5a71-42f1-9115-98ec3612b386",
   "metadata": {},
   "outputs": [],
   "source": [
    "# Import custom text_analyzer package\n",
    "import text_analyzer\n",
    "\n",
    "# Create a SocialMedia instance with datacamp_tweets\n",
    "dc_tweets = text_analyzer.SocialMedia(text=datacamp_tweets)\n",
    "\n",
    "# Print the top five most mentioned users\n",
    "print(dc_tweets.mention_counts.most_common(5))\n",
    "\n",
    "# Plot the most used hashtags\n",
    "text_analyzer.plot_counter(dc_tweets.hashtag_counts)"
   ]
  },
  {
   "cell_type": "markdown",
   "id": "6f064cbc-7f14-4657-ab27-b4ada0525215",
   "metadata": {},
   "source": [
    "## Multilevel inheritance"
   ]
  },
  {
   "cell_type": "markdown",
   "id": "87cc8f3e-74a3-455d-bf0f-4f5686768683",
   "metadata": {},
   "source": [
    "### Exploring with dir and help\n",
    "A new method has been added to the Document class. The method is a convenience wrapper around the plot_counter() function you wrote in an earlier exercise. In this exercise, you'll use dir() and help() to identify how to utilize the new method."
   ]
  },
  {
   "cell_type": "code",
   "execution_count": null,
   "id": "7adbdf5c-7ecc-41a8-95ae-4b3f3d36dfc7",
   "metadata": {},
   "outputs": [],
   "source": [
    "# Import needed package\n",
    "import text_analyzer\n",
    "\n",
    "# Create instance of document\n",
    "my_doc = text_analyzer.Document(datacamp_tweets)"
   ]
  },
  {
   "cell_type": "code",
   "execution_count": null,
   "id": "45d875f4-f38f-44ee-9054-52042c001a10",
   "metadata": {},
   "outputs": [],
   "source": [
    "# Import needed package\n",
    "import text_analyzer\n",
    "\n",
    "# Create instance of document\n",
    "my_doc = text_analyzer.Document(datacamp_tweets)\n",
    "\n",
    "# Run help on my_doc's plot method\n",
    "help(my_doc.plot_counts)\n",
    "\n",
    "# Plot the word_counts of my_doc\n",
    "my_doc.plot_counts()"
   ]
  },
  {
   "cell_type": "markdown",
   "id": "302126dd-0f4b-4d85-b07c-d94d94076dbc",
   "metadata": {},
   "source": [
    "### Creating a grandchild class\n",
    "In this exercise you will be using inheritance to create a Tweet class from your SocialMedia class. This new grandchild class of Document will be able to tackle Twitter specific details such as retweets."
   ]
  },
  {
   "cell_type": "code",
   "execution_count": null,
   "id": "9ee0ca25-5788-4c9c-831d-8781da8c2ab3",
   "metadata": {},
   "outputs": [],
   "source": [
    "# Define a Tweet class that inherits from SocialMedia\n",
    "class Tweets(SocialMedia):\n",
    "    def __init__(self, text):\n",
    "        # Call parent's __init__ with super()\n",
    "        super().__init__()\n",
    "        # Define retweets attribute with non-public method\n",
    "        self.retweets = self._process_retweets()\n",
    "\n",
    "    def _process_retweets(self):\n",
    "        # Filter tweet text to only include retweets\n",
    "        retweet_text = filter_lines(self.text, first_chars='RT')\n",
    "        # Return retweet_text as a SocialMedia object\n",
    "        return SocialMedia(retweet_text)"
   ]
  },
  {
   "cell_type": "markdown",
   "id": "d282c999-7ee7-48ad-ab29-e4da3e666b25",
   "metadata": {},
   "source": [
    "### Using inherited methods\n",
    "You've now defined a Tweets class that's inherited methods from both Document and SocialMedia. In this exercise, you'll use inherited methods to visualize text from both tweets and retweets.\n",
    "\n",
    "Be aware that this is real data from Twitter and as such there is always a risk that it may contain profanity or other offensive content (in this exercise, and any following exercises that also use real Twitter data)."
   ]
  },
  {
   "cell_type": "code",
   "execution_count": null,
   "id": "96a0714d-cc84-4505-8ce2-e5214c2c12ea",
   "metadata": {},
   "outputs": [],
   "source": [
    "# Import needed package\n",
    "import text_analyzer\n",
    "\n",
    "# Create instance of Tweets\n",
    "my_tweets = text_analyzer.Tweets(datacamp_tweets)\n",
    "\n",
    "# Plot the most used hashtags in the tweets\n",
    "my_tweets.plot_counts('hashtag_counts')\n"
   ]
  },
  {
   "cell_type": "code",
   "execution_count": null,
   "id": "ef629d54-caa6-487c-a8df-b6ac06afb495",
   "metadata": {},
   "outputs": [],
   "source": [
    "# Import needed package\n",
    "import text_analyzer\n",
    "\n",
    "# Create instance of Tweets\n",
    "my_tweets = text_analyzer.Tweets(datacamp_tweets)\n",
    "\n",
    "# Plot the most used hashtags in the retweets\n",
    "my_tweets.retweets.plot_counts('hashtag_counts')"
   ]
  },
  {
   "cell_type": "code",
   "execution_count": null,
   "id": "862abf1c-95f0-41d7-89d5-559d7db59619",
   "metadata": {},
   "outputs": [],
   "source": []
  }
 ],
 "metadata": {
  "kernelspec": {
   "display_name": "Python 3 (ipykernel)",
   "language": "python",
   "name": "python3"
  },
  "language_info": {
   "codemirror_mode": {
    "name": "ipython",
    "version": 3
   },
   "file_extension": ".py",
   "mimetype": "text/x-python",
   "name": "python",
   "nbconvert_exporter": "python",
   "pygments_lexer": "ipython3",
   "version": "3.9.13"
  }
 },
 "nbformat": 4,
 "nbformat_minor": 5
}
