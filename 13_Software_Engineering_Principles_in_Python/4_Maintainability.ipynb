{
 "cells": [
  {
   "cell_type": "markdown",
   "id": "321571fb-df9d-42c2-9f66-603f0ecb8b6b",
   "metadata": {},
   "source": [
    "## Documentation"
   ]
  },
  {
   "cell_type": "markdown",
   "id": "68367428-e7a0-46a5-87ce-d8c088b946ef",
   "metadata": {},
   "source": [
    "### Identifying good comments\n",
    "We learned about what characteristics make a 'good' comment. In this exercise, you'll apply this knowledge to identify a function that utilizes comment best practices."
   ]
  },
  {
   "cell_type": "code",
   "execution_count": null,
   "id": "828aebf3-57b5-431c-ba4c-0bf5d5d547a0",
   "metadata": {},
   "outputs": [],
   "source": [
    "import re\n",
    "\n",
    "def extract_0(text):\n",
    "    # match and extract dollar amounts from the text\n",
    "    return re.findall(r'\\$\\d+\\.\\d\\d', text)\n",
    "\n",
    "def extract_1(text):\n",
    "    # return all matches to regex pattern\n",
    "    return re.findall(r'\\$\\d+\\.\\d\\d', text)\n",
    "\n",
    "# Print the text\n",
    "print(text)\n",
    "\n",
    "# Print the results of the function with better commenting\n",
    "print(extract_0(text))"
   ]
  },
  {
   "cell_type": "markdown",
   "id": "b85072d6-8ada-4878-8b0f-633a009bd3ca",
   "metadata": {},
   "source": [
    "### Identifying proper docstrings\n",
    "We covered how to write fully-fledged docstrings. Before writing one of your own, this exercise will help you practice by having you identify a properly formatted docstring.\n",
    "\n",
    "In this exercise, you'll be using the functions goldilocks(), rapunzel(), mary(), and sleeping_beauty() which have been loaded in your environment."
   ]
  },
  {
   "cell_type": "code",
   "execution_count": null,
   "id": "42710743-0b91-4eb2-a07e-80a93e87c0a3",
   "metadata": {},
   "outputs": [],
   "source": [
    "# Run the help on all 4 functions\n",
    "help(goldilocks)\n",
    "help(rapunzel)\n",
    "help(mary)\n",
    "help(sleeping_beauty) \n",
    "\n",
    "# Execute the function with most complete docstring\n",
    "result = rapunzel()\n",
    "\n",
    "# Print the result\n",
    "print(result)"
   ]
  },
  {
   "cell_type": "markdown",
   "id": "da50d1c4-1f93-4998-bb47-d563ef951069",
   "metadata": {},
   "source": [
    "### Writing docstrings\n",
    "We just learned some about the benefits of docstrings. In this exercise, you will practice writing docstrings that can be utilized by a documentation generator like Sphinx.\n",
    "\n",
    "Note that your docstring submission must match the solution exactly. If you find yourself getting it wrong several times, it may be a good idea to refresh the sample code and start over."
   ]
  },
  {
   "cell_type": "code",
   "execution_count": null,
   "id": "5e3b6d10-4ca6-4a8a-b0de-4412e4dd9fc6",
   "metadata": {},
   "outputs": [],
   "source": [
    "# Complete the function's docstring\n",
    "def tokenize(text, regex=r'[a-zA-z]+'):\n",
    "  \"\"\"Split text into tokens using a regular expression\n",
    "\n",
    "  :param text: text to be tokenized\n",
    "  :param regex: regular expression used to match tokens using re.findall \n",
    "  :return: a list of resulting tokens\n",
    "\n",
    "  >>> tokenize('the rain in spain')\n",
    "  ['the', 'rain', 'in', 'spain']\n",
    "  \"\"\"\n",
    "  return re.findall(regex, text, flags=re.IGNORECASE)\n",
    "\n",
    "# Print the docstring\n",
    "help(tokenize)"
   ]
  },
  {
   "cell_type": "markdown",
   "id": "d5c09dda-0a54-49ec-8ed2-36068b4c4244",
   "metadata": {},
   "source": [
    "## Readability counts"
   ]
  },
  {
   "cell_type": "code",
   "execution_count": null,
   "id": "8c6a08fa-a6ed-441e-b738-20ed7e869583",
   "metadata": {},
   "outputs": [],
   "source": [
    "# Going overboard \n",
    "def check_if_temperature_is_above_boiling_point(temperature_to_check,\n",
    "                                                celsius_water_boiling_point=100):\n",
    "    return temperature_to_check >= celsius_water_boiling_point"
   ]
  },
  {
   "cell_type": "code",
   "execution_count": null,
   "id": "7b1066f8-7aff-4246-913c-4b34c0f70577",
   "metadata": {},
   "outputs": [],
   "source": [
    "# Making a pizza - simple\n",
    "def make_pizza(ingredients):  \n",
    "    dough = make_dough(ingredients) \n",
    "    sauce = make_sauce(ingredients)  \n",
    "    assembled_pizza = assemble_pizza(dough, sauce, ingredients)\n",
    "    \n",
    "    return bake(assembled_pizza)"
   ]
  },
  {
   "cell_type": "markdown",
   "id": "fcc8a466-fad5-4eca-9b0d-46fe86e77bc7",
   "metadata": {},
   "source": [
    "### Using good function names\n",
    "A good function name can go a long way for both user and maintainer understanding. A good function name is descriptive and describes what a function does. In this exercise, you'll choose a name for a function that will help aid in its readability when used."
   ]
  },
  {
   "cell_type": "code",
   "execution_count": null,
   "id": "ef40501a-7882-495b-81cb-ce7ad003cc27",
   "metadata": {},
   "outputs": [],
   "source": [
    "def hypotenuse_length(leg_a, leg_b):\n",
    "    \"\"\"Find the length of a right triangle's hypotenuse\n",
    "\n",
    "    :param leg_a: length of one leg of triangle\n",
    "    :param leg_b: length of other leg of triangle\n",
    "    :return: length of hypotenuse\n",
    "    \n",
    "    >>> hypotenuse_length(3, 4)\n",
    "    5\n",
    "    \"\"\"\n",
    "    return math.sqrt(leg_a**2 + leg_b**2)\n",
    "\n",
    "\n",
    "# Print the length of the hypotenuse with legs 6 & 8\n",
    "print(hypotenuse_length(6, 8))"
   ]
  },
  {
   "cell_type": "markdown",
   "id": "3a032aba-fdfe-4b0c-9ea9-2ce23147ae7d",
   "metadata": {},
   "source": [
    "### Using good variable names\n",
    "Just like functions, descriptive variable names can make your code much more readable. In this exercise, you'll write some code using good variable naming practices.\n",
    "\n",
    "There's not always a clear best name for a variable. The exercise has been written to try and make a clear best choice from the provided options."
   ]
  },
  {
   "cell_type": "code",
   "execution_count": 1,
   "id": "c2ef8268-e699-4723-9c19-1f77244229af",
   "metadata": {},
   "outputs": [
    {
     "name": "stdout",
     "output_type": "stream",
     "text": [
      "5.04\n"
     ]
    }
   ],
   "source": [
    "from statistics import mean\n",
    "\n",
    "# Sample measurements of pupil diameter in mm\n",
    "pupil_diameter = [3.3, 6.8, 7.0, 5.4, 2.7]\n",
    "\n",
    "# Average pupil diameter from sample\n",
    "mean_diameter = mean(pupil_diameter)\n",
    "\n",
    "print(mean_diameter)"
   ]
  },
  {
   "cell_type": "markdown",
   "id": "a03bec50-37f3-4839-9ca0-be4bae874393",
   "metadata": {},
   "source": [
    "### Refactoring for readability\n",
    "Refactoring longer functions into smaller units can help with both readability and modularity. In this exercise, you will refactor a function into smaller units. The function you will be refactoring is shown below. Note, in the exercise, you won't be using docstrings for the sake of space; in a real application, you should include documentation!"
   ]
  },
  {
   "cell_type": "code",
   "execution_count": 3,
   "id": "66036b27-67dd-4b98-be86-663b52ab7618",
   "metadata": {},
   "outputs": [
    {
     "name": "stdout",
     "output_type": "stream",
     "text": [
      "259.80762113533166\n"
     ]
    }
   ],
   "source": [
    "import math \n",
    "\n",
    "def polygon_perimeter(n_sides, side_len):\n",
    "    return n_sides * side_len\n",
    "\n",
    "def polygon_apothem(n_sides, side_len):\n",
    "    denominator = 2 * math.tan(math.pi / n_sides)\n",
    "    return side_len / denominator\n",
    "\n",
    "def polygon_area(n_sides, side_len):\n",
    "    perimeter = polygon_perimeter(n_sides, side_len)\n",
    "    apothem = polygon_apothem(n_sides, side_len)\n",
    "\n",
    "    return perimeter * apothem / 2\n",
    "\n",
    "# Print the area of a hexagon with legs of size 10\n",
    "print(polygon_area(n_sides=6, side_len=10))"
   ]
  },
  {
   "cell_type": "markdown",
   "id": "16fd3abd-aabb-4cf8-b10f-87cf4ff8d408",
   "metadata": {},
   "source": [
    "## Unit testing"
   ]
  },
  {
   "cell_type": "code",
   "execution_count": null,
   "id": "d5a436eb-7718-4f11-a00c-6fbd839e98e9",
   "metadata": {},
   "outputs": [],
   "source": [
    "def sum_counters(counters):\n",
    "    \"\"\"Aggregate collections.Counter objects by summing counts\n",
    "\n",
    "    :param counters: list/tuple of counters to sum\n",
    "    :return: aggregated counters with counts summed\n",
    "\n",
    "    >>> d1 = text_analyzer.Document('1 2 fizz 4 buzz fizz 7 8')\n",
    "    >>> d2 = text_analyzer.Document('fizz buzz 11 fizz 13 14')\n",
    "    >>> sum_counters([d1.word_counts, d2.word_counts])\n",
    "    Counter({'fizz': 4, 'buzz': 2})\n",
    "    \"\"\"\n",
    "    return sum(counters, Counter())\n",
    "\n",
    "doctest.testmod()"
   ]
  },
  {
   "cell_type": "code",
   "execution_count": null,
   "id": "c80b8dd8-2add-431e-bd3b-5b42e5225912",
   "metadata": {},
   "outputs": [],
   "source": [
    "from collections import Counter\n",
    "from text_analyzer import SocialMedia\n",
    "\n",
    "# Create an instance of SocialMedia for testing\n",
    "test_post = 'learning #python & #rstats is awesome! thanks @datacamp!'\n",
    "sm_post = SocialMedia(test_post)\n",
    "\n",
    "# Test hashtag counts are created properly\n",
    "def test_social_media_hashtags():\n",
    "    expected_hashtag_counts = Counter({'#python': 1, '#rstats': 1})\n",
    "    assert sm_post.hashtag_counts == expected_hashtag_counts\n"
   ]
  },
  {
   "cell_type": "markdown",
   "id": "23ff796d-34e4-413c-914b-035c09742781",
   "metadata": {},
   "source": [
    "## Documentation & testing in practice"
   ]
  },
  {
   "cell_type": "markdown",
   "id": "d00599e1-365a-4456-8bef-0b71e3864257",
   "metadata": {},
   "source": [
    "### Documenting classes for Sphinx\n",
    "sphinx is a great tool for rendering documentation as HTML. In this exercise, you'll write a docstring for a class that can be taken advantage of by sphinx.\n",
    "\n",
    "Note that your docstring submission must match the solution exactly. If you find yourself getting it wrong several times, it may be a good idea to refresh the sample code and start over."
   ]
  },
  {
   "cell_type": "code",
   "execution_count": null,
   "id": "a9e07a3c-1bd0-40c7-95a0-b87b7f5b1b09",
   "metadata": {},
   "outputs": [],
   "source": [
    "from text_analyzer import Document\n",
    "\n",
    "class SocialMedia(Document):\n",
    "    \"\"\"Analyze text data from social media\n",
    "    \n",
    "    :param text: social media text to analyze\n",
    "\n",
    "    :ivar hashtag_counts: Counter object containing counts of hashtags used in text\n",
    "    :ivar mention_counts: Counter object containing counts of @mentions used in text\n",
    "    \"\"\"\n",
    "    def __init__(self, text):\n",
    "        Document.__init__(self, text)\n",
    "        self.hashtag_counts = self._count_hashtags()\n",
    "        self.mention_counts = self._count_mentions()\n"
   ]
  },
  {
   "cell_type": "code",
   "execution_count": null,
   "id": "a23e755a-c615-476f-9e6c-c7dde451d992",
   "metadata": {},
   "outputs": [],
   "source": []
  }
 ],
 "metadata": {
  "kernelspec": {
   "display_name": "Python 3 (ipykernel)",
   "language": "python",
   "name": "python3"
  },
  "language_info": {
   "codemirror_mode": {
    "name": "ipython",
    "version": 3
   },
   "file_extension": ".py",
   "mimetype": "text/x-python",
   "name": "python",
   "nbconvert_exporter": "python",
   "pygments_lexer": "ipython3",
   "version": "3.9.13"
  }
 },
 "nbformat": 4,
 "nbformat_minor": 5
}
