{
 "cells": [
  {
   "cell_type": "markdown",
   "id": "9fe588b3-acec-4e0b-9953-e8bc877a6c83",
   "metadata": {},
   "source": [
    "## Conditional statements and operators"
   ]
  },
  {
   "cell_type": "markdown",
   "id": "7084230e-d451-479e-9e73-6bd9a7ceebf5",
   "metadata": {},
   "source": [
    "### Checking inflation\n",
    "You've been asked to support the UK Government in analyzing their inflation statistics.\n",
    "\n",
    "They've supplied you with data for September and August 2023 stored as two float variables, inflation_september and inflation_august respectively.\n",
    "\n",
    "You'll need to build a workflow that compares these statistics."
   ]
  },
  {
   "cell_type": "code",
   "execution_count": 2,
   "id": "a8bbec83-e0cd-420d-837c-000e2bc6191c",
   "metadata": {},
   "outputs": [
    {
     "name": "stdout",
     "output_type": "stream",
     "text": [
      "Inflation remained stable\n"
     ]
    }
   ],
   "source": [
    "inflation_august = 6.7 \n",
    "inflation_september = 6.7\n",
    "\n",
    "# Check if September inflation is less than August inflation\n",
    "if inflation_september < inflation_august:\n",
    "  print(\"Inflation decreased\")\n",
    "\n",
    "# Check if September inflation is more than August inflation\n",
    "elif inflation_september > inflation_august:\n",
    "  print(\"Inflation increased\")\n",
    "  \n",
    "# Confirm that they are equal\n",
    "else: \n",
    "  print(\"Inflation remained stable\")"
   ]
  },
  {
   "cell_type": "markdown",
   "id": "d94507eb-6a91-476e-aa44-69939a76e2ea",
   "metadata": {},
   "source": [
    "### On the rental market\n",
    "You are looking to move and have defined variables containing your requirements/limits for number of bedrooms, minimum square feet (area), and maximum rent:"
   ]
  },
  {
   "cell_type": "code",
   "execution_count": 3,
   "id": "ba24c096-836e-4054-842b-b414002ce657",
   "metadata": {},
   "outputs": [
    {
     "name": "stdout",
     "output_type": "stream",
     "text": [
      "Too small\n"
     ]
    }
   ],
   "source": [
    "num_beds = 5\n",
    "min_num_beds = 2\n",
    "sq_foot = 10\n",
    "min_sq_foot = 750\n",
    "rent = 2000\n",
    "max_rent = 1900\n",
    "\n",
    "# Check the number of beds\n",
    "if num_beds < min_num_beds:\n",
    "  print(\"Insufficient bedrooms\")\n",
    "\n",
    "# Check square feet\n",
    "elif sq_foot <= min_sq_foot:\n",
    "  print('Too small')\n",
    "\n",
    "  \n",
    "# Check the rent\n",
    "elif rent > max_rent:\n",
    "  print('Too expensive')\n",
    "\n",
    "  \n",
    "# If all conditions met\n",
    "else: \n",
    "  print(\"This looks promising!\")"
   ]
  },
  {
   "cell_type": "markdown",
   "id": "ac310057-d90e-47b9-9930-41ffc0cef340",
   "metadata": {},
   "source": [
    "## For loops"
   ]
  },
  {
   "cell_type": "markdown",
   "id": "c06e1e58-9000-4935-b47f-b20c96d7ecc2",
   "metadata": {},
   "source": [
    "### Looping through a list\n",
    "Time to test your for-loop skills! In the script.py a list called user_ids has been stored, containing, you guessed it - user IDs!\n",
    "\n",
    "Your task is to loop through the list and print each ID individually."
   ]
  },
  {
   "cell_type": "code",
   "execution_count": 4,
   "id": "ae23f9a4-dacb-46a1-929c-e0dc47845ad2",
   "metadata": {},
   "outputs": [
    {
     "name": "stdout",
     "output_type": "stream",
     "text": [
      "T42YG4KTK\n",
      "VTQ39IDQ0\n",
      "CRL11YUWX\n",
      "K6Y5URXLR\n",
      "V4XCBER7V\n",
      "IOGQWC61K\n"
     ]
    }
   ],
   "source": [
    "user_ids = [\"T42YG4KTK\", \"VTQ39IDQ0\", \"CRL11YUWX\", \n",
    "            \"K6Y5URXLR\", \"V4XCBER7V\", \"IOGQWC61K\"]\n",
    "\n",
    "# Loop through user_ids\n",
    "for user_id in user_ids:\n",
    "  # Print the user_id\n",
    "  print(user_id)"
   ]
  },
  {
   "cell_type": "code",
   "execution_count": 5,
   "id": "95f79867-96e1-4f22-b328-5330ef69cb93",
   "metadata": {},
   "outputs": [
    {
     "name": "stdout",
     "output_type": "stream",
     "text": [
      "Sold out: 30 tickets sold!\n"
     ]
    }
   ],
   "source": [
    "# Create the tickets_sold variable\n",
    "tickets_sold = 0\n",
    "\n",
    "# Create the max_capacity variable\n",
    "max_capacity = 30\n",
    "\n",
    "# Loop through a range up to and including max_capacity's value\n",
    "for tickets in range(1, max_capacity + 1):\n",
    "  \n",
    "  # Add one to tickets_sold in each iteration\n",
    "  tickets_sold += 1\n",
    "  \n",
    "print(\"Sold out:\", tickets_sold, \"tickets sold!\")"
   ]
  },
  {
   "cell_type": "markdown",
   "id": "cfce65c1-277c-4934-93b8-4f3bfa3b0504",
   "metadata": {},
   "source": [
    "### Conditional looping with a dictionary\n",
    "Your friend at LLM Camp has provided you with a dictionary called courses. It contains the names of courses as keys and their associated topic as a value. There are three topics: \"AI\", \"Programming\", and \"Data Engineering\"."
   ]
  },
  {
   "cell_type": "code",
   "execution_count": 6,
   "id": "c16b140f-ac6d-4694-8ea7-9bce63e5f358",
   "metadata": {},
   "outputs": [],
   "source": [
    "courses = {\"LLM Concepts\": \"AI\", \n",
    "           \"Introduction to Data Pipelines\": \"Data Engineering\", \n",
    "           \"AI Ethics\": \"AI\",\n",
    "           \"Introduction to dbt\": \"Data Engineering\", \n",
    "           \"Writing Efficient Python Code\": \"Programming\",\n",
    "           \"Introduction to Docker\": \"Programming\"}"
   ]
  },
  {
   "cell_type": "code",
   "execution_count": 7,
   "id": "df962422-b289-4268-9e77-158a7978a287",
   "metadata": {},
   "outputs": [
    {
     "name": "stdout",
     "output_type": "stream",
     "text": [
      "LLM Concepts is an AI course\n",
      "Introduction to Data Pipelines is a Data Engineering course\n",
      "AI Ethics is an AI course\n",
      "Introduction to dbt is a Data Engineering course\n",
      "Writing Efficient Python Code is a Programming course\n",
      "Introduction to Docker is a Programming course\n"
     ]
    }
   ],
   "source": [
    "# Loop through the dictionary's keys and values\n",
    "for key, value in courses.items():\n",
    "  \n",
    "  # Check if the value is \"AI\"\n",
    "  if value == \"AI\":\n",
    "    print(key, \"is an AI course\")\n",
    "  \n",
    "  # Check if the value is \"Programming\"\n",
    "  elif value == \"Programming\":\n",
    "    print(key, \"is a Programming course\")\n",
    "  \n",
    "  # Otherwise, print that it is a \"Data Engineering\" course\n",
    "  else:\n",
    "    print(key, \"is a Data Engineering course\")"
   ]
  },
  {
   "cell_type": "markdown",
   "id": "00431216-09c1-4de6-941e-82cf471a2183",
   "metadata": {},
   "source": [
    "## While loops"
   ]
  },
  {
   "cell_type": "markdown",
   "id": "fc4f82ab-7bdc-463f-bddf-6bb03ac0e145",
   "metadata": {},
   "source": [
    "### Converting to a while loop\n",
    "You can often achieve the same tasks using either a for or while loop.\n",
    "\n",
    "To demonstrate this, you'll convert this for loop into a while!"
   ]
  },
  {
   "cell_type": "code",
   "execution_count": 8,
   "id": "5b88a1f4-3492-41dd-b4d6-db0aee210087",
   "metadata": {},
   "outputs": [
    {
     "name": "stdout",
     "output_type": "stream",
     "text": [
      "Sold out: 10 tickets sold!\n"
     ]
    }
   ],
   "source": [
    "tickets_sold = 0\n",
    "max_capacity = 10\n",
    "\n",
    "# Create a while loop\n",
    "while tickets_sold < max_capacity:\n",
    "  \n",
    "  # Add one to tickets_sold in each iteration\n",
    "  tickets_sold += 1\n",
    "\n",
    "# Print the number of tickets sold\n",
    "print(\"Sold out:\", tickets_sold, \"tickets sold!\")"
   ]
  },
  {
   "cell_type": "code",
   "execution_count": 9,
   "id": "32dbe691-f78c-4d34-9522-665cc9e17384",
   "metadata": {},
   "outputs": [
    {
     "name": "stdout",
     "output_type": "stream",
     "text": [
      "Purchase before the 25th for early access\n",
      "Purchase before the 25th for early access\n",
      "Purchase before the 25th for early access\n",
      "Coming soon\n",
      "Available now!\n"
     ]
    }
   ],
   "source": [
    "release_date = 26\n",
    "current_date = 22\n",
    "\n",
    "# Create a conditional loop while current_date is less than or equal to the release_date\n",
    "while current_date <= release_date:\n",
    "  \n",
    "  # Promote purchases\n",
    "  if current_date <= 24:\n",
    "    print(\"Purchase before the 25th for early access\")\n",
    "  \n",
    "  # Check if the date is equal to the 25th\n",
    "  elif current_date == 25:\n",
    "    print(\"Coming soon\")\n",
    "  else:\n",
    "    print(\"Available now!\")\n",
    "  \n",
    "  # Increment current_date by one\n",
    "  current_date += 1"
   ]
  },
  {
   "cell_type": "markdown",
   "id": "91f041b3-a091-4d26-b95c-c39d549f2291",
   "metadata": {},
   "source": [
    "## Building a workflow"
   ]
  },
  {
   "cell_type": "markdown",
   "id": "3efe7c83-f1c4-499b-88ff-109da68811bc",
   "metadata": {},
   "source": [
    "### Appending to a list\n",
    "You've been provided with a dictionary called authors, which has information about 20 of the most popular fiction authors in the World. It contains the names of authors as keys and the number of books they've created as values.\n",
    "\n",
    "You're interested in finding out how many of these authors have made less than 25 books. To do this, you will create a list called authors_below_twenty_five, filling it with author names conditionally based on whether they have created less than 25 books."
   ]
  },
  {
   "cell_type": "code",
   "execution_count": 11,
   "id": "82164986-1ecb-4eeb-82ff-5f3fc7a42816",
   "metadata": {},
   "outputs": [],
   "source": [
    "authors = {'Penny Jordan': 200, 'Nicholas Sparks': 22, 'Ken Follett': 30, 'Erskine Caldwell': 25, 'Wilbur Smith': 32,\n",
    "           'Judith Krantz': 12, 'Harold Robbins': 23, 'J. K. Rowling': 22, 'Debbie Macomber': 199, 'Eiichiro Oda': 106,\n",
    "           'Danielle Steel': 179, 'Barbara Cartland': 723, 'Georges Simenon': 570, 'Corín Tellado': 4000, 'Clive Cussler': 37,\n",
    "           'Sidney Sheldon': 21, 'Dean Koontz': 91, 'Janet Dailey': 93, 'Jirō Akagawa': 500, 'Stephen King': 77}"
   ]
  },
  {
   "cell_type": "code",
   "execution_count": 14,
   "id": "2f3317d7-6337-414e-a19b-7f6fbaf15364",
   "metadata": {},
   "outputs": [
    {
     "name": "stdout",
     "output_type": "stream",
     "text": [
      "['Nicholas Sparks', 'Judith Krantz', 'Harold Robbins', 'J. K. Rowling', 'Sidney Sheldon']\n"
     ]
    }
   ],
   "source": [
    "# Create an empty list\n",
    "authors_below_twenty_five = []\n",
    "\n",
    "# Loop through the authors dictionary\n",
    "for key, value in authors.items():\n",
    "  \n",
    "  # Check for values less than 25\n",
    "  if value < 25:\n",
    "    \n",
    "    # Append the author to the list\n",
    "    authors_below_twenty_five.append(key)\n",
    "    \n",
    "print(authors_below_twenty_five)"
   ]
  },
  {
   "cell_type": "markdown",
   "id": "e30ed0e4-ce71-4874-bc0f-413014377727",
   "metadata": {},
   "source": [
    "### Book genre popularity\n",
    "Previously, you worked with a dictionary containing information about authors and the number of books that they have written.\n",
    "\n",
    "In this exercise, data about the same authors has been aggregated to create a new dictionary called genre_sales, where the keys are the genre and the values are the average sales for that genre among the 20 most popular authors.\n",
    "\n",
    "Your job is to find the most and least popular genres among these authors, along with their average sales revenue."
   ]
  },
  {
   "cell_type": "code",
   "execution_count": 15,
   "id": "72c2a4c5-f5fa-40c4-bc90-828abd714aa4",
   "metadata": {},
   "outputs": [],
   "source": [
    "genre_sales = {'Adventure': 367500000,'Horror': 312500000,'Literature': 80000000,'Manga': 5166000000,\n",
    "               'Mystery': 300000000,'Romance': 252500000,'Thriller': 320000000}"
   ]
  },
  {
   "cell_type": "code",
   "execution_count": 16,
   "id": "89716284-962f-45c6-ab4d-2d4f5f13e468",
   "metadata": {},
   "outputs": [
    {
     "name": "stdout",
     "output_type": "stream",
     "text": [
      "Least popular genre:  Literature\n",
      "Average sales:  80000000\n",
      "Most popular genre:  Manga\n",
      "Average sales:  5166000000\n"
     ]
    }
   ],
   "source": [
    "for genre, average_sale in genre_sales.items():\n",
    "    \n",
    "    # Filter for the maximum sales value\n",
    "    if average_sale == 5166000000:\n",
    "      \n",
    "      # Print the genre\n",
    "      print(\"Most popular genre: \", genre)\n",
    "      print(\"Average sales: \", average_sale)\n",
    "    \n",
    "    # Filter for the minimum sales value\n",
    "    elif average_sale == 80000000:\n",
    "      \n",
    "      # Print the genre\n",
    "      print(\"Least popular genre: \", genre)\n",
    "      print(\"Average sales: \", average_sale)"
   ]
  },
  {
   "cell_type": "markdown",
   "id": "f5009c3e-6558-4bce-b2f9-fd49b2c8abef",
   "metadata": {},
   "source": [
    "### Working with keywords\n",
    "Working with the genre_sales dictionary again, this time you will apply multiple conditions simultaneously to find out information about book genres and average sales!"
   ]
  },
  {
   "cell_type": "code",
   "execution_count": 17,
   "id": "3b6be57c-c7a9-46fc-b043-3a87ec3ccb13",
   "metadata": {},
   "outputs": [
    {
     "name": "stdout",
     "output_type": "stream",
     "text": [
      "Horror 312500000\n",
      "Mystery 300000000\n"
     ]
    }
   ],
   "source": [
    "# Loop through the dictionary\n",
    "for genre, sale in genre_sales.items():\n",
    "  \n",
    "  # Check if genre is Horror or Mystery\n",
    "  if genre == \"Horror\" or genre == \"Mystery\":\n",
    "    print(genre, sale)"
   ]
  },
  {
   "cell_type": "code",
   "execution_count": 18,
   "id": "7b22e9ff-5b69-442b-b3a0-9659fd1328e3",
   "metadata": {},
   "outputs": [
    {
     "name": "stdout",
     "output_type": "stream",
     "text": [
      "Horror 312500000\n",
      "Mystery 300000000\n",
      "Thriller 320000000\n"
     ]
    }
   ],
   "source": [
    "# Loop through the dictionary\n",
    "for genre, sale in genre_sales.items():\n",
    "  \n",
    "  # Check if genre is Horror or Mystery\n",
    "  if genre == \"Horror\" or genre == \"Mystery\":\n",
    "    print(genre, sale)\n",
    "  \n",
    "  # Check if genre is Thriller and sale is at least 3 million\n",
    "  elif genre == 'Thriller' and sale >= 3000000:\n",
    "    print(genre, sale)"
   ]
  },
  {
   "cell_type": "code",
   "execution_count": null,
   "id": "7966651d-c64f-4f93-9d8e-d56f8feb5202",
   "metadata": {},
   "outputs": [],
   "source": []
  }
 ],
 "metadata": {
  "kernelspec": {
   "display_name": "Python 3 (ipykernel)",
   "language": "python",
   "name": "python3"
  },
  "language_info": {
   "codemirror_mode": {
    "name": "ipython",
    "version": 3
   },
   "file_extension": ".py",
   "mimetype": "text/x-python",
   "name": "python",
   "nbconvert_exporter": "python",
   "pygments_lexer": "ipython3",
   "version": "3.9.13"
  }
 },
 "nbformat": 4,
 "nbformat_minor": 5
}
