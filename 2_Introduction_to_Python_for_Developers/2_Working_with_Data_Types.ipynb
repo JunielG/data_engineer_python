{
 "cells": [
  {
   "cell_type": "markdown",
   "id": "129e1d1b-ee11-455d-8810-370362e2c5c7",
   "metadata": {},
   "source": [
    "## Working with strings"
   ]
  },
  {
   "cell_type": "markdown",
   "id": "377349f5-24cf-4a21-98c2-4ef6c0d6af9b",
   "metadata": {},
   "source": [
    "### Multi-line strings\n",
    "You have a friend who works at an e-learning company called LLM Camp, where they teach people how to work with large language models (LLMS)."
   ]
  },
  {
   "cell_type": "code",
   "execution_count": 1,
   "id": "ee33453a-a68d-480b-8a1d-58b599f25c1f",
   "metadata": {},
   "outputs": [
    {
     "name": "stdout",
     "output_type": "stream",
     "text": [
      "I really enjoy the courses, and they are easy to fit into my busy schedule. I wish I had started using your platform sooner.\n",
      "I'll be recommending you to my friends!!\n",
      "\n",
      "One year ago, I was unsure of how to make progress in my career. \n",
      "Now, I work as a Prompt Engineer, and I can't thank you enough! \n",
      "Keep up the great work.\n"
     ]
    }
   ],
   "source": [
    "# Create review_one\n",
    "review_one = \"\"\"I really enjoy the courses, and they are easy to fit into my busy schedule. I wish I had started using your platform sooner.\n",
    "I'll be recommending you to my friends!!\"\"\"\n",
    "\n",
    "# Create review_two\n",
    "review_two = \"\"\"\n",
    "One year ago, I was unsure of how to make progress in my career. \n",
    "Now, I work as a Prompt Engineer, and I can't thank you enough! \n",
    "Keep up the great work.\"\"\"\n",
    "\n",
    "# Print the two reviews individually\n",
    "print(review_one)\n",
    "print(review_two)"
   ]
  },
  {
   "cell_type": "markdown",
   "id": "ad6bbdf7-ccc9-4e59-8716-db2a80fcfe40",
   "metadata": {},
   "source": [
    "## Modifying string variables\n",
    "You did so well working with LLM Camp's reviews that they've asked for your help again.\n",
    "\n",
    "They have a variable called most_popular_course, which contains the name of their highest-ranked course. It has been provided in script.py so you can see its contents. However, there are issues with it:\n",
    "\n",
    "There's a typo. It should be \"Introduction\" rather than \"Intro\".\n",
    "They want to remove spaces and use underscores to make it easier to analyze.\n",
    "For consistency, they want all characters to be lowercase.\n",
    "They'd like your support in making these changes!"
   ]
  },
  {
   "cell_type": "code",
   "execution_count": 2,
   "id": "8df926c8-0de9-44e5-95d4-675e74512bd1",
   "metadata": {},
   "outputs": [
    {
     "name": "stdout",
     "output_type": "stream",
     "text": [
      "Introduction to Embeddings with the OpenAI API\n",
      "Introduction_to_Embeddings_with_the_OpenAI_API\n",
      "introduction_to_embeddings_with_the_openai_api\n"
     ]
    }
   ],
   "source": [
    "most_popular_course = \"Intro to Embeddings with the OpenAI API\"\n",
    "\n",
    "# Update the first word\n",
    "most_popular_course = most_popular_course.replace(\"Intro\", \"Introduction\")\n",
    "print(most_popular_course) \n",
    "\n",
    "# Swap spaces for underscores\n",
    "most_popular_course = most_popular_course.replace(\" \", \"_\")\n",
    "print(most_popular_course) \n",
    "\n",
    "# Change to lowercase\n",
    "most_popular_course = most_popular_course.lower()\n",
    "print(most_popular_course)"
   ]
  },
  {
   "cell_type": "markdown",
   "id": "b9445d33-0d09-430a-ad59-6fa00ae36969",
   "metadata": {},
   "source": [
    "## Lists"
   ]
  },
  {
   "cell_type": "code",
   "execution_count": null,
   "id": "6f7ee914-37f7-4a12-8baf-399cc4a8f36c",
   "metadata": {},
   "outputs": [],
   "source": [
    "Syntax                       Functionality \n",
    "a_list = [1, 2, 3, 4, 5, 6]  Create a list variable\n",
    "a_list[0]                    Get the first element at index zero\n",
    "a_list[-1]                   Get the last element\n",
    "a_list[0:3]                  Get the first, second, and third elements\n",
    "a_list[:3]                   Get the first, second, and third elements\n",
    "a_list[2:]                   Get all elements from the third index onwards\n",
    "a_list[::2]                  Get every other element from the first index onwards"
   ]
  },
  {
   "cell_type": "markdown",
   "id": "ca36a151-55e4-428a-8009-3706a8510441",
   "metadata": {},
   "source": [
    "### Building a party playlist\n",
    "You're planning a party and want to build a playlist containing songs and the order in which they should be played.\n",
    "\n",
    "You decide this is a great opportunity to build a list in Python! In this exercise, you will create your playlist variable and add the first three songs."
   ]
  },
  {
   "cell_type": "code",
   "execution_count": 3,
   "id": "0f83d643-e3ff-4705-963c-cb8e6a6de374",
   "metadata": {},
   "outputs": [
    {
     "name": "stdout",
     "output_type": "stream",
     "text": [
      "[1, 'Blinding Lights', 2, 'One Dance', 3, 'Uptown Funk']\n"
     ]
    }
   ],
   "source": [
    "# Create the playlist variable\n",
    "playlist = [1, \"Blinding Lights\", 2, \"One Dance\", 3, \"Uptown Funk\"]\n",
    "\n",
    "# Print the list\n",
    "print(playlist)"
   ]
  },
  {
   "cell_type": "markdown",
   "id": "53ed9210-a967-4d6a-8ad1-1cdb2b28eab6",
   "metadata": {},
   "source": [
    "### Subsetting lists\n",
    "You've expanded your playlist. It still contains the song order and song names, but now you've also added the artist name for each song, as well as some additional songs!\n",
    "\n",
    "It repeats the same order throughout the list - 1) song number, 2) song name, 3) artist name, repeat.\n",
    "\n",
    "The new playlist has been printed in the IPython Shell for your reference.\n",
    "\n",
    "This is a great opportunity for you to practice extracting specific information from your list."
   ]
  },
  {
   "cell_type": "code",
   "execution_count": 4,
   "id": "bd6219eb-939a-4137-b8ab-23bbef47aeda",
   "metadata": {},
   "outputs": [
    {
     "name": "stdout",
     "output_type": "stream",
     "text": [
      "3\n",
      "Uptown Funk\n",
      "['Blinding Lights', 3]\n"
     ]
    }
   ],
   "source": [
    "# Find the second song\n",
    "print(playlist[4])\n",
    "\n",
    "# Get the last song's artist\n",
    "print(playlist[-1])\n",
    "\n",
    "# Print all songs in the playlist\n",
    "print(playlist[1::3])"
   ]
  },
  {
   "cell_type": "markdown",
   "id": "6a54367e-d27b-49ca-9884-8cd235943344",
   "metadata": {},
   "source": [
    "## Dictionaries"
   ]
  },
  {
   "cell_type": "markdown",
   "id": "f082bf56-fa99-4d47-bb3e-ee44b9b393c0",
   "metadata": {},
   "source": [
    "### Building a playlist dictionary\n",
    "With your new-found knowledge of dictionaries, you decide to translate your playlist from a list into a dictionary! As a reminder, this is the contents of playlist:"
   ]
  },
  {
   "cell_type": "code",
   "execution_count": 5,
   "id": "0793f144-3289-4a71-8969-2f7594c7d4e3",
   "metadata": {},
   "outputs": [
    {
     "name": "stdout",
     "output_type": "stream",
     "text": [
      "{1: ['Blinding Lights', 'The Weeknd'], 2: ['One Dance', 'Drake'], 3: ['Uptown Funk', 'Mark Ronson'], 4: ['Closer', 'The Chainsmokers'], 5: ['One Kiss', 'Calvin Harris'], 6: ['Mr. Brightside', 'The Killers']}\n"
     ]
    }
   ],
   "source": [
    "# Create the playlist dictionary\n",
    "playlist = {\n",
    "    1: [\"Blinding Lights\", \"The Weeknd\"],\n",
    "    2: [\"One Dance\", \"Drake\"],\n",
    "    3: [\"Uptown Funk\", \"Mark Ronson\"],\n",
    "    4: [\"Closer\", \"The Chainsmokers\"],\n",
    "    5: [\"One Kiss\", \"Calvin Harris\"],\n",
    "    6: [\"Mr. Brightside\", \"The Killers\"]\n",
    "}\n",
    "\n",
    "# Print the playlist\n",
    "print(playlist)"
   ]
  },
  {
   "cell_type": "code",
   "execution_count": 6,
   "id": "1621fd9e-f85f-4c50-9dfa-2c5875bbd7fb",
   "metadata": {},
   "outputs": [
    {
     "name": "stdout",
     "output_type": "stream",
     "text": [
      "{1: ('Blinding Lights', 'The Weeknd'), 2: ('One Dance', 'Drake'), 3: ('Uptown Funk', 'Mark Ronson'), 4: ('Closer', 'The Chainsmokers'), 5: ('One Kiss', 'Calvin Harris'), 6: ('Mr. Brightside', 'The Killers')}\n"
     ]
    }
   ],
   "source": [
    "# Create the playlist dictionary\n",
    "playlist = {\n",
    "    1: (\"Blinding Lights\", \"The Weeknd\"),\n",
    "    2: (\"One Dance\", \"Drake\"),\n",
    "    3: (\"Uptown Funk\", \"Mark Ronson\"),\n",
    "    4: (\"Closer\", \"The Chainsmokers\"),\n",
    "    5: (\"One Kiss\", \"Calvin Harris\"),\n",
    "    6: (\"Mr. Brightside\", \"The Killers\")\n",
    "}\n",
    "\n",
    "# Print the playlist\n",
    "print(playlist)"
   ]
  },
  {
   "cell_type": "code",
   "execution_count": 12,
   "id": "71a51fe0-f854-4a49-869c-8396bc3d4379",
   "metadata": {},
   "outputs": [
    {
     "name": "stdout",
     "output_type": "stream",
     "text": [
      "{'The Weeknd': 'Blinding Lights', 'Drake': 'One Dance', 'Ed Sheeran': 'Coldplay'}\n"
     ]
    }
   ],
   "source": [
    "# Example of using artist names as keys\n",
    "playlist = {\n",
    "    \"The Weeknd\": \"Blinding Lights\",\n",
    "    \"Drake\": \"One Dance\",\n",
    "    \"Ed Sheeran\": \"Coldplay\"\n",
    "}\n",
    "\n",
    "# Print the example playlist\n",
    "print(playlist)"
   ]
  },
  {
   "cell_type": "code",
   "execution_count": 16,
   "id": "522d3ce1-6aed-46fc-b7bf-a23f92145fed",
   "metadata": {},
   "outputs": [
    {
     "name": "stdout",
     "output_type": "stream",
     "text": [
      "Coldplay\n",
      "dict_values(['Blinding Lights', 'One Dance', 'Coldplay', 'Yeah!'])\n"
     ]
    }
   ],
   "source": [
    "# Print the song by Coldplay\n",
    "print(playlist['Ed Sheeran'])\n",
    "\n",
    "# Add a new song\n",
    "playlist[\"Usher\"] = \"Yeah!\"\n",
    "\n",
    "# Print the songs in the playlist\n",
    "print(playlist.values())"
   ]
  },
  {
   "cell_type": "markdown",
   "id": "4d953d73-c7d0-4e67-9c65-ce3de3f08d77",
   "metadata": {},
   "source": [
    "## Sets and tuples"
   ]
  },
  {
   "cell_type": "markdown",
   "id": "4eb51a7e-0eb5-419b-b250-f50fd02a60f6",
   "metadata": {},
   "source": [
    "### Last quarter's revenue\n",
    "Your friend at LLM Camp has finalized the financial performance for the last quarter and would like you to store this information in a format that cannot be modified. It will contain their revenue, new customer acquisitions, and cash position.\n",
    "\n",
    "You've decided to make a tuple containing this information."
   ]
  },
  {
   "cell_type": "code",
   "execution_count": 17,
   "id": "6c0928ee-dd26-466d-8d38-4703f7ac71c5",
   "metadata": {},
   "outputs": [
    {
     "name": "stdout",
     "output_type": "stream",
     "text": [
      "(325780, 1041, 4271599)\n"
     ]
    }
   ],
   "source": [
    "# Create a tuple\n",
    "q3_financials = (325780, 1041, 4271599)\n",
    "\n",
    "# Print the tuple\n",
    "print(q3_financials)"
   ]
  },
  {
   "cell_type": "code",
   "execution_count": 21,
   "id": "702ebcf4-888c-49cd-a17a-061969611d0d",
   "metadata": {},
   "outputs": [
    {
     "name": "stdout",
     "output_type": "stream",
     "text": [
      "{'Stereophonics', 'Kings of Leon', 'MGMT'} \n",
      " {'50 Cent', 'Drake', 'JAY-Z'}\n"
     ]
    }
   ],
   "source": [
    "hip_hop = [\"Drake\", \"JAY-Z\", \"50 Cent\", \"Drake\"]\n",
    "\n",
    "# Create a set\n",
    "indie_set = {\"Kings of Leon\", \"MGMT\", \"Stereophonics\"}\n",
    "\n",
    "# Convert hip_hop to a set\n",
    "hip_hop_set = set(hip_hop)\n",
    "\n",
    "# Print the indie and hip_hop sets\n",
    "print(indie_set,'\\n',hip_hop_set)"
   ]
  },
  {
   "cell_type": "code",
   "execution_count": null,
   "id": "2fc772e6-45d4-4163-8d6a-c89382f26a24",
   "metadata": {},
   "outputs": [],
   "source": []
  }
 ],
 "metadata": {
  "kernelspec": {
   "display_name": "Python 3 (ipykernel)",
   "language": "python",
   "name": "python3"
  },
  "language_info": {
   "codemirror_mode": {
    "name": "ipython",
    "version": 3
   },
   "file_extension": ".py",
   "mimetype": "text/x-python",
   "name": "python",
   "nbconvert_exporter": "python",
   "pygments_lexer": "ipython3",
   "version": "3.9.13"
  }
 },
 "nbformat": 4,
 "nbformat_minor": 5
}
