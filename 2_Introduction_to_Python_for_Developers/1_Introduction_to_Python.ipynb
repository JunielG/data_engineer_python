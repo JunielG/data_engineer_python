{
 "cells": [
  {
   "cell_type": "markdown",
   "id": "02f7d0cf-f26f-449d-91ef-33c504fe639a",
   "metadata": {},
   "source": [
    "## Running your first Python script\n",
    "You will execute your first Python code in this exercise\n",
    "\n",
    "NOTE: You do not need to change or add anything to the existing code"
   ]
  },
  {
   "cell_type": "code",
   "execution_count": 1,
   "id": "c481079e-4ef1-4779-ab8f-bd2cf9a70d52",
   "metadata": {},
   "outputs": [
    {
     "name": "stdout",
     "output_type": "stream",
     "text": [
      "I Love Python\n"
     ]
    }
   ],
   "source": [
    "print(\"I Love Python\")"
   ]
  },
  {
   "cell_type": "markdown",
   "id": "74ae14dd-8bed-4ee2-89a3-a6952134e083",
   "metadata": {},
   "source": [
    "## Python as a calculator\n",
    "Working with numbers and performing calculations are very common programming tasks. In this exercise, you'll need to perform two calculations!"
   ]
  },
  {
   "cell_type": "code",
   "execution_count": 3,
   "id": "f28b5095-2230-4d7e-9fda-88776199b1d9",
   "metadata": {},
   "outputs": [
    {
     "name": "stdout",
     "output_type": "stream",
     "text": [
      "36\n",
      "-87\n",
      "18\n",
      "10.0\n"
     ]
    }
   ],
   "source": [
    "# Add 19 and 17\n",
    "print(19 + 17)\n",
    "\n",
    "# Subtract 12 from 99\n",
    "print(12 - 99)\n",
    "\n",
    "# Calculate and print 9 multiplied by 2\n",
    "print(9 * 2)\n",
    "\n",
    "# Print the result of dividing 120 by 12\n",
    "print(120 / 12)"
   ]
  },
  {
   "cell_type": "markdown",
   "id": "fdf70845-1c18-4d80-9be5-753f2ffa9112",
   "metadata": {},
   "source": [
    "## Working with number variables\n",
    "Python allows you to set variables as whole numbers or numbers with decimals. In this exercise, you will try using different numerical values for variables."
   ]
  },
  {
   "cell_type": "code",
   "execution_count": 4,
   "id": "1c86fb9a-70e6-4645-a583-a581a8a1fc92",
   "metadata": {},
   "outputs": [
    {
     "name": "stdout",
     "output_type": "stream",
     "text": [
      "120.5\n"
     ]
    }
   ],
   "source": [
    "# Age of a customer\n",
    "customer_age = 27\n",
    "\n",
    "# Create account_balance variable\n",
    "account_balance = 120.50\n",
    "\n",
    "# Print account_balance\n",
    "print(account_balance)"
   ]
  },
  {
   "cell_type": "code",
   "execution_count": 5,
   "id": "9e1864f1-4cbd-432d-8e60-56154a00a9e4",
   "metadata": {},
   "outputs": [
    {
     "name": "stdout",
     "output_type": "stream",
     "text": [
      "1300000.0\n",
      "True\n"
     ]
    }
   ],
   "source": [
    "account_balance = 20000.00\n",
    "is_millionaire = False\n",
    "\n",
    "# Update account balance\n",
    "account_balance = 1300000.00\n",
    "# Update is_millionaire variable\n",
    "is_millionaire = True\n",
    "\n",
    "print(account_balance)\n",
    "print(is_millionaire)"
   ]
  },
  {
   "cell_type": "markdown",
   "id": "8f9f4d0f-d977-40a7-ab63-9d65bd16aec6",
   "metadata": {},
   "source": [
    "## Checking data types\n",
    "Python makes our lives easier by inferring the data type of variables you work with, avoiding the need to declare the data type explicitly.\n",
    "\n",
    "Let's practice checking the data type of different values and variables. You have three variables: customer_age, account_balance, and is_millionaire, and you will learn to get their data types."
   ]
  },
  {
   "cell_type": "code",
   "execution_count": 6,
   "id": "589c09cb-dddf-45a7-a25c-5a94574f2e06",
   "metadata": {},
   "outputs": [
    {
     "name": "stdout",
     "output_type": "stream",
     "text": [
      "<class 'int'>\n",
      "<class 'float'>\n",
      "<class 'bool'>\n"
     ]
    }
   ],
   "source": [
    "customer_age = 49\n",
    "account_balance = 120078.89\n",
    "is_millionaire = False\n",
    "\n",
    "# Print the data type of customer_age\n",
    "print(type(customer_age))\n",
    "\n",
    "# Print the data type of account_balance\n",
    "print(type(account_balance))\n",
    "\n",
    "# Print the data type of is_millionaire\n",
    "print(type(is_millionaire))"
   ]
  },
  {
   "cell_type": "code",
   "execution_count": null,
   "id": "3658a39d-67cd-4922-9131-8fff525a2da3",
   "metadata": {},
   "outputs": [],
   "source": []
  }
 ],
 "metadata": {
  "kernelspec": {
   "display_name": "Python 3 (ipykernel)",
   "language": "python",
   "name": "python3"
  },
  "language_info": {
   "codemirror_mode": {
    "name": "ipython",
    "version": 3
   },
   "file_extension": ".py",
   "mimetype": "text/x-python",
   "name": "python",
   "nbconvert_exporter": "python",
   "pygments_lexer": "ipython3",
   "version": "3.9.13"
  }
 },
 "nbformat": 4,
 "nbformat_minor": 5
}
