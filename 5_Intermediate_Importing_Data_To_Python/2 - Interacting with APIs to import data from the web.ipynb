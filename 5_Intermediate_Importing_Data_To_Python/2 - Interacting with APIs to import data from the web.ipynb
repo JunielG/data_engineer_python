{
 "cells": [
  {
   "cell_type": "markdown",
   "id": "77a786b0-152b-4914-a941-b87dfacb9d1d",
   "metadata": {},
   "source": [
    "# Interacting with APIs to import data from the web"
   ]
  },
  {
   "cell_type": "markdown",
   "id": "d4e4e170-a4b1-4fd9-a7b9-826c4e50ab9c",
   "metadata": {},
   "source": [
    "Pop quiz: What exactly is a JSON?\\\n",
    "Which of the following is NOT true of the JSON file format?"
   ]
  },
  {
   "cell_type": "markdown",
   "id": "aaccd1e9-571a-4b2a-ba9f-969617f51c7b",
   "metadata": {},
   "source": [
    "JSONs consist of key-value pairs.✅\\\n",
    "JSONs are human-readable.✅\\\n",
    "The JSON file format arose out of a growing need for real-time server-to-browser communication.✅\\\n",
    "The function json.load() will load the JSON into Python as a list.❌\\\n",
    "The function json.load() will load the JSON into Python as a dictionary✅"
   ]
  },
  {
   "cell_type": "markdown",
   "id": "e75665b0-46c8-4af5-aa05-086a16701f00",
   "metadata": {},
   "source": [
    "# Loading and exploring a JSON\n",
    "Now that you know what a JSON is, you'll load one into your Python environment and explore it yourself. Here, you'll load the JSON 'a_movie.json' into the variable json_data, which will be a dictionary. You'll then explore the JSON contents by printing the key-value pairs of json_data to the shell."
   ]
  },
  {
   "cell_type": "code",
   "execution_count": 42,
   "id": "bf02f437-e1ac-4f10-af30-a3627c241105",
   "metadata": {
    "scrolled": true
   },
   "outputs": [
    {
     "name": "stdout",
     "output_type": "stream",
     "text": [
      "Ratings:  [{'Source': 'Internet Movie Database', 'Value': '7.7/10'}, {'Source': 'Rotten Tomatoes', 'Value': '95%'}, {'Source': 'Metacritic', 'Value': '95/100'}]\n",
      "Country:  USA\n",
      "imdbVotes:  550,434\n",
      "Rated:  PG-13\n",
      "Plot:  Harvard student Mark Zuckerberg creates the social networking site that would become known as Facebook, but is later sued by two brothers who claimed he stole their idea, and the co-founder who was later squeezed out of the business.\n",
      "Genre:  Biography, Drama\n",
      "Response:  True\n",
      "Released:  01 Oct 2010\n",
      "Language:  English, French\n",
      "DVD:  11 Jan 2011\n",
      "Poster:  https://m.media-amazon.com/images/M/MV5BMTM2ODk0NDAwMF5BMl5BanBnXkFtZTcwNTM1MDc2Mw@@._V1_SX300.jpg\n",
      "Production:  Columbia Pictures\n",
      "Director:  David Fincher\n",
      "Title:  The Social Network\n",
      "imdbRating:  7.7\n",
      "Writer:  Aaron Sorkin (screenplay), Ben Mezrich (book)\n",
      "Year:  2010\n",
      "Metascore:  95\n",
      "Type:  movie\n",
      "Runtime:  120 min\n",
      "Website:  http://www.thesocialnetwork-movie.com/\n",
      "imdbID:  tt1285016\n",
      "Actors:  Jesse Eisenberg, Rooney Mara, Bryan Barter, Dustin Fitzsimons\n",
      "Awards:  Won 3 Oscars. Another 165 wins & 168 nominations.\n",
      "BoxOffice:  $96,400,000\n"
     ]
    }
   ],
   "source": [
    "# Load JSON: json_data\n",
    "with open(\"a_movie.json\") as json_file:\n",
    "    json_data = json.load(json_file)\n",
    "\n",
    "# Print each key-value pair in json_data\n",
    "for k in json_data.keys():\n",
    "    print(k + ': ', json_data[k])"
   ]
  },
  {
   "cell_type": "code",
   "execution_count": 50,
   "id": "68949872-8f1d-4b6f-8b12-927e508aa79a",
   "metadata": {},
   "outputs": [
    {
     "data": {
      "text/plain": [
       "'The Social Network'"
      ]
     },
     "execution_count": 50,
     "metadata": {},
     "output_type": "execute_result"
    }
   ],
   "source": [
    "json_data['Title']"
   ]
  },
  {
   "cell_type": "code",
   "execution_count": 52,
   "id": "79b49352-62f3-4dc9-9612-c977f271a94a",
   "metadata": {},
   "outputs": [
    {
     "data": {
      "text/plain": [
       "'2010'"
      ]
     },
     "execution_count": 52,
     "metadata": {},
     "output_type": "execute_result"
    }
   ],
   "source": [
    "json_data['Year']"
   ]
  },
  {
   "cell_type": "code",
   "execution_count": null,
   "id": "236fdc99-2fb0-4efa-bd96-98fcbfd78e29",
   "metadata": {},
   "outputs": [],
   "source": []
  },
  {
   "cell_type": "markdown",
   "id": "49133d03-5d32-4765-a6d7-7d28cf863ddb",
   "metadata": {},
   "source": [
    "# Pop quiz: Exploring your JSON\n",
    "Load the JSON 'a_movie.json' into a variable, which will be a dictionary. Do so by copying, pasting and executing the following code in the IPython Shell:\\\n",
    "Print the values corresponding to the keys 'Title' and 'Year' and answer the following question about the movie that the JSON describes:\\"
   ]
  },
  {
   "cell_type": "markdown",
   "id": "54c85a76-bcd9-4ad6-b3cf-9adc783c6fd0",
   "metadata": {},
   "source": [
    "Which of the following statements is true of the movie in question?\\\n",
    "The title is 'Kung Fu Panda' and the year is 2010.\\\n",
    "The title is 'Kung Fu Panda' and the year is 2008.\\\n",
    "The title is 'The Social Network' and the year is 2010.✅\\\n",
    "The title is 'The Social Network' and the year is 2008."
   ]
  },
  {
   "cell_type": "markdown",
   "id": "11366205-5c9a-47cf-ad35-60d1c9cf5cf5",
   "metadata": {},
   "source": [
    "# APIs and interacting with the world wide web"
   ]
  },
  {
   "cell_type": "markdown",
   "id": "ab00e2c7-7215-444f-bfd3-ddf013c13704",
   "metadata": {},
   "source": [
    "Pop quiz: What's an API?\\\n",
    "Which of the following statements about APIs is NOT true?\\\n",
    "\n",
    "An API is a set of protocols and routines for building and interacting with software applications.✅\\\n",
    "API is an acronym and is short for Application Program interface.✅\\\n",
    "It is common to pull data from APIs in the JSON file format.✅\\\n",
    "All APIs transmit data only in the JSON file format.❌\\\n",
    "An API is a bunch of code that allows two software programs to communicate with each other.✅"
   ]
  },
  {
   "cell_type": "markdown",
   "id": "e9e5aab2-5a9d-46cd-ad3e-f3fbb8077258",
   "metadata": {},
   "source": [
    "# API requests\n",
    "Now it's your turn to pull some movie data down from the Open Movie Database (OMDB) using their API. The movie you'll query the API about is The Social Network. Recall that, in the video, to query the API about the movie Hackers, Hugo's query string was 'http://www.omdbapi.com/?t=hackers' and had a single argument t=hackers.\\\n",
    "Note: recently, OMDB has changed their API: you now also have to specify an API key. This means you'll have to add another argument to the URL: apikey=72bc447a."
   ]
  },
  {
   "cell_type": "code",
   "execution_count": 34,
   "id": "2a3ead22-9757-4f76-9219-4e8fe82f4616",
   "metadata": {},
   "outputs": [
    {
     "name": "stdout",
     "output_type": "stream",
     "text": [
      "{\"Title\":\"The Social Network\",\"Year\":\"2010\",\"Rated\":\"PG-13\",\"Released\":\"01 Oct 2010\",\"Runtime\":\"120 min\",\"Genre\":\"Biography, Drama\",\"Director\":\"David Fincher\",\"Writer\":\"Aaron Sorkin, Ben Mezrich\",\"Actors\":\"Jesse Eisenberg, Andrew Garfield, Justin Timberlake\",\"Plot\":\"As Harvard student Mark Zuckerberg creates the social networking site that would become known as Facebook, he is sued by the twins who claimed he stole their idea and by the co-founder who was later squeezed out of the business.\",\"Language\":\"English, French\",\"Country\":\"United States\",\"Awards\":\"Won 3 Oscars. 173 wins & 187 nominations total\",\"Poster\":\"https://m.media-amazon.com/images/M/MV5BOGUyZDUxZjEtMmIzMC00MzlmLTg4MGItZWJmMzBhZjE0Mjc1XkEyXkFqcGdeQXVyMTMxODk2OTU@._V1_SX300.jpg\",\"Ratings\":[{\"Source\":\"Internet Movie Database\",\"Value\":\"7.8/10\"},{\"Source\":\"Rotten Tomatoes\",\"Value\":\"96%\"},{\"Source\":\"Metacritic\",\"Value\":\"95/100\"}],\"Metascore\":\"95\",\"imdbRating\":\"7.8\",\"imdbVotes\":\"768,232\",\"imdbID\":\"tt1285016\",\"Type\":\"movie\",\"DVD\":\"N/A\",\"BoxOffice\":\"$96,962,694\",\"Production\":\"N/A\",\"Website\":\"N/A\",\"Response\":\"True\"}\n"
     ]
    }
   ],
   "source": [
    "# Import requests package\n",
    "import requests\n",
    "\n",
    "# Assign URL to variable: url\n",
    "url = 'http://www.omdbapi.com/?apikey=72bc447a&t=the+social+network'\n",
    "\n",
    "# Package the request, send the request and catch the response: r\n",
    "r = requests.get(url)\n",
    "\n",
    "# Print the text of the response\n",
    "print(r.text)"
   ]
  },
  {
   "cell_type": "markdown",
   "id": "16fb3f54-7ea1-4b1c-96cd-cec9bd375d8e",
   "metadata": {},
   "source": [
    "# JSON–from the web to Python\n",
    "Wow, congrats! You've just queried your first API programmatically in Python and printed the text of the response to the shell. However, as you know, your response is actually a JSON, so you can do one step better and decode the JSON. You can then print the key-value pairs of the resulting dictionary. That's what you're going to do now!"
   ]
  },
  {
   "cell_type": "code",
   "execution_count": 28,
   "id": "8f474bef-c217-47c2-9058-81f7e33a2dec",
   "metadata": {},
   "outputs": [
    {
     "name": "stdout",
     "output_type": "stream",
     "text": [
      "batchcomplete:  \n",
      "warnings:  {'extracts': {'*': 'HTML may be malformed and/or unbalanced and may omit inline images. Use at your own risk. Known problems are listed at https://www.mediawiki.org/wiki/Special:MyLanguage/Extension:TextExtracts#Caveats.'}}\n",
      "query:  {'normalized': [{'from': 'pizza', 'to': 'Pizza'}], 'pages': {'24768': {'pageid': 24768, 'ns': 0, 'title': 'Pizza', 'extract': '<link rel=\"mw-deduplicated-inline-style\" href=\"mw-data:TemplateStyles:r1236090951\">\\n<p class=\"mw-empty-elt\">\\n\\n\\n</p>\\n\\n\\n<p><b>Pizza</b> is an Italian dish typically consisting of a flat base of leavened wheat-based dough topped with tomato, cheese, and other ingredients, baked at a high temperature, traditionally in a wood-fired oven.\\n</p><p>The term <i>pizza</i> was first recorded in the year 997 AD, in a Latin manuscript from the southern Italian town of Gaeta, in Lazio, on the border with Campania. Raffaele Esposito is often credited for creating modern pizza in Naples. In 2009, Neapolitan pizza was registered with the European Union as a traditional speciality guaranteed (TSG) dish. In 2017, the art of making Neapolitan pizza was added to UNESCO\\'s list of intangible cultural heritage.\\n</p><p>Pizza and its variants are among the most popular foods in the world. Pizza is sold at a variety of restaurants, including pizzerias (pizza specialty restaurants), Mediterranean restaurants, via delivery, and as street food. In Italy, pizza served in a restaurant is presented unsliced, and is eaten with the use of a knife and fork. In casual settings, however, it is typically cut into slices to be eaten while held in the hand. Pizza is also sold in grocery stores in a variety of forms, including frozen or as kits for self-assembly. They are then cooked using a home oven.\\n</p><p>In 2017, the world pizza market was US$128 billion, and in the U.S. it was $44 billion spread over 76,000 pizzerias. Overall, 13% of the U.S. population aged two years and over consumed pizza on any given day.\\n</p>'}}}\n"
     ]
    }
   ],
   "source": [
    "# Package the request, send the request and catch the response: r\n",
    "r = (requests.get(url))\n",
    "\n",
    "# Decode the JSON data into a dictionary: json_data\n",
    "json_data = r.json()\n",
    "\n",
    "# Print each key-value pair in json_data\n",
    "for k in json_data.keys():\n",
    "    print(k + ': ', json_data[k])\n"
   ]
  },
  {
   "cell_type": "code",
   "execution_count": null,
   "id": "2f67f7a2-1219-4b1a-9b7d-73bf21fe75df",
   "metadata": {},
   "outputs": [],
   "source": []
  },
  {
   "cell_type": "markdown",
   "id": "ced5e904-8853-4b71-82f9-bab66943aefc",
   "metadata": {},
   "source": [
    "# Checking out the Wikipedia API\n",
    "You're doing so well and having so much fun that we're going to throw one more API at you: the Wikipedia API (documented here). You'll figure out how to find and extract information from the Wikipedia page for Pizza. What gets a bit wild here is that your query will return nested JSONs, that is, JSONs with JSONs, but Python can handle that because it will translate them into dictionaries within dictionaries.\\\n",
    "The URL that requests the relevant query from the Wikipedia API is"
   ]
  },
  {
   "cell_type": "code",
   "execution_count": 25,
   "id": "9a2ad732-d1a0-4c40-a220-eb9b57119f97",
   "metadata": {},
   "outputs": [
    {
     "name": "stdout",
     "output_type": "stream",
     "text": [
      "<link rel=\"mw-deduplicated-inline-style\" href=\"mw-data:TemplateStyles:r1236090951\">\n",
      "<p class=\"mw-empty-elt\">\n",
      "\n",
      "\n",
      "</p>\n",
      "\n",
      "\n",
      "<p><b>Pizza</b> is an Italian dish typically consisting of a flat base of leavened wheat-based dough topped with tomato, cheese, and other ingredients, baked at a high temperature, traditionally in a wood-fired oven.\n",
      "</p><p>The term <i>pizza</i> was first recorded in the year 997 AD, in a Latin manuscript from the southern Italian town of Gaeta, in Lazio, on the border with Campania. Raffaele Esposito is often credited for creating modern pizza in Naples. In 2009, Neapolitan pizza was registered with the European Union as a traditional speciality guaranteed (TSG) dish. In 2017, the art of making Neapolitan pizza was added to UNESCO's list of intangible cultural heritage.\n",
      "</p><p>Pizza and its variants are among the most popular foods in the world. Pizza is sold at a variety of restaurants, including pizzerias (pizza specialty restaurants), Mediterranean restaurants, via delivery, and as street food. In Italy, pizza served in a restaurant is presented unsliced, and is eaten with the use of a knife and fork. In casual settings, however, it is typically cut into slices to be eaten while held in the hand. Pizza is also sold in grocery stores in a variety of forms, including frozen or as kits for self-assembly. They are then cooked using a home oven.\n",
      "</p><p>In 2017, the world pizza market was US$128 billion, and in the U.S. it was $44 billion spread over 76,000 pizzerias. Overall, 13% of the U.S. population aged two years and over consumed pizza on any given day.\n",
      "</p>\n"
     ]
    }
   ],
   "source": [
    "# Assign URL to variable: url\n",
    "url = 'https://en.wikipedia.org/w/api.php?action=query&prop=extracts&format=json&exintro=&titles=pizza'\n",
    "\n",
    "# Package the request, send the request and catch the response: r\n",
    "r = requests.get(url)\n",
    "\n",
    "# Decode the JSON data into a dictionary: json_data\n",
    "json_data = r.json()\n",
    "\n",
    "# Print the Wikipedia page extract\n",
    "pizza_extract = json_data['query']['pages']['24768']['extract']\n",
    "print(pizza_extract)"
   ]
  },
  {
   "cell_type": "code",
   "execution_count": null,
   "id": "8a12acd3-39a8-49bd-b576-ecad26978f30",
   "metadata": {},
   "outputs": [],
   "source": []
  }
 ],
 "metadata": {
  "kernelspec": {
   "display_name": "Python 3 (ipykernel)",
   "language": "python",
   "name": "python3"
  },
  "language_info": {
   "codemirror_mode": {
    "name": "ipython",
    "version": 3
   },
   "file_extension": ".py",
   "mimetype": "text/x-python",
   "name": "python",
   "nbconvert_exporter": "python",
   "pygments_lexer": "ipython3",
   "version": "3.9.13"
  }
 },
 "nbformat": 4,
 "nbformat_minor": 5
}
