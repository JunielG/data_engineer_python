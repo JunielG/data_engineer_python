{
 "cells": [
  {
   "cell_type": "markdown",
   "id": "1ff25251-ab00-4bed-adcf-63290e2b162c",
   "metadata": {},
   "source": [
    "## Introduction to Apache Airflow"
   ]
  },
  {
   "cell_type": "code",
   "execution_count": null,
   "id": "e4277625-caa8-4782-827a-134b7db85a68",
   "metadata": {},
   "outputs": [],
   "source": [
    "# Running a simple Airflow task \n",
    "airflow tasks test <dag_id> <task_id> [execution_date]\n",
    "\n",
    "# Using a DAG named example-etl, a task named download-file on 2024-01-10:\n",
    "airflow tasks test example-etl download-file 2024-01-10"
   ]
  },
  {
   "cell_type": "markdown",
   "id": "c386154e-467f-4251-a3c4-0e6561078999",
   "metadata": {},
   "source": [
    "## Airflow DAGs"
   ]
  },
  {
   "cell_type": "code",
   "execution_count": null,
   "id": "532969b9-1a27-4d4f-8329-253fb0061ece",
   "metadata": {},
   "outputs": [],
   "source": [
    "# Define a DAG Example DAG:\n",
    "from airflow import DAG \n",
    "from datetime import datetime \n",
    "\n",
    "default_arguments = {\n",
    "    'owner': 'jdoe',\n",
    "    'email': 'jdoe@datacamp.com', \n",
    "    'start_date': datetime(2020, 1, 20)\n",
    "} \n",
    "\n",
    "with DAG('etl_workflow', default_args=default_arguments ) as etl_dag:"
   ]
  },
  {
   "cell_type": "code",
   "execution_count": null,
   "id": "98167b74-3fd1-4404-9f90-84d7b5ce96b4",
   "metadata": {},
   "outputs": [],
   "source": [
    "# Import the DAG object\n",
    "from airflow import DAG\n",
    "\n",
    "# Define the default_args dictionary\n",
    "default_args = {\n",
    "  'owner': 'dsmith',\n",
    "  'start_date': datetime(2023, 1, 14),\n",
    "  'retries': 2\n",
    "}\n",
    "\n",
    "# Instantiate the DAG object\n",
    "with DAG('example_etl', default_args=default_args) as etl_dag:\n",
    "  pass"
   ]
  },
  {
   "cell_type": "markdown",
   "id": "b5341103-0509-439c-9874-2bbe896cab35",
   "metadata": {},
   "source": [
    "## Airflow web interface"
   ]
  },
  {
   "cell_type": "markdown",
   "id": "a248328a-5d19-4373-a83d-ecbcd2526f7f",
   "metadata": {},
   "source": [
    "### Starting the Airflow webserver\n",
    "You've successfully created some DAGs within Airflow using the command-line tools, but notice that it can be a bit tricky to handle scheduling / troubleshooting / etc. After reading the documentation further, you realize that you'd like to access the Airflow web interface. For security reasons, you'd like to start the webserver on port 9090.\n",
    "\n",
    "Which airflow command would you use to start the webserver on port 9090?\n",
    "\n",
    "Airflow is installed and accessible from the command line. Remember to use the airflow -h command if needed. airflow <subcommand> -h will provide further detail. Note that there may already be a webserver running - you can ignore any error messages you see while searching for the correct command.\n",
    "\n",
    "- Remember to use the airflow -h command if needed. airflow <subcommand> -h will provide further detail. "
   ]
  },
  {
   "cell_type": "code",
   "execution_count": null,
   "id": "4195e607-5bc5-4b32-845a-82cab46520ca",
   "metadata": {},
   "outputs": [],
   "source": [
    "airflow webserver -p 9090"
   ]
  },
  {
   "cell_type": "code",
   "execution_count": null,
   "id": "8de0764f-5b3d-47f1-8b34-28b47efe7b32",
   "metadata": {},
   "outputs": [],
   "source": []
  }
 ],
 "metadata": {
  "kernelspec": {
   "display_name": "Python 3 (ipykernel)",
   "language": "python",
   "name": "python3"
  },
  "language_info": {
   "codemirror_mode": {
    "name": "ipython",
    "version": 3
   },
   "file_extension": ".py",
   "mimetype": "text/x-python",
   "name": "python",
   "nbconvert_exporter": "python",
   "pygments_lexer": "ipython3",
   "version": "3.9.13"
  }
 },
 "nbformat": 4,
 "nbformat_minor": 5
}
