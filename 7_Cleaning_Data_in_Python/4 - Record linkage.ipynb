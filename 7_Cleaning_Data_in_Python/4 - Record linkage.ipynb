{
 "cells": [
  {
   "cell_type": "code",
   "execution_count": 1,
   "id": "a1af1c3c-fd1e-411f-b1a4-fe1a1d06b8b3",
   "metadata": {},
   "outputs": [],
   "source": [
    "import numpy as np\n",
    "import pandas as pd\n",
    "import datetime as dt\n",
    "import missingno as msno\n",
    "import matplotlib.pyplot as plt"
   ]
  },
  {
   "cell_type": "markdown",
   "id": "157fed98-eea1-4daa-8796-cd691b6f6b8e",
   "metadata": {},
   "source": [
    "## Comparing strings"
   ]
  },
  {
   "cell_type": "markdown",
   "id": "b42b3b46-40ea-4d0f-b2ca-34401916cadc",
   "metadata": {},
   "source": [
    "#### In this chapter\n",
    "Chapter 4 - Record linkage\n"
   ]
  },
  {
   "cell_type": "markdown",
   "id": "33322569-66d7-4ab5-bd28-e4fd01f11c13",
   "metadata": {},
   "source": [
    "#### Minimum edit distance algorithms"
   ]
  },
  {
   "cell_type": "code",
   "execution_count": null,
   "id": "06f18d52-2db9-45fd-bff0-d6fce784b5ff",
   "metadata": {},
   "outputs": [],
   "source": [
    "Algorithm                 Operations\n",
    "Damerau-Levenshtein       insertion, substitution, deletion, transposition\n",
    "Levenshtein               insertion, substitution, deletion\n",
    "Hamming                   substitution only\n",
    "Jaro distance             transposition only\n",
    "...                       ...\n",
    "Possible packages:nltk, thefuzz, textdistance .."
   ]
  },
  {
   "cell_type": "markdown",
   "id": "06c84841-ff01-4572-a9e4-6b2bb5428bb9",
   "metadata": {},
   "source": [
    "#### Simple string comparison"
   ]
  },
  {
   "cell_type": "code",
   "execution_count": 2,
   "id": "7049f4e3-a2e0-4a68-adc8-fce6e5b8e82d",
   "metadata": {},
   "outputs": [
    {
     "data": {
      "text/plain": [
       "86"
      ]
     },
     "execution_count": 2,
     "metadata": {},
     "output_type": "execute_result"
    }
   ],
   "source": [
    "# Lets us compare between two strings\n",
    "from thefuzz import fuzz\n",
    "# Compare reeding vs reading\n",
    "fuzz.WRatio('Reeding', 'Reading')"
   ]
  },
  {
   "cell_type": "code",
   "execution_count": 3,
   "id": "f612f536-faeb-4c7a-8a7c-d2e039309082",
   "metadata": {},
   "outputs": [
    {
     "data": {
      "text/plain": [
       "100"
      ]
     },
     "execution_count": 3,
     "metadata": {},
     "output_type": "execute_result"
    }
   ],
   "source": [
    "fuzz.WRatio('reading','Reading')"
   ]
  },
  {
   "cell_type": "markdown",
   "id": "346387ab-4a6f-484b-8b61-f207aa32404a",
   "metadata": {},
   "source": [
    "#### Partial strings and different orderings"
   ]
  },
  {
   "cell_type": "code",
   "execution_count": 4,
   "id": "da1edfe6-e61a-46b8-a703-40e606d69448",
   "metadata": {},
   "outputs": [
    {
     "data": {
      "text/plain": [
       "90"
      ]
     },
     "execution_count": 4,
     "metadata": {},
     "output_type": "execute_result"
    }
   ],
   "source": [
    "# Partial string comparison\n",
    "fuzz.WRatio('Houston Rockets', 'Rockets')"
   ]
  },
  {
   "cell_type": "code",
   "execution_count": 5,
   "id": "4711277d-d23d-47f8-ab53-4b8b29184234",
   "metadata": {},
   "outputs": [
    {
     "data": {
      "text/plain": [
       "86"
      ]
     },
     "execution_count": 5,
     "metadata": {},
     "output_type": "execute_result"
    }
   ],
   "source": [
    "# Partial string comparison with different order\n",
    "fuzz.WRatio('Houston Rockets vs Los Angeles Lakers', 'Lakers vs Rockets')"
   ]
  },
  {
   "cell_type": "markdown",
   "id": "d9633ec9-44e9-48f1-82b7-b0c3843cdc08",
   "metadata": {},
   "source": [
    "#### Comparison with arrays"
   ]
  },
  {
   "cell_type": "code",
   "execution_count": 6,
   "id": "55ecdcc0-63cd-4dfa-83c3-1f14aad09c2b",
   "metadata": {},
   "outputs": [
    {
     "data": {
      "text/plain": [
       "[('Rockets vs Lakers', 86, 0), ('Lakers vs Rockets', 86, 1)]"
      ]
     },
     "execution_count": 6,
     "metadata": {},
     "output_type": "execute_result"
    }
   ],
   "source": [
    "# Import process\n",
    "from thefuzz import process\n",
    "# Define string and array of possible matches\n",
    "string = \"Houston Rockets vs Los Angeles Lakers\"\n",
    "choices = pd.Series(['Rockets vs Lakers', 'Lakers vs Rockets', 'Houson vs Los Angeles', 'Heat vs Bulls'])\n",
    "process.extract(string, choices, limit = 2)"
   ]
  },
  {
   "cell_type": "markdown",
   "id": "d911aaef-7f6a-4b89-a214-ee64336439aa",
   "metadata": {},
   "source": [
    "#### Collapsing categories with string similarity\n",
    "Chapter 2\n",
    "\n",
    "Use .replace() to collapse \"eur\" into \"Europe\"\n",
    "\n",
    "What if there are too many variations?\n",
    "\n",
    "\"EU\", \"eur\", \"Europ\", \"Europa\", \"Erope\", \"Evropa\"...\n",
    "\n",
    "String similarity!\n"
   ]
  },
  {
   "cell_type": "markdown",
   "id": "9700644b-9b5a-4349-9e1f-8ca7d5dc113b",
   "metadata": {},
   "source": [
    "#### Collapsing categories with string matching"
   ]
  },
  {
   "cell_type": "code",
   "execution_count": 7,
   "id": "e4f41fb0-3432-4615-9264-96d30b36452c",
   "metadata": {},
   "outputs": [
    {
     "data": {
      "text/html": [
       "<div>\n",
       "<style scoped>\n",
       "    .dataframe tbody tr th:only-of-type {\n",
       "        vertical-align: middle;\n",
       "    }\n",
       "\n",
       "    .dataframe tbody tr th {\n",
       "        vertical-align: top;\n",
       "    }\n",
       "\n",
       "    .dataframe thead th {\n",
       "        text-align: right;\n",
       "    }\n",
       "</style>\n",
       "<table border=\"1\" class=\"dataframe\">\n",
       "  <thead>\n",
       "    <tr style=\"text-align: right;\">\n",
       "      <th></th>\n",
       "      <th>id</th>\n",
       "      <th>state</th>\n",
       "    </tr>\n",
       "  </thead>\n",
       "  <tbody>\n",
       "    <tr>\n",
       "      <th>0</th>\n",
       "      <td>0</td>\n",
       "      <td>California</td>\n",
       "    </tr>\n",
       "    <tr>\n",
       "      <th>1</th>\n",
       "      <td>1</td>\n",
       "      <td>Cali</td>\n",
       "    </tr>\n",
       "    <tr>\n",
       "      <th>2</th>\n",
       "      <td>2</td>\n",
       "      <td>Calefornia</td>\n",
       "    </tr>\n",
       "    <tr>\n",
       "      <th>3</th>\n",
       "      <td>3</td>\n",
       "      <td>Calefornie</td>\n",
       "    </tr>\n",
       "    <tr>\n",
       "      <th>4</th>\n",
       "      <td>4</td>\n",
       "      <td>Californie</td>\n",
       "    </tr>\n",
       "    <tr>\n",
       "      <th>5</th>\n",
       "      <td>5</td>\n",
       "      <td>Calfornia</td>\n",
       "    </tr>\n",
       "    <tr>\n",
       "      <th>6</th>\n",
       "      <td>6</td>\n",
       "      <td>Calefernia</td>\n",
       "    </tr>\n",
       "    <tr>\n",
       "      <th>7</th>\n",
       "      <td>7</td>\n",
       "      <td>New York</td>\n",
       "    </tr>\n",
       "    <tr>\n",
       "      <th>8</th>\n",
       "      <td>8</td>\n",
       "      <td>New York City</td>\n",
       "    </tr>\n",
       "  </tbody>\n",
       "</table>\n",
       "</div>"
      ],
      "text/plain": [
       "   id          state\n",
       "0   0     California\n",
       "1   1           Cali\n",
       "2   2     Calefornia\n",
       "3   3     Calefornie\n",
       "4   4     Californie\n",
       "5   5      Calfornia\n",
       "6   6     Calefernia\n",
       "7   7       New York\n",
       "8   8  New York City"
      ]
     },
     "execution_count": 7,
     "metadata": {},
     "output_type": "execute_result"
    }
   ],
   "source": [
    "survey = pd.read_csv('survey.csv')\n",
    "survey"
   ]
  },
  {
   "cell_type": "code",
   "execution_count": 8,
   "id": "952710d3-bf69-4dca-80a1-291ef0b37b34",
   "metadata": {},
   "outputs": [
    {
     "data": {
      "text/html": [
       "<div>\n",
       "<style scoped>\n",
       "    .dataframe tbody tr th:only-of-type {\n",
       "        vertical-align: middle;\n",
       "    }\n",
       "\n",
       "    .dataframe tbody tr th {\n",
       "        vertical-align: top;\n",
       "    }\n",
       "\n",
       "    .dataframe thead th {\n",
       "        text-align: right;\n",
       "    }\n",
       "</style>\n",
       "<table border=\"1\" class=\"dataframe\">\n",
       "  <thead>\n",
       "    <tr style=\"text-align: right;\">\n",
       "      <th></th>\n",
       "      <th>state</th>\n",
       "    </tr>\n",
       "  </thead>\n",
       "  <tbody>\n",
       "    <tr>\n",
       "      <th>0</th>\n",
       "      <td>California</td>\n",
       "    </tr>\n",
       "    <tr>\n",
       "      <th>1</th>\n",
       "      <td>New York</td>\n",
       "    </tr>\n",
       "  </tbody>\n",
       "</table>\n",
       "</div>"
      ],
      "text/plain": [
       "        state\n",
       "0  California\n",
       "1    New York"
      ]
     },
     "execution_count": 8,
     "metadata": {},
     "output_type": "execute_result"
    }
   ],
   "source": [
    "categories = pd.read_csv('categories.csv')\n",
    "categories"
   ]
  },
  {
   "cell_type": "markdown",
   "id": "34a422c1-c748-41eb-8c51-c377e9c27bf2",
   "metadata": {},
   "source": [
    "#### Collapsing all of the state"
   ]
  },
  {
   "cell_type": "code",
   "execution_count": 9,
   "id": "5a988d6d-100c-4b63-81c2-4f2ed03af96b",
   "metadata": {},
   "outputs": [],
   "source": [
    "# For each correct category\n",
    "for state in categories['state']:\n",
    "    # Find potential matches in states with typoes    \n",
    "    matches = process.extract(state, survey['state'], limit = survey.shape[0])\n",
    "    # For each potential match match\n",
    "for potential_match in matches:\n",
    "    # If high similarity score\n",
    "    if potential_match[1] >= 80:\n",
    "        # Replace typo with correct category     \n",
    "        survey.loc[survey['state'] == potential_match[0], 'state'] = state"
   ]
  },
  {
   "cell_type": "code",
   "execution_count": 10,
   "id": "927a4d40-ee89-41b3-9d6c-e6b389a2745d",
   "metadata": {},
   "outputs": [
    {
     "data": {
      "text/plain": [
       "array(['California', 'Cali', 'Calefornia', 'Calefornie', 'Californie',\n",
       "       'Calfornia', 'Calefernia', 'New York'], dtype=object)"
      ]
     },
     "execution_count": 10,
     "metadata": {},
     "output_type": "execute_result"
    }
   ],
   "source": [
    "survey['state'].unique()"
   ]
  },
  {
   "cell_type": "markdown",
   "id": "78ad4bff-d93b-42a0-8794-bac24438de54",
   "metadata": {},
   "source": [
    "#### Minimum edit distance\n",
    "In the video exercise, you saw how minimum edit distance is used to identify how similar two strings are. As a reminder, minimum edit distance is the minimum number of steps needed to reach from String A to String B, with the operations available being:\n",
    "\n",
    "- Insertion of a new character.\n",
    "- Deletion of an existing character.\n",
    "- Substitution of an existing character.\n",
    "- Transposition of two existing consecutive characters.\n",
    "\n",
    "What is the minimum edit distance from 'sign' to 'sing', and which operation(s) gets you there?\n",
    "\n",
    "Answer the question?\n",
    "- 1 by transposing 'g' with 'n'"
   ]
  },
  {
   "cell_type": "markdown",
   "id": "f3578692-ac7f-4134-ab71-433d3598df43",
   "metadata": {},
   "source": [
    "- Correct! Transposing the last two letters of 'sign' is the easiest way to get to 'sing' - in the next exercise, you'll use edit distance at scale to remap categories!"
   ]
  },
  {
   "cell_type": "markdown",
   "id": "8dc38382-7f3c-4146-b684-57f6bb06a2ec",
   "metadata": {},
   "source": [
    "### The cutoff point\n",
    "In this exercise, and throughout this chapter, you'll be working with the restaurants DataFrame which has data on various restaurants. Your ultimate goal is to create a restaurant recommendation engine, but you need to first clean your data.\n",
    "\n",
    "This version of restaurants has been collected from many sources, where the cuisine_type column is riddled with typos, and should contain only italian, american and asian cuisine types. There are so many unique categories that remapping them manually isn't scalable, and it's best to use string similarity instead.\n",
    "\n",
    "Before doing so, you want to establish the cutoff point for the similarity score using the thefuzz's process.extract() function by finding the similarity score of the most distant typo of each category."
   ]
  },
  {
   "cell_type": "code",
   "execution_count": 11,
   "id": "c213e366-a0ad-4cc4-acf4-e750fc80f05d",
   "metadata": {},
   "outputs": [
    {
     "data": {
      "text/html": [
       "<div>\n",
       "<style scoped>\n",
       "    .dataframe tbody tr th:only-of-type {\n",
       "        vertical-align: middle;\n",
       "    }\n",
       "\n",
       "    .dataframe tbody tr th {\n",
       "        vertical-align: top;\n",
       "    }\n",
       "\n",
       "    .dataframe thead th {\n",
       "        text-align: right;\n",
       "    }\n",
       "</style>\n",
       "<table border=\"1\" class=\"dataframe\">\n",
       "  <thead>\n",
       "    <tr style=\"text-align: right;\">\n",
       "      <th></th>\n",
       "      <th>name</th>\n",
       "      <th>addr</th>\n",
       "      <th>city</th>\n",
       "      <th>phone</th>\n",
       "      <th>type</th>\n",
       "    </tr>\n",
       "  </thead>\n",
       "  <tbody>\n",
       "    <tr>\n",
       "      <th>0</th>\n",
       "      <td>arnie morton's of chicago</td>\n",
       "      <td>435 s. la cienega blv .</td>\n",
       "      <td>los angeles</td>\n",
       "      <td>3102461501</td>\n",
       "      <td>american</td>\n",
       "    </tr>\n",
       "    <tr>\n",
       "      <th>1</th>\n",
       "      <td>art's delicatessen</td>\n",
       "      <td>12224 ventura blvd.</td>\n",
       "      <td>studio city</td>\n",
       "      <td>8187621221</td>\n",
       "      <td>american</td>\n",
       "    </tr>\n",
       "    <tr>\n",
       "      <th>2</th>\n",
       "      <td>campanile</td>\n",
       "      <td>624 s. la brea ave.</td>\n",
       "      <td>los angeles</td>\n",
       "      <td>2139381447</td>\n",
       "      <td>american</td>\n",
       "    </tr>\n",
       "    <tr>\n",
       "      <th>3</th>\n",
       "      <td>fenix</td>\n",
       "      <td>8358 sunset blvd. west</td>\n",
       "      <td>hollywood</td>\n",
       "      <td>2138486677</td>\n",
       "      <td>american</td>\n",
       "    </tr>\n",
       "    <tr>\n",
       "      <th>4</th>\n",
       "      <td>grill on the alley</td>\n",
       "      <td>9560 dayton way</td>\n",
       "      <td>los angeles</td>\n",
       "      <td>3102760615</td>\n",
       "      <td>american</td>\n",
       "    </tr>\n",
       "    <tr>\n",
       "      <th>...</th>\n",
       "      <td>...</td>\n",
       "      <td>...</td>\n",
       "      <td>...</td>\n",
       "      <td>...</td>\n",
       "      <td>...</td>\n",
       "    </tr>\n",
       "    <tr>\n",
       "      <th>331</th>\n",
       "      <td>vivande porta via</td>\n",
       "      <td>2125 fillmore st.</td>\n",
       "      <td>san francisco</td>\n",
       "      <td>4153464430</td>\n",
       "      <td>italian</td>\n",
       "    </tr>\n",
       "    <tr>\n",
       "      <th>332</th>\n",
       "      <td>vivande ristorante</td>\n",
       "      <td>670 golden gate ave.</td>\n",
       "      <td>san francisco</td>\n",
       "      <td>4156739245</td>\n",
       "      <td>italian</td>\n",
       "    </tr>\n",
       "    <tr>\n",
       "      <th>333</th>\n",
       "      <td>world wrapps</td>\n",
       "      <td>2257 chestnut st.</td>\n",
       "      <td>san francisco</td>\n",
       "      <td>4155639727</td>\n",
       "      <td>american</td>\n",
       "    </tr>\n",
       "    <tr>\n",
       "      <th>334</th>\n",
       "      <td>wu kong</td>\n",
       "      <td>101 spear st.</td>\n",
       "      <td>san francisco</td>\n",
       "      <td>4159579300</td>\n",
       "      <td>asian</td>\n",
       "    </tr>\n",
       "    <tr>\n",
       "      <th>335</th>\n",
       "      <td>yank sing</td>\n",
       "      <td>427 battery st.</td>\n",
       "      <td>san francisco</td>\n",
       "      <td>4155414949</td>\n",
       "      <td>asian</td>\n",
       "    </tr>\n",
       "  </tbody>\n",
       "</table>\n",
       "<p>336 rows × 5 columns</p>\n",
       "</div>"
      ],
      "text/plain": [
       "                          name                       addr           city  \\\n",
       "0    arnie morton's of chicago   435 s. la cienega blv .     los angeles   \n",
       "1           art's delicatessen       12224 ventura blvd.     studio city   \n",
       "2                    campanile       624 s. la brea ave.     los angeles   \n",
       "3                        fenix    8358 sunset blvd. west       hollywood   \n",
       "4           grill on the alley           9560 dayton way     los angeles   \n",
       "..                         ...                        ...            ...   \n",
       "331          vivande porta via         2125 fillmore st.   san francisco   \n",
       "332         vivande ristorante      670 golden gate ave.   san francisco   \n",
       "333               world wrapps         2257 chestnut st.   san francisco   \n",
       "334                    wu kong             101 spear st.   san francisco   \n",
       "335                  yank sing           427 battery st.   san francisco   \n",
       "\n",
       "          phone      type  \n",
       "0    3102461501  american  \n",
       "1    8187621221  american  \n",
       "2    2139381447  american  \n",
       "3    2138486677  american  \n",
       "4    3102760615  american  \n",
       "..          ...       ...  \n",
       "331  4153464430   italian  \n",
       "332  4156739245   italian  \n",
       "333  4155639727  american  \n",
       "334  4159579300     asian  \n",
       "335  4155414949     asian  \n",
       "\n",
       "[336 rows x 5 columns]"
      ]
     },
     "execution_count": 11,
     "metadata": {},
     "output_type": "execute_result"
    }
   ],
   "source": [
    "restaurants = pd.read_csv('restaurants_L2.csv',index_col=0)\n",
    "restaurants"
   ]
  },
  {
   "cell_type": "code",
   "execution_count": 12,
   "id": "9c81f4f0-6c65-4789-88b9-fa91b9fcb39c",
   "metadata": {},
   "outputs": [],
   "source": [
    "restaurants = restaurants.rename(columns={'addr':'address','type':'cuisine_type'})"
   ]
  },
  {
   "cell_type": "code",
   "execution_count": 13,
   "id": "8fd4ba24-b83a-44f1-ae1e-f07365a000d5",
   "metadata": {},
   "outputs": [],
   "source": [
    "restaurants['phone'] = restaurants['phone'].astype('int16')"
   ]
  },
  {
   "cell_type": "code",
   "execution_count": 14,
   "id": "fc095d39-af47-4f83-9094-5c353c99e364",
   "metadata": {},
   "outputs": [
    {
     "name": "stdout",
     "output_type": "stream",
     "text": [
      "<class 'pandas.core.frame.DataFrame'>\n",
      "Index: 336 entries, 0 to 335\n",
      "Data columns (total 5 columns):\n",
      " #   Column        Non-Null Count  Dtype \n",
      "---  ------        --------------  ----- \n",
      " 0   name          336 non-null    object\n",
      " 1   address       336 non-null    object\n",
      " 2   city          336 non-null    object\n",
      " 3   phone         336 non-null    int16 \n",
      " 4   cuisine_type  336 non-null    object\n",
      "dtypes: int16(1), object(4)\n",
      "memory usage: 13.8+ KB\n"
     ]
    }
   ],
   "source": [
    "restaurants.info()"
   ]
  },
  {
   "cell_type": "code",
   "execution_count": 15,
   "id": "26bd3e3d-a3ef-4d00-a0a8-f98a3cfddce5",
   "metadata": {},
   "outputs": [
    {
     "name": "stdout",
     "output_type": "stream",
     "text": [
      "[('asian', 100), ('italian', 67), ('american', 62), ('mexican', 50), ('steakhouses', 40), ('cajun', 40), ('southwestern', 36), ('southern', 31), ('coffeebar', 26)]\n",
      "\n",
      "\n",
      "[('american', 100), ('mexican', 80), ('cajun', 68), ('asian', 62), ('italian', 53), ('southwestern', 49), ('southern', 38), ('coffeebar', 24), ('steakhouses', 21)]\n",
      "\n",
      "\n",
      "[('italian', 100), ('asian', 67), ('american', 53), ('mexican', 43), ('cajun', 33), ('southwestern', 33), ('steakhouses', 33), ('southern', 27), ('coffeebar', 12)]\n"
     ]
    }
   ],
   "source": [
    "# Import process from thefuzz\n",
    "from thefuzz import process\n",
    "\n",
    "# Store the unique values of cuisine_type in unique_types\n",
    "unique_types = restaurants['cuisine_type'].unique()\n",
    "\n",
    "# Calculate similarity of 'asian' to all values of unique_types\n",
    "print(process.extract('asian', unique_types, limit = len(unique_types)))\n",
    "print('\\n')\n",
    "# Calculate similarity of 'american' to all values of unique_types\n",
    "print(process.extract('american', unique_types, limit = len(unique_types)))\n",
    "print('\\n')\n",
    "# Calculate similarity of 'italian' to all values of unique_types\n",
    "print(process.extract('italian', unique_types, limit = len(unique_types)))\n"
   ]
  },
  {
   "cell_type": "markdown",
   "id": "de51041d-3f41-43ce-9084-b574f8553243",
   "metadata": {},
   "source": [
    "### Remapping categories II\n",
    "In the last exercise, you determined that the distance cutoff point for remapping typos of 'american', 'asian', and 'italian' cuisine types stored in the cuisine_type column should be 80.\n",
    "\n",
    "In this exercise, you're going to put it all together by finding matches with similarity scores equal to or higher than 80 by using fuzywuzzy.process's extract() function, for each correct cuisine type, and replacing these matches with it. Remember, when comparing a string with an array of strings using process.extract(), the output is a list of tuples where each is formatted like:\n",
    "\n",
    "(closest match, similarity score, index of match)\n",
    "The restaurants DataFrame is in your environment, and you have access to a categories list containing the correct cuisine types ('italian', 'asian', and 'american')."
   ]
  },
  {
   "cell_type": "code",
   "execution_count": 16,
   "id": "0efe0ea0-34a8-4e13-8371-253bea65a6c7",
   "metadata": {},
   "outputs": [
    {
     "name": "stdout",
     "output_type": "stream",
     "text": [
      "['american' 'asian' 'italian' 'coffeebar' 'mexican' 'southwestern'\n",
      " 'steakhouses' 'southern' 'cajun']\n"
     ]
    }
   ],
   "source": [
    "# Inspect the unique values of the cuisine_type column\n",
    "print(restaurants['cuisine_type'].unique())"
   ]
  },
  {
   "cell_type": "code",
   "execution_count": 17,
   "id": "3927f47d-5e37-4f1c-b3a2-426e86112513",
   "metadata": {},
   "outputs": [
    {
     "name": "stdout",
     "output_type": "stream",
     "text": [
      "[('italian', 100, 6), ('italian', 100, 10), ('italian', 100, 11), ('italian', 100, 16), ('italian', 100, 19)]\n"
     ]
    }
   ],
   "source": [
    "# Create a list of matches, comparing 'italian' with the cuisine_type column\n",
    "matches = process.extract('italian', restaurants['cuisine_type'], limit=len(restaurants.cuisine_type))\n",
    "\n",
    "# Inspect the first 5 matches\n",
    "print(matches[0:5])"
   ]
  },
  {
   "cell_type": "code",
   "execution_count": 18,
   "id": "26e130f1-c3b5-44e2-b2f9-988e2115befb",
   "metadata": {},
   "outputs": [],
   "source": [
    "# Iterate through the list of matches to italian\n",
    "for match in matches:\n",
    "  # Check whether the similarity score is greater than or equal to 80\n",
    "  if match[1] >= 80:\n",
    "    # Select all rows where the cuisine_type is spelled this way, and set them to the correct cuisine\n",
    "    restaurants.loc[restaurants['cuisine_type'] == match[0], 'cuisine_type'] = 'italian'"
   ]
  },
  {
   "cell_type": "code",
   "execution_count": 19,
   "id": "22c00bdf-bd1e-4b1b-b1ff-de49de295f5b",
   "metadata": {},
   "outputs": [
    {
     "data": {
      "text/plain": [
       "cuisine_type\n",
       "american        137\n",
       "italian          78\n",
       "asian            72\n",
       "coffeebar        25\n",
       "mexican           9\n",
       "southern          8\n",
       "steakhouses       5\n",
       "southwestern      1\n",
       "cajun             1\n",
       "Name: count, dtype: int64"
      ]
     },
     "execution_count": 19,
     "metadata": {},
     "output_type": "execute_result"
    }
   ],
   "source": [
    "restaurants['cuisine_type'].value_counts()"
   ]
  },
  {
   "cell_type": "code",
   "execution_count": 20,
   "id": "ec23fa21-c685-4538-8cae-d3ccf35054af",
   "metadata": {},
   "outputs": [
    {
     "name": "stdout",
     "output_type": "stream",
     "text": [
      "<class 'pandas.core.frame.DataFrame'>\n",
      "Index: 336 entries, 0 to 335\n",
      "Data columns (total 5 columns):\n",
      " #   Column        Non-Null Count  Dtype \n",
      "---  ------        --------------  ----- \n",
      " 0   name          336 non-null    object\n",
      " 1   address       336 non-null    object\n",
      " 2   city          336 non-null    object\n",
      " 3   phone         336 non-null    int16 \n",
      " 4   cuisine_type  336 non-null    object\n",
      "dtypes: int16(1), object(4)\n",
      "memory usage: 13.8+ KB\n"
     ]
    }
   ],
   "source": [
    "restaurants.info()"
   ]
  },
  {
   "cell_type": "code",
   "execution_count": 21,
   "id": "e98e5206-2375-4f48-b867-db8462fb7d9d",
   "metadata": {},
   "outputs": [],
   "source": [
    "categories = ['italian', 'asian', 'american']"
   ]
  },
  {
   "cell_type": "code",
   "execution_count": 22,
   "id": "b4e48b5c-04eb-4135-bcac-96f7eb9beedb",
   "metadata": {},
   "outputs": [
    {
     "name": "stdout",
     "output_type": "stream",
     "text": [
      "['american' 'asian' 'italian' 'coffeebar' 'southwestern' 'steakhouses'\n",
      " 'southern' 'cajun']\n"
     ]
    },
    {
     "name": "stderr",
     "output_type": "stream",
     "text": [
      "/var/folders/rk/vsbmyjqx09n87m8t22syxyvr0000gn/T/ipykernel_9118/3813377710.py:11: FutureWarning: Setting an item of incompatible dtype is deprecated and will raise an error in a future version of pandas. Value 'italian' has dtype incompatible with int16, please explicitly cast to a compatible dtype first.\n",
      "  restaurants.loc[restaurants['cuisine_type'] == match[0]] = cuisine\n"
     ]
    }
   ],
   "source": [
    "# Iterate through categories\n",
    "for cuisine in categories:  \n",
    "  # Create a list of matches, comparing cuisine with the cuisine_type column\n",
    "  matches = process.extract(cuisine, restaurants['cuisine_type'], limit=len(restaurants.cuisine_type))\n",
    "\n",
    "  # Iterate through the list of matches\n",
    "  for match in matches:\n",
    "     # Check whether the similarity score is greater than or equal to 80\n",
    "    if match[1] >= 80:\n",
    "      # If it is, select all rows where the cuisine_type is spelled this way, and set them to the correct cuisine\n",
    "      restaurants.loc[restaurants['cuisine_type'] == match[0]] = cuisine\n",
    "\n",
    "# Inspect the final result\n",
    "print(restaurants['cuisine_type'].unique())"
   ]
  },
  {
   "cell_type": "markdown",
   "id": "216497b8-027a-4984-afb3-d4d9d487e575",
   "metadata": {},
   "source": [
    "- Tremendous work! All your cuisine types are properly mapped! Now you'll build on string similarity, by jumping into record linkage!"
   ]
  },
  {
   "cell_type": "markdown",
   "id": "5fa0979f-0cb7-4ed6-80f5-d9d17ae314bf",
   "metadata": {},
   "source": [
    "## Generating pairs"
   ]
  },
  {
   "cell_type": "code",
   "execution_count": 23,
   "id": "4a27ecbc-04d1-4925-8b9c-63c4c9ebec47",
   "metadata": {},
   "outputs": [],
   "source": [
    "import numpy as np\n",
    "import pandas as pd\n",
    "import recordlinkage"
   ]
  },
  {
   "cell_type": "code",
   "execution_count": 24,
   "id": "6669687a-b465-42a9-8848-a585aa1e1b11",
   "metadata": {},
   "outputs": [],
   "source": [
    "census_A = pd.read_csv('census_a.csv')\n",
    "census_B = pd.read_csv('census_b.csv')"
   ]
  },
  {
   "cell_type": "code",
   "execution_count": 25,
   "id": "68986d97-8882-4a41-a377-8ce7683b09fb",
   "metadata": {},
   "outputs": [
    {
     "data": {
      "text/html": [
       "<div>\n",
       "<style scoped>\n",
       "    .dataframe tbody tr th:only-of-type {\n",
       "        vertical-align: middle;\n",
       "    }\n",
       "\n",
       "    .dataframe tbody tr th {\n",
       "        vertical-align: top;\n",
       "    }\n",
       "\n",
       "    .dataframe thead th {\n",
       "        text-align: right;\n",
       "    }\n",
       "</style>\n",
       "<table border=\"1\" class=\"dataframe\">\n",
       "  <thead>\n",
       "    <tr style=\"text-align: right;\">\n",
       "      <th></th>\n",
       "      <th>rec_id</th>\n",
       "      <th>given_name</th>\n",
       "      <th>surname</th>\n",
       "      <th>date_of_birth</th>\n",
       "      <th>suburb</th>\n",
       "      <th>state</th>\n",
       "      <th>address_id</th>\n",
       "    </tr>\n",
       "  </thead>\n",
       "  <tbody>\n",
       "    <tr>\n",
       "      <th>0</th>\n",
       "      <td>rec-1070-org</td>\n",
       "      <td>michaela</td>\n",
       "      <td>neumann</td>\n",
       "      <td>19151111</td>\n",
       "      <td>winston hills</td>\n",
       "      <td>cal</td>\n",
       "      <td>stanley street</td>\n",
       "    </tr>\n",
       "    <tr>\n",
       "      <th>1</th>\n",
       "      <td>rec-1016-org</td>\n",
       "      <td>courtney</td>\n",
       "      <td>painter</td>\n",
       "      <td>19161214</td>\n",
       "      <td>richlands</td>\n",
       "      <td>txs</td>\n",
       "      <td>pinkerton circuit</td>\n",
       "    </tr>\n",
       "  </tbody>\n",
       "</table>\n",
       "</div>"
      ],
      "text/plain": [
       "         rec_id given_name  surname  date_of_birth         suburb state  \\\n",
       "0  rec-1070-org   michaela  neumann       19151111  winston hills   cal   \n",
       "1  rec-1016-org   courtney  painter       19161214      richlands   txs   \n",
       "\n",
       "          address_id  \n",
       "0     stanley street  \n",
       "1  pinkerton circuit  "
      ]
     },
     "execution_count": 25,
     "metadata": {},
     "output_type": "execute_result"
    }
   ],
   "source": [
    "census_A"
   ]
  },
  {
   "cell_type": "code",
   "execution_count": 26,
   "id": "6fdaaf88-8368-493e-90de-fb72cdc2f14f",
   "metadata": {},
   "outputs": [
    {
     "data": {
      "text/html": [
       "<div>\n",
       "<style scoped>\n",
       "    .dataframe tbody tr th:only-of-type {\n",
       "        vertical-align: middle;\n",
       "    }\n",
       "\n",
       "    .dataframe tbody tr th {\n",
       "        vertical-align: top;\n",
       "    }\n",
       "\n",
       "    .dataframe thead th {\n",
       "        text-align: right;\n",
       "    }\n",
       "</style>\n",
       "<table border=\"1\" class=\"dataframe\">\n",
       "  <thead>\n",
       "    <tr style=\"text-align: right;\">\n",
       "      <th></th>\n",
       "      <th>rec_id</th>\n",
       "      <th>given_name</th>\n",
       "      <th>surname</th>\n",
       "      <th>date_of_birth</th>\n",
       "      <th>suburb</th>\n",
       "      <th>state</th>\n",
       "      <th>address_id</th>\n",
       "    </tr>\n",
       "  </thead>\n",
       "  <tbody>\n",
       "    <tr>\n",
       "      <th>0</th>\n",
       "      <td>rec-561-dup-0</td>\n",
       "      <td>elton</td>\n",
       "      <td>NaN</td>\n",
       "      <td>19651013</td>\n",
       "      <td>windermere</td>\n",
       "      <td>ny</td>\n",
       "      <td>light setreet</td>\n",
       "    </tr>\n",
       "    <tr>\n",
       "      <th>1</th>\n",
       "      <td>rec-2642-dup-0</td>\n",
       "      <td>mitchell</td>\n",
       "      <td>maxon</td>\n",
       "      <td>19390212</td>\n",
       "      <td>north ryde</td>\n",
       "      <td>cal</td>\n",
       "      <td>edkins street</td>\n",
       "    </tr>\n",
       "  </tbody>\n",
       "</table>\n",
       "</div>"
      ],
      "text/plain": [
       "           rec_id given_name surname  date_of_birth      suburb state  \\\n",
       "0   rec-561-dup-0      elton     NaN       19651013  windermere    ny   \n",
       "1  rec-2642-dup-0   mitchell   maxon       19390212  north ryde   cal   \n",
       "\n",
       "      address_id  \n",
       "0  light setreet  \n",
       "1  edkins street  "
      ]
     },
     "execution_count": 26,
     "metadata": {},
     "output_type": "execute_result"
    }
   ],
   "source": [
    "census_B"
   ]
  },
  {
   "cell_type": "code",
   "execution_count": 27,
   "id": "6df78d89-e017-48cc-a5b0-75d62e8ee5eb",
   "metadata": {},
   "outputs": [],
   "source": [
    "# Create indexing object\n",
    "indexer = recordlinkage.Index()\n",
    "\n",
    "# Generate pairs blocked on state\n",
    "indexer.block('state')\n",
    "pairs = indexer.index(census_A, census_B)"
   ]
  },
  {
   "cell_type": "code",
   "execution_count": null,
   "id": "64e7cbb1-59d9-4643-ab7b-111ff1e76633",
   "metadata": {},
   "outputs": [],
   "source": []
  },
  {
   "cell_type": "markdown",
   "id": "ee99cd55-decc-4f8b-9114-db70e850ef40",
   "metadata": {},
   "source": [
    "#### Comparing the DataFrames"
   ]
  },
  {
   "cell_type": "code",
   "execution_count": 28,
   "id": "c82013e0-c1b9-4d51-8483-d41ea8a31af5",
   "metadata": {},
   "outputs": [
    {
     "data": {
      "text/html": [
       "<div>\n",
       "<style scoped>\n",
       "    .dataframe tbody tr th:only-of-type {\n",
       "        vertical-align: middle;\n",
       "    }\n",
       "\n",
       "    .dataframe tbody tr th {\n",
       "        vertical-align: top;\n",
       "    }\n",
       "\n",
       "    .dataframe thead th {\n",
       "        text-align: right;\n",
       "    }\n",
       "</style>\n",
       "<table border=\"1\" class=\"dataframe\">\n",
       "  <thead>\n",
       "    <tr style=\"text-align: right;\">\n",
       "      <th></th>\n",
       "      <th></th>\n",
       "      <th>date_of_birth</th>\n",
       "      <th>state</th>\n",
       "      <th>surname</th>\n",
       "      <th>address_id</th>\n",
       "    </tr>\n",
       "  </thead>\n",
       "  <tbody>\n",
       "    <tr>\n",
       "      <th>0</th>\n",
       "      <th>1</th>\n",
       "      <td>0</td>\n",
       "      <td>1</td>\n",
       "      <td>0.0</td>\n",
       "      <td>0.0</td>\n",
       "    </tr>\n",
       "  </tbody>\n",
       "</table>\n",
       "</div>"
      ],
      "text/plain": [
       "     date_of_birth  state  surname  address_id\n",
       "0 1              0      1      0.0         0.0"
      ]
     },
     "execution_count": 28,
     "metadata": {},
     "output_type": "execute_result"
    }
   ],
   "source": [
    "# Generate the pairs\n",
    "pairs = indexer.index(census_A, census_B)\n",
    "\n",
    "# Create a Compare object\n",
    "compare_cl = recordlinkage.Compare()\n",
    "\n",
    "# Find exact matches for pairs of date_of_birth and state\n",
    "compare_cl.exact('date_of_birth', 'date_of_birth', label='date_of_birth')\n",
    "compare_cl.exact('state', 'state', label='state')\n",
    "\n",
    "# Find similar matches for pairs of surname and address_1 using string similarity\n",
    "compare_cl.string('surname', 'surname', threshold=0.85, label='surname')\n",
    "compare_cl.string('address_id', 'address_id', threshold=0.85, label='address_id')\n",
    "\n",
    "# Find matches\n",
    "potential_matches = compare_cl.compute(pairs, census_A, census_B)\n",
    "potential_matches"
   ]
  },
  {
   "cell_type": "markdown",
   "id": "cf7e3b84-45a5-4d1e-9e60-69ee3a817857",
   "metadata": {},
   "source": [
    "#### Finding the only pairs we want"
   ]
  },
  {
   "cell_type": "code",
   "execution_count": 29,
   "id": "454b600d-2c41-4bf9-a1b1-98d423ea02ad",
   "metadata": {},
   "outputs": [
    {
     "data": {
      "text/html": [
       "<div>\n",
       "<style scoped>\n",
       "    .dataframe tbody tr th:only-of-type {\n",
       "        vertical-align: middle;\n",
       "    }\n",
       "\n",
       "    .dataframe tbody tr th {\n",
       "        vertical-align: top;\n",
       "    }\n",
       "\n",
       "    .dataframe thead th {\n",
       "        text-align: right;\n",
       "    }\n",
       "</style>\n",
       "<table border=\"1\" class=\"dataframe\">\n",
       "  <thead>\n",
       "    <tr style=\"text-align: right;\">\n",
       "      <th></th>\n",
       "      <th></th>\n",
       "      <th>date_of_birth</th>\n",
       "      <th>state</th>\n",
       "      <th>surname</th>\n",
       "      <th>address_id</th>\n",
       "    </tr>\n",
       "  </thead>\n",
       "  <tbody>\n",
       "    <tr>\n",
       "      <th>0</th>\n",
       "      <th>1</th>\n",
       "      <td>0</td>\n",
       "      <td>1</td>\n",
       "      <td>0.0</td>\n",
       "      <td>0.0</td>\n",
       "    </tr>\n",
       "  </tbody>\n",
       "</table>\n",
       "</div>"
      ],
      "text/plain": [
       "     date_of_birth  state  surname  address_id\n",
       "0 1              0      1      0.0         0.0"
      ]
     },
     "execution_count": 29,
     "metadata": {},
     "output_type": "execute_result"
    }
   ],
   "source": [
    "potential_matches[potential_matches.sum(axis = 1) >= 1]"
   ]
  },
  {
   "cell_type": "markdown",
   "id": "d27557d5-d8f9-4955-9d89-c1eb2c62ca60",
   "metadata": {},
   "source": [
    "### Pairs of restaurants\n",
    "In the last lesson, you cleaned the restaurants dataset to make it ready for building a restaurants recommendation engine. You have a new DataFrame named restaurants_new with new restaurants to train your model on, that's been scraped from a new data source.\n",
    "\n",
    "You've already cleaned the cuisine_type and city columns using the techniques learned throughout the course. However you saw duplicates with typos in restaurants names that require record linkage instead of joins with restaurants.\n",
    "\n",
    "In this exercise, you will perform the first step in record linkage and generate possible pairs of rows between restaurants and restaurants_new. Both DataFrames, pandas and recordlinkage are in your environment."
   ]
  },
  {
   "cell_type": "code",
   "execution_count": 30,
   "id": "3019a249-eeb5-42bb-a89f-f885fd49885c",
   "metadata": {},
   "outputs": [
    {
     "data": {
      "text/html": [
       "<div>\n",
       "<style scoped>\n",
       "    .dataframe tbody tr th:only-of-type {\n",
       "        vertical-align: middle;\n",
       "    }\n",
       "\n",
       "    .dataframe tbody tr th {\n",
       "        vertical-align: top;\n",
       "    }\n",
       "\n",
       "    .dataframe thead th {\n",
       "        text-align: right;\n",
       "    }\n",
       "</style>\n",
       "<table border=\"1\" class=\"dataframe\">\n",
       "  <thead>\n",
       "    <tr style=\"text-align: right;\">\n",
       "      <th></th>\n",
       "      <th>name</th>\n",
       "      <th>addr</th>\n",
       "      <th>city</th>\n",
       "      <th>phone</th>\n",
       "      <th>type</th>\n",
       "    </tr>\n",
       "  </thead>\n",
       "  <tbody>\n",
       "    <tr>\n",
       "      <th>0</th>\n",
       "      <td>arnie morton's of chicago</td>\n",
       "      <td>435 s. la cienega blv .</td>\n",
       "      <td>los angeles</td>\n",
       "      <td>3102461501</td>\n",
       "      <td>american</td>\n",
       "    </tr>\n",
       "    <tr>\n",
       "      <th>1</th>\n",
       "      <td>art's delicatessen</td>\n",
       "      <td>12224 ventura blvd.</td>\n",
       "      <td>studio city</td>\n",
       "      <td>8187621221</td>\n",
       "      <td>american</td>\n",
       "    </tr>\n",
       "    <tr>\n",
       "      <th>2</th>\n",
       "      <td>campanile</td>\n",
       "      <td>624 s. la brea ave.</td>\n",
       "      <td>los angeles</td>\n",
       "      <td>2139381447</td>\n",
       "      <td>american</td>\n",
       "    </tr>\n",
       "    <tr>\n",
       "      <th>3</th>\n",
       "      <td>fenix</td>\n",
       "      <td>8358 sunset blvd. west</td>\n",
       "      <td>hollywood</td>\n",
       "      <td>2138486677</td>\n",
       "      <td>american</td>\n",
       "    </tr>\n",
       "    <tr>\n",
       "      <th>4</th>\n",
       "      <td>grill on the alley</td>\n",
       "      <td>9560 dayton way</td>\n",
       "      <td>los angeles</td>\n",
       "      <td>3102760615</td>\n",
       "      <td>american</td>\n",
       "    </tr>\n",
       "    <tr>\n",
       "      <th>...</th>\n",
       "      <td>...</td>\n",
       "      <td>...</td>\n",
       "      <td>...</td>\n",
       "      <td>...</td>\n",
       "      <td>...</td>\n",
       "    </tr>\n",
       "    <tr>\n",
       "      <th>331</th>\n",
       "      <td>vivande porta via</td>\n",
       "      <td>2125 fillmore st.</td>\n",
       "      <td>san francisco</td>\n",
       "      <td>4153464430</td>\n",
       "      <td>italian</td>\n",
       "    </tr>\n",
       "    <tr>\n",
       "      <th>332</th>\n",
       "      <td>vivande ristorante</td>\n",
       "      <td>670 golden gate ave.</td>\n",
       "      <td>san francisco</td>\n",
       "      <td>4156739245</td>\n",
       "      <td>italian</td>\n",
       "    </tr>\n",
       "    <tr>\n",
       "      <th>333</th>\n",
       "      <td>world wrapps</td>\n",
       "      <td>2257 chestnut st.</td>\n",
       "      <td>san francisco</td>\n",
       "      <td>4155639727</td>\n",
       "      <td>american</td>\n",
       "    </tr>\n",
       "    <tr>\n",
       "      <th>334</th>\n",
       "      <td>wu kong</td>\n",
       "      <td>101 spear st.</td>\n",
       "      <td>san francisco</td>\n",
       "      <td>4159579300</td>\n",
       "      <td>asian</td>\n",
       "    </tr>\n",
       "    <tr>\n",
       "      <th>335</th>\n",
       "      <td>yank sing</td>\n",
       "      <td>427 battery st.</td>\n",
       "      <td>san francisco</td>\n",
       "      <td>4155414949</td>\n",
       "      <td>asian</td>\n",
       "    </tr>\n",
       "  </tbody>\n",
       "</table>\n",
       "<p>336 rows × 5 columns</p>\n",
       "</div>"
      ],
      "text/plain": [
       "                          name                       addr           city  \\\n",
       "0    arnie morton's of chicago   435 s. la cienega blv .     los angeles   \n",
       "1           art's delicatessen       12224 ventura blvd.     studio city   \n",
       "2                    campanile       624 s. la brea ave.     los angeles   \n",
       "3                        fenix    8358 sunset blvd. west       hollywood   \n",
       "4           grill on the alley           9560 dayton way     los angeles   \n",
       "..                         ...                        ...            ...   \n",
       "331          vivande porta via         2125 fillmore st.   san francisco   \n",
       "332         vivande ristorante      670 golden gate ave.   san francisco   \n",
       "333               world wrapps         2257 chestnut st.   san francisco   \n",
       "334                    wu kong             101 spear st.   san francisco   \n",
       "335                  yank sing           427 battery st.   san francisco   \n",
       "\n",
       "          phone      type  \n",
       "0    3102461501  american  \n",
       "1    8187621221  american  \n",
       "2    2139381447  american  \n",
       "3    2138486677  american  \n",
       "4    3102760615  american  \n",
       "..          ...       ...  \n",
       "331  4153464430   italian  \n",
       "332  4156739245   italian  \n",
       "333  4155639727  american  \n",
       "334  4159579300     asian  \n",
       "335  4155414949     asian  \n",
       "\n",
       "[336 rows x 5 columns]"
      ]
     },
     "execution_count": 30,
     "metadata": {},
     "output_type": "execute_result"
    }
   ],
   "source": [
    "restaurants = pd.read_csv('restaurants_L2.csv',index_col=0)\n",
    "restaurants"
   ]
  },
  {
   "cell_type": "code",
   "execution_count": 31,
   "id": "e08ff5e5-ac48-41d2-adb1-9bc3e8474893",
   "metadata": {},
   "outputs": [
    {
     "data": {
      "text/html": [
       "<div>\n",
       "<style scoped>\n",
       "    .dataframe tbody tr th:only-of-type {\n",
       "        vertical-align: middle;\n",
       "    }\n",
       "\n",
       "    .dataframe tbody tr th {\n",
       "        vertical-align: top;\n",
       "    }\n",
       "\n",
       "    .dataframe thead th {\n",
       "        text-align: right;\n",
       "    }\n",
       "</style>\n",
       "<table border=\"1\" class=\"dataframe\">\n",
       "  <thead>\n",
       "    <tr style=\"text-align: right;\">\n",
       "      <th></th>\n",
       "      <th>name</th>\n",
       "      <th>addr</th>\n",
       "      <th>city</th>\n",
       "      <th>phone</th>\n",
       "      <th>type</th>\n",
       "    </tr>\n",
       "  </thead>\n",
       "  <tbody>\n",
       "    <tr>\n",
       "      <th>0</th>\n",
       "      <td>kokomo</td>\n",
       "      <td>6333 w. third st.</td>\n",
       "      <td>la</td>\n",
       "      <td>2139330773</td>\n",
       "      <td>american</td>\n",
       "    </tr>\n",
       "    <tr>\n",
       "      <th>1</th>\n",
       "      <td>feenix</td>\n",
       "      <td>8358 sunset blvd. west</td>\n",
       "      <td>hollywood</td>\n",
       "      <td>2138486677</td>\n",
       "      <td>american</td>\n",
       "    </tr>\n",
       "    <tr>\n",
       "      <th>2</th>\n",
       "      <td>parkway</td>\n",
       "      <td>510 s. arroyo pkwy .</td>\n",
       "      <td>pasadena</td>\n",
       "      <td>8187951001</td>\n",
       "      <td>californian</td>\n",
       "    </tr>\n",
       "    <tr>\n",
       "      <th>3</th>\n",
       "      <td>r-23</td>\n",
       "      <td>923 e. third st.</td>\n",
       "      <td>los angeles</td>\n",
       "      <td>2136877178</td>\n",
       "      <td>japanese</td>\n",
       "    </tr>\n",
       "    <tr>\n",
       "      <th>4</th>\n",
       "      <td>gumbo</td>\n",
       "      <td>6333 w. third st.</td>\n",
       "      <td>la</td>\n",
       "      <td>2139330358</td>\n",
       "      <td>cajun/creole</td>\n",
       "    </tr>\n",
       "    <tr>\n",
       "      <th>...</th>\n",
       "      <td>...</td>\n",
       "      <td>...</td>\n",
       "      <td>...</td>\n",
       "      <td>...</td>\n",
       "      <td>...</td>\n",
       "    </tr>\n",
       "    <tr>\n",
       "      <th>77</th>\n",
       "      <td>feast</td>\n",
       "      <td>1949 westwood blvd.</td>\n",
       "      <td>west la</td>\n",
       "      <td>3104750400</td>\n",
       "      <td>chinese</td>\n",
       "    </tr>\n",
       "    <tr>\n",
       "      <th>78</th>\n",
       "      <td>mulberry</td>\n",
       "      <td>17040 ventura blvd.</td>\n",
       "      <td>encino</td>\n",
       "      <td>8189068881</td>\n",
       "      <td>pizza</td>\n",
       "    </tr>\n",
       "    <tr>\n",
       "      <th>79</th>\n",
       "      <td>matsuhissa</td>\n",
       "      <td>129 n. la cienega blvd.</td>\n",
       "      <td>beverly hills</td>\n",
       "      <td>3106599639</td>\n",
       "      <td>asian</td>\n",
       "    </tr>\n",
       "    <tr>\n",
       "      <th>80</th>\n",
       "      <td>jiraffe</td>\n",
       "      <td>502 santa monica blvd</td>\n",
       "      <td>santa monica</td>\n",
       "      <td>3109176671</td>\n",
       "      <td>californian</td>\n",
       "    </tr>\n",
       "    <tr>\n",
       "      <th>81</th>\n",
       "      <td>martha's</td>\n",
       "      <td>22nd street grill 25 22nd</td>\n",
       "      <td>st. hermosa beach</td>\n",
       "      <td>3103767786</td>\n",
       "      <td>american</td>\n",
       "    </tr>\n",
       "  </tbody>\n",
       "</table>\n",
       "<p>82 rows × 5 columns</p>\n",
       "</div>"
      ],
      "text/plain": [
       "          name                       addr               city       phone  \\\n",
       "0       kokomo          6333 w. third st.                 la  2139330773   \n",
       "1       feenix    8358 sunset blvd. west           hollywood  2138486677   \n",
       "2      parkway       510 s. arroyo pkwy .           pasadena  8187951001   \n",
       "3         r-23           923 e. third st.        los angeles  2136877178   \n",
       "4        gumbo          6333 w. third st.                 la  2139330358   \n",
       "..         ...                        ...                ...         ...   \n",
       "77       feast        1949 westwood blvd.            west la  3104750400   \n",
       "78    mulberry        17040 ventura blvd.             encino  8189068881   \n",
       "79  matsuhissa   129 n. la cienega blvd.       beverly hills  3106599639   \n",
       "80     jiraffe      502 santa monica blvd       santa monica  3109176671   \n",
       "81    martha's  22nd street grill 25 22nd  st. hermosa beach  3103767786   \n",
       "\n",
       "            type  \n",
       "0       american  \n",
       "1       american  \n",
       "2    californian  \n",
       "3       japanese  \n",
       "4   cajun/creole  \n",
       "..           ...  \n",
       "77       chinese  \n",
       "78         pizza  \n",
       "79         asian  \n",
       "80   californian  \n",
       "81      american  \n",
       "\n",
       "[82 rows x 5 columns]"
      ]
     },
     "execution_count": 31,
     "metadata": {},
     "output_type": "execute_result"
    }
   ],
   "source": [
    "restaurants_new = pd.read_csv('restaurants_L2_dirty.csv',index_col=0)\n",
    "restaurants_new"
   ]
  },
  {
   "cell_type": "code",
   "execution_count": 32,
   "id": "81a1c0aa-a06d-4fd7-adbb-c6efa95e97c6",
   "metadata": {},
   "outputs": [],
   "source": [
    "# Create an indexer and object and find possible pairs\n",
    "indexer = recordlinkage.Index()\n",
    "\n",
    "# Block pairing on cuisine_type\n",
    "indexer.block('type')\n",
    "\n",
    "# Generate pairs\n",
    "pairs = indexer.index(restaurants, restaurants_new)"
   ]
  },
  {
   "cell_type": "markdown",
   "id": "8f56f56e-2258-4d27-8fab-7baaac43a13f",
   "metadata": {},
   "source": [
    "### Similar restaurants\n",
    "In the last exercise, you generated pairs between restaurants and restaurants_new in an effort to cleanly merge both DataFrames using record linkage.\n",
    "\n",
    "When performing record linkage, there are different types of matching you can perform between different columns of your DataFrames, including exact matches, string similarities, and more.\n",
    "\n",
    "Now that your pairs have been generated and stored in pairs, you will find exact matches in the city and cuisine_type columns between each pair, and similar strings for each pair in the rest_name column. Both DataFrames, pandas and recordlinkage are in your environment."
   ]
  },
  {
   "cell_type": "code",
   "execution_count": 33,
   "id": "7387a0b7-316a-47a4-be21-76a200ecdce5",
   "metadata": {},
   "outputs": [],
   "source": [
    "# Create a comparison object\n",
    "comp_cl = recordlinkage.Compare()"
   ]
  },
  {
   "cell_type": "code",
   "execution_count": 34,
   "id": "98241db7-e518-4b63-998b-20738573980c",
   "metadata": {},
   "outputs": [
    {
     "data": {
      "text/plain": [
       "<Compare>"
      ]
     },
     "execution_count": 34,
     "metadata": {},
     "output_type": "execute_result"
    }
   ],
   "source": [
    "# Find exact matches on city, cuisine_types \n",
    "comp_cl.exact('city', 'city', label='city')\n",
    "comp_cl.exact('type', 'type', label = 'type')\n",
    "\n",
    "# Find similar matches of rest_name\n",
    "comp_cl.string('name', 'name', label='name', threshold = 0.8) "
   ]
  },
  {
   "cell_type": "code",
   "execution_count": 35,
   "id": "52f9e0b5-bb55-4c3d-a4f0-8cf29f10b0a1",
   "metadata": {},
   "outputs": [
    {
     "name": "stdout",
     "output_type": "stream",
     "text": [
      "        city  type  name\n",
      "0   0      0     1   0.0\n",
      "    1      0     1   0.0\n",
      "    7      0     1   0.0\n",
      "    12     0     1   0.0\n",
      "    13     0     1   0.0\n",
      "...      ...   ...   ...\n",
      "334 79     0     1   0.0\n",
      "335 26     0     1   0.0\n",
      "    65     0     1   0.0\n",
      "    71     0     1   0.0\n",
      "    79     0     1   0.0\n",
      "\n",
      "[3631 rows x 3 columns]\n"
     ]
    }
   ],
   "source": [
    "# Get potential matches and print\n",
    "potential_matches = comp_cl.compute(pairs, restaurants, restaurants_new)\n",
    "print(potential_matches)"
   ]
  },
  {
   "cell_type": "markdown",
   "id": "04a4fc43-98ec-435a-b032-fb883425f3f5",
   "metadata": {},
   "source": [
    "## Linking DataFrames"
   ]
  },
  {
   "cell_type": "code",
   "execution_count": null,
   "id": "51d0054f-7813-40d3-a81d-8f0db1a790e3",
   "metadata": {},
   "outputs": [],
   "source": [
    "# Import recordlinkage and generate full pairs\n",
    "import recordlinkage\n",
    "\n",
    "indexer = recordlinkage.Index()\n",
    "indexer.block('state')\n",
    "full_pairs = indexer.index(census_A, census_B)\n",
    "\n",
    "# Comparison step\n",
    "compare_cl = recordlinkage.Compare()\n",
    "compare_cl.exact('date_of_birth', 'date_of_birth', label='date_of_birth')\n",
    "compare_cl.exact('state', 'state', label='state')\n",
    "compare_cl.string('surname', 'surname', threshold=0.85, label='surname')\n",
    "compare_cl.string('address_1', 'address_1', threshold=0.85, label='address_1')\n",
    "\n",
    "# Generate potential matches\n",
    "potential_matches = compare_cl.compute(full_pairs, census_A, census_B)\n",
    "\n",
    "# Isolate matches with matching values for 3 or more columns\n",
    "matches = potential_matches[potential_matches.sum(axis = 1) >= 3]\n",
    "\n",
    "# Get index for matching census_B rows only\n",
    "matches.index\n",
    "duplicate_rows = matches.index.get_level_values(1)\n",
    "print(census_B_index)\n",
    "\n",
    "# Finding new rows in census_B\n",
    "census_B_new = census_B[~census_B.index.isin(duplicate_rows)]\n",
    "\n",
    "# Link the DataFrames!\n",
    "full_census = census_A.append(census_B_new)"
   ]
  },
  {
   "cell_type": "markdown",
   "id": "f2bd79ae-e71d-45fd-97db-8e39fddb8d27",
   "metadata": {},
   "source": [
    "### Linking them together!\n",
    "In the last lesson, you've finished the bulk of the work on your effort to link restaurants and restaurants_new. You've generated the different pairs of potentially matching rows, searched for exact matches between the cuisine_type and city columns, but compared for similar strings in the rest_name column. You stored the DataFrame containing the scores in potential_matches.\n",
    "\n",
    "Now it's finally time to link both DataFrames. You will do so by first extracting all row indices of restaurants_new that are matching across the columns mentioned above from potential_matches. Then you will subset restaurants_new on these indices, then append the non-duplicate values to restaurants. All DataFrames are in your environment, alongside pandas imported as pd."
   ]
  },
  {
   "cell_type": "code",
   "execution_count": null,
   "id": "bb3b0960-bc70-4f26-8c03-6a6d5d90376d",
   "metadata": {},
   "outputs": [],
   "source": [
    "# Isolate potential matches with row sum >=3\n",
    "matches = potential_matches[potential_matches.sum(axis = 1) >= 3]\n",
    "\n",
    "# Get values of second column index of matches\n",
    "matching_indices = matches.index.get_level_values(1)\n",
    "\n",
    "# Subset restaurants_new based on non-duplicate values\n",
    "non_dup = restaurants_new[~restaurants_new.index.isin(matching_indices)]\n",
    "\n",
    "# Append non_dup to restaurants\n",
    "full_restaurants = restaurants.append(non_dup)\n",
    "print(full_restaurants)"
   ]
  },
  {
   "cell_type": "markdown",
   "id": "c155bc8b-e8e0-443c-8c9a-d9a938545268",
   "metadata": {},
   "source": [
    "- Awesome work! Linking the DataFrames is arguably the most straightforward step of record linkage. You are now ready to get started on that recommendation engine!"
   ]
  },
  {
   "cell_type": "code",
   "execution_count": null,
   "id": "14ea4458-e5d0-4ec9-8e0b-6229ec745ab8",
   "metadata": {},
   "outputs": [],
   "source": []
  }
 ],
 "metadata": {
  "kernelspec": {
   "display_name": "Python 3 (ipykernel)",
   "language": "python",
   "name": "python3"
  },
  "language_info": {
   "codemirror_mode": {
    "name": "ipython",
    "version": 3
   },
   "file_extension": ".py",
   "mimetype": "text/x-python",
   "name": "python",
   "nbconvert_exporter": "python",
   "pygments_lexer": "ipython3",
   "version": "3.9.13"
  }
 },
 "nbformat": 4,
 "nbformat_minor": 5
}
