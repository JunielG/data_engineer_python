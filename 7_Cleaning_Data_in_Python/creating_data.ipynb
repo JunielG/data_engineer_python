{
 "cells": [
  {
   "cell_type": "code",
   "execution_count": 1,
   "id": "5b557990-0bae-4fd5-96e6-a2a0d9bcef4e",
   "metadata": {},
   "outputs": [],
   "source": [
    "import pandas as pd\n",
    "import numpy as np"
   ]
  },
  {
   "cell_type": "code",
   "execution_count": 4,
   "id": "8d1d7965-eca3-4808-93af-69de2e29d0fa",
   "metadata": {},
   "outputs": [],
   "source": [
    "d = {'cleanliness':['Clean','Average','Somewhat clean','Somewhat dirty','Dirty'],\n",
    "     'safety':['Neutral','Very safe','Somewhat safe','Very unsafe','Somewhat unsafe'],\n",
    "     'satisfaction':['Very satisfied','Neutral','Somewhat satisfied','Somewhat unsatisfied','Very unsatisfied']}"
   ]
  },
  {
   "cell_type": "code",
   "execution_count": 5,
   "id": "cd695b14-9814-4d11-85c5-3571a7cd3364",
   "metadata": {},
   "outputs": [
    {
     "data": {
      "text/html": [
       "<div>\n",
       "<style scoped>\n",
       "    .dataframe tbody tr th:only-of-type {\n",
       "        vertical-align: middle;\n",
       "    }\n",
       "\n",
       "    .dataframe tbody tr th {\n",
       "        vertical-align: top;\n",
       "    }\n",
       "\n",
       "    .dataframe thead th {\n",
       "        text-align: right;\n",
       "    }\n",
       "</style>\n",
       "<table border=\"1\" class=\"dataframe\">\n",
       "  <thead>\n",
       "    <tr style=\"text-align: right;\">\n",
       "      <th></th>\n",
       "      <th>cleanliness</th>\n",
       "      <th>safety</th>\n",
       "      <th>satisfaction</th>\n",
       "    </tr>\n",
       "  </thead>\n",
       "  <tbody>\n",
       "    <tr>\n",
       "      <th>0</th>\n",
       "      <td>Clean</td>\n",
       "      <td>Neutral</td>\n",
       "      <td>Very satisfied</td>\n",
       "    </tr>\n",
       "    <tr>\n",
       "      <th>1</th>\n",
       "      <td>Average</td>\n",
       "      <td>Very safe</td>\n",
       "      <td>Neutral</td>\n",
       "    </tr>\n",
       "    <tr>\n",
       "      <th>2</th>\n",
       "      <td>Somewhat clean</td>\n",
       "      <td>Somewhat safe</td>\n",
       "      <td>Somewhat satisfied</td>\n",
       "    </tr>\n",
       "    <tr>\n",
       "      <th>3</th>\n",
       "      <td>Somewhat dirty</td>\n",
       "      <td>Very unsafe</td>\n",
       "      <td>Somewhat unsatisfied</td>\n",
       "    </tr>\n",
       "    <tr>\n",
       "      <th>4</th>\n",
       "      <td>Dirty</td>\n",
       "      <td>Somewhat unsafe</td>\n",
       "      <td>Very unsatisfied</td>\n",
       "    </tr>\n",
       "  </tbody>\n",
       "</table>\n",
       "</div>"
      ],
      "text/plain": [
       "      cleanliness           safety          satisfaction\n",
       "0           Clean          Neutral        Very satisfied\n",
       "1         Average        Very safe               Neutral\n",
       "2  Somewhat clean    Somewhat safe    Somewhat satisfied\n",
       "3  Somewhat dirty      Very unsafe  Somewhat unsatisfied\n",
       "4           Dirty  Somewhat unsafe      Very unsatisfied"
      ]
     },
     "execution_count": 5,
     "metadata": {},
     "output_type": "execute_result"
    }
   ],
   "source": [
    "df = pd.DataFrame(d)\n",
    "df"
   ]
  },
  {
   "cell_type": "code",
   "execution_count": 6,
   "id": "9bfaf819-6c1b-422a-aaae-351447cb9074",
   "metadata": {},
   "outputs": [],
   "source": [
    "df.to_csv('categories.csv', index=False)"
   ]
  },
  {
   "cell_type": "code",
   "execution_count": 3,
   "id": "1557ed8e-ee2b-4751-988d-86acd8efc871",
   "metadata": {},
   "outputs": [],
   "source": [
    "d = {'Full name':['Noelani A. Gray','Myles Z. Gomez','Gil B. Silva','Prescott D. Hardin','Benedict G. Valdez',\n",
    "                  'Reece M. Andrews','Hayfa E. Keith','Hedley I. Logan','Jack W. Carrillo','Lionel M. Davis'],\n",
    "    'Phone number':['001-702-397-5143','001-329-485-0540','001-195-492-2338','+1-297-996-4904','001-969-820-3536','4138',\n",
    "                    '001-536-175-8444','001-681-552-1823','001-910-323-5265','001-143-119-9210']}"
   ]
  },
  {
   "cell_type": "code",
   "execution_count": 4,
   "id": "f11f377d-0df3-4299-8522-f0ce43089caf",
   "metadata": {},
   "outputs": [
    {
     "data": {
      "text/html": [
       "<div>\n",
       "<style scoped>\n",
       "    .dataframe tbody tr th:only-of-type {\n",
       "        vertical-align: middle;\n",
       "    }\n",
       "\n",
       "    .dataframe tbody tr th {\n",
       "        vertical-align: top;\n",
       "    }\n",
       "\n",
       "    .dataframe thead th {\n",
       "        text-align: right;\n",
       "    }\n",
       "</style>\n",
       "<table border=\"1\" class=\"dataframe\">\n",
       "  <thead>\n",
       "    <tr style=\"text-align: right;\">\n",
       "      <th></th>\n",
       "      <th>Full name</th>\n",
       "      <th>Phone number</th>\n",
       "    </tr>\n",
       "  </thead>\n",
       "  <tbody>\n",
       "    <tr>\n",
       "      <th>0</th>\n",
       "      <td>Noelani A. Gray</td>\n",
       "      <td>001-702-397-5143</td>\n",
       "    </tr>\n",
       "    <tr>\n",
       "      <th>1</th>\n",
       "      <td>Myles Z. Gomez</td>\n",
       "      <td>001-329-485-0540</td>\n",
       "    </tr>\n",
       "    <tr>\n",
       "      <th>2</th>\n",
       "      <td>Gil B. Silva</td>\n",
       "      <td>001-195-492-2338</td>\n",
       "    </tr>\n",
       "    <tr>\n",
       "      <th>3</th>\n",
       "      <td>Prescott D. Hardin</td>\n",
       "      <td>+1-297-996-4904</td>\n",
       "    </tr>\n",
       "    <tr>\n",
       "      <th>4</th>\n",
       "      <td>Benedict G. Valdez</td>\n",
       "      <td>001-969-820-3536</td>\n",
       "    </tr>\n",
       "    <tr>\n",
       "      <th>5</th>\n",
       "      <td>Reece M. Andrews</td>\n",
       "      <td>4138</td>\n",
       "    </tr>\n",
       "    <tr>\n",
       "      <th>6</th>\n",
       "      <td>Hayfa E. Keith</td>\n",
       "      <td>001-536-175-8444</td>\n",
       "    </tr>\n",
       "    <tr>\n",
       "      <th>7</th>\n",
       "      <td>Hedley I. Logan</td>\n",
       "      <td>001-681-552-1823</td>\n",
       "    </tr>\n",
       "    <tr>\n",
       "      <th>8</th>\n",
       "      <td>Jack W. Carrillo</td>\n",
       "      <td>001-910-323-5265</td>\n",
       "    </tr>\n",
       "    <tr>\n",
       "      <th>9</th>\n",
       "      <td>Lionel M. Davis</td>\n",
       "      <td>001-143-119-9210</td>\n",
       "    </tr>\n",
       "  </tbody>\n",
       "</table>\n",
       "</div>"
      ],
      "text/plain": [
       "            Full name      Phone number\n",
       "0     Noelani A. Gray  001-702-397-5143\n",
       "1      Myles Z. Gomez  001-329-485-0540\n",
       "2        Gil B. Silva  001-195-492-2338\n",
       "3  Prescott D. Hardin   +1-297-996-4904\n",
       "4  Benedict G. Valdez  001-969-820-3536\n",
       "5    Reece M. Andrews              4138\n",
       "6      Hayfa E. Keith  001-536-175-8444\n",
       "7     Hedley I. Logan  001-681-552-1823\n",
       "8    Jack W. Carrillo  001-910-323-5265\n",
       "9     Lionel M. Davis  001-143-119-9210"
      ]
     },
     "execution_count": 4,
     "metadata": {},
     "output_type": "execute_result"
    }
   ],
   "source": [
    "df = pd.DataFrame(d)\n",
    "df"
   ]
  },
  {
   "cell_type": "code",
   "execution_count": 5,
   "id": "e2d61eb4-d74e-4da8-ae61-78dacd7f0d3f",
   "metadata": {},
   "outputs": [],
   "source": [
    "df.to_csv('phones.csv',index=False)"
   ]
  },
  {
   "cell_type": "code",
   "execution_count": 6,
   "id": "c3cd1e4c-9e76-4455-94d5-53972337ecd9",
   "metadata": {},
   "outputs": [],
   "source": [
    "f = {'Full name':['Olga Robinson','Justina Kim','Tamekah Henson','Miranda Solis','Caldwell Gilliam'],\n",
    "     'Phone number':['+(01706)-258911','+0500-5714372','+0800-11113','+07058-8790634','+(016977)-8424']}"
   ]
  },
  {
   "cell_type": "code",
   "execution_count": 8,
   "id": "79885a7b-5b3c-412e-b93a-1430f46584a4",
   "metadata": {},
   "outputs": [
    {
     "data": {
      "text/html": [
       "<div>\n",
       "<style scoped>\n",
       "    .dataframe tbody tr th:only-of-type {\n",
       "        vertical-align: middle;\n",
       "    }\n",
       "\n",
       "    .dataframe tbody tr th {\n",
       "        vertical-align: top;\n",
       "    }\n",
       "\n",
       "    .dataframe thead th {\n",
       "        text-align: right;\n",
       "    }\n",
       "</style>\n",
       "<table border=\"1\" class=\"dataframe\">\n",
       "  <thead>\n",
       "    <tr style=\"text-align: right;\">\n",
       "      <th></th>\n",
       "      <th>Full name</th>\n",
       "      <th>Phone number</th>\n",
       "    </tr>\n",
       "  </thead>\n",
       "  <tbody>\n",
       "    <tr>\n",
       "      <th>0</th>\n",
       "      <td>Olga Robinson</td>\n",
       "      <td>+(01706)-258911</td>\n",
       "    </tr>\n",
       "    <tr>\n",
       "      <th>1</th>\n",
       "      <td>Justina Kim</td>\n",
       "      <td>+0500-5714372</td>\n",
       "    </tr>\n",
       "    <tr>\n",
       "      <th>2</th>\n",
       "      <td>Tamekah Henson</td>\n",
       "      <td>+0800-11113</td>\n",
       "    </tr>\n",
       "    <tr>\n",
       "      <th>3</th>\n",
       "      <td>Miranda Solis</td>\n",
       "      <td>+07058-8790634</td>\n",
       "    </tr>\n",
       "    <tr>\n",
       "      <th>4</th>\n",
       "      <td>Caldwell Gilliam</td>\n",
       "      <td>+(016977)-8424</td>\n",
       "    </tr>\n",
       "  </tbody>\n",
       "</table>\n",
       "</div>"
      ],
      "text/plain": [
       "          Full name     Phone number\n",
       "0     Olga Robinson  +(01706)-258911\n",
       "1       Justina Kim    +0500-5714372\n",
       "2    Tamekah Henson      +0800-11113\n",
       "3     Miranda Solis   +07058-8790634\n",
       "4  Caldwell Gilliam   +(016977)-8424"
      ]
     },
     "execution_count": 8,
     "metadata": {},
     "output_type": "execute_result"
    }
   ],
   "source": [
    "df1 = pd.DataFrame(f)\n",
    "df1"
   ]
  },
  {
   "cell_type": "code",
   "execution_count": 9,
   "id": "224f8e9e-abd7-4cf3-b378-930a66dd64a6",
   "metadata": {},
   "outputs": [],
   "source": [
    "df1.to_csv('phones_1.csv',index=False)"
   ]
  },
  {
   "cell_type": "code",
   "execution_count": 2,
   "id": "0aaf4093-35b9-4aa3-b9e3-71e0a42399c7",
   "metadata": {},
   "outputs": [],
   "source": [
    "d = {'Birthday':['27/27/19','03-29-19','March 3rd, 2019','24-03-19','06-03-19'],         \n",
    "     'First name':['Rowan','Brynn','Sophia','Deacon','Griffith'],\n",
    "     'Last name':['Nunez','Yang','Reilly','Prince','Neal']}"
   ]
  },
  {
   "cell_type": "code",
   "execution_count": 3,
   "id": "0802b821-3bae-4134-9718-32c8d267a45a",
   "metadata": {},
   "outputs": [
    {
     "data": {
      "text/html": [
       "<div>\n",
       "<style scoped>\n",
       "    .dataframe tbody tr th:only-of-type {\n",
       "        vertical-align: middle;\n",
       "    }\n",
       "\n",
       "    .dataframe tbody tr th {\n",
       "        vertical-align: top;\n",
       "    }\n",
       "\n",
       "    .dataframe thead th {\n",
       "        text-align: right;\n",
       "    }\n",
       "</style>\n",
       "<table border=\"1\" class=\"dataframe\">\n",
       "  <thead>\n",
       "    <tr style=\"text-align: right;\">\n",
       "      <th></th>\n",
       "      <th>Birthday</th>\n",
       "      <th>First name</th>\n",
       "      <th>Last name</th>\n",
       "    </tr>\n",
       "  </thead>\n",
       "  <tbody>\n",
       "    <tr>\n",
       "      <th>0</th>\n",
       "      <td>27/27/19</td>\n",
       "      <td>Rowan</td>\n",
       "      <td>Nunez</td>\n",
       "    </tr>\n",
       "    <tr>\n",
       "      <th>1</th>\n",
       "      <td>03-29-19</td>\n",
       "      <td>Brynn</td>\n",
       "      <td>Yang</td>\n",
       "    </tr>\n",
       "    <tr>\n",
       "      <th>2</th>\n",
       "      <td>March 3rd, 2019</td>\n",
       "      <td>Sophia</td>\n",
       "      <td>Reilly</td>\n",
       "    </tr>\n",
       "    <tr>\n",
       "      <th>3</th>\n",
       "      <td>24-03-19</td>\n",
       "      <td>Deacon</td>\n",
       "      <td>Prince</td>\n",
       "    </tr>\n",
       "    <tr>\n",
       "      <th>4</th>\n",
       "      <td>06-03-19</td>\n",
       "      <td>Griffith</td>\n",
       "      <td>Neal</td>\n",
       "    </tr>\n",
       "  </tbody>\n",
       "</table>\n",
       "</div>"
      ],
      "text/plain": [
       "          Birthday First name Last name\n",
       "0         27/27/19      Rowan     Nunez\n",
       "1         03-29-19      Brynn      Yang\n",
       "2  March 3rd, 2019     Sophia    Reilly\n",
       "3         24-03-19     Deacon    Prince\n",
       "4         06-03-19   Griffith      Neal"
      ]
     },
     "execution_count": 3,
     "metadata": {},
     "output_type": "execute_result"
    }
   ],
   "source": [
    "df = pd.DataFrame(d)\n",
    "df"
   ]
  },
  {
   "cell_type": "code",
   "execution_count": 4,
   "id": "38b93ff8-5712-4c77-8a5a-a753261e71f9",
   "metadata": {},
   "outputs": [],
   "source": [
    "df.to_csv('birthdays.csv',index=False)"
   ]
  },
  {
   "cell_type": "code",
   "execution_count": 5,
   "id": "00bc7ec8-e87f-4d18-a892-e154bbde7f78",
   "metadata": {},
   "outputs": [],
   "source": [
    "da = {'flight_number':['DL140','BA248','MEA124','AFR939','TKA101'],\n",
    "      'economy_class':['100','130','100','140','130'],\n",
    "      'business_class':['60','100','50','70','100'],\n",
    "      'first_class':['40','70','50','90','20'],\n",
    "      'total_passengers':['200','300','200','300','250']}"
   ]
  },
  {
   "cell_type": "code",
   "execution_count": 6,
   "id": "7b9f0ca2-ec7e-4eaf-a874-a9d53a6888a7",
   "metadata": {},
   "outputs": [
    {
     "data": {
      "text/html": [
       "<div>\n",
       "<style scoped>\n",
       "    .dataframe tbody tr th:only-of-type {\n",
       "        vertical-align: middle;\n",
       "    }\n",
       "\n",
       "    .dataframe tbody tr th {\n",
       "        vertical-align: top;\n",
       "    }\n",
       "\n",
       "    .dataframe thead th {\n",
       "        text-align: right;\n",
       "    }\n",
       "</style>\n",
       "<table border=\"1\" class=\"dataframe\">\n",
       "  <thead>\n",
       "    <tr style=\"text-align: right;\">\n",
       "      <th></th>\n",
       "      <th>flight_number</th>\n",
       "      <th>economy_class</th>\n",
       "      <th>business_class</th>\n",
       "      <th>first_class</th>\n",
       "      <th>total_passengers</th>\n",
       "    </tr>\n",
       "  </thead>\n",
       "  <tbody>\n",
       "    <tr>\n",
       "      <th>0</th>\n",
       "      <td>DL140</td>\n",
       "      <td>100</td>\n",
       "      <td>60</td>\n",
       "      <td>40</td>\n",
       "      <td>200</td>\n",
       "    </tr>\n",
       "    <tr>\n",
       "      <th>1</th>\n",
       "      <td>BA248</td>\n",
       "      <td>130</td>\n",
       "      <td>100</td>\n",
       "      <td>70</td>\n",
       "      <td>300</td>\n",
       "    </tr>\n",
       "    <tr>\n",
       "      <th>2</th>\n",
       "      <td>MEA124</td>\n",
       "      <td>100</td>\n",
       "      <td>50</td>\n",
       "      <td>50</td>\n",
       "      <td>200</td>\n",
       "    </tr>\n",
       "    <tr>\n",
       "      <th>3</th>\n",
       "      <td>AFR939</td>\n",
       "      <td>140</td>\n",
       "      <td>70</td>\n",
       "      <td>90</td>\n",
       "      <td>300</td>\n",
       "    </tr>\n",
       "    <tr>\n",
       "      <th>4</th>\n",
       "      <td>TKA101</td>\n",
       "      <td>130</td>\n",
       "      <td>100</td>\n",
       "      <td>20</td>\n",
       "      <td>250</td>\n",
       "    </tr>\n",
       "  </tbody>\n",
       "</table>\n",
       "</div>"
      ],
      "text/plain": [
       "  flight_number economy_class business_class first_class total_passengers\n",
       "0         DL140           100             60          40              200\n",
       "1         BA248           130            100          70              300\n",
       "2        MEA124           100             50          50              200\n",
       "3        AFR939           140             70          90              300\n",
       "4        TKA101           130            100          20              250"
      ]
     },
     "execution_count": 6,
     "metadata": {},
     "output_type": "execute_result"
    }
   ],
   "source": [
    "df1 = pd.DataFrame(da)\n",
    "df1"
   ]
  },
  {
   "cell_type": "code",
   "execution_count": 7,
   "id": "ea4d8efe-8d30-4995-8d4f-df55bf1f0222",
   "metadata": {},
   "outputs": [],
   "source": [
    "df1.to_csv('flights.csv',index=False)"
   ]
  },
  {
   "cell_type": "code",
   "execution_count": 8,
   "id": "684b706f-7ab5-4c12-ba7b-fee6a38999e3",
   "metadata": {},
   "outputs": [],
   "source": [
    "f = {'user_id':['32985','94387','34236','12551','55212'],\n",
    "     'Age':['22','27','42','31','18'],\n",
    "     'Birthday':['1998-03-02','1993-12-04','1978-11-24','1989-01-03','2002-07-02']}\n",
    "df2 = pd.DataFrame(f)\n",
    "df2.to_csv('users.csv',index=False)"
   ]
  },
  {
   "cell_type": "code",
   "execution_count": 9,
   "id": "33b3863e-7789-4f28-94aa-ee3f35137220",
   "metadata": {},
   "outputs": [],
   "source": [
    "i = {'id':['0','1','2','3','4','5','6','7','8'],\n",
    "     'state':['California','Cali','Calefornia','Calefornie','Californie','Calfornia',\n",
    "              'Calefernia','New York','New York City']}\n",
    "df3 = pd.DataFrame(i)\n",
    "df3.to_csv('survey.csv',index=False)"
   ]
  },
  {
   "cell_type": "code",
   "execution_count": 10,
   "id": "34329cf5-9552-49cd-982a-19fbda065778",
   "metadata": {},
   "outputs": [],
   "source": [
    "e = {'state':['California', 'New York']}\n",
    "df4 = pd.DataFrame(e)\n",
    "df4.to_csv('categories.csv',index=False)"
   ]
  },
  {
   "cell_type": "code",
   "execution_count": 2,
   "id": "637352e7-809c-41ed-b06f-e93fd8eea8a6",
   "metadata": {},
   "outputs": [],
   "source": [
    "a = {'rec_id':['rec-1070-org','rec-1016-org'],\n",
    "     'given_name':['michaela','courtney'],\n",
    "     'surname':['neumann','painter'],\n",
    "     'date_of_birth':['19151111','19161214'],\n",
    "     'suburb':['winston hills','richlands'],\n",
    "     'state':['cal','txs'],\n",
    "     'address_id':['stanley street','pinkerton circuit']}\n",
    "df = pd.DataFrame(a)\n",
    "df.to_csv('census_a.csv',index=False)"
   ]
  },
  {
   "cell_type": "code",
   "execution_count": 3,
   "id": "0fdd3b46-42fa-4477-81d3-28305bd36cc4",
   "metadata": {},
   "outputs": [],
   "source": [
    "e = {'rec_id':['rec-561-dup-0','rec-2642-dup-0'],\n",
    "     'given_name':['elton','mitchell'],\n",
    "     'surname':['NaN','maxon'],\n",
    "     'date_of_birth':['19651013','19390212'],\n",
    "     'suburb':['windermere','north ryde'],\n",
    "     'state':['ny','cal'],\n",
    "     'address_id':['light setreet','edkins street']}\n",
    "df1 = pd.DataFrame(e)\n",
    "df1.to_csv('census_b.csv',index=False)"
   ]
  },
  {
   "cell_type": "code",
   "execution_count": null,
   "id": "a9e14542-4611-4920-9ecc-ebe1384f3d0e",
   "metadata": {},
   "outputs": [],
   "source": []
  }
 ],
 "metadata": {
  "kernelspec": {
   "display_name": "Python 3 (ipykernel)",
   "language": "python",
   "name": "python3"
  },
  "language_info": {
   "codemirror_mode": {
    "name": "ipython",
    "version": 3
   },
   "file_extension": ".py",
   "mimetype": "text/x-python",
   "name": "python",
   "nbconvert_exporter": "python",
   "pygments_lexer": "ipython3",
   "version": "3.9.13"
  }
 },
 "nbformat": 4,
 "nbformat_minor": 5
}
