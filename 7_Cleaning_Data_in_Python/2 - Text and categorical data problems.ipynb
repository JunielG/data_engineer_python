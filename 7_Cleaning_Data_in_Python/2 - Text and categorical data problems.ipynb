{
 "cells": [
  {
   "cell_type": "code",
   "execution_count": 1,
   "id": "8c1fb7df-2b5f-4ed7-8c7a-1a9ca7a39aad",
   "metadata": {},
   "outputs": [],
   "source": [
    "import numpy as np\n",
    "import pandas as pd"
   ]
  },
  {
   "cell_type": "markdown",
   "id": "883fa604-7796-40f5-8362-e81251066a1f",
   "metadata": {},
   "source": [
    "## Membership constraints"
   ]
  },
  {
   "cell_type": "markdown",
   "id": "a6467dc8-13b7-4cee-8e67-55f99772b97b",
   "metadata": {},
   "source": [
    "#### Chapter 2 - Text and categorical data problems"
   ]
  },
  {
   "cell_type": "code",
   "execution_count": null,
   "id": "7105d94f-db8c-4ba0-a387-7b01ec9b0056",
   "metadata": {},
   "outputs": [],
   "source": [
    "#### Categories and membership constraints\n",
    "##### Predefined finite set of categories\n",
    "Type of data                    Example values              Numeric representation \n",
    "Marriage Status                 unmarried, married          0,1\n",
    "Household Income Category       0-20K, 20-40K, ...          0,1,..\n",
    "Loan Status                     default,payed,no_loan       0,1,2\n",
    "\n",
    "Marriage status can only beunmarried _or_ married"
   ]
  },
  {
   "cell_type": "markdown",
   "id": "62a47f2b-8bd9-4be6-8bb6-f1a976d33ed1",
   "metadata": {},
   "source": [
    "### An example"
   ]
  },
  {
   "cell_type": "code",
   "execution_count": null,
   "id": "1f0f3986-a259-4de2-bda7-9da626bdc0e4",
   "metadata": {},
   "outputs": [],
   "source": [
    "# Read study data and print it\n",
    "study_data = pd.read_csv('study.csv')\n",
    "study_data\n",
    "\n",
    "# Correct possible blood types\n",
    "categories"
   ]
  },
  {
   "cell_type": "markdown",
   "id": "efb333fb-17b0-4932-aa50-3a91e232b9b5",
   "metadata": {},
   "source": [
    "#### Finding inconsistent categories"
   ]
  },
  {
   "cell_type": "code",
   "execution_count": null,
   "id": "66d0bdeb-11df-4ab1-b4f1-fbc86c685881",
   "metadata": {},
   "outputs": [],
   "source": [
    "inconsistent_categories = set(study_data['blood_type']).difference(categories['blood_type'])\n",
    "print(inconsistent_categories)"
   ]
  },
  {
   "cell_type": "code",
   "execution_count": null,
   "id": "3632991b-9194-4f65-9c29-1c21e9c49d4f",
   "metadata": {},
   "outputs": [],
   "source": [
    "# Get and print rows with inconsistent categories\n",
    "inconsistent_rows = study_data['blood_type'].isin(inconsistent_categories)\n",
    "study_data[inconsistent_rows]"
   ]
  },
  {
   "cell_type": "markdown",
   "id": "3a1d5466-a8b2-4d50-ada5-6eb8636e7ee6",
   "metadata": {},
   "source": [
    "#### Dropping inconsistent categories"
   ]
  },
  {
   "cell_type": "code",
   "execution_count": null,
   "id": "5bbc08db-e682-46fe-8570-8d854c1242fa",
   "metadata": {},
   "outputs": [],
   "source": [
    "inconsistent_categories = set(study_data['blood_type']).difference(categories['blood_type'])\n",
    "inconsistent_rows = study_data['blood_type'].isin(inconsistent_categories)\n",
    "inconsistent_data = study_data[inconsistent_rows]\n",
    "# Drop inconsistent categories and get consistent data only\n",
    "consistent_data = study_data[~inconsistent_rows]"
   ]
  },
  {
   "cell_type": "code",
   "execution_count": 8,
   "id": "2df8ddbb-3df2-48f7-b0c1-aa2a0e22e69d",
   "metadata": {},
   "outputs": [
    {
     "data": {
      "text/html": [
       "<div>\n",
       "<style scoped>\n",
       "    .dataframe tbody tr th:only-of-type {\n",
       "        vertical-align: middle;\n",
       "    }\n",
       "\n",
       "    .dataframe tbody tr th {\n",
       "        vertical-align: top;\n",
       "    }\n",
       "\n",
       "    .dataframe thead th {\n",
       "        text-align: right;\n",
       "    }\n",
       "</style>\n",
       "<table border=\"1\" class=\"dataframe\">\n",
       "  <thead>\n",
       "    <tr style=\"text-align: right;\">\n",
       "      <th></th>\n",
       "      <th>id</th>\n",
       "      <th>day</th>\n",
       "      <th>airline</th>\n",
       "      <th>destination</th>\n",
       "      <th>dest_region</th>\n",
       "      <th>dest_size</th>\n",
       "      <th>boarding_area</th>\n",
       "      <th>dept_time</th>\n",
       "      <th>wait_min</th>\n",
       "      <th>cleanliness</th>\n",
       "      <th>safety</th>\n",
       "      <th>satisfaction</th>\n",
       "    </tr>\n",
       "  </thead>\n",
       "  <tbody>\n",
       "    <tr>\n",
       "      <th>0</th>\n",
       "      <td>1351</td>\n",
       "      <td>Tuesday</td>\n",
       "      <td>UNITED INTL</td>\n",
       "      <td>KANSAI</td>\n",
       "      <td>Asia</td>\n",
       "      <td>Hub</td>\n",
       "      <td>Gates 91-102</td>\n",
       "      <td>2018-12-31</td>\n",
       "      <td>115.0</td>\n",
       "      <td>Clean</td>\n",
       "      <td>Neutral</td>\n",
       "      <td>Very satisfied</td>\n",
       "    </tr>\n",
       "    <tr>\n",
       "      <th>1</th>\n",
       "      <td>373</td>\n",
       "      <td>Friday</td>\n",
       "      <td>ALASKA</td>\n",
       "      <td>SAN JOSE DEL CABO</td>\n",
       "      <td>Canada/Mexico</td>\n",
       "      <td>Small</td>\n",
       "      <td>Gates 50-59</td>\n",
       "      <td>2018-12-31</td>\n",
       "      <td>135.0</td>\n",
       "      <td>Clean</td>\n",
       "      <td>Very safe</td>\n",
       "      <td>Very satisfied</td>\n",
       "    </tr>\n",
       "    <tr>\n",
       "      <th>2</th>\n",
       "      <td>2820</td>\n",
       "      <td>Thursday</td>\n",
       "      <td>DELTA</td>\n",
       "      <td>LOS ANGELES</td>\n",
       "      <td>West US</td>\n",
       "      <td>Hub</td>\n",
       "      <td>Gates 40-48</td>\n",
       "      <td>2018-12-31</td>\n",
       "      <td>70.0</td>\n",
       "      <td>Average</td>\n",
       "      <td>Somewhat safe</td>\n",
       "      <td>Neutral</td>\n",
       "    </tr>\n",
       "    <tr>\n",
       "      <th>3</th>\n",
       "      <td>1157</td>\n",
       "      <td>Tuesday</td>\n",
       "      <td>SOUTHWEST</td>\n",
       "      <td>LOS ANGELES</td>\n",
       "      <td>West US</td>\n",
       "      <td>Hub</td>\n",
       "      <td>Gates 20-39</td>\n",
       "      <td>2018-12-31</td>\n",
       "      <td>190.0</td>\n",
       "      <td>Clean</td>\n",
       "      <td>Very safe</td>\n",
       "      <td>Somewhat satsified</td>\n",
       "    </tr>\n",
       "    <tr>\n",
       "      <th>4</th>\n",
       "      <td>2992</td>\n",
       "      <td>Wednesday</td>\n",
       "      <td>AMERICAN</td>\n",
       "      <td>MIAMI</td>\n",
       "      <td>East US</td>\n",
       "      <td>Hub</td>\n",
       "      <td>Gates 50-59</td>\n",
       "      <td>2018-12-31</td>\n",
       "      <td>559.0</td>\n",
       "      <td>Somewhat clean</td>\n",
       "      <td>Very safe</td>\n",
       "      <td>Somewhat satsified</td>\n",
       "    </tr>\n",
       "  </tbody>\n",
       "</table>\n",
       "</div>"
      ],
      "text/plain": [
       "     id        day      airline        destination    dest_region dest_size  \\\n",
       "0  1351    Tuesday  UNITED INTL             KANSAI           Asia       Hub   \n",
       "1   373     Friday       ALASKA  SAN JOSE DEL CABO  Canada/Mexico     Small   \n",
       "2  2820   Thursday        DELTA        LOS ANGELES        West US       Hub   \n",
       "3  1157    Tuesday    SOUTHWEST        LOS ANGELES        West US       Hub   \n",
       "4  2992  Wednesday     AMERICAN              MIAMI        East US       Hub   \n",
       "\n",
       "  boarding_area   dept_time  wait_min     cleanliness         safety  \\\n",
       "0  Gates 91-102  2018-12-31     115.0           Clean        Neutral   \n",
       "1   Gates 50-59  2018-12-31     135.0           Clean      Very safe   \n",
       "2   Gates 40-48  2018-12-31      70.0         Average  Somewhat safe   \n",
       "3   Gates 20-39  2018-12-31     190.0           Clean      Very safe   \n",
       "4   Gates 50-59  2018-12-31     559.0  Somewhat clean      Very safe   \n",
       "\n",
       "         satisfaction  \n",
       "0      Very satisfied  \n",
       "1      Very satisfied  \n",
       "2             Neutral  \n",
       "3  Somewhat satsified  \n",
       "4  Somewhat satsified  "
      ]
     },
     "execution_count": 8,
     "metadata": {},
     "output_type": "execute_result"
    }
   ],
   "source": [
    "airlines = pd.read_csv('airlines_final.csv',index_col=0)\n",
    "airlines.head()"
   ]
  },
  {
   "cell_type": "code",
   "execution_count": 9,
   "id": "d52405ff-0f29-4f9a-b90f-235c5030d20c",
   "metadata": {},
   "outputs": [
    {
     "data": {
      "text/html": [
       "<div>\n",
       "<style scoped>\n",
       "    .dataframe tbody tr th:only-of-type {\n",
       "        vertical-align: middle;\n",
       "    }\n",
       "\n",
       "    .dataframe tbody tr th {\n",
       "        vertical-align: top;\n",
       "    }\n",
       "\n",
       "    .dataframe thead th {\n",
       "        text-align: right;\n",
       "    }\n",
       "</style>\n",
       "<table border=\"1\" class=\"dataframe\">\n",
       "  <thead>\n",
       "    <tr style=\"text-align: right;\">\n",
       "      <th></th>\n",
       "      <th>cleanliness</th>\n",
       "      <th>safety</th>\n",
       "      <th>satisfaction</th>\n",
       "    </tr>\n",
       "  </thead>\n",
       "  <tbody>\n",
       "    <tr>\n",
       "      <th>0</th>\n",
       "      <td>Clean</td>\n",
       "      <td>Neutral</td>\n",
       "      <td>Very satisfied</td>\n",
       "    </tr>\n",
       "    <tr>\n",
       "      <th>1</th>\n",
       "      <td>Average</td>\n",
       "      <td>Very safe</td>\n",
       "      <td>Neutral</td>\n",
       "    </tr>\n",
       "    <tr>\n",
       "      <th>2</th>\n",
       "      <td>Somewhat clean</td>\n",
       "      <td>Somewhat safe</td>\n",
       "      <td>Somewhat satisfied</td>\n",
       "    </tr>\n",
       "    <tr>\n",
       "      <th>3</th>\n",
       "      <td>Somewhat dirty</td>\n",
       "      <td>Very unsafe</td>\n",
       "      <td>Somewhat unsatisfied</td>\n",
       "    </tr>\n",
       "    <tr>\n",
       "      <th>4</th>\n",
       "      <td>Dirty</td>\n",
       "      <td>Somewhat unsafe</td>\n",
       "      <td>Very unsatisfied</td>\n",
       "    </tr>\n",
       "  </tbody>\n",
       "</table>\n",
       "</div>"
      ],
      "text/plain": [
       "      cleanliness           safety          satisfaction\n",
       "0           Clean          Neutral        Very satisfied\n",
       "1         Average        Very safe               Neutral\n",
       "2  Somewhat clean    Somewhat safe    Somewhat satisfied\n",
       "3  Somewhat dirty      Very unsafe  Somewhat unsatisfied\n",
       "4           Dirty  Somewhat unsafe      Very unsatisfied"
      ]
     },
     "execution_count": 9,
     "metadata": {},
     "output_type": "execute_result"
    }
   ],
   "source": [
    "categories = pd.read_csv('categories.csv')\n",
    "categories"
   ]
  },
  {
   "cell_type": "code",
   "execution_count": 9,
   "id": "7f117c3e-d856-4524-96db-c6a810e1331c",
   "metadata": {},
   "outputs": [
    {
     "name": "stdout",
     "output_type": "stream",
     "text": [
      "<class 'pandas.core.frame.DataFrame'>\n",
      "Index: 2477 entries, 0 to 2808\n",
      "Data columns (total 12 columns):\n",
      " #   Column         Non-Null Count  Dtype         \n",
      "---  ------         --------------  -----         \n",
      " 0   id             2477 non-null   int64         \n",
      " 1   day            2477 non-null   object        \n",
      " 2   airline        2477 non-null   object        \n",
      " 3   destination    2477 non-null   object        \n",
      " 4   dest_region    2477 non-null   object        \n",
      " 5   dest_size      2477 non-null   object        \n",
      " 6   boarding_area  2477 non-null   object        \n",
      " 7   dept_time      2477 non-null   datetime64[ns]\n",
      " 8   wait_min       2477 non-null   float64       \n",
      " 9   cleanliness    2477 non-null   object        \n",
      " 10  safety         2477 non-null   object        \n",
      " 11  satisfaction   2477 non-null   object        \n",
      "dtypes: datetime64[ns](1), float64(1), int64(1), object(9)\n",
      "memory usage: 251.6+ KB\n"
     ]
    }
   ],
   "source": [
    "airlines.info()"
   ]
  },
  {
   "cell_type": "code",
   "execution_count": 5,
   "id": "c7853644-fb7b-4b75-9860-5ce1867bd93e",
   "metadata": {},
   "outputs": [
    {
     "data": {
      "text/plain": [
       "Index(['id', 'day', 'airline', 'destination', 'dest_region', 'dest_size',\n",
       "       'boarding_area', 'dept_time', 'wait_min', 'cleanliness', 'safety',\n",
       "       'satisfaction'],\n",
       "      dtype='object')"
      ]
     },
     "execution_count": 5,
     "metadata": {},
     "output_type": "execute_result"
    }
   ],
   "source": [
    "airlines.columns"
   ]
  },
  {
   "cell_type": "code",
   "execution_count": 11,
   "id": "7b932281-436d-4e98-8862-384186abc969",
   "metadata": {},
   "outputs": [],
   "source": [
    "airlines['dept_time'] = pd.to_datetime(airlines['dept_time'])"
   ]
  },
  {
   "cell_type": "markdown",
   "id": "c4a210f9-7296-427e-87be-0ebf863113bb",
   "metadata": {},
   "source": [
    "### Finding consistency\n",
    "In this exercise and throughout this chapter, you'll be working with the airlines DataFrame which contains survey responses on the San Francisco Airport from airline customers.\n",
    "\n",
    "The DataFrame contains flight metadata such as the airline, the destination, waiting times as well as answers to key questions regarding cleanliness, safety, and satisfaction. Another DataFrame named categories was created, containing all correct possible values for the survey columns.\n",
    "\n",
    "In this exercise, you will use both of these DataFrames to find survey answers with inconsistent values, and drop them, effectively performing an outer and inner join on both these DataFrames as seen in the video exercise. The pandas package has been imported as pd, and the airlines and categories DataFrames are in your environment."
   ]
  },
  {
   "cell_type": "code",
   "execution_count": 17,
   "id": "c54a5e85-47ab-4200-8624-717effec8942",
   "metadata": {},
   "outputs": [
    {
     "data": {
      "text/html": [
       "<div>\n",
       "<style scoped>\n",
       "    .dataframe tbody tr th:only-of-type {\n",
       "        vertical-align: middle;\n",
       "    }\n",
       "\n",
       "    .dataframe tbody tr th {\n",
       "        vertical-align: top;\n",
       "    }\n",
       "\n",
       "    .dataframe thead th {\n",
       "        text-align: right;\n",
       "    }\n",
       "</style>\n",
       "<table border=\"1\" class=\"dataframe\">\n",
       "  <thead>\n",
       "    <tr style=\"text-align: right;\">\n",
       "      <th></th>\n",
       "      <th>cleanliness</th>\n",
       "      <th>safety</th>\n",
       "      <th>satisfaction</th>\n",
       "    </tr>\n",
       "  </thead>\n",
       "  <tbody>\n",
       "    <tr>\n",
       "      <th>0</th>\n",
       "      <td>Clean</td>\n",
       "      <td>Neutral</td>\n",
       "      <td>Very satisfied</td>\n",
       "    </tr>\n",
       "    <tr>\n",
       "      <th>1</th>\n",
       "      <td>Average</td>\n",
       "      <td>Very safe</td>\n",
       "      <td>Neutral</td>\n",
       "    </tr>\n",
       "    <tr>\n",
       "      <th>2</th>\n",
       "      <td>Somewhat clean</td>\n",
       "      <td>Somewhat safe</td>\n",
       "      <td>Somewhat satisfied</td>\n",
       "    </tr>\n",
       "    <tr>\n",
       "      <th>3</th>\n",
       "      <td>Somewhat dirty</td>\n",
       "      <td>Very unsafe</td>\n",
       "      <td>Somewhat unsatisfied</td>\n",
       "    </tr>\n",
       "    <tr>\n",
       "      <th>4</th>\n",
       "      <td>Dirty</td>\n",
       "      <td>Somewhat unsafe</td>\n",
       "      <td>Very unsatisfied</td>\n",
       "    </tr>\n",
       "  </tbody>\n",
       "</table>\n",
       "</div>"
      ],
      "text/plain": [
       "      cleanliness           safety          satisfaction\n",
       "0           Clean          Neutral        Very satisfied\n",
       "1         Average        Very safe               Neutral\n",
       "2  Somewhat clean    Somewhat safe    Somewhat satisfied\n",
       "3  Somewhat dirty      Very unsafe  Somewhat unsatisfied\n",
       "4           Dirty  Somewhat unsafe      Very unsatisfied"
      ]
     },
     "metadata": {},
     "output_type": "display_data"
    },
    {
     "name": "stdout",
     "output_type": "stream",
     "text": [
      "\n",
      "\n",
      "Cleanliness:  ['Clean' 'Average' 'Somewhat clean' 'Somewhat dirty' 'Dirty'] \n",
      "\n",
      "Safety:  ['Neutral' 'Very safe' 'Somewhat safe' 'Very unsafe' 'Somewhat unsafe'] \n",
      "\n",
      "Satisfaction:  ['Very satisfied' 'Neutral' 'Somewhat satsified' 'Somewhat unsatisfied'\n",
      " 'Very unsatisfied'] \n",
      "\n"
     ]
    }
   ],
   "source": [
    "# Print categories DataFrame\n",
    "display(categories)\n",
    "print('\\n')\n",
    "\n",
    "# Print unique values of survey columns in airlines\n",
    "print('Cleanliness: ', airlines['cleanliness'].unique(), \"\\n\")\n",
    "print('Safety: ', airlines['safety'].unique(), \"\\n\")\n",
    "print('Satisfaction: ', airlines['satisfaction'].unique(), \"\\n\")"
   ]
  },
  {
   "cell_type": "code",
   "execution_count": 22,
   "id": "89ca214a-9d22-470f-88ec-f1e4af11431c",
   "metadata": {},
   "outputs": [
    {
     "data": {
      "text/html": [
       "<div>\n",
       "<style scoped>\n",
       "    .dataframe tbody tr th:only-of-type {\n",
       "        vertical-align: middle;\n",
       "    }\n",
       "\n",
       "    .dataframe tbody tr th {\n",
       "        vertical-align: top;\n",
       "    }\n",
       "\n",
       "    .dataframe thead th {\n",
       "        text-align: right;\n",
       "    }\n",
       "</style>\n",
       "<table border=\"1\" class=\"dataframe\">\n",
       "  <thead>\n",
       "    <tr style=\"text-align: right;\">\n",
       "      <th></th>\n",
       "      <th>cleanliness</th>\n",
       "      <th>safety</th>\n",
       "      <th>satisfaction</th>\n",
       "    </tr>\n",
       "  </thead>\n",
       "  <tbody>\n",
       "    <tr>\n",
       "      <th>0</th>\n",
       "      <td>Clean</td>\n",
       "      <td>Neutral</td>\n",
       "      <td>Very satisfied</td>\n",
       "    </tr>\n",
       "    <tr>\n",
       "      <th>1</th>\n",
       "      <td>Average</td>\n",
       "      <td>Very safe</td>\n",
       "      <td>Neutral</td>\n",
       "    </tr>\n",
       "    <tr>\n",
       "      <th>2</th>\n",
       "      <td>Somewhat clean</td>\n",
       "      <td>Somewhat safe</td>\n",
       "      <td>Somewhat satisfied</td>\n",
       "    </tr>\n",
       "    <tr>\n",
       "      <th>3</th>\n",
       "      <td>Somewhat dirty</td>\n",
       "      <td>Very unsafe</td>\n",
       "      <td>Somewhat unsatisfied</td>\n",
       "    </tr>\n",
       "    <tr>\n",
       "      <th>4</th>\n",
       "      <td>Dirty</td>\n",
       "      <td>Somewhat unsafe</td>\n",
       "      <td>Very unsatisfied</td>\n",
       "    </tr>\n",
       "  </tbody>\n",
       "</table>\n",
       "</div>"
      ],
      "text/plain": [
       "      cleanliness           safety          satisfaction\n",
       "0           Clean          Neutral        Very satisfied\n",
       "1         Average        Very safe               Neutral\n",
       "2  Somewhat clean    Somewhat safe    Somewhat satisfied\n",
       "3  Somewhat dirty      Very unsafe  Somewhat unsatisfied\n",
       "4           Dirty  Somewhat unsafe      Very unsatisfied"
      ]
     },
     "execution_count": 22,
     "metadata": {},
     "output_type": "execute_result"
    }
   ],
   "source": [
    "categories"
   ]
  },
  {
   "cell_type": "code",
   "execution_count": 23,
   "id": "be379804-ec81-4c86-ae63-a0efe6162948",
   "metadata": {},
   "outputs": [
    {
     "data": {
      "text/html": [
       "<div>\n",
       "<style scoped>\n",
       "    .dataframe tbody tr th:only-of-type {\n",
       "        vertical-align: middle;\n",
       "    }\n",
       "\n",
       "    .dataframe tbody tr th {\n",
       "        vertical-align: top;\n",
       "    }\n",
       "\n",
       "    .dataframe thead th {\n",
       "        text-align: right;\n",
       "    }\n",
       "</style>\n",
       "<table border=\"1\" class=\"dataframe\">\n",
       "  <thead>\n",
       "    <tr style=\"text-align: right;\">\n",
       "      <th></th>\n",
       "      <th>id</th>\n",
       "      <th>day</th>\n",
       "      <th>airline</th>\n",
       "      <th>destination</th>\n",
       "      <th>dest_region</th>\n",
       "      <th>dest_size</th>\n",
       "      <th>boarding_area</th>\n",
       "      <th>dept_time</th>\n",
       "      <th>wait_min</th>\n",
       "      <th>cleanliness</th>\n",
       "      <th>safety</th>\n",
       "      <th>satisfaction</th>\n",
       "    </tr>\n",
       "  </thead>\n",
       "  <tbody>\n",
       "    <tr>\n",
       "      <th>0</th>\n",
       "      <td>1351</td>\n",
       "      <td>Tuesday</td>\n",
       "      <td>UNITED INTL</td>\n",
       "      <td>KANSAI</td>\n",
       "      <td>Asia</td>\n",
       "      <td>Hub</td>\n",
       "      <td>Gates 91-102</td>\n",
       "      <td>2018-12-31</td>\n",
       "      <td>115.0</td>\n",
       "      <td>Clean</td>\n",
       "      <td>Neutral</td>\n",
       "      <td>Very satisfied</td>\n",
       "    </tr>\n",
       "    <tr>\n",
       "      <th>1</th>\n",
       "      <td>373</td>\n",
       "      <td>Friday</td>\n",
       "      <td>ALASKA</td>\n",
       "      <td>SAN JOSE DEL CABO</td>\n",
       "      <td>Canada/Mexico</td>\n",
       "      <td>Small</td>\n",
       "      <td>Gates 50-59</td>\n",
       "      <td>2018-12-31</td>\n",
       "      <td>135.0</td>\n",
       "      <td>Clean</td>\n",
       "      <td>Very safe</td>\n",
       "      <td>Very satisfied</td>\n",
       "    </tr>\n",
       "    <tr>\n",
       "      <th>2</th>\n",
       "      <td>2820</td>\n",
       "      <td>Thursday</td>\n",
       "      <td>DELTA</td>\n",
       "      <td>LOS ANGELES</td>\n",
       "      <td>West US</td>\n",
       "      <td>Hub</td>\n",
       "      <td>Gates 40-48</td>\n",
       "      <td>2018-12-31</td>\n",
       "      <td>70.0</td>\n",
       "      <td>Average</td>\n",
       "      <td>Somewhat safe</td>\n",
       "      <td>Neutral</td>\n",
       "    </tr>\n",
       "    <tr>\n",
       "      <th>3</th>\n",
       "      <td>1157</td>\n",
       "      <td>Tuesday</td>\n",
       "      <td>SOUTHWEST</td>\n",
       "      <td>LOS ANGELES</td>\n",
       "      <td>West US</td>\n",
       "      <td>Hub</td>\n",
       "      <td>Gates 20-39</td>\n",
       "      <td>2018-12-31</td>\n",
       "      <td>190.0</td>\n",
       "      <td>Clean</td>\n",
       "      <td>Very safe</td>\n",
       "      <td>Somewhat satsified</td>\n",
       "    </tr>\n",
       "    <tr>\n",
       "      <th>4</th>\n",
       "      <td>2992</td>\n",
       "      <td>Wednesday</td>\n",
       "      <td>AMERICAN</td>\n",
       "      <td>MIAMI</td>\n",
       "      <td>East US</td>\n",
       "      <td>Hub</td>\n",
       "      <td>Gates 50-59</td>\n",
       "      <td>2018-12-31</td>\n",
       "      <td>559.0</td>\n",
       "      <td>Somewhat clean</td>\n",
       "      <td>Very safe</td>\n",
       "      <td>Somewhat satsified</td>\n",
       "    </tr>\n",
       "  </tbody>\n",
       "</table>\n",
       "</div>"
      ],
      "text/plain": [
       "     id        day      airline        destination    dest_region dest_size  \\\n",
       "0  1351    Tuesday  UNITED INTL             KANSAI           Asia       Hub   \n",
       "1   373     Friday       ALASKA  SAN JOSE DEL CABO  Canada/Mexico     Small   \n",
       "2  2820   Thursday        DELTA        LOS ANGELES        West US       Hub   \n",
       "3  1157    Tuesday    SOUTHWEST        LOS ANGELES        West US       Hub   \n",
       "4  2992  Wednesday     AMERICAN              MIAMI        East US       Hub   \n",
       "\n",
       "  boarding_area  dept_time  wait_min     cleanliness         safety  \\\n",
       "0  Gates 91-102 2018-12-31     115.0           Clean        Neutral   \n",
       "1   Gates 50-59 2018-12-31     135.0           Clean      Very safe   \n",
       "2   Gates 40-48 2018-12-31      70.0         Average  Somewhat safe   \n",
       "3   Gates 20-39 2018-12-31     190.0           Clean      Very safe   \n",
       "4   Gates 50-59 2018-12-31     559.0  Somewhat clean      Very safe   \n",
       "\n",
       "         satisfaction  \n",
       "0      Very satisfied  \n",
       "1      Very satisfied  \n",
       "2             Neutral  \n",
       "3  Somewhat satsified  \n",
       "4  Somewhat satsified  "
      ]
     },
     "execution_count": 23,
     "metadata": {},
     "output_type": "execute_result"
    }
   ],
   "source": [
    "airlines.head()"
   ]
  },
  {
   "cell_type": "code",
   "execution_count": 24,
   "id": "443343e5-12e4-4676-8f75-4455103e7964",
   "metadata": {},
   "outputs": [
    {
     "name": "stdout",
     "output_type": "stream",
     "text": [
      "Empty DataFrame\n",
      "Columns: [id, day, airline, destination, dest_region, dest_size, boarding_area, dept_time, wait_min, cleanliness, safety, satisfaction]\n",
      "Index: []\n"
     ]
    }
   ],
   "source": [
    "# Find the cleanliness category in airlines not in categories\n",
    "cat_clean = set(airlines['cleanliness']).difference(categories['cleanliness'])\n",
    "\n",
    "# Find rows with that category\n",
    "cat_clean_rows = airlines['cleanliness'].isin(cat_clean)\n",
    "\n",
    "# Print rows with inconsistent category\n",
    "print(airlines[cat_clean_rows])"
   ]
  },
  {
   "cell_type": "code",
   "execution_count": 26,
   "id": "1c8c09c0-8e81-4453-b5a7-915a16158492",
   "metadata": {},
   "outputs": [
    {
     "data": {
      "text/html": [
       "<div>\n",
       "<style scoped>\n",
       "    .dataframe tbody tr th:only-of-type {\n",
       "        vertical-align: middle;\n",
       "    }\n",
       "\n",
       "    .dataframe tbody tr th {\n",
       "        vertical-align: top;\n",
       "    }\n",
       "\n",
       "    .dataframe thead th {\n",
       "        text-align: right;\n",
       "    }\n",
       "</style>\n",
       "<table border=\"1\" class=\"dataframe\">\n",
       "  <thead>\n",
       "    <tr style=\"text-align: right;\">\n",
       "      <th></th>\n",
       "      <th>id</th>\n",
       "      <th>day</th>\n",
       "      <th>airline</th>\n",
       "      <th>destination</th>\n",
       "      <th>dest_region</th>\n",
       "      <th>dest_size</th>\n",
       "      <th>boarding_area</th>\n",
       "      <th>dept_time</th>\n",
       "      <th>wait_min</th>\n",
       "      <th>cleanliness</th>\n",
       "      <th>safety</th>\n",
       "      <th>satisfaction</th>\n",
       "    </tr>\n",
       "  </thead>\n",
       "  <tbody>\n",
       "    <tr>\n",
       "      <th>0</th>\n",
       "      <td>1351</td>\n",
       "      <td>Tuesday</td>\n",
       "      <td>UNITED INTL</td>\n",
       "      <td>KANSAI</td>\n",
       "      <td>Asia</td>\n",
       "      <td>Hub</td>\n",
       "      <td>Gates 91-102</td>\n",
       "      <td>2018-12-31</td>\n",
       "      <td>115.0</td>\n",
       "      <td>Clean</td>\n",
       "      <td>Neutral</td>\n",
       "      <td>Very satisfied</td>\n",
       "    </tr>\n",
       "    <tr>\n",
       "      <th>1</th>\n",
       "      <td>373</td>\n",
       "      <td>Friday</td>\n",
       "      <td>ALASKA</td>\n",
       "      <td>SAN JOSE DEL CABO</td>\n",
       "      <td>Canada/Mexico</td>\n",
       "      <td>Small</td>\n",
       "      <td>Gates 50-59</td>\n",
       "      <td>2018-12-31</td>\n",
       "      <td>135.0</td>\n",
       "      <td>Clean</td>\n",
       "      <td>Very safe</td>\n",
       "      <td>Very satisfied</td>\n",
       "    </tr>\n",
       "    <tr>\n",
       "      <th>2</th>\n",
       "      <td>2820</td>\n",
       "      <td>Thursday</td>\n",
       "      <td>DELTA</td>\n",
       "      <td>LOS ANGELES</td>\n",
       "      <td>West US</td>\n",
       "      <td>Hub</td>\n",
       "      <td>Gates 40-48</td>\n",
       "      <td>2018-12-31</td>\n",
       "      <td>70.0</td>\n",
       "      <td>Average</td>\n",
       "      <td>Somewhat safe</td>\n",
       "      <td>Neutral</td>\n",
       "    </tr>\n",
       "    <tr>\n",
       "      <th>3</th>\n",
       "      <td>1157</td>\n",
       "      <td>Tuesday</td>\n",
       "      <td>SOUTHWEST</td>\n",
       "      <td>LOS ANGELES</td>\n",
       "      <td>West US</td>\n",
       "      <td>Hub</td>\n",
       "      <td>Gates 20-39</td>\n",
       "      <td>2018-12-31</td>\n",
       "      <td>190.0</td>\n",
       "      <td>Clean</td>\n",
       "      <td>Very safe</td>\n",
       "      <td>Somewhat satsified</td>\n",
       "    </tr>\n",
       "    <tr>\n",
       "      <th>4</th>\n",
       "      <td>2992</td>\n",
       "      <td>Wednesday</td>\n",
       "      <td>AMERICAN</td>\n",
       "      <td>MIAMI</td>\n",
       "      <td>East US</td>\n",
       "      <td>Hub</td>\n",
       "      <td>Gates 50-59</td>\n",
       "      <td>2018-12-31</td>\n",
       "      <td>559.0</td>\n",
       "      <td>Somewhat clean</td>\n",
       "      <td>Very safe</td>\n",
       "      <td>Somewhat satsified</td>\n",
       "    </tr>\n",
       "    <tr>\n",
       "      <th>...</th>\n",
       "      <td>...</td>\n",
       "      <td>...</td>\n",
       "      <td>...</td>\n",
       "      <td>...</td>\n",
       "      <td>...</td>\n",
       "      <td>...</td>\n",
       "      <td>...</td>\n",
       "      <td>...</td>\n",
       "      <td>...</td>\n",
       "      <td>...</td>\n",
       "      <td>...</td>\n",
       "      <td>...</td>\n",
       "    </tr>\n",
       "    <tr>\n",
       "      <th>2804</th>\n",
       "      <td>1475</td>\n",
       "      <td>Tuesday</td>\n",
       "      <td>ALASKA</td>\n",
       "      <td>NEW YORK-JFK</td>\n",
       "      <td>East US</td>\n",
       "      <td>Hub</td>\n",
       "      <td>Gates 50-59</td>\n",
       "      <td>2018-12-31</td>\n",
       "      <td>280.0</td>\n",
       "      <td>Somewhat clean</td>\n",
       "      <td>Neutral</td>\n",
       "      <td>Somewhat satsified</td>\n",
       "    </tr>\n",
       "    <tr>\n",
       "      <th>2805</th>\n",
       "      <td>2222</td>\n",
       "      <td>Thursday</td>\n",
       "      <td>SOUTHWEST</td>\n",
       "      <td>PHOENIX</td>\n",
       "      <td>West US</td>\n",
       "      <td>Hub</td>\n",
       "      <td>Gates 20-39</td>\n",
       "      <td>2018-12-31</td>\n",
       "      <td>165.0</td>\n",
       "      <td>Clean</td>\n",
       "      <td>Very safe</td>\n",
       "      <td>Very satisfied</td>\n",
       "    </tr>\n",
       "    <tr>\n",
       "      <th>2806</th>\n",
       "      <td>2684</td>\n",
       "      <td>Friday</td>\n",
       "      <td>UNITED</td>\n",
       "      <td>ORLANDO</td>\n",
       "      <td>East US</td>\n",
       "      <td>Hub</td>\n",
       "      <td>Gates 70-90</td>\n",
       "      <td>2018-12-31</td>\n",
       "      <td>92.0</td>\n",
       "      <td>Clean</td>\n",
       "      <td>Very safe</td>\n",
       "      <td>Very satisfied</td>\n",
       "    </tr>\n",
       "    <tr>\n",
       "      <th>2807</th>\n",
       "      <td>2549</td>\n",
       "      <td>Tuesday</td>\n",
       "      <td>JETBLUE</td>\n",
       "      <td>LONG BEACH</td>\n",
       "      <td>West US</td>\n",
       "      <td>Small</td>\n",
       "      <td>Gates 1-12</td>\n",
       "      <td>2018-12-31</td>\n",
       "      <td>95.0</td>\n",
       "      <td>Clean</td>\n",
       "      <td>Somewhat safe</td>\n",
       "      <td>Very satisfied</td>\n",
       "    </tr>\n",
       "    <tr>\n",
       "      <th>2808</th>\n",
       "      <td>2162</td>\n",
       "      <td>Saturday</td>\n",
       "      <td>CHINA EASTERN</td>\n",
       "      <td>QINGDAO</td>\n",
       "      <td>Asia</td>\n",
       "      <td>Large</td>\n",
       "      <td>Gates 1-12</td>\n",
       "      <td>2018-12-31</td>\n",
       "      <td>220.0</td>\n",
       "      <td>Clean</td>\n",
       "      <td>Very safe</td>\n",
       "      <td>Somewhat satsified</td>\n",
       "    </tr>\n",
       "  </tbody>\n",
       "</table>\n",
       "<p>2477 rows × 12 columns</p>\n",
       "</div>"
      ],
      "text/plain": [
       "        id        day        airline        destination    dest_region  \\\n",
       "0     1351    Tuesday    UNITED INTL             KANSAI           Asia   \n",
       "1      373     Friday         ALASKA  SAN JOSE DEL CABO  Canada/Mexico   \n",
       "2     2820   Thursday          DELTA        LOS ANGELES        West US   \n",
       "3     1157    Tuesday      SOUTHWEST        LOS ANGELES        West US   \n",
       "4     2992  Wednesday       AMERICAN              MIAMI        East US   \n",
       "...    ...        ...            ...                ...            ...   \n",
       "2804  1475    Tuesday         ALASKA       NEW YORK-JFK        East US   \n",
       "2805  2222   Thursday      SOUTHWEST            PHOENIX        West US   \n",
       "2806  2684     Friday         UNITED            ORLANDO        East US   \n",
       "2807  2549    Tuesday        JETBLUE         LONG BEACH        West US   \n",
       "2808  2162   Saturday  CHINA EASTERN            QINGDAO           Asia   \n",
       "\n",
       "     dest_size boarding_area  dept_time  wait_min     cleanliness  \\\n",
       "0          Hub  Gates 91-102 2018-12-31     115.0           Clean   \n",
       "1        Small   Gates 50-59 2018-12-31     135.0           Clean   \n",
       "2          Hub   Gates 40-48 2018-12-31      70.0         Average   \n",
       "3          Hub   Gates 20-39 2018-12-31     190.0           Clean   \n",
       "4          Hub   Gates 50-59 2018-12-31     559.0  Somewhat clean   \n",
       "...        ...           ...        ...       ...             ...   \n",
       "2804       Hub   Gates 50-59 2018-12-31     280.0  Somewhat clean   \n",
       "2805       Hub   Gates 20-39 2018-12-31     165.0           Clean   \n",
       "2806       Hub   Gates 70-90 2018-12-31      92.0           Clean   \n",
       "2807     Small    Gates 1-12 2018-12-31      95.0           Clean   \n",
       "2808     Large    Gates 1-12 2018-12-31     220.0           Clean   \n",
       "\n",
       "             safety        satisfaction  \n",
       "0           Neutral      Very satisfied  \n",
       "1         Very safe      Very satisfied  \n",
       "2     Somewhat safe             Neutral  \n",
       "3         Very safe  Somewhat satsified  \n",
       "4         Very safe  Somewhat satsified  \n",
       "...             ...                 ...  \n",
       "2804        Neutral  Somewhat satsified  \n",
       "2805      Very safe      Very satisfied  \n",
       "2806      Very safe      Very satisfied  \n",
       "2807  Somewhat safe      Very satisfied  \n",
       "2808      Very safe  Somewhat satsified  \n",
       "\n",
       "[2477 rows x 12 columns]"
      ]
     },
     "metadata": {},
     "output_type": "display_data"
    }
   ],
   "source": [
    "# Print rows with consistent categories only\n",
    "display(airlines[airlines['cleanliness'].isin(categories['cleanliness'])])"
   ]
  },
  {
   "cell_type": "markdown",
   "id": "1ad0b577-f962-4823-802b-a18e9d349240",
   "metadata": {},
   "source": [
    "- Great _consistent_ work! Keep it up! In the next lesson, we'll be looking at more in depth solutions to dealing with dirty categorical data."
   ]
  },
  {
   "cell_type": "markdown",
   "id": "a5bae5f6-cb87-4aa5-862e-2872a258363f",
   "metadata": {},
   "source": [
    "## Categorical variables"
   ]
  },
  {
   "cell_type": "markdown",
   "id": "2811b69a-afd1-4add-9157-c92c49914ee3",
   "metadata": {},
   "source": [
    "### What type of errors could we have?\n",
    "##### I) Value inconsistency\n",
    "- Inconsistent fields:'married', 'Maried', 'UNMARRIED', 'not married'.._\n",
    "- Trailing white spaces: _'married ', ' married '..\n",
    "##### II) Collapsing too many categories to few\n",
    "- Creating new groups:0-20K, 20-40K categories ... from continuous household income data\n",
    "- Mapping groups to new ones: Mapping household income categories to 2 'rich', 'poor'\n",
    "##### III) Making sure data is of typecategory(seen in Chapter 1)\n"
   ]
  },
  {
   "cell_type": "markdown",
   "id": "32b1cb35-e844-4c77-a3fb-3c1f874362f8",
   "metadata": {},
   "source": [
    "#### Value consistency\n",
    "- Capitalization:'married', 'Married', 'UNMARRIED', 'unmarried'.."
   ]
  },
  {
   "cell_type": "code",
   "execution_count": null,
   "id": "ed27554e-8a64-4ada-ab5e-d476ea04f173",
   "metadata": {},
   "outputs": [],
   "source": [
    "# Get marriage status column\n",
    "marriage_status = demographics['marriage_status']\n",
    "marriage_status.value_counts()"
   ]
  },
  {
   "cell_type": "code",
   "execution_count": null,
   "id": "86d7f085-e0ab-47ba-812f-87456ebd14bd",
   "metadata": {},
   "outputs": [],
   "source": [
    "# Get value counts on DataFrame\n",
    "marriage_status.groupby('marriage_status').count()"
   ]
  },
  {
   "cell_type": "code",
   "execution_count": null,
   "id": "95e02ed0-19e1-4e0f-88a9-4a28da6e25d9",
   "metadata": {},
   "outputs": [],
   "source": [
    "# Capitalize\n",
    "marriage_status['marriage_status'] = marriage_status['marriage_status'].str.upper()\n",
    "marriage_status['marriage_status'].value_counts()"
   ]
  },
  {
   "cell_type": "code",
   "execution_count": null,
   "id": "56e84a0e-4cdc-49b0-9513-aa1e256377ac",
   "metadata": {},
   "outputs": [],
   "source": [
    "# Lowercase\n",
    "marriage_status['marriage_status'] = marriage_status['marriage_status'].str.lower()\n",
    "marriage_status['marriage_status'].value_counts()"
   ]
  },
  {
   "cell_type": "markdown",
   "id": "651206cd-ab7a-4060-9a76-d6f970846328",
   "metadata": {},
   "source": [
    "#### Value consistency\n",
    "- Trailing spaces:'married ', 'married', 'unmarried', ' unmarried'.."
   ]
  },
  {
   "cell_type": "code",
   "execution_count": null,
   "id": "83006546-22c2-4716-91b1-df19fdc99793",
   "metadata": {},
   "outputs": [],
   "source": [
    "# Get marriage status column\n",
    "marriage_status = demographics['marriage_status']\n",
    "marriage_status.value_counts()"
   ]
  },
  {
   "cell_type": "code",
   "execution_count": null,
   "id": "70aa2234-4e91-49bc-bd50-97e40122562d",
   "metadata": {},
   "outputs": [],
   "source": [
    "# Strip all spaces\n",
    "demographics = demographics['marriage_status'].str.strip()\n",
    "demographics['marriage_status'].value_counts()"
   ]
  },
  {
   "cell_type": "markdown",
   "id": "c6aa4a1e-cad9-4321-8eb6-bc52e72f0ccc",
   "metadata": {},
   "source": [
    "### Collapsing data into categories\n",
    "- Create categories out of data:income_group column from income column"
   ]
  },
  {
   "cell_type": "code",
   "execution_count": null,
   "id": "d0f66539-033c-47c1-895a-c4933b93b828",
   "metadata": {},
   "outputs": [],
   "source": [
    "# Using qcut()\n",
    "import pandas as pd\n",
    "group_names = ['0-200K', '200K-500K', '500K+']\n",
    "demographics['income_group'] = pd.qcut(demographics['household_income'], q = 3, labels = group_names)\n",
    "\n",
    "# Print income_group column\n",
    "demographics[['income_group', 'household_income']]"
   ]
  },
  {
   "cell_type": "markdown",
   "id": "d0a33af7-6df9-407f-a2c1-e3a56d75156d",
   "metadata": {},
   "source": [
    "### Collapsing data into categories\n",
    "- Create categories out of data:income_group column from income column"
   ]
  },
  {
   "cell_type": "code",
   "execution_count": null,
   "id": "b22bbbf0-7a2f-42ba-b33d-71aa6d878fde",
   "metadata": {},
   "outputs": [],
   "source": [
    "# Using cut() - create category ranges and names\n",
    "ranges = [0,200000,500000,np.inf]\n",
    "group_names = ['0-200K', '200K-500K', '500K+']\n",
    "# Create income group column\n",
    "demographics['income_group'] = pd.cut(demographics['household_income'], bins=ranges, labels=group_names)\n",
    "demographics[['income_group', 'household_income']]"
   ]
  },
  {
   "cell_type": "markdown",
   "id": "a2121731-2019-46e6-9c9d-9ececcebb3cc",
   "metadata": {},
   "source": [
    "### Collapsing data into categories\n",
    "- Map categories to fewer ones: reducing categories in categorical column.\n",
    "- operating_system column is: 'Microsoft', 'MacOS', 'IOS', 'Android', 'Linux'\n",
    "- operating_system column should become: 'DesktopOS', 'MobileOS'"
   ]
  },
  {
   "cell_type": "code",
   "execution_count": null,
   "id": "5ae058f5-6639-46df-b124-cc2332bc1045",
   "metadata": {},
   "outputs": [],
   "source": [
    "# Create mapping dictionary and replace\n",
    "mapping = {'Microsoft':'DesktopOS', 'MacOS':'DesktopOS', 'Linux':'DesktopOS','IOS':'MobileOS', 'Android':'MobileOS'}\n",
    "devices['operating_system'] = devices['operating_system'].replace(mapping)\n",
    "devices['operating_system'].unique()"
   ]
  },
  {
   "cell_type": "markdown",
   "id": "31d15a5d-72d5-4902-bd8e-568628061b6f",
   "metadata": {},
   "source": [
    "## Inconsistent categories\n",
    "In this exercise, you'll be revisiting the airlines DataFrame from the previous lesson.\n",
    "\n",
    "As a reminder, the DataFrame contains flight metadata such as the airline, the destination, waiting times as well as answers to key questions regarding cleanliness, safety, and satisfaction on the San Francisco Airport.\n",
    "\n",
    "In this exercise, you will examine two categorical columns from this DataFrame, dest_region and dest_size respectively, assess how to address them and make sure that they are cleaned and ready for analysis. The pandas package has been imported as pd, and the airlines DataFrame is in your"
   ]
  },
  {
   "cell_type": "code",
   "execution_count": 29,
   "id": "8dc04199-6011-4b5f-a06a-321360c7387b",
   "metadata": {},
   "outputs": [
    {
     "data": {
      "text/plain": [
       "array(['Asia', 'Canada/Mexico', 'West US', 'East US', 'Midwest US',\n",
       "       'EAST US', 'Middle East', 'Europe', 'eur', 'Central/South America',\n",
       "       'Australia/New Zealand', 'middle east'], dtype=object)"
      ]
     },
     "metadata": {},
     "output_type": "display_data"
    },
    {
     "name": "stdout",
     "output_type": "stream",
     "text": [
      "\n",
      "\n"
     ]
    },
    {
     "data": {
      "text/plain": [
       "array(['Hub', 'Small', '    Hub', 'Medium', 'Large', 'Hub     ',\n",
       "       '    Small', 'Medium     ', '    Medium', 'Small     ',\n",
       "       '    Large', 'Large     '], dtype=object)"
      ]
     },
     "metadata": {},
     "output_type": "display_data"
    }
   ],
   "source": [
    "# Print unique values of both columns\n",
    "display(airlines['dest_region'].unique())\n",
    "print('\\n')\n",
    "display(airlines['dest_size'].unique())"
   ]
  },
  {
   "cell_type": "code",
   "execution_count": 30,
   "id": "e10d4486-f445-4a0d-82f4-cb891a38e4d6",
   "metadata": {},
   "outputs": [],
   "source": [
    "# Lower dest_region column and then replace \"eur\" with \"europe\"\n",
    "airlines['dest_region'] = airlines['dest_region'].str.lower()\n",
    "airlines['dest_region'] = airlines['dest_region'].replace({'eur':'europe'})"
   ]
  },
  {
   "cell_type": "code",
   "execution_count": 37,
   "id": "4e811eda-92f0-4ffb-9d3c-4acbaa396c52",
   "metadata": {},
   "outputs": [
    {
     "data": {
      "text/plain": [
       "array(['asia', 'canada/mexico', 'west us', 'east us', 'midwest us',\n",
       "       'middle east', 'europe', 'central/south america',\n",
       "       'australia/new zealand'], dtype=object)"
      ]
     },
     "metadata": {},
     "output_type": "display_data"
    },
    {
     "name": "stdout",
     "output_type": "stream",
     "text": [
      "\n",
      "\n"
     ]
    },
    {
     "data": {
      "text/plain": [
       "array(['Hub', 'Small', '    Hub', 'Medium', 'Large', 'Hub     ',\n",
       "       '    Small', 'Medium     ', '    Medium', 'Small     ',\n",
       "       '    Large', 'Large     '], dtype=object)"
      ]
     },
     "metadata": {},
     "output_type": "display_data"
    }
   ],
   "source": [
    "# Print unique values of both columns\n",
    "display(airlines['dest_region'].unique())\n",
    "print('\\n')\n",
    "display(airlines['dest_size'].unique())"
   ]
  },
  {
   "cell_type": "code",
   "execution_count": 44,
   "id": "0f2911d4-b103-4e51-a567-4e9a3b53a2ec",
   "metadata": {},
   "outputs": [],
   "source": [
    "airlines['dest_size'] = airlines['dest_size'].str.strip()"
   ]
  },
  {
   "cell_type": "code",
   "execution_count": 45,
   "id": "eeed7998-a0b9-44ec-98eb-07ca015df680",
   "metadata": {},
   "outputs": [
    {
     "data": {
      "text/plain": [
       "array(['asia', 'canada/mexico', 'west us', 'east us', 'midwest us',\n",
       "       'middle east', 'europe', 'central/south america',\n",
       "       'australia/new zealand'], dtype=object)"
      ]
     },
     "metadata": {},
     "output_type": "display_data"
    },
    {
     "name": "stdout",
     "output_type": "stream",
     "text": [
      "\n",
      "\n"
     ]
    },
    {
     "data": {
      "text/plain": [
       "array(['Hub', 'Small', 'Medium', 'Large'], dtype=object)"
      ]
     },
     "metadata": {},
     "output_type": "display_data"
    }
   ],
   "source": [
    "# Print unique values of both columns\n",
    "display(airlines['dest_region'].unique())\n",
    "print('\\n')\n",
    "display(airlines['dest_size'].unique())"
   ]
  },
  {
   "cell_type": "markdown",
   "id": "cba65f01-f237-4eab-b419-6d40e8a07879",
   "metadata": {},
   "source": [
    "- Great work! Notice how all categories have been properly treated?"
   ]
  },
  {
   "cell_type": "markdown",
   "id": "e6776de9-42fb-41a6-a8ce-754ce4b62063",
   "metadata": {},
   "source": [
    "### Remapping categories\n",
    "To better understand survey respondents from airlines, you want to find out if there is a relationship between certain responses and the day of the week and wait time at the gate.\n",
    "\n",
    "The airlines DataFrame contains the day and wait_min columns, which are categorical and numerical respectively. The day column contains the exact day a flight took place, and wait_min contains the amount of minutes it took travelers to wait at the gate. To make your analysis easier, you want to create two new categorical variables:\n",
    "\n",
    "wait_type: 'short' for 0-60 min, 'medium' for 60-180 and long for 180+\n",
    "day_week: 'weekday' if day is in the weekday, 'weekend' if day is in the weekend.\n",
    "The pandas and numpy packages have been imported as pd and np. Let's create some new categorical data!"
   ]
  },
  {
   "cell_type": "code",
   "execution_count": 46,
   "id": "b07092f8-0b24-4158-a02e-6fa496cce1c6",
   "metadata": {},
   "outputs": [],
   "source": [
    "# Create ranges for categories\n",
    "label_ranges = [0, 60, 180, np.inf]\n",
    "label_names = ['short', 'medium', 'long']\n",
    "\n",
    "# Create wait_type column\n",
    "airlines['wait_type'] = pd.cut(airlines['wait_min'], bins = label_ranges, \n",
    "                                labels = label_names)\n",
    "\n",
    "# Create mappings and replace\n",
    "mappings = {'Monday':'weekday', 'Tuesday':'weekday', 'Wednesday': 'weekday', \n",
    "            'Thursday': 'weekday', 'Friday': 'weekday', \n",
    "            'Saturday': 'weekend', 'Sunday': 'weekend'}\n",
    "\n",
    "airlines['day_week'] = airlines['day'].replace(mappings)"
   ]
  },
  {
   "cell_type": "markdown",
   "id": "63039ff0-ea21-4fa7-9f7e-8796d282ff95",
   "metadata": {},
   "source": [
    "- Awesome work! You just created two new categorical variables, that when combined with other columns, could produce really interesting analysis. Don't forget, you can always use an assert statement to check your changes passed."
   ]
  },
  {
   "cell_type": "code",
   "execution_count": 47,
   "id": "484aade0-f191-48bf-a8f2-d6254d091f8d",
   "metadata": {},
   "outputs": [
    {
     "data": {
      "text/html": [
       "<div>\n",
       "<style scoped>\n",
       "    .dataframe tbody tr th:only-of-type {\n",
       "        vertical-align: middle;\n",
       "    }\n",
       "\n",
       "    .dataframe tbody tr th {\n",
       "        vertical-align: top;\n",
       "    }\n",
       "\n",
       "    .dataframe thead th {\n",
       "        text-align: right;\n",
       "    }\n",
       "</style>\n",
       "<table border=\"1\" class=\"dataframe\">\n",
       "  <thead>\n",
       "    <tr style=\"text-align: right;\">\n",
       "      <th></th>\n",
       "      <th>id</th>\n",
       "      <th>day</th>\n",
       "      <th>airline</th>\n",
       "      <th>destination</th>\n",
       "      <th>dest_region</th>\n",
       "      <th>dest_size</th>\n",
       "      <th>boarding_area</th>\n",
       "      <th>dept_time</th>\n",
       "      <th>wait_min</th>\n",
       "      <th>cleanliness</th>\n",
       "      <th>safety</th>\n",
       "      <th>satisfaction</th>\n",
       "      <th>wait_type</th>\n",
       "      <th>day_week</th>\n",
       "    </tr>\n",
       "  </thead>\n",
       "  <tbody>\n",
       "    <tr>\n",
       "      <th>0</th>\n",
       "      <td>1351</td>\n",
       "      <td>Tuesday</td>\n",
       "      <td>UNITED INTL</td>\n",
       "      <td>KANSAI</td>\n",
       "      <td>asia</td>\n",
       "      <td>Hub</td>\n",
       "      <td>Gates 91-102</td>\n",
       "      <td>2018-12-31</td>\n",
       "      <td>115.0</td>\n",
       "      <td>Clean</td>\n",
       "      <td>Neutral</td>\n",
       "      <td>Very satisfied</td>\n",
       "      <td>medium</td>\n",
       "      <td>weekday</td>\n",
       "    </tr>\n",
       "    <tr>\n",
       "      <th>1</th>\n",
       "      <td>373</td>\n",
       "      <td>Friday</td>\n",
       "      <td>ALASKA</td>\n",
       "      <td>SAN JOSE DEL CABO</td>\n",
       "      <td>canada/mexico</td>\n",
       "      <td>Small</td>\n",
       "      <td>Gates 50-59</td>\n",
       "      <td>2018-12-31</td>\n",
       "      <td>135.0</td>\n",
       "      <td>Clean</td>\n",
       "      <td>Very safe</td>\n",
       "      <td>Very satisfied</td>\n",
       "      <td>medium</td>\n",
       "      <td>weekday</td>\n",
       "    </tr>\n",
       "    <tr>\n",
       "      <th>2</th>\n",
       "      <td>2820</td>\n",
       "      <td>Thursday</td>\n",
       "      <td>DELTA</td>\n",
       "      <td>LOS ANGELES</td>\n",
       "      <td>west us</td>\n",
       "      <td>Hub</td>\n",
       "      <td>Gates 40-48</td>\n",
       "      <td>2018-12-31</td>\n",
       "      <td>70.0</td>\n",
       "      <td>Average</td>\n",
       "      <td>Somewhat safe</td>\n",
       "      <td>Neutral</td>\n",
       "      <td>medium</td>\n",
       "      <td>weekday</td>\n",
       "    </tr>\n",
       "    <tr>\n",
       "      <th>3</th>\n",
       "      <td>1157</td>\n",
       "      <td>Tuesday</td>\n",
       "      <td>SOUTHWEST</td>\n",
       "      <td>LOS ANGELES</td>\n",
       "      <td>west us</td>\n",
       "      <td>Hub</td>\n",
       "      <td>Gates 20-39</td>\n",
       "      <td>2018-12-31</td>\n",
       "      <td>190.0</td>\n",
       "      <td>Clean</td>\n",
       "      <td>Very safe</td>\n",
       "      <td>Somewhat satsified</td>\n",
       "      <td>long</td>\n",
       "      <td>weekday</td>\n",
       "    </tr>\n",
       "    <tr>\n",
       "      <th>4</th>\n",
       "      <td>2992</td>\n",
       "      <td>Wednesday</td>\n",
       "      <td>AMERICAN</td>\n",
       "      <td>MIAMI</td>\n",
       "      <td>east us</td>\n",
       "      <td>Hub</td>\n",
       "      <td>Gates 50-59</td>\n",
       "      <td>2018-12-31</td>\n",
       "      <td>559.0</td>\n",
       "      <td>Somewhat clean</td>\n",
       "      <td>Very safe</td>\n",
       "      <td>Somewhat satsified</td>\n",
       "      <td>long</td>\n",
       "      <td>weekday</td>\n",
       "    </tr>\n",
       "    <tr>\n",
       "      <th>...</th>\n",
       "      <td>...</td>\n",
       "      <td>...</td>\n",
       "      <td>...</td>\n",
       "      <td>...</td>\n",
       "      <td>...</td>\n",
       "      <td>...</td>\n",
       "      <td>...</td>\n",
       "      <td>...</td>\n",
       "      <td>...</td>\n",
       "      <td>...</td>\n",
       "      <td>...</td>\n",
       "      <td>...</td>\n",
       "      <td>...</td>\n",
       "      <td>...</td>\n",
       "    </tr>\n",
       "    <tr>\n",
       "      <th>2804</th>\n",
       "      <td>1475</td>\n",
       "      <td>Tuesday</td>\n",
       "      <td>ALASKA</td>\n",
       "      <td>NEW YORK-JFK</td>\n",
       "      <td>east us</td>\n",
       "      <td>Hub</td>\n",
       "      <td>Gates 50-59</td>\n",
       "      <td>2018-12-31</td>\n",
       "      <td>280.0</td>\n",
       "      <td>Somewhat clean</td>\n",
       "      <td>Neutral</td>\n",
       "      <td>Somewhat satsified</td>\n",
       "      <td>long</td>\n",
       "      <td>weekday</td>\n",
       "    </tr>\n",
       "    <tr>\n",
       "      <th>2805</th>\n",
       "      <td>2222</td>\n",
       "      <td>Thursday</td>\n",
       "      <td>SOUTHWEST</td>\n",
       "      <td>PHOENIX</td>\n",
       "      <td>west us</td>\n",
       "      <td>Hub</td>\n",
       "      <td>Gates 20-39</td>\n",
       "      <td>2018-12-31</td>\n",
       "      <td>165.0</td>\n",
       "      <td>Clean</td>\n",
       "      <td>Very safe</td>\n",
       "      <td>Very satisfied</td>\n",
       "      <td>medium</td>\n",
       "      <td>weekday</td>\n",
       "    </tr>\n",
       "    <tr>\n",
       "      <th>2806</th>\n",
       "      <td>2684</td>\n",
       "      <td>Friday</td>\n",
       "      <td>UNITED</td>\n",
       "      <td>ORLANDO</td>\n",
       "      <td>east us</td>\n",
       "      <td>Hub</td>\n",
       "      <td>Gates 70-90</td>\n",
       "      <td>2018-12-31</td>\n",
       "      <td>92.0</td>\n",
       "      <td>Clean</td>\n",
       "      <td>Very safe</td>\n",
       "      <td>Very satisfied</td>\n",
       "      <td>medium</td>\n",
       "      <td>weekday</td>\n",
       "    </tr>\n",
       "    <tr>\n",
       "      <th>2807</th>\n",
       "      <td>2549</td>\n",
       "      <td>Tuesday</td>\n",
       "      <td>JETBLUE</td>\n",
       "      <td>LONG BEACH</td>\n",
       "      <td>west us</td>\n",
       "      <td>Small</td>\n",
       "      <td>Gates 1-12</td>\n",
       "      <td>2018-12-31</td>\n",
       "      <td>95.0</td>\n",
       "      <td>Clean</td>\n",
       "      <td>Somewhat safe</td>\n",
       "      <td>Very satisfied</td>\n",
       "      <td>medium</td>\n",
       "      <td>weekday</td>\n",
       "    </tr>\n",
       "    <tr>\n",
       "      <th>2808</th>\n",
       "      <td>2162</td>\n",
       "      <td>Saturday</td>\n",
       "      <td>CHINA EASTERN</td>\n",
       "      <td>QINGDAO</td>\n",
       "      <td>asia</td>\n",
       "      <td>Large</td>\n",
       "      <td>Gates 1-12</td>\n",
       "      <td>2018-12-31</td>\n",
       "      <td>220.0</td>\n",
       "      <td>Clean</td>\n",
       "      <td>Very safe</td>\n",
       "      <td>Somewhat satsified</td>\n",
       "      <td>long</td>\n",
       "      <td>weekend</td>\n",
       "    </tr>\n",
       "  </tbody>\n",
       "</table>\n",
       "<p>2477 rows × 14 columns</p>\n",
       "</div>"
      ],
      "text/plain": [
       "        id        day        airline        destination    dest_region  \\\n",
       "0     1351    Tuesday    UNITED INTL             KANSAI           asia   \n",
       "1      373     Friday         ALASKA  SAN JOSE DEL CABO  canada/mexico   \n",
       "2     2820   Thursday          DELTA        LOS ANGELES        west us   \n",
       "3     1157    Tuesday      SOUTHWEST        LOS ANGELES        west us   \n",
       "4     2992  Wednesday       AMERICAN              MIAMI        east us   \n",
       "...    ...        ...            ...                ...            ...   \n",
       "2804  1475    Tuesday         ALASKA       NEW YORK-JFK        east us   \n",
       "2805  2222   Thursday      SOUTHWEST            PHOENIX        west us   \n",
       "2806  2684     Friday         UNITED            ORLANDO        east us   \n",
       "2807  2549    Tuesday        JETBLUE         LONG BEACH        west us   \n",
       "2808  2162   Saturday  CHINA EASTERN            QINGDAO           asia   \n",
       "\n",
       "     dest_size boarding_area  dept_time  wait_min     cleanliness  \\\n",
       "0          Hub  Gates 91-102 2018-12-31     115.0           Clean   \n",
       "1        Small   Gates 50-59 2018-12-31     135.0           Clean   \n",
       "2          Hub   Gates 40-48 2018-12-31      70.0         Average   \n",
       "3          Hub   Gates 20-39 2018-12-31     190.0           Clean   \n",
       "4          Hub   Gates 50-59 2018-12-31     559.0  Somewhat clean   \n",
       "...        ...           ...        ...       ...             ...   \n",
       "2804       Hub   Gates 50-59 2018-12-31     280.0  Somewhat clean   \n",
       "2805       Hub   Gates 20-39 2018-12-31     165.0           Clean   \n",
       "2806       Hub   Gates 70-90 2018-12-31      92.0           Clean   \n",
       "2807     Small    Gates 1-12 2018-12-31      95.0           Clean   \n",
       "2808     Large    Gates 1-12 2018-12-31     220.0           Clean   \n",
       "\n",
       "             safety        satisfaction wait_type day_week  \n",
       "0           Neutral      Very satisfied    medium  weekday  \n",
       "1         Very safe      Very satisfied    medium  weekday  \n",
       "2     Somewhat safe             Neutral    medium  weekday  \n",
       "3         Very safe  Somewhat satsified      long  weekday  \n",
       "4         Very safe  Somewhat satsified      long  weekday  \n",
       "...             ...                 ...       ...      ...  \n",
       "2804        Neutral  Somewhat satsified      long  weekday  \n",
       "2805      Very safe      Very satisfied    medium  weekday  \n",
       "2806      Very safe      Very satisfied    medium  weekday  \n",
       "2807  Somewhat safe      Very satisfied    medium  weekday  \n",
       "2808      Very safe  Somewhat satsified      long  weekend  \n",
       "\n",
       "[2477 rows x 14 columns]"
      ]
     },
     "execution_count": 47,
     "metadata": {},
     "output_type": "execute_result"
    }
   ],
   "source": [
    "airlines"
   ]
  },
  {
   "cell_type": "markdown",
   "id": "8578e673-2649-4975-b5c1-92aadb4342bc",
   "metadata": {},
   "source": [
    "## Cleaning text data"
   ]
  },
  {
   "cell_type": "markdown",
   "id": "cd0ad0c0-25cb-4ca0-abf6-3b0feebcadbc",
   "metadata": {},
   "source": [
    "#### What is text data?"
   ]
  },
  {
   "cell_type": "code",
   "execution_count": null,
   "id": "4648489c-3935-40c3-9158-50001038a6dc",
   "metadata": {},
   "outputs": [],
   "source": [
    "Type of data       Example values\n",
    "Names              Alex, Sara...\n",
    "Phone numbers      +96171679912 ...\n",
    "Emails             `adel@datacamp.com`..\n",
    "Passwords..."
   ]
  },
  {
   "cell_type": "markdown",
   "id": "39900b00-1a8a-40e5-be6b-8bfb3c6e52d3",
   "metadata": {},
   "source": [
    "#### Common text data problems\n",
    "1) Data inconsistency: \\\n",
    "+96171679912 or 0096171679912 or ..?\n",
    "2) Fixed length violations:\\\n",
    "Passwords needs to be at least 8 characters\n",
    "3) Typos:\\\n",
    "+961.71.679912\n"
   ]
  },
  {
   "cell_type": "code",
   "execution_count": 4,
   "id": "a529371e-7647-4469-a783-d5cfbd393653",
   "metadata": {},
   "outputs": [
    {
     "data": {
      "text/html": [
       "<div>\n",
       "<style scoped>\n",
       "    .dataframe tbody tr th:only-of-type {\n",
       "        vertical-align: middle;\n",
       "    }\n",
       "\n",
       "    .dataframe tbody tr th {\n",
       "        vertical-align: top;\n",
       "    }\n",
       "\n",
       "    .dataframe thead th {\n",
       "        text-align: right;\n",
       "    }\n",
       "</style>\n",
       "<table border=\"1\" class=\"dataframe\">\n",
       "  <thead>\n",
       "    <tr style=\"text-align: right;\">\n",
       "      <th></th>\n",
       "      <th>Full name</th>\n",
       "      <th>Phone number</th>\n",
       "    </tr>\n",
       "  </thead>\n",
       "  <tbody>\n",
       "    <tr>\n",
       "      <th>0</th>\n",
       "      <td>Noelani A. Gray</td>\n",
       "      <td>001-702-397-5143</td>\n",
       "    </tr>\n",
       "    <tr>\n",
       "      <th>1</th>\n",
       "      <td>Myles Z. Gomez</td>\n",
       "      <td>001-329-485-0540</td>\n",
       "    </tr>\n",
       "    <tr>\n",
       "      <th>2</th>\n",
       "      <td>Gil B. Silva</td>\n",
       "      <td>001-195-492-2338</td>\n",
       "    </tr>\n",
       "    <tr>\n",
       "      <th>3</th>\n",
       "      <td>Prescott D. Hardin</td>\n",
       "      <td>+1-297-996-4904</td>\n",
       "    </tr>\n",
       "    <tr>\n",
       "      <th>4</th>\n",
       "      <td>Benedict G. Valdez</td>\n",
       "      <td>001-969-820-3536</td>\n",
       "    </tr>\n",
       "    <tr>\n",
       "      <th>5</th>\n",
       "      <td>Reece M. Andrews</td>\n",
       "      <td>4138</td>\n",
       "    </tr>\n",
       "    <tr>\n",
       "      <th>6</th>\n",
       "      <td>Hayfa E. Keith</td>\n",
       "      <td>001-536-175-8444</td>\n",
       "    </tr>\n",
       "    <tr>\n",
       "      <th>7</th>\n",
       "      <td>Hedley I. Logan</td>\n",
       "      <td>001-681-552-1823</td>\n",
       "    </tr>\n",
       "    <tr>\n",
       "      <th>8</th>\n",
       "      <td>Jack W. Carrillo</td>\n",
       "      <td>001-910-323-5265</td>\n",
       "    </tr>\n",
       "    <tr>\n",
       "      <th>9</th>\n",
       "      <td>Lionel M. Davis</td>\n",
       "      <td>001-143-119-9210</td>\n",
       "    </tr>\n",
       "  </tbody>\n",
       "</table>\n",
       "</div>"
      ],
      "text/plain": [
       "            Full name      Phone number\n",
       "0     Noelani A. Gray  001-702-397-5143\n",
       "1      Myles Z. Gomez  001-329-485-0540\n",
       "2        Gil B. Silva  001-195-492-2338\n",
       "3  Prescott D. Hardin   +1-297-996-4904\n",
       "4  Benedict G. Valdez  001-969-820-3536\n",
       "5    Reece M. Andrews              4138\n",
       "6      Hayfa E. Keith  001-536-175-8444\n",
       "7     Hedley I. Logan  001-681-552-1823\n",
       "8    Jack W. Carrillo  001-910-323-5265\n",
       "9     Lionel M. Davis  001-143-119-9210"
      ]
     },
     "metadata": {},
     "output_type": "display_data"
    }
   ],
   "source": [
    "phones = pd.read_csv('phones.csv')\n",
    "display(phones)"
   ]
  },
  {
   "cell_type": "markdown",
   "id": "9b73f833-9eb1-422f-ae4f-a67b8d80cc3a",
   "metadata": {},
   "source": [
    "#### Fixing the phone number column"
   ]
  },
  {
   "cell_type": "code",
   "execution_count": 7,
   "id": "9fd50d28-083a-4e5a-8ea0-e3ff7b830741",
   "metadata": {},
   "outputs": [],
   "source": [
    "# Replace \"+\" with \"00\"\n",
    "phones['Phone number'] = phones['Phone number'].str.replace('+','00')"
   ]
  },
  {
   "cell_type": "code",
   "execution_count": 8,
   "id": "be54e1a7-8c22-4e03-97c4-cbb0b58ffca7",
   "metadata": {},
   "outputs": [
    {
     "data": {
      "text/html": [
       "<div>\n",
       "<style scoped>\n",
       "    .dataframe tbody tr th:only-of-type {\n",
       "        vertical-align: middle;\n",
       "    }\n",
       "\n",
       "    .dataframe tbody tr th {\n",
       "        vertical-align: top;\n",
       "    }\n",
       "\n",
       "    .dataframe thead th {\n",
       "        text-align: right;\n",
       "    }\n",
       "</style>\n",
       "<table border=\"1\" class=\"dataframe\">\n",
       "  <thead>\n",
       "    <tr style=\"text-align: right;\">\n",
       "      <th></th>\n",
       "      <th>Full name</th>\n",
       "      <th>Phone number</th>\n",
       "    </tr>\n",
       "  </thead>\n",
       "  <tbody>\n",
       "    <tr>\n",
       "      <th>0</th>\n",
       "      <td>Noelani A. Gray</td>\n",
       "      <td>001-702-397-5143</td>\n",
       "    </tr>\n",
       "    <tr>\n",
       "      <th>1</th>\n",
       "      <td>Myles Z. Gomez</td>\n",
       "      <td>001-329-485-0540</td>\n",
       "    </tr>\n",
       "    <tr>\n",
       "      <th>2</th>\n",
       "      <td>Gil B. Silva</td>\n",
       "      <td>001-195-492-2338</td>\n",
       "    </tr>\n",
       "    <tr>\n",
       "      <th>3</th>\n",
       "      <td>Prescott D. Hardin</td>\n",
       "      <td>001-297-996-4904</td>\n",
       "    </tr>\n",
       "    <tr>\n",
       "      <th>4</th>\n",
       "      <td>Benedict G. Valdez</td>\n",
       "      <td>001-969-820-3536</td>\n",
       "    </tr>\n",
       "    <tr>\n",
       "      <th>5</th>\n",
       "      <td>Reece M. Andrews</td>\n",
       "      <td>4138</td>\n",
       "    </tr>\n",
       "    <tr>\n",
       "      <th>6</th>\n",
       "      <td>Hayfa E. Keith</td>\n",
       "      <td>001-536-175-8444</td>\n",
       "    </tr>\n",
       "    <tr>\n",
       "      <th>7</th>\n",
       "      <td>Hedley I. Logan</td>\n",
       "      <td>001-681-552-1823</td>\n",
       "    </tr>\n",
       "    <tr>\n",
       "      <th>8</th>\n",
       "      <td>Jack W. Carrillo</td>\n",
       "      <td>001-910-323-5265</td>\n",
       "    </tr>\n",
       "    <tr>\n",
       "      <th>9</th>\n",
       "      <td>Lionel M. Davis</td>\n",
       "      <td>001-143-119-9210</td>\n",
       "    </tr>\n",
       "  </tbody>\n",
       "</table>\n",
       "</div>"
      ],
      "text/plain": [
       "            Full name      Phone number\n",
       "0     Noelani A. Gray  001-702-397-5143\n",
       "1      Myles Z. Gomez  001-329-485-0540\n",
       "2        Gil B. Silva  001-195-492-2338\n",
       "3  Prescott D. Hardin  001-297-996-4904\n",
       "4  Benedict G. Valdez  001-969-820-3536\n",
       "5    Reece M. Andrews              4138\n",
       "6      Hayfa E. Keith  001-536-175-8444\n",
       "7     Hedley I. Logan  001-681-552-1823\n",
       "8    Jack W. Carrillo  001-910-323-5265\n",
       "9     Lionel M. Davis  001-143-119-9210"
      ]
     },
     "execution_count": 8,
     "metadata": {},
     "output_type": "execute_result"
    }
   ],
   "source": [
    "phones"
   ]
  },
  {
   "cell_type": "code",
   "execution_count": 9,
   "id": "6cdd229c-4afa-4f79-b016-f387fdcfd077",
   "metadata": {},
   "outputs": [],
   "source": [
    "# Replace \"-\" with nothing\n",
    "phones['Phone number'] = phones['Phone number'].str.replace('-','')"
   ]
  },
  {
   "cell_type": "code",
   "execution_count": 10,
   "id": "8d3b3962-3f1f-4b26-be72-d6fb880814c3",
   "metadata": {},
   "outputs": [
    {
     "data": {
      "text/html": [
       "<div>\n",
       "<style scoped>\n",
       "    .dataframe tbody tr th:only-of-type {\n",
       "        vertical-align: middle;\n",
       "    }\n",
       "\n",
       "    .dataframe tbody tr th {\n",
       "        vertical-align: top;\n",
       "    }\n",
       "\n",
       "    .dataframe thead th {\n",
       "        text-align: right;\n",
       "    }\n",
       "</style>\n",
       "<table border=\"1\" class=\"dataframe\">\n",
       "  <thead>\n",
       "    <tr style=\"text-align: right;\">\n",
       "      <th></th>\n",
       "      <th>Full name</th>\n",
       "      <th>Phone number</th>\n",
       "    </tr>\n",
       "  </thead>\n",
       "  <tbody>\n",
       "    <tr>\n",
       "      <th>0</th>\n",
       "      <td>Noelani A. Gray</td>\n",
       "      <td>0017023975143</td>\n",
       "    </tr>\n",
       "    <tr>\n",
       "      <th>1</th>\n",
       "      <td>Myles Z. Gomez</td>\n",
       "      <td>0013294850540</td>\n",
       "    </tr>\n",
       "    <tr>\n",
       "      <th>2</th>\n",
       "      <td>Gil B. Silva</td>\n",
       "      <td>0011954922338</td>\n",
       "    </tr>\n",
       "    <tr>\n",
       "      <th>3</th>\n",
       "      <td>Prescott D. Hardin</td>\n",
       "      <td>0012979964904</td>\n",
       "    </tr>\n",
       "    <tr>\n",
       "      <th>4</th>\n",
       "      <td>Benedict G. Valdez</td>\n",
       "      <td>0019698203536</td>\n",
       "    </tr>\n",
       "    <tr>\n",
       "      <th>5</th>\n",
       "      <td>Reece M. Andrews</td>\n",
       "      <td>4138</td>\n",
       "    </tr>\n",
       "    <tr>\n",
       "      <th>6</th>\n",
       "      <td>Hayfa E. Keith</td>\n",
       "      <td>0015361758444</td>\n",
       "    </tr>\n",
       "    <tr>\n",
       "      <th>7</th>\n",
       "      <td>Hedley I. Logan</td>\n",
       "      <td>0016815521823</td>\n",
       "    </tr>\n",
       "    <tr>\n",
       "      <th>8</th>\n",
       "      <td>Jack W. Carrillo</td>\n",
       "      <td>0019103235265</td>\n",
       "    </tr>\n",
       "    <tr>\n",
       "      <th>9</th>\n",
       "      <td>Lionel M. Davis</td>\n",
       "      <td>0011431199210</td>\n",
       "    </tr>\n",
       "  </tbody>\n",
       "</table>\n",
       "</div>"
      ],
      "text/plain": [
       "            Full name   Phone number\n",
       "0     Noelani A. Gray  0017023975143\n",
       "1      Myles Z. Gomez  0013294850540\n",
       "2        Gil B. Silva  0011954922338\n",
       "3  Prescott D. Hardin  0012979964904\n",
       "4  Benedict G. Valdez  0019698203536\n",
       "5    Reece M. Andrews           4138\n",
       "6      Hayfa E. Keith  0015361758444\n",
       "7     Hedley I. Logan  0016815521823\n",
       "8    Jack W. Carrillo  0019103235265\n",
       "9     Lionel M. Davis  0011431199210"
      ]
     },
     "execution_count": 10,
     "metadata": {},
     "output_type": "execute_result"
    }
   ],
   "source": [
    "phones"
   ]
  },
  {
   "cell_type": "code",
   "execution_count": 12,
   "id": "b90e8dfc-6afc-4554-9b92-265e5cbf57f1",
   "metadata": {},
   "outputs": [],
   "source": [
    "# Replace phone numbers with lower than 10 digits to NaN\n",
    "digits = phones['Phone number'].str.len()\n",
    "phones.loc[digits < 10, 'Phone number'] = np.nan"
   ]
  },
  {
   "cell_type": "code",
   "execution_count": 13,
   "id": "716a7a52-7222-4902-8a86-b097a8a4db6f",
   "metadata": {},
   "outputs": [
    {
     "data": {
      "text/html": [
       "<div>\n",
       "<style scoped>\n",
       "    .dataframe tbody tr th:only-of-type {\n",
       "        vertical-align: middle;\n",
       "    }\n",
       "\n",
       "    .dataframe tbody tr th {\n",
       "        vertical-align: top;\n",
       "    }\n",
       "\n",
       "    .dataframe thead th {\n",
       "        text-align: right;\n",
       "    }\n",
       "</style>\n",
       "<table border=\"1\" class=\"dataframe\">\n",
       "  <thead>\n",
       "    <tr style=\"text-align: right;\">\n",
       "      <th></th>\n",
       "      <th>Full name</th>\n",
       "      <th>Phone number</th>\n",
       "    </tr>\n",
       "  </thead>\n",
       "  <tbody>\n",
       "    <tr>\n",
       "      <th>0</th>\n",
       "      <td>Noelani A. Gray</td>\n",
       "      <td>0017023975143</td>\n",
       "    </tr>\n",
       "    <tr>\n",
       "      <th>1</th>\n",
       "      <td>Myles Z. Gomez</td>\n",
       "      <td>0013294850540</td>\n",
       "    </tr>\n",
       "    <tr>\n",
       "      <th>2</th>\n",
       "      <td>Gil B. Silva</td>\n",
       "      <td>0011954922338</td>\n",
       "    </tr>\n",
       "    <tr>\n",
       "      <th>3</th>\n",
       "      <td>Prescott D. Hardin</td>\n",
       "      <td>0012979964904</td>\n",
       "    </tr>\n",
       "    <tr>\n",
       "      <th>4</th>\n",
       "      <td>Benedict G. Valdez</td>\n",
       "      <td>0019698203536</td>\n",
       "    </tr>\n",
       "    <tr>\n",
       "      <th>5</th>\n",
       "      <td>Reece M. Andrews</td>\n",
       "      <td>NaN</td>\n",
       "    </tr>\n",
       "    <tr>\n",
       "      <th>6</th>\n",
       "      <td>Hayfa E. Keith</td>\n",
       "      <td>0015361758444</td>\n",
       "    </tr>\n",
       "    <tr>\n",
       "      <th>7</th>\n",
       "      <td>Hedley I. Logan</td>\n",
       "      <td>0016815521823</td>\n",
       "    </tr>\n",
       "    <tr>\n",
       "      <th>8</th>\n",
       "      <td>Jack W. Carrillo</td>\n",
       "      <td>0019103235265</td>\n",
       "    </tr>\n",
       "    <tr>\n",
       "      <th>9</th>\n",
       "      <td>Lionel M. Davis</td>\n",
       "      <td>0011431199210</td>\n",
       "    </tr>\n",
       "  </tbody>\n",
       "</table>\n",
       "</div>"
      ],
      "text/plain": [
       "            Full name   Phone number\n",
       "0     Noelani A. Gray  0017023975143\n",
       "1      Myles Z. Gomez  0013294850540\n",
       "2        Gil B. Silva  0011954922338\n",
       "3  Prescott D. Hardin  0012979964904\n",
       "4  Benedict G. Valdez  0019698203536\n",
       "5    Reece M. Andrews            NaN\n",
       "6      Hayfa E. Keith  0015361758444\n",
       "7     Hedley I. Logan  0016815521823\n",
       "8    Jack W. Carrillo  0019103235265\n",
       "9     Lionel M. Davis  0011431199210"
      ]
     },
     "execution_count": 13,
     "metadata": {},
     "output_type": "execute_result"
    }
   ],
   "source": [
    "phones"
   ]
  },
  {
   "cell_type": "code",
   "execution_count": 15,
   "id": "10c62a9d-988b-49fd-a10d-7c6d353c4aec",
   "metadata": {},
   "outputs": [],
   "source": [
    "# Find length of each row in Phone number column\n",
    "sanity_check = phones['Phone number'].str.len()"
   ]
  },
  {
   "cell_type": "code",
   "execution_count": 16,
   "id": "bc1109e4-1727-4723-8941-1b38213e5d1d",
   "metadata": {},
   "outputs": [],
   "source": [
    "# Assert minmum phone number length is 10\n",
    "assert sanity_check.min() >= 10"
   ]
  },
  {
   "cell_type": "code",
   "execution_count": null,
   "id": "f0c8c821-320e-4ffc-a2b7-6ed48eeece4c",
   "metadata": {},
   "outputs": [],
   "source": [
    "# Assert all numbers do not have \"+\" or \"-\"\n",
    "assert phone['Phone number'].str.contains(\"+|-\").any() == False"
   ]
  },
  {
   "cell_type": "markdown",
   "id": "b3f7b167-1ed1-433d-93b3-db8059c353d3",
   "metadata": {},
   "source": [
    "### But what about more complicated examples?"
   ]
  },
  {
   "cell_type": "code",
   "execution_count": 2,
   "id": "9291e2d6-83ca-40d0-bb49-ebd414919935",
   "metadata": {},
   "outputs": [
    {
     "data": {
      "text/html": [
       "<div>\n",
       "<style scoped>\n",
       "    .dataframe tbody tr th:only-of-type {\n",
       "        vertical-align: middle;\n",
       "    }\n",
       "\n",
       "    .dataframe tbody tr th {\n",
       "        vertical-align: top;\n",
       "    }\n",
       "\n",
       "    .dataframe thead th {\n",
       "        text-align: right;\n",
       "    }\n",
       "</style>\n",
       "<table border=\"1\" class=\"dataframe\">\n",
       "  <thead>\n",
       "    <tr style=\"text-align: right;\">\n",
       "      <th></th>\n",
       "      <th>Full name</th>\n",
       "      <th>Phone number</th>\n",
       "    </tr>\n",
       "  </thead>\n",
       "  <tbody>\n",
       "    <tr>\n",
       "      <th>0</th>\n",
       "      <td>Olga Robinson</td>\n",
       "      <td>+(01706)-258911</td>\n",
       "    </tr>\n",
       "    <tr>\n",
       "      <th>1</th>\n",
       "      <td>Justina Kim</td>\n",
       "      <td>+0500-5714372</td>\n",
       "    </tr>\n",
       "    <tr>\n",
       "      <th>2</th>\n",
       "      <td>Tamekah Henson</td>\n",
       "      <td>+0800-11113</td>\n",
       "    </tr>\n",
       "    <tr>\n",
       "      <th>3</th>\n",
       "      <td>Miranda Solis</td>\n",
       "      <td>+07058-8790634</td>\n",
       "    </tr>\n",
       "    <tr>\n",
       "      <th>4</th>\n",
       "      <td>Caldwell Gilliam</td>\n",
       "      <td>+(016977)-8424</td>\n",
       "    </tr>\n",
       "  </tbody>\n",
       "</table>\n",
       "</div>"
      ],
      "text/plain": [
       "          Full name     Phone number\n",
       "0     Olga Robinson  +(01706)-258911\n",
       "1       Justina Kim    +0500-5714372\n",
       "2    Tamekah Henson      +0800-11113\n",
       "3     Miranda Solis   +07058-8790634\n",
       "4  Caldwell Gilliam   +(016977)-8424"
      ]
     },
     "execution_count": 2,
     "metadata": {},
     "output_type": "execute_result"
    }
   ],
   "source": [
    "phones1 = pd.read_csv('phones_1.csv')\n",
    "phones1"
   ]
  },
  {
   "cell_type": "markdown",
   "id": "81f8e4e3-8468-46d2-acd2-1bfbaf4d9de9",
   "metadata": {},
   "source": [
    "### Regular expressions in action"
   ]
  },
  {
   "cell_type": "code",
   "execution_count": 4,
   "id": "2a4d361c-161a-46ed-b2d4-72cbb2de8227",
   "metadata": {},
   "outputs": [
    {
     "name": "stdout",
     "output_type": "stream",
     "text": [
      "object\n"
     ]
    }
   ],
   "source": [
    "# Look the dtype\n",
    "print(phones1['Phone number'].dtype)"
   ]
  },
  {
   "cell_type": "code",
   "execution_count": 5,
   "id": "328a3bfe-c34e-453a-a132-7f92be8f85e0",
   "metadata": {},
   "outputs": [],
   "source": [
    "# Change dtype\n",
    "phones1['Phone number'] = phones1['Phone number'].astype(str)"
   ]
  },
  {
   "cell_type": "code",
   "execution_count": 6,
   "id": "89a3e3ed-5ef3-4ad6-98cb-4188e3fc14c3",
   "metadata": {},
   "outputs": [
    {
     "name": "stdout",
     "output_type": "stream",
     "text": [
      "0     01706258911\n",
      "1     05005714372\n",
      "2       080011113\n",
      "3    070588790634\n",
      "4      0169778424\n",
      "Name: Phone number, dtype: object\n",
      "object\n"
     ]
    }
   ],
   "source": [
    "# Now apply the replacement\n",
    "phones1['Phone number'] = phones1['Phone number'].str.replace(r'\\D+', '', regex=True)\n",
    "\n",
    "print(phones1['Phone number'])\n",
    "print(phones1['Phone number'].dtype) # Output will be object"
   ]
  },
  {
   "cell_type": "code",
   "execution_count": 7,
   "id": "7b31598c-47c2-4a32-8167-3a5abc73ac45",
   "metadata": {},
   "outputs": [
    {
     "data": {
      "text/html": [
       "<div>\n",
       "<style scoped>\n",
       "    .dataframe tbody tr th:only-of-type {\n",
       "        vertical-align: middle;\n",
       "    }\n",
       "\n",
       "    .dataframe tbody tr th {\n",
       "        vertical-align: top;\n",
       "    }\n",
       "\n",
       "    .dataframe thead th {\n",
       "        text-align: right;\n",
       "    }\n",
       "</style>\n",
       "<table border=\"1\" class=\"dataframe\">\n",
       "  <thead>\n",
       "    <tr style=\"text-align: right;\">\n",
       "      <th></th>\n",
       "      <th>Full name</th>\n",
       "      <th>Phone number</th>\n",
       "    </tr>\n",
       "  </thead>\n",
       "  <tbody>\n",
       "    <tr>\n",
       "      <th>0</th>\n",
       "      <td>Olga Robinson</td>\n",
       "      <td>01706258911</td>\n",
       "    </tr>\n",
       "    <tr>\n",
       "      <th>1</th>\n",
       "      <td>Justina Kim</td>\n",
       "      <td>05005714372</td>\n",
       "    </tr>\n",
       "    <tr>\n",
       "      <th>2</th>\n",
       "      <td>Tamekah Henson</td>\n",
       "      <td>080011113</td>\n",
       "    </tr>\n",
       "    <tr>\n",
       "      <th>3</th>\n",
       "      <td>Miranda Solis</td>\n",
       "      <td>070588790634</td>\n",
       "    </tr>\n",
       "    <tr>\n",
       "      <th>4</th>\n",
       "      <td>Caldwell Gilliam</td>\n",
       "      <td>0169778424</td>\n",
       "    </tr>\n",
       "  </tbody>\n",
       "</table>\n",
       "</div>"
      ],
      "text/plain": [
       "          Full name  Phone number\n",
       "0     Olga Robinson   01706258911\n",
       "1       Justina Kim   05005714372\n",
       "2    Tamekah Henson     080011113\n",
       "3     Miranda Solis  070588790634\n",
       "4  Caldwell Gilliam    0169778424"
      ]
     },
     "execution_count": 7,
     "metadata": {},
     "output_type": "execute_result"
    }
   ],
   "source": [
    "phones1"
   ]
  },
  {
   "cell_type": "markdown",
   "id": "3653aa97-7c4f-4274-a6ac-153057ff2b4c",
   "metadata": {},
   "source": [
    "### Removing titles and taking names\n",
    "While collecting survey respondent metadata in the airlines DataFrame, the full name of respondents was saved in the full_name column. However upon closer inspection, you found that a lot of the different names are prefixed by honorifics such as \"Dr.\", \"Mr.\", \"Ms.\" and \"Miss\".\n",
    "\n",
    "Your ultimate objective is to create two new columns named first_name and last_name, containing the first and last names of respondents respectively. Before doing so however, you need to remove honorifics.\n",
    "\n",
    "The airlines DataFrame is in your environment, alongside pandas as pd."
   ]
  },
  {
   "cell_type": "code",
   "execution_count": 10,
   "id": "5425aa7e-7618-40af-b6cf-25169be1ecdf",
   "metadata": {},
   "outputs": [
    {
     "data": {
      "text/plain": [
       "Index(['id', 'day', 'airline', 'destination', 'dest_region', 'dest_size',\n",
       "       'boarding_area', 'dept_time', 'wait_min', 'cleanliness', 'safety',\n",
       "       'satisfaction'],\n",
       "      dtype='object')"
      ]
     },
     "execution_count": 10,
     "metadata": {},
     "output_type": "execute_result"
    }
   ],
   "source": [
    "airlines.columns"
   ]
  },
  {
   "cell_type": "code",
   "execution_count": null,
   "id": "7d8e1ae0-bf5c-4641-98bc-6fdc14d276bf",
   "metadata": {},
   "outputs": [],
   "source": [
    "# Replace \"Dr.\" with empty string \"\"\n",
    "airlines['full_name'] = airlines['full_name'].str.replace(\"Dr.\",\"\")\n",
    "\n",
    "# Replace \"Mr.\" with empty string \"\"\n",
    "airlines['full_name'] = airlines['full_name'].str.replace(\"Mr.\", \"\")\n",
    "\n",
    "# Replace \"Miss\" with empty string \"\"\n",
    "airlines['full_name'] = airlines['full_name'].str.replace(\"Miss\", \"\")\n",
    "\n",
    "# Replace \"Ms.\" with empty string \"\"\n",
    "airlines['full_name'] = airlines['full_name'].str.replace(\"Ms.\", \"\")\n",
    "\n",
    "# Assert that full_name has no honorifics\n",
    "assert airlines['full_name'].str.contains('Ms.|Mr.|Miss|Dr.').any() == False"
   ]
  },
  {
   "cell_type": "markdown",
   "id": "30f4ebf2-d7c0-4035-9d8b-d3a32b8912ac",
   "metadata": {},
   "source": [
    "- Great work! By normalizing full names this way, you can now easily split them into first names and last names!"
   ]
  },
  {
   "cell_type": "markdown",
   "id": "db26f845-c9b9-4f63-8cf9-1a6fe0c099bf",
   "metadata": {},
   "source": [
    "### Keeping it descriptive\n",
    "To further understand travelers' experiences in the San Francisco Airport, the quality assurance department sent out a qualitative questionnaire to all travelers who gave the airport the worst score on all possible categories. The objective behind this questionnaire is to identify common patterns in what travelers are saying about the airport.\n",
    "\n",
    "Their response is stored in the survey_response column. Upon a closer look, you realized a few of the answers gave the shortest possible character amount without much substance. In this exercise, you will isolate the responses with a character count higher than 40 , and make sure your new DataFrame contains responses with 40 characters or more using an assert statement.\n",
    "\n",
    "The airlines DataFrame is in your environment, and pandas is imported as pd."
   ]
  },
  {
   "cell_type": "code",
   "execution_count": null,
   "id": "e29a5cc6-cad8-43f7-918f-34b61aafd6ed",
   "metadata": {},
   "outputs": [],
   "source": [
    "# Store length of each row in survey_response column\n",
    "resp_length = airlines['survey_response'].str.len()\n",
    "\n",
    "# Find rows in airlines where resp_length > 40\n",
    "airlines_survey = airlines[resp_length > 40]\n",
    "\n",
    "# Assert minimum survey_response length is > 40\n",
    "assert airlines_survey['survey_response'].str.len().min() > 40\n",
    "\n",
    "# Print new survey_response column\n",
    "print(airlines_survey['survey_response'])"
   ]
  },
  {
   "cell_type": "markdown",
   "id": "bbffa035-3e93-4b64-a4e3-de56b6735dcc",
   "metadata": {},
   "source": [
    "- Phenomenal work! These types of feedbacks are essential to improving any service. Coupled with some wordcount analysis, you can find common patterns across all survey responses in no time!"
   ]
  },
  {
   "cell_type": "code",
   "execution_count": null,
   "id": "3cf120d0-5216-4e80-b08f-4dadab4eed95",
   "metadata": {},
   "outputs": [],
   "source": []
  }
 ],
 "metadata": {
  "kernelspec": {
   "display_name": "Python 3 (ipykernel)",
   "language": "python",
   "name": "python3"
  },
  "language_info": {
   "codemirror_mode": {
    "name": "ipython",
    "version": 3
   },
   "file_extension": ".py",
   "mimetype": "text/x-python",
   "name": "python",
   "nbconvert_exporter": "python",
   "pygments_lexer": "ipython3",
   "version": "3.9.13"
  }
 },
 "nbformat": 4,
 "nbformat_minor": 5
}
