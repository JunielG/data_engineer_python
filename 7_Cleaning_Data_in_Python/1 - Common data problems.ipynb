{
 "cells": [
  {
   "cell_type": "markdown",
   "id": "11651326-997f-402e-a62e-d95520ed409a",
   "metadata": {},
   "source": [
    "#### Description\n",
    "\n",
    "It's commonly said that data scientists spend 80% of their time cleaning and manipulating data and only 20% of their time analyzing it. The time spent cleaning is vital since analyzing dirty data can lead you to draw inaccurate conclusions.\n",
    "\n",
    "\n",
    "Data cleaning is an essential task in data science. Without properly cleaned data, the results of any data analysis or machine learning model could be inaccurate. In this course, you will learn how to identify, diagnose, and treat a variety of data cleaning problems in Python, ranging from simple to advanced. You will deal with improper data types, check that your data is in the correct range, handle missing data, perform record linkage, and more!"
   ]
  },
  {
   "cell_type": "markdown",
   "id": "2068ec20-cce9-4f4e-a5ae-ce20591e8344",
   "metadata": {},
   "source": [
    "# Data type constraints"
   ]
  },
  {
   "cell_type": "markdown",
   "id": "e8bc4cd3-a19b-441f-8e33-5ec5bb09cc20",
   "metadata": {},
   "source": [
    "#### Chapter 1 - Common data problems\n",
    "#### Why do we need to clean data?\n"
   ]
  },
  {
   "cell_type": "markdown",
   "id": "7137d0c6-6312-4e30-92bd-8697ea225130",
   "metadata": {},
   "source": [
    "Data type constraints\n",
    "Datatype                 Example\n",
    "Text data                First name, last name, address...\n",
    "Integers                 # Subscribers, # products sold...\n",
    "Decimals                 Temperature, $ exchange rates...\n",
    "Binary                   Is married, new customer,yes/no, ...\n",
    "Dates                    Order dates, ship dates ...\n",
    "Categories               Marriage status, gender ..."
   ]
  },
  {
   "cell_type": "markdown",
   "id": "51d1e508-091d-45fb-be81-4625ed8306ae",
   "metadata": {},
   "source": [
    "#### Python data type\n",
    "- str\n",
    "- int\n",
    "- float\n",
    "- bool\n",
    "- datetime\n",
    "- category\n"
   ]
  },
  {
   "cell_type": "markdown",
   "id": "92e17ffc-7e33-4960-b7aa-2d70e0ffd398",
   "metadata": {},
   "source": [
    "### Strings to integers"
   ]
  },
  {
   "cell_type": "code",
   "execution_count": null,
   "id": "155e5bc0-3c7e-45c1-98c5-4f2135b85894",
   "metadata": {},
   "outputs": [],
   "source": [
    "# Import CSV file and output header\n",
    "sales = pd.read_csv('sales.csv')\n",
    "sales.head(2)"
   ]
  },
  {
   "cell_type": "code",
   "execution_count": null,
   "id": "3c02893e-c21b-48db-888f-5f3e6a411df1",
   "metadata": {},
   "outputs": [],
   "source": [
    "# Get data types of columns\n",
    "sales.dtypes"
   ]
  },
  {
   "cell_type": "code",
   "execution_count": null,
   "id": "c908fe0e-e873-4bb0-aec2-31f19426c3e5",
   "metadata": {},
   "outputs": [],
   "source": [
    "# Get DataFrame information\n",
    "sales.info()"
   ]
  },
  {
   "cell_type": "code",
   "execution_count": null,
   "id": "5103b8af-1852-479b-aea2-e8a5165eb12a",
   "metadata": {},
   "outputs": [],
   "source": [
    "# Print sum of all Revenue column\n",
    "sales['Revenue'].sum()"
   ]
  },
  {
   "cell_type": "markdown",
   "id": "1ea7348b-7abd-4efc-9d22-4acf5093d066",
   "metadata": {},
   "source": [
    "# Remove $ from Revenue column"
   ]
  },
  {
   "cell_type": "code",
   "execution_count": null,
   "id": "b5021411-65a2-4905-8afd-42631f11c3bd",
   "metadata": {},
   "outputs": [],
   "source": [
    "sales['Revenue'] = sales['Revenue'].str.strip('$')\n",
    "sales['Revenue'] = sales['Revenue'].astype('int')"
   ]
  },
  {
   "cell_type": "code",
   "execution_count": null,
   "id": "73a72903-f84c-4bd7-b56b-1c48db3e13bc",
   "metadata": {},
   "outputs": [],
   "source": [
    "# Verify that Revenue is now an integer\n",
    "assert sales['Revenue'].dtype == 'int'"
   ]
  },
  {
   "cell_type": "markdown",
   "id": "255b6c9e-3070-48d5-9c53-be10449eae36",
   "metadata": {},
   "source": [
    "### The assert statement"
   ]
  },
  {
   "cell_type": "code",
   "execution_count": 1,
   "id": "4eb74dfc-fa6f-4fcc-a154-a021d87605de",
   "metadata": {},
   "outputs": [],
   "source": [
    "# This will pass\n",
    "assert 1+1 == 2"
   ]
  },
  {
   "cell_type": "code",
   "execution_count": 2,
   "id": "998e17b1-71d2-48be-ba7c-9fb0af5a3ac1",
   "metadata": {},
   "outputs": [
    {
     "ename": "AssertionError",
     "evalue": "",
     "output_type": "error",
     "traceback": [
      "\u001b[0;31m---------------------------------------------------------------------------\u001b[0m",
      "\u001b[0;31mAssertionError\u001b[0m                            Traceback (most recent call last)",
      "Cell \u001b[0;32mIn[2], line 2\u001b[0m\n\u001b[1;32m      1\u001b[0m \u001b[38;5;66;03m# This will not pass\u001b[39;00m\n\u001b[0;32m----> 2\u001b[0m \u001b[38;5;28;01massert\u001b[39;00m \u001b[38;5;241m1\u001b[39m\u001b[38;5;241m+\u001b[39m\u001b[38;5;241m1\u001b[39m \u001b[38;5;241m==\u001b[39m \u001b[38;5;241m3\u001b[39m\n",
      "\u001b[0;31mAssertionError\u001b[0m: "
     ]
    }
   ],
   "source": [
    "# This will not pass\n",
    "assert 1+1 == 3"
   ]
  },
  {
   "cell_type": "markdown",
   "id": "5d349971-3a3c-46b1-923d-4f4e73fa3821",
   "metadata": {},
   "source": [
    "### Numeric or categorical?"
   ]
  },
  {
   "cell_type": "code",
   "execution_count": null,
   "id": "05d7e4bb-c051-43f8-91b2-aacfa2e6a6c0",
   "metadata": {},
   "outputs": [],
   "source": [
    "0 = Never married     1 = Married      2 = Separated      3 = Divorced\n",
    "\n",
    "df['marriage_status'].describe()"
   ]
  },
  {
   "cell_type": "code",
   "execution_count": null,
   "id": "3f78d63f-d1f2-4fac-a55d-80786df7e903",
   "metadata": {},
   "outputs": [],
   "source": [
    "# Convert to categorical\n",
    "df[\"marriage_status\"] = df[\"marriage_status\"].astype('category')\n",
    "df.describe()"
   ]
  },
  {
   "cell_type": "code",
   "execution_count": 7,
   "id": "fdb1a858-bcd3-435f-83f2-0be8adb95e3f",
   "metadata": {},
   "outputs": [],
   "source": [
    "import numpy as np\n",
    "import pandas as pd\n",
    "\n",
    "ride_sharing = pd.read_csv('ride_sharing_new.csv',index_col=0)"
   ]
  },
  {
   "cell_type": "markdown",
   "id": "3c5297ec-302d-408a-972c-85fbbff0cb25",
   "metadata": {},
   "source": [
    "### Numeric data or ... ?\n",
    "In this exercise, and throughout this chapter, you'll be working with bicycle ride sharing data in San Francisco called ride_sharing. It contains information on the start and end stations, the trip duration, and some user information for a bike sharing service.\n",
    "\n",
    "The user_type column contains information on whether a user is taking a free ride and takes on the following values:\n",
    "\n",
    "1 for free riders.\n",
    "2 for pay per ride.\n",
    "3 for monthly subscribers.\n",
    "In this instance, you will print the information of ride_sharing using .info() and see a firsthand example of how an incorrect data type can flaw your analysis of the dataset. The pandas package is imported as pd."
   ]
  },
  {
   "cell_type": "code",
   "execution_count": 9,
   "id": "a7b521b2-e746-49e8-a7b0-210dd464fd85",
   "metadata": {},
   "outputs": [
    {
     "data": {
      "text/html": [
       "<div>\n",
       "<style scoped>\n",
       "    .dataframe tbody tr th:only-of-type {\n",
       "        vertical-align: middle;\n",
       "    }\n",
       "\n",
       "    .dataframe tbody tr th {\n",
       "        vertical-align: top;\n",
       "    }\n",
       "\n",
       "    .dataframe thead th {\n",
       "        text-align: right;\n",
       "    }\n",
       "</style>\n",
       "<table border=\"1\" class=\"dataframe\">\n",
       "  <thead>\n",
       "    <tr style=\"text-align: right;\">\n",
       "      <th></th>\n",
       "      <th>duration</th>\n",
       "      <th>station_A_id</th>\n",
       "      <th>station_A_name</th>\n",
       "      <th>station_B_id</th>\n",
       "      <th>station_B_name</th>\n",
       "      <th>bike_id</th>\n",
       "      <th>user_type</th>\n",
       "      <th>user_birth_year</th>\n",
       "      <th>user_gender</th>\n",
       "    </tr>\n",
       "  </thead>\n",
       "  <tbody>\n",
       "    <tr>\n",
       "      <th>0</th>\n",
       "      <td>12 minutes</td>\n",
       "      <td>81</td>\n",
       "      <td>Berry St at 4th St</td>\n",
       "      <td>323</td>\n",
       "      <td>Broadway at Kearny</td>\n",
       "      <td>5480</td>\n",
       "      <td>2</td>\n",
       "      <td>1959</td>\n",
       "      <td>Male</td>\n",
       "    </tr>\n",
       "    <tr>\n",
       "      <th>1</th>\n",
       "      <td>24 minutes</td>\n",
       "      <td>3</td>\n",
       "      <td>Powell St BART Station (Market St at 4th St)</td>\n",
       "      <td>118</td>\n",
       "      <td>Eureka Valley Recreation Center</td>\n",
       "      <td>5193</td>\n",
       "      <td>2</td>\n",
       "      <td>1965</td>\n",
       "      <td>Male</td>\n",
       "    </tr>\n",
       "    <tr>\n",
       "      <th>2</th>\n",
       "      <td>8 minutes</td>\n",
       "      <td>67</td>\n",
       "      <td>San Francisco Caltrain Station 2  (Townsend St...</td>\n",
       "      <td>23</td>\n",
       "      <td>The Embarcadero at Steuart St</td>\n",
       "      <td>3652</td>\n",
       "      <td>3</td>\n",
       "      <td>1993</td>\n",
       "      <td>Male</td>\n",
       "    </tr>\n",
       "    <tr>\n",
       "      <th>3</th>\n",
       "      <td>4 minutes</td>\n",
       "      <td>16</td>\n",
       "      <td>Steuart St at Market St</td>\n",
       "      <td>28</td>\n",
       "      <td>The Embarcadero at Bryant St</td>\n",
       "      <td>1883</td>\n",
       "      <td>1</td>\n",
       "      <td>1979</td>\n",
       "      <td>Male</td>\n",
       "    </tr>\n",
       "    <tr>\n",
       "      <th>4</th>\n",
       "      <td>11 minutes</td>\n",
       "      <td>22</td>\n",
       "      <td>Howard St at Beale St</td>\n",
       "      <td>350</td>\n",
       "      <td>8th St at Brannan St</td>\n",
       "      <td>4626</td>\n",
       "      <td>2</td>\n",
       "      <td>1994</td>\n",
       "      <td>Male</td>\n",
       "    </tr>\n",
       "  </tbody>\n",
       "</table>\n",
       "</div>"
      ],
      "text/plain": [
       "     duration  station_A_id  \\\n",
       "0  12 minutes            81   \n",
       "1  24 minutes             3   \n",
       "2   8 minutes            67   \n",
       "3   4 minutes            16   \n",
       "4  11 minutes            22   \n",
       "\n",
       "                                      station_A_name  station_B_id  \\\n",
       "0                                 Berry St at 4th St           323   \n",
       "1       Powell St BART Station (Market St at 4th St)           118   \n",
       "2  San Francisco Caltrain Station 2  (Townsend St...            23   \n",
       "3                            Steuart St at Market St            28   \n",
       "4                              Howard St at Beale St           350   \n",
       "\n",
       "                    station_B_name  bike_id  user_type  user_birth_year  \\\n",
       "0               Broadway at Kearny     5480          2             1959   \n",
       "1  Eureka Valley Recreation Center     5193          2             1965   \n",
       "2    The Embarcadero at Steuart St     3652          3             1993   \n",
       "3     The Embarcadero at Bryant St     1883          1             1979   \n",
       "4             8th St at Brannan St     4626          2             1994   \n",
       "\n",
       "  user_gender  \n",
       "0        Male  \n",
       "1        Male  \n",
       "2        Male  \n",
       "3        Male  \n",
       "4        Male  "
      ]
     },
     "metadata": {},
     "output_type": "display_data"
    },
    {
     "name": "stdout",
     "output_type": "stream",
     "text": [
      "\n",
      "<class 'pandas.core.frame.DataFrame'>\n",
      "Index: 25760 entries, 0 to 25759\n",
      "Data columns (total 9 columns):\n",
      " #   Column           Non-Null Count  Dtype \n",
      "---  ------           --------------  ----- \n",
      " 0   duration         25760 non-null  object\n",
      " 1   station_A_id     25760 non-null  int64 \n",
      " 2   station_A_name   25760 non-null  object\n",
      " 3   station_B_id     25760 non-null  int64 \n",
      " 4   station_B_name   25760 non-null  object\n",
      " 5   bike_id          25760 non-null  int64 \n",
      " 6   user_type        25760 non-null  int64 \n",
      " 7   user_birth_year  25760 non-null  int64 \n",
      " 8   user_gender      25760 non-null  object\n",
      "dtypes: int64(5), object(4)\n",
      "memory usage: 2.0+ MB\n",
      "None\n",
      "\n",
      "count    25760.000000\n",
      "mean         2.008385\n",
      "std          0.704541\n",
      "min          1.000000\n",
      "25%          2.000000\n",
      "50%          2.000000\n",
      "75%          3.000000\n",
      "max          3.000000\n",
      "Name: user_type, dtype: float64\n"
     ]
    }
   ],
   "source": [
    "# Print the head()\n",
    "display(ride_sharing.head())\n",
    "print()\n",
    "# Print the information of ride_sharing\n",
    "print(ride_sharing.info())\n",
    "print()\n",
    "# Print summary statistics of user_type column\n",
    "print(ride_sharing['user_type'].describe())"
   ]
  },
  {
   "cell_type": "code",
   "execution_count": 10,
   "id": "2a45cda5-4713-4162-b165-92ea046b1823",
   "metadata": {},
   "outputs": [
    {
     "name": "stdout",
     "output_type": "stream",
     "text": [
      "count     25760\n",
      "unique        3\n",
      "top           2\n",
      "freq      12972\n",
      "Name: user_type_cat, dtype: int64\n"
     ]
    }
   ],
   "source": [
    "# Convert user_type from integer to category\n",
    "ride_sharing['user_type_cat'] = ride_sharing['user_type'].astype('category')\n",
    "\n",
    "# Write an assert statement confirming the change\n",
    "assert ride_sharing['user_type_cat'].dtype == 'category'\n",
    "\n",
    "# Print new summary statistics \n",
    "print(ride_sharing['user_type_cat'].describe())"
   ]
  },
  {
   "cell_type": "markdown",
   "id": "a6beb5ed-81da-41d3-946f-1424e2f58aa7",
   "metadata": {},
   "source": [
    "### Summing strings and concatenating numbers\n",
    "In the previous exercise, you were able to identify that category is the correct data type for user_type and convert it in order to extract relevant statistical summaries that shed light on the distribution of user_type.\n",
    "\n",
    "Another common data type problem is importing what should be numerical values as strings, as mathematical operations such as summing and multiplication lead to string concatenation, not numerical outputs.\n",
    "\n",
    "In this exercise, you'll be converting the string column duration to the type int. Before that however, you will need to make sure to strip \"minutes\" from the column in order to make sure pandas reads it as numerical. The pandas package has been imported as pd."
   ]
  },
  {
   "cell_type": "code",
   "execution_count": 11,
   "id": "dcd90ce8-e9f5-4c67-86ef-c0da73fe8143",
   "metadata": {},
   "outputs": [
    {
     "data": {
      "text/html": [
       "<div>\n",
       "<style scoped>\n",
       "    .dataframe tbody tr th:only-of-type {\n",
       "        vertical-align: middle;\n",
       "    }\n",
       "\n",
       "    .dataframe tbody tr th {\n",
       "        vertical-align: top;\n",
       "    }\n",
       "\n",
       "    .dataframe thead th {\n",
       "        text-align: right;\n",
       "    }\n",
       "</style>\n",
       "<table border=\"1\" class=\"dataframe\">\n",
       "  <thead>\n",
       "    <tr style=\"text-align: right;\">\n",
       "      <th></th>\n",
       "      <th>duration</th>\n",
       "    </tr>\n",
       "  </thead>\n",
       "  <tbody>\n",
       "    <tr>\n",
       "      <th>0</th>\n",
       "      <td>12 minutes</td>\n",
       "    </tr>\n",
       "    <tr>\n",
       "      <th>1</th>\n",
       "      <td>24 minutes</td>\n",
       "    </tr>\n",
       "    <tr>\n",
       "      <th>2</th>\n",
       "      <td>8 minutes</td>\n",
       "    </tr>\n",
       "    <tr>\n",
       "      <th>3</th>\n",
       "      <td>4 minutes</td>\n",
       "    </tr>\n",
       "    <tr>\n",
       "      <th>4</th>\n",
       "      <td>11 minutes</td>\n",
       "    </tr>\n",
       "    <tr>\n",
       "      <th>...</th>\n",
       "      <td>...</td>\n",
       "    </tr>\n",
       "    <tr>\n",
       "      <th>25755</th>\n",
       "      <td>11 minutes</td>\n",
       "    </tr>\n",
       "    <tr>\n",
       "      <th>25756</th>\n",
       "      <td>10 minutes</td>\n",
       "    </tr>\n",
       "    <tr>\n",
       "      <th>25757</th>\n",
       "      <td>14 minutes</td>\n",
       "    </tr>\n",
       "    <tr>\n",
       "      <th>25758</th>\n",
       "      <td>14 minutes</td>\n",
       "    </tr>\n",
       "    <tr>\n",
       "      <th>25759</th>\n",
       "      <td>29 minutes</td>\n",
       "    </tr>\n",
       "  </tbody>\n",
       "</table>\n",
       "<p>25760 rows × 1 columns</p>\n",
       "</div>"
      ],
      "text/plain": [
       "         duration\n",
       "0      12 minutes\n",
       "1      24 minutes\n",
       "2       8 minutes\n",
       "3       4 minutes\n",
       "4      11 minutes\n",
       "...           ...\n",
       "25755  11 minutes\n",
       "25756  10 minutes\n",
       "25757  14 minutes\n",
       "25758  14 minutes\n",
       "25759  29 minutes\n",
       "\n",
       "[25760 rows x 1 columns]"
      ]
     },
     "execution_count": 11,
     "metadata": {},
     "output_type": "execute_result"
    }
   ],
   "source": [
    "ride_sharing[['duration']]"
   ]
  },
  {
   "cell_type": "code",
   "execution_count": 17,
   "id": "aebc62ea-6d3b-4f9f-aeb4-6a4a924eaa6a",
   "metadata": {},
   "outputs": [],
   "source": [
    "# Strip duration of minutes\n",
    "ride_sharing['duration_trim'] = ride_sharing['duration'].str.strip('minutes')"
   ]
  },
  {
   "cell_type": "code",
   "execution_count": 19,
   "id": "7546c1a3-ba6a-455b-97de-3a3710fce756",
   "metadata": {},
   "outputs": [],
   "source": [
    "# Convert duration to integer\n",
    "ride_sharing['duration_time'] = ride_sharing['duration_trim'].astype('int')\n",
    "\n",
    "# Write an assert statement making sure of conversion\n",
    "assert ride_sharing['duration_time'].dtype == 'int'"
   ]
  },
  {
   "cell_type": "code",
   "execution_count": 23,
   "id": "22561a60-6ff5-4ebf-9038-eb8d8a1d4c8d",
   "metadata": {},
   "outputs": [
    {
     "data": {
      "text/html": [
       "<div>\n",
       "<style scoped>\n",
       "    .dataframe tbody tr th:only-of-type {\n",
       "        vertical-align: middle;\n",
       "    }\n",
       "\n",
       "    .dataframe tbody tr th {\n",
       "        vertical-align: top;\n",
       "    }\n",
       "\n",
       "    .dataframe thead th {\n",
       "        text-align: right;\n",
       "    }\n",
       "</style>\n",
       "<table border=\"1\" class=\"dataframe\">\n",
       "  <thead>\n",
       "    <tr style=\"text-align: right;\">\n",
       "      <th></th>\n",
       "      <th>duration</th>\n",
       "      <th>duration_trim</th>\n",
       "      <th>duration_time</th>\n",
       "    </tr>\n",
       "  </thead>\n",
       "  <tbody>\n",
       "    <tr>\n",
       "      <th>0</th>\n",
       "      <td>12 minutes</td>\n",
       "      <td>12</td>\n",
       "      <td>12</td>\n",
       "    </tr>\n",
       "    <tr>\n",
       "      <th>1</th>\n",
       "      <td>24 minutes</td>\n",
       "      <td>24</td>\n",
       "      <td>24</td>\n",
       "    </tr>\n",
       "    <tr>\n",
       "      <th>2</th>\n",
       "      <td>8 minutes</td>\n",
       "      <td>8</td>\n",
       "      <td>8</td>\n",
       "    </tr>\n",
       "    <tr>\n",
       "      <th>3</th>\n",
       "      <td>4 minutes</td>\n",
       "      <td>4</td>\n",
       "      <td>4</td>\n",
       "    </tr>\n",
       "    <tr>\n",
       "      <th>4</th>\n",
       "      <td>11 minutes</td>\n",
       "      <td>11</td>\n",
       "      <td>11</td>\n",
       "    </tr>\n",
       "    <tr>\n",
       "      <th>...</th>\n",
       "      <td>...</td>\n",
       "      <td>...</td>\n",
       "      <td>...</td>\n",
       "    </tr>\n",
       "    <tr>\n",
       "      <th>25755</th>\n",
       "      <td>11 minutes</td>\n",
       "      <td>11</td>\n",
       "      <td>11</td>\n",
       "    </tr>\n",
       "    <tr>\n",
       "      <th>25756</th>\n",
       "      <td>10 minutes</td>\n",
       "      <td>10</td>\n",
       "      <td>10</td>\n",
       "    </tr>\n",
       "    <tr>\n",
       "      <th>25757</th>\n",
       "      <td>14 minutes</td>\n",
       "      <td>14</td>\n",
       "      <td>14</td>\n",
       "    </tr>\n",
       "    <tr>\n",
       "      <th>25758</th>\n",
       "      <td>14 minutes</td>\n",
       "      <td>14</td>\n",
       "      <td>14</td>\n",
       "    </tr>\n",
       "    <tr>\n",
       "      <th>25759</th>\n",
       "      <td>29 minutes</td>\n",
       "      <td>29</td>\n",
       "      <td>29</td>\n",
       "    </tr>\n",
       "  </tbody>\n",
       "</table>\n",
       "<p>25760 rows × 3 columns</p>\n",
       "</div>"
      ],
      "text/plain": [
       "         duration duration_trim  duration_time\n",
       "0      12 minutes           12              12\n",
       "1      24 minutes           24              24\n",
       "2       8 minutes            8               8\n",
       "3       4 minutes            4               4\n",
       "4      11 minutes           11              11\n",
       "...           ...           ...            ...\n",
       "25755  11 minutes           11              11\n",
       "25756  10 minutes           10              10\n",
       "25757  14 minutes           14              14\n",
       "25758  14 minutes           14              14\n",
       "25759  29 minutes           29              29\n",
       "\n",
       "[25760 rows x 3 columns]"
      ]
     },
     "metadata": {},
     "output_type": "display_data"
    }
   ],
   "source": [
    "# Print formed columns and calculate average ride duration \n",
    "display(ride_sharing[['duration','duration_trim','duration_time']])"
   ]
  },
  {
   "cell_type": "code",
   "execution_count": 24,
   "id": "480d74e0-34de-4178-9b48-b584737bf0f6",
   "metadata": {},
   "outputs": [
    {
     "name": "stdout",
     "output_type": "stream",
     "text": [
      "duration_time    11.389053\n",
      "dtype: float64\n"
     ]
    }
   ],
   "source": [
    "print(ride_sharing[['duration_time']].mean())"
   ]
  },
  {
   "cell_type": "markdown",
   "id": "626bd160-e069-435d-81c9-18bb70515d1b",
   "metadata": {},
   "source": [
    "- Great work! 11 minutes is really not bad for an average ride duration in a city like San-Francisco. In the next lesson, you're going to jump right ahead into sanity checking the range of values in your data."
   ]
  },
  {
   "cell_type": "markdown",
   "id": "b6bb604c-1e76-4dec-8646-7ea7d17e319b",
   "metadata": {},
   "source": [
    "## Data range constraints"
   ]
  },
  {
   "cell_type": "markdown",
   "id": "555894f7-ba30-4a09-8235-fe205b73e973",
   "metadata": {},
   "source": [
    "#### Motivation"
   ]
  },
  {
   "cell_type": "code",
   "execution_count": null,
   "id": "7673755f-3899-4b7f-b563-dc6e0903e139",
   "metadata": {},
   "outputs": [],
   "source": [
    "movies.head()"
   ]
  },
  {
   "cell_type": "code",
   "execution_count": null,
   "id": "43fb7984-dcc4-4743-be86-6167f77096b8",
   "metadata": {},
   "outputs": [],
   "source": [
    "import matplotlib.pyplot as plt\n",
    "plt.hist(movies['avg_rating'])\n",
    "plt.title('Average rating of movies (1-5)')"
   ]
  },
  {
   "cell_type": "code",
   "execution_count": null,
   "id": "929f656f-0bdc-4077-9c82-4394e68bc03b",
   "metadata": {},
   "outputs": [],
   "source": [
    "# Import date time\n",
    "import datetime as dt\n",
    "today_date = dt.date.today()\n",
    "user_signups[user_signups['subscription_date'] > dt.date.today()]"
   ]
  },
  {
   "cell_type": "markdown",
   "id": "b668a688-a67d-4625-be9c-85f365522fa1",
   "metadata": {},
   "source": [
    "#### How to deal with out of range data?\n",
    "- Dropping data\n",
    "- Setting custom minimums and maximums\n",
    "- Treat as missing and impute\n",
    "- Setting custom value depending on business assumptions\n"
   ]
  },
  {
   "cell_type": "markdown",
   "id": "7ab68524-646d-4e44-8c82-bb3a55152c77",
   "metadata": {},
   "source": [
    "### Movie example"
   ]
  },
  {
   "cell_type": "code",
   "execution_count": null,
   "id": "7fcffed3-3da3-48dc-8012-2951b196f97f",
   "metadata": {},
   "outputs": [],
   "source": [
    "# Output Movies with rating > 5\n",
    "movies[movies['avg_rating'] > 5]"
   ]
  },
  {
   "cell_type": "code",
   "execution_count": null,
   "id": "96e82925-7102-4e8e-871f-6d59247eafa6",
   "metadata": {},
   "outputs": [],
   "source": [
    "# Drop values using filtering\n",
    "movies = movies[movies['avg_rating'] <= 5]\n",
    "# Drop values using .drop()\n",
    "movies.drop(movies[movies['avg_rating'] > 5].index, inplace = True)\n",
    "# Assert results\n",
    "assert movies['avg_rating'].max() <= 5\n"
   ]
  },
  {
   "cell_type": "code",
   "execution_count": null,
   "id": "b5b95af4-f20d-43c9-90e8-c956843a62ab",
   "metadata": {},
   "outputs": [],
   "source": [
    "# Convert avg_rating > 5 to 5\n",
    "movies.loc[movies['avg_rating'] > 5, 'avg_rating'] = 5"
   ]
  },
  {
   "cell_type": "code",
   "execution_count": null,
   "id": "0e084518-42ac-4d70-bd4f-a534d124ca47",
   "metadata": {},
   "outputs": [],
   "source": [
    "# Assert statement\n",
    "assert movies['avg_rating'].max() <= 5"
   ]
  },
  {
   "cell_type": "markdown",
   "id": "fd21c015-ed38-4585-bee0-65ba57ac9bbd",
   "metadata": {},
   "source": [
    "- Remember, no output means it passed"
   ]
  },
  {
   "cell_type": "markdown",
   "id": "6f12b188-95b8-4f1b-924a-209f1b5a23b7",
   "metadata": {},
   "source": [
    "### Date range example"
   ]
  },
  {
   "cell_type": "code",
   "execution_count": null,
   "id": "b9ca9c2d-c82c-4a5a-98f5-b488ed242e8a",
   "metadata": {},
   "outputs": [],
   "source": [
    "# Output data types\n",
    "user_signups.dtypes"
   ]
  },
  {
   "cell_type": "code",
   "execution_count": null,
   "id": "578c0f8f-3a2b-43aa-bc10-f3f819f442c0",
   "metadata": {},
   "outputs": [],
   "source": [
    "# Convert to date\n",
    "user_signups['subscription_date'] = pd.to_datetime(user_signups['subscription_date']).dt.date"
   ]
  },
  {
   "cell_type": "code",
   "execution_count": null,
   "id": "cd5664b0-7a3a-442f-81dc-1f4d193fa2f0",
   "metadata": {},
   "outputs": [],
   "source": [
    "today_date = dt.date.today()"
   ]
  },
  {
   "cell_type": "markdown",
   "id": "53d69e2a-65f6-41dc-a1b1-929ed4110b0c",
   "metadata": {},
   "source": [
    "#### Drop the data"
   ]
  },
  {
   "cell_type": "code",
   "execution_count": null,
   "id": "36eff317-851e-4b46-aedc-164cceda8a37",
   "metadata": {},
   "outputs": [],
   "source": [
    "# Drop values using filtering\n",
    "user_signups = user_signups[user_signups['subscription_date'] < today_date]\n",
    "# Drop values using .drop()\n",
    "user_signups.drop(user_signups[user_signups['subscription_date'] > today_date].index, inplace = True)"
   ]
  },
  {
   "cell_type": "markdown",
   "id": "a52d686d-9626-475f-b6ac-a403e81095a8",
   "metadata": {},
   "source": [
    "#### Hardcode dates with upper limit"
   ]
  },
  {
   "cell_type": "code",
   "execution_count": null,
   "id": "719e7b66-5bcd-46c6-bc89-3c9439fa1bff",
   "metadata": {},
   "outputs": [],
   "source": [
    "# Drop values using filtering\n",
    "user_signups.loc[user_signups['subscription_date'] > today_date, 'subscription_date'] = today_date\n",
    "# Assert is true\n",
    "assert user_signups.subscription_date.max().date() <= today_date"
   ]
  },
  {
   "cell_type": "markdown",
   "id": "1f091174-61d3-4ff8-a140-0e49600ac65c",
   "metadata": {},
   "source": [
    "### Tire size constraints\n",
    "In this lesson, you're going to build on top of the work you've been doing with the ride_sharing DataFrame. You'll be working with the tire_sizes column which contains data on each bike's tire size.\n",
    "\n",
    "Bicycle tire sizes could be either 26″, 27″ or 29″ and are here correctly stored as a categorical value. In an effort to cut maintenance costs, the ride sharing provider decided to set the maximum tire size to be 27″.\n",
    "\n",
    "In this exercise, you will make sure the tire_sizes column has the correct range by first converting it to an integer, then setting and testing the new upper limit of 27″ for tire sizes."
   ]
  },
  {
   "cell_type": "code",
   "execution_count": 33,
   "id": "58d1798b-50d3-476f-b2ea-bc1a21faeffd",
   "metadata": {},
   "outputs": [
    {
     "data": {
      "text/plain": [
       "array([[24072],\n",
       "       [20058]], dtype=int16)"
      ]
     },
     "execution_count": 33,
     "metadata": {},
     "output_type": "execute_result"
    }
   ],
   "source": [
    "np.random.choice(np.arange(25760, dtype=np.int16), size=(2, 1), replace=False)"
   ]
  },
  {
   "cell_type": "code",
   "execution_count": 27,
   "id": "03c979c6-6fc6-443a-aab9-593c0c359734",
   "metadata": {},
   "outputs": [
    {
     "data": {
      "text/plain": [
       "Index(['duration', 'station_A_id', 'station_A_name', 'station_B_id',\n",
       "       'station_B_name', 'bike_id', 'user_type', 'user_birth_year',\n",
       "       'user_gender', 'user_type_cat', 'duration_trim', 'duration_time'],\n",
       "      dtype='object')"
      ]
     },
     "execution_count": 27,
     "metadata": {},
     "output_type": "execute_result"
    }
   ],
   "source": [
    "ride_sharing.columns"
   ]
  },
  {
   "cell_type": "code",
   "execution_count": null,
   "id": "2760e8a4-6f63-450a-b4cf-cc19297f51cb",
   "metadata": {},
   "outputs": [],
   "source": [
    "# Convert tire_sizes to integer\n",
    "ride_sharing['tire_sizes'] = ride_sharing['tire_sizes'].astype('int')\n",
    "\n",
    "# Set all values above 27 to 27\n",
    "ride_sharing.loc[ride_sharing['tire_sizes'] > 27, 'tire_sizes'] = 27\n",
    "\n",
    "# Reconvert tire_sizes back to categorical\n",
    "ride_sharing['tire_sizes'] = ride_sharing['tire_sizes'].astype('category')\n",
    "\n",
    "# Print tire size description\n",
    "print(ride_sharing['tire_sizes'].describe())"
   ]
  },
  {
   "cell_type": "markdown",
   "id": "4987d7bf-7e28-4dda-a3e0-e19531a6c748",
   "metadata": {},
   "source": [
    "- Awesome work! You can look at the new maximum by looking at the top row in the description. Notice how essential it was to convert tire_sizes into integer before setting a new maximum."
   ]
  },
  {
   "cell_type": "markdown",
   "id": "6e9269e2-7b66-42c1-99df-8d1bcba3888d",
   "metadata": {},
   "source": [
    "### Back to the future\n",
    "A new update to the data pipeline feeding into the ride_sharing DataFrame has been updated to register each ride's date. This information is stored in the ride_date column of the type object, which represents strings in pandas.\n",
    "\n",
    "A bug was discovered which was relaying rides taken today as taken next year. To fix this, you will find all instances of the ride_date column that occur anytime in the future, and set the maximum possible value of this column to today's date. Before doing so, you would need to convert ride_date to a datetime object.\n",
    "\n",
    "The datetime package has been imported as dt, alongside all the packages you've been using till now."
   ]
  },
  {
   "cell_type": "code",
   "execution_count": null,
   "id": "7ae0f30d-c00d-4d0c-9ec1-ae0511c010a8",
   "metadata": {},
   "outputs": [],
   "source": [
    "# Convert ride_date to date\n",
    "ride_sharing['ride_dt'] = pd.to_datetime(ride_sharing['ride_date']).dt.date\n",
    "\n",
    "# Save today's date\n",
    "today = dt.date.today()\n",
    "\n",
    "# Set all in the future to today's date\n",
    "ride_sharing.loc[ride_sharing['ride_dt'] > today, 'ride_dt'] = today\n",
    "\n",
    "# Print maximum of ride_dt column\n",
    "print(ride_sharing['ride_dt'].max())"
   ]
  },
  {
   "cell_type": "code",
   "execution_count": null,
   "id": "a6c60607-c2ca-4b77-ac11-89106cc34440",
   "metadata": {},
   "outputs": [],
   "source": [
    "# Convert ride_date to date\n",
    "ride_sharing['ride_dt'] = pd.to_datetime(ride_sharing['ride_date']).dt.date\n",
    "\n",
    "# Save today's date\n",
    "today = dt.date.today()\n",
    "\n",
    "# Set all in the future to today's date\n",
    "ride_sharing.loc[pd.to_datetime(ride_sharing['ride_date']).dt.date > dt.date.today(), 'ride_date'] = dt.date.today()\n",
    "\n",
    "# Print maximum of ride_dt column\n",
    "print(ride_sharing['ride_dt'].max())"
   ]
  },
  {
   "cell_type": "markdown",
   "id": "01c3e9cd-8bda-47ff-a855-0296383d5344",
   "metadata": {},
   "source": [
    "- Great job! Imagine counting the number of rides taken today without having cleaned your ranges correctly. You would have wildly underreported your findings!"
   ]
  },
  {
   "cell_type": "markdown",
   "id": "6c8933c2-f116-4122-8dd0-31b054b4c5a1",
   "metadata": {},
   "source": [
    "## Uniqueness constraints"
   ]
  },
  {
   "cell_type": "markdown",
   "id": "0c5f7290-e32c-4585-810a-66227115296a",
   "metadata": {},
   "source": [
    "#### What are duplicate values?\n",
    "- All columns have the same values"
   ]
  },
  {
   "cell_type": "code",
   "execution_count": null,
   "id": "c3f7c2db-71b5-4189-8078-12ef06e918ea",
   "metadata": {},
   "outputs": [],
   "source": [
    "first_name       last_name                  address                                      height    weight\n",
    "Justin           Saddlemyer                 Boulevard du Jardin Botanique 3, Bruxelles   193 cm    87 kg\n",
    "Justin           Saddlemyer                 Boulevard du Jardin Botanique 3, Bruxelles   193 cm    87 kv"
   ]
  },
  {
   "cell_type": "markdown",
   "id": "4d4f6aa5-62a6-4b14-9177-6e972f91723a",
   "metadata": {},
   "source": [
    "#### What are duplicate values?\n",
    "- Most columns have the same values"
   ]
  },
  {
   "cell_type": "code",
   "execution_count": null,
   "id": "2f91bd47-491c-4129-b399-1c19dd5f0429",
   "metadata": {},
   "outputs": [],
   "source": [
    "first_name       last_name                  address                                      height    weight\n",
    "Justin           Saddlemyer                 Boulevard du Jardin Botanique 3, Bruxelles   193 cm    87 kg\n",
    "Justin           Saddlemyer                 Boulevard du Jardin Botanique 3, Bruxelles   194 cm    87 kg"
   ]
  },
  {
   "cell_type": "markdown",
   "id": "107d517e-a6fe-4555-958d-7e5c4f42d9b9",
   "metadata": {},
   "source": [
    "#### How to find duplicate values?"
   ]
  },
  {
   "cell_type": "code",
   "execution_count": null,
   "id": "331c1018-0ba8-4d4e-a5ec-81f0220b2bf1",
   "metadata": {},
   "outputs": [],
   "source": [
    "# Print the header\n",
    "height_weight.head()"
   ]
  },
  {
   "cell_type": "code",
   "execution_count": null,
   "id": "9ac34f90-6ab2-4ac5-a059-1cd305d25b09",
   "metadata": {},
   "outputs": [],
   "source": [
    "# Get duplicates across all columns\n",
    "duplicates = height_weight.duplicated()\n",
    "print(duplicates)"
   ]
  },
  {
   "cell_type": "code",
   "execution_count": null,
   "id": "752766eb-d01c-4a69-8d6d-fac5ae5f6305",
   "metadata": {},
   "outputs": [],
   "source": [
    "# Get duplicate rows\n",
    "duplicates = height_weight.duplicated()\n",
    "height_weight[duplicates]"
   ]
  },
  {
   "cell_type": "markdown",
   "id": "cee77391-51d9-4355-a03d-ff0f33c8ca3c",
   "metadata": {},
   "source": [
    "#### How to find duplicate rows?\n",
    "- The .duplicated() method\n",
    "- subset: List of column names to check for duplication.\n",
    "- keep: Whether to keep first ('first'), last ('last') or all (False) duplicate values."
   ]
  },
  {
   "cell_type": "code",
   "execution_count": null,
   "id": "dd076fd3-c3c9-4d4b-913e-4c29bc4caf8c",
   "metadata": {},
   "outputs": [],
   "source": [
    "# Column names to check for duplication\n",
    "column_names = ['first_name','last_name','address']\n",
    "duplicates = height_weight.duplicated(subset = column_names, keep = False)"
   ]
  },
  {
   "cell_type": "code",
   "execution_count": null,
   "id": "5e32ecc4-84f0-48b6-b4b0-c7f7072463de",
   "metadata": {},
   "outputs": [],
   "source": [
    "# Output duplicate values\n",
    "height_weight[duplicates]"
   ]
  },
  {
   "cell_type": "code",
   "execution_count": null,
   "id": "95fc8048-0469-42fa-89ee-50ec9085fad2",
   "metadata": {},
   "outputs": [],
   "source": [
    "# Output duplicate values\n",
    "height_weight[duplicates].sort_values(by = 'first_name')"
   ]
  },
  {
   "cell_type": "markdown",
   "id": "c847f5db-9595-4b99-8d7b-f885c6add6b3",
   "metadata": {},
   "source": [
    "#### How to treat duplicate values?\n",
    "- The .drop_duplicates() method\n",
    "- subset: List of column names to check for duplication.\n",
    "- keep: Whether to keep first ('first'), last ('last') or all (False) duplicate values.\n",
    "- inplace: Drop duplicated rows directly inside DataFrame without creating new object (True). "
   ]
  },
  {
   "cell_type": "code",
   "execution_count": null,
   "id": "48bedbb4-f492-4f70-aac5-d4479fd3ce49",
   "metadata": {},
   "outputs": [],
   "source": [
    "# Drop duplicates\n",
    "height_weight.drop_duplicates(inplace = True)"
   ]
  },
  {
   "cell_type": "code",
   "execution_count": null,
   "id": "3751d28a-85d9-47f3-aca3-6aac0e65734f",
   "metadata": {},
   "outputs": [],
   "source": [
    "# Output duplicate values\n",
    "column_names = ['first_name','last_name','address']\n",
    "duplicates = height_weight.duplicated(subset = column_names, keep = False)\n",
    "height_weight[duplicates].sort_values(by = 'first_name')"
   ]
  },
  {
   "cell_type": "markdown",
   "id": "644181f9-8714-49a3-af1c-f4250838e529",
   "metadata": {},
   "source": [
    "- The .groupby() and .agg() methods"
   ]
  },
  {
   "cell_type": "code",
   "execution_count": null,
   "id": "754d8e56-2747-4f19-b780-4f5286bab709",
   "metadata": {},
   "outputs": [],
   "source": [
    "# Group by column names and produce statistical summaries\n",
    "column_names = ['first_name','last_name','address']\n",
    "summaries = {'height': 'max', 'weight': 'mean'}\n",
    "height_weight = height_weight.groupby(by = column_names).agg(summaries).reset_index()\n",
    "# Make sure aggregation is done\n",
    "duplicates = height_weight.duplicated(subset = column_names, keep = False)\n",
    "height_weight[duplicates].sort_values(by = 'first_name')"
   ]
  },
  {
   "cell_type": "markdown",
   "id": "1db3757e-6542-40ca-9ae1-79976c415408",
   "metadata": {},
   "source": [
    "### Finding duplicates\n",
    "A new update to the data pipeline feeding into ride_sharing has added the ride_id column, which represents a unique identifier for each ride.\n",
    "\n",
    "The update however coincided with radically shorter average ride duration times and irregular user birth dates set in the future. Most importantly, the number of rides taken has increased by 20% overnight, leading you to think there might be both complete and incomplete duplicates in the ride_sharing DataFrame.\n",
    "\n",
    "In this exercise, you will confirm this suspicion by finding those duplicates. A sample of ride_sharing is in your environment, as well as all the packages you've been working with thus far."
   ]
  },
  {
   "cell_type": "code",
   "execution_count": 39,
   "id": "021fd703-1221-4da7-a1e2-e5921a8c5f94",
   "metadata": {},
   "outputs": [
    {
     "data": {
      "text/html": [
       "<div>\n",
       "<style scoped>\n",
       "    .dataframe tbody tr th:only-of-type {\n",
       "        vertical-align: middle;\n",
       "    }\n",
       "\n",
       "    .dataframe tbody tr th {\n",
       "        vertical-align: top;\n",
       "    }\n",
       "\n",
       "    .dataframe thead th {\n",
       "        text-align: right;\n",
       "    }\n",
       "</style>\n",
       "<table border=\"1\" class=\"dataframe\">\n",
       "  <thead>\n",
       "    <tr style=\"text-align: right;\">\n",
       "      <th></th>\n",
       "      <th>bike_id</th>\n",
       "    </tr>\n",
       "  </thead>\n",
       "  <tbody>\n",
       "    <tr>\n",
       "      <th>0</th>\n",
       "      <td>5480</td>\n",
       "    </tr>\n",
       "    <tr>\n",
       "      <th>1</th>\n",
       "      <td>5193</td>\n",
       "    </tr>\n",
       "    <tr>\n",
       "      <th>2</th>\n",
       "      <td>3652</td>\n",
       "    </tr>\n",
       "    <tr>\n",
       "      <th>3</th>\n",
       "      <td>1883</td>\n",
       "    </tr>\n",
       "    <tr>\n",
       "      <th>4</th>\n",
       "      <td>4626</td>\n",
       "    </tr>\n",
       "    <tr>\n",
       "      <th>...</th>\n",
       "      <td>...</td>\n",
       "    </tr>\n",
       "    <tr>\n",
       "      <th>25755</th>\n",
       "      <td>5063</td>\n",
       "    </tr>\n",
       "    <tr>\n",
       "      <th>25756</th>\n",
       "      <td>5411</td>\n",
       "    </tr>\n",
       "    <tr>\n",
       "      <th>25757</th>\n",
       "      <td>5157</td>\n",
       "    </tr>\n",
       "    <tr>\n",
       "      <th>25758</th>\n",
       "      <td>4438</td>\n",
       "    </tr>\n",
       "    <tr>\n",
       "      <th>25759</th>\n",
       "      <td>1705</td>\n",
       "    </tr>\n",
       "  </tbody>\n",
       "</table>\n",
       "<p>25760 rows × 1 columns</p>\n",
       "</div>"
      ],
      "text/plain": [
       "       bike_id\n",
       "0         5480\n",
       "1         5193\n",
       "2         3652\n",
       "3         1883\n",
       "4         4626\n",
       "...        ...\n",
       "25755     5063\n",
       "25756     5411\n",
       "25757     5157\n",
       "25758     4438\n",
       "25759     1705\n",
       "\n",
       "[25760 rows x 1 columns]"
      ]
     },
     "execution_count": 39,
     "metadata": {},
     "output_type": "execute_result"
    }
   ],
   "source": [
    "ride_sharing[['bike_id']]"
   ]
  },
  {
   "cell_type": "code",
   "execution_count": 40,
   "id": "09f3a2b9-a3f9-4452-aad9-08805b93548b",
   "metadata": {},
   "outputs": [
    {
     "data": {
      "text/plain": [
       "0    True\n",
       "1    True\n",
       "2    True\n",
       "3    True\n",
       "4    True\n",
       "dtype: bool"
      ]
     },
     "execution_count": 40,
     "metadata": {},
     "output_type": "execute_result"
    }
   ],
   "source": [
    "# Find duplicates\n",
    "duplicates = ride_sharing.duplicated(subset='bike_id', keep=False)\n",
    "duplicates.head()"
   ]
  },
  {
   "cell_type": "code",
   "execution_count": 43,
   "id": "9bd20129-af91-4a73-bbd4-d66715bd0411",
   "metadata": {},
   "outputs": [
    {
     "data": {
      "text/html": [
       "<div>\n",
       "<style scoped>\n",
       "    .dataframe tbody tr th:only-of-type {\n",
       "        vertical-align: middle;\n",
       "    }\n",
       "\n",
       "    .dataframe tbody tr th {\n",
       "        vertical-align: top;\n",
       "    }\n",
       "\n",
       "    .dataframe thead th {\n",
       "        text-align: right;\n",
       "    }\n",
       "</style>\n",
       "<table border=\"1\" class=\"dataframe\">\n",
       "  <thead>\n",
       "    <tr style=\"text-align: right;\">\n",
       "      <th></th>\n",
       "      <th>duration</th>\n",
       "      <th>station_A_id</th>\n",
       "      <th>station_A_name</th>\n",
       "      <th>station_B_id</th>\n",
       "      <th>station_B_name</th>\n",
       "      <th>bike_id</th>\n",
       "      <th>user_type</th>\n",
       "      <th>user_birth_year</th>\n",
       "      <th>user_gender</th>\n",
       "      <th>user_type_cat</th>\n",
       "      <th>duration_trim</th>\n",
       "      <th>duration_time</th>\n",
       "    </tr>\n",
       "  </thead>\n",
       "  <tbody>\n",
       "    <tr>\n",
       "      <th>10857</th>\n",
       "      <td>4 minutes</td>\n",
       "      <td>3</td>\n",
       "      <td>Powell St BART Station (Market St at 4th St)</td>\n",
       "      <td>47</td>\n",
       "      <td>4th St at Harrison St</td>\n",
       "      <td>11</td>\n",
       "      <td>1</td>\n",
       "      <td>1987</td>\n",
       "      <td>Male</td>\n",
       "      <td>1</td>\n",
       "      <td>4</td>\n",
       "      <td>4</td>\n",
       "    </tr>\n",
       "    <tr>\n",
       "      <th>3638</th>\n",
       "      <td>12 minutes</td>\n",
       "      <td>22</td>\n",
       "      <td>Howard St at Beale St</td>\n",
       "      <td>350</td>\n",
       "      <td>8th St at Brannan St</td>\n",
       "      <td>11</td>\n",
       "      <td>1</td>\n",
       "      <td>1988</td>\n",
       "      <td>Female</td>\n",
       "      <td>1</td>\n",
       "      <td>12</td>\n",
       "      <td>12</td>\n",
       "    </tr>\n",
       "    <tr>\n",
       "      <th>6088</th>\n",
       "      <td>5 minutes</td>\n",
       "      <td>67</td>\n",
       "      <td>San Francisco Caltrain Station 2  (Townsend St...</td>\n",
       "      <td>63</td>\n",
       "      <td>Bryant St at 6th St</td>\n",
       "      <td>11</td>\n",
       "      <td>2</td>\n",
       "      <td>1985</td>\n",
       "      <td>Male</td>\n",
       "      <td>2</td>\n",
       "      <td>5</td>\n",
       "      <td>5</td>\n",
       "    </tr>\n",
       "    <tr>\n",
       "      <th>16021</th>\n",
       "      <td>12 minutes</td>\n",
       "      <td>30</td>\n",
       "      <td>San Francisco Caltrain (Townsend St at 4th St)</td>\n",
       "      <td>22</td>\n",
       "      <td>Howard St at Beale St</td>\n",
       "      <td>27</td>\n",
       "      <td>3</td>\n",
       "      <td>1989</td>\n",
       "      <td>Female</td>\n",
       "      <td>3</td>\n",
       "      <td>12</td>\n",
       "      <td>12</td>\n",
       "    </tr>\n",
       "    <tr>\n",
       "      <th>17119</th>\n",
       "      <td>11 minutes</td>\n",
       "      <td>3</td>\n",
       "      <td>Powell St BART Station (Market St at 4th St)</td>\n",
       "      <td>58</td>\n",
       "      <td>Market St at 10th St</td>\n",
       "      <td>27</td>\n",
       "      <td>3</td>\n",
       "      <td>1996</td>\n",
       "      <td>Male</td>\n",
       "      <td>3</td>\n",
       "      <td>11</td>\n",
       "      <td>11</td>\n",
       "    </tr>\n",
       "    <tr>\n",
       "      <th>...</th>\n",
       "      <td>...</td>\n",
       "      <td>...</td>\n",
       "      <td>...</td>\n",
       "      <td>...</td>\n",
       "      <td>...</td>\n",
       "      <td>...</td>\n",
       "      <td>...</td>\n",
       "      <td>...</td>\n",
       "      <td>...</td>\n",
       "      <td>...</td>\n",
       "      <td>...</td>\n",
       "      <td>...</td>\n",
       "    </tr>\n",
       "    <tr>\n",
       "      <th>6815</th>\n",
       "      <td>5 minutes</td>\n",
       "      <td>21</td>\n",
       "      <td>Montgomery St BART Station (Market St at 2nd St)</td>\n",
       "      <td>343</td>\n",
       "      <td>Bryant St at 2nd St</td>\n",
       "      <td>6638</td>\n",
       "      <td>2</td>\n",
       "      <td>1995</td>\n",
       "      <td>Female</td>\n",
       "      <td>2</td>\n",
       "      <td>5</td>\n",
       "      <td>5</td>\n",
       "    </tr>\n",
       "    <tr>\n",
       "      <th>8300</th>\n",
       "      <td>6 minutes</td>\n",
       "      <td>16</td>\n",
       "      <td>Steuart St at Market St</td>\n",
       "      <td>36</td>\n",
       "      <td>Folsom St at 3rd St</td>\n",
       "      <td>6638</td>\n",
       "      <td>2</td>\n",
       "      <td>1962</td>\n",
       "      <td>Male</td>\n",
       "      <td>2</td>\n",
       "      <td>6</td>\n",
       "      <td>6</td>\n",
       "    </tr>\n",
       "    <tr>\n",
       "      <th>8812</th>\n",
       "      <td>10 minutes</td>\n",
       "      <td>5</td>\n",
       "      <td>Powell St BART Station (Market St at 5th St)</td>\n",
       "      <td>345</td>\n",
       "      <td>Hubbell St at 16th St</td>\n",
       "      <td>6638</td>\n",
       "      <td>2</td>\n",
       "      <td>1986</td>\n",
       "      <td>Female</td>\n",
       "      <td>2</td>\n",
       "      <td>10</td>\n",
       "      <td>10</td>\n",
       "    </tr>\n",
       "    <tr>\n",
       "      <th>8456</th>\n",
       "      <td>7 minutes</td>\n",
       "      <td>67</td>\n",
       "      <td>San Francisco Caltrain Station 2  (Townsend St...</td>\n",
       "      <td>19</td>\n",
       "      <td>Post St at Kearny St</td>\n",
       "      <td>6638</td>\n",
       "      <td>1</td>\n",
       "      <td>1983</td>\n",
       "      <td>Male</td>\n",
       "      <td>1</td>\n",
       "      <td>7</td>\n",
       "      <td>7</td>\n",
       "    </tr>\n",
       "    <tr>\n",
       "      <th>8380</th>\n",
       "      <td>8 minutes</td>\n",
       "      <td>67</td>\n",
       "      <td>San Francisco Caltrain Station 2  (Townsend St...</td>\n",
       "      <td>16</td>\n",
       "      <td>Steuart St at Market St</td>\n",
       "      <td>6638</td>\n",
       "      <td>3</td>\n",
       "      <td>1984</td>\n",
       "      <td>Male</td>\n",
       "      <td>3</td>\n",
       "      <td>8</td>\n",
       "      <td>8</td>\n",
       "    </tr>\n",
       "  </tbody>\n",
       "</table>\n",
       "<p>25717 rows × 12 columns</p>\n",
       "</div>"
      ],
      "text/plain": [
       "         duration  station_A_id  \\\n",
       "10857   4 minutes             3   \n",
       "3638   12 minutes            22   \n",
       "6088    5 minutes            67   \n",
       "16021  12 minutes            30   \n",
       "17119  11 minutes             3   \n",
       "...           ...           ...   \n",
       "6815    5 minutes            21   \n",
       "8300    6 minutes            16   \n",
       "8812   10 minutes             5   \n",
       "8456    7 minutes            67   \n",
       "8380    8 minutes            67   \n",
       "\n",
       "                                          station_A_name  station_B_id  \\\n",
       "10857       Powell St BART Station (Market St at 4th St)            47   \n",
       "3638                               Howard St at Beale St           350   \n",
       "6088   San Francisco Caltrain Station 2  (Townsend St...            63   \n",
       "16021     San Francisco Caltrain (Townsend St at 4th St)            22   \n",
       "17119       Powell St BART Station (Market St at 4th St)            58   \n",
       "...                                                  ...           ...   \n",
       "6815    Montgomery St BART Station (Market St at 2nd St)           343   \n",
       "8300                             Steuart St at Market St            36   \n",
       "8812        Powell St BART Station (Market St at 5th St)           345   \n",
       "8456   San Francisco Caltrain Station 2  (Townsend St...            19   \n",
       "8380   San Francisco Caltrain Station 2  (Townsend St...            16   \n",
       "\n",
       "                station_B_name  bike_id  user_type  user_birth_year  \\\n",
       "10857    4th St at Harrison St       11          1             1987   \n",
       "3638      8th St at Brannan St       11          1             1988   \n",
       "6088       Bryant St at 6th St       11          2             1985   \n",
       "16021    Howard St at Beale St       27          3             1989   \n",
       "17119     Market St at 10th St       27          3             1996   \n",
       "...                        ...      ...        ...              ...   \n",
       "6815       Bryant St at 2nd St     6638          2             1995   \n",
       "8300       Folsom St at 3rd St     6638          2             1962   \n",
       "8812     Hubbell St at 16th St     6638          2             1986   \n",
       "8456      Post St at Kearny St     6638          1             1983   \n",
       "8380   Steuart St at Market St     6638          3             1984   \n",
       "\n",
       "      user_gender user_type_cat duration_trim  duration_time  \n",
       "10857        Male             1            4               4  \n",
       "3638       Female             1           12              12  \n",
       "6088         Male             2            5               5  \n",
       "16021      Female             3           12              12  \n",
       "17119        Male             3           11              11  \n",
       "...           ...           ...           ...            ...  \n",
       "6815       Female             2            5               5  \n",
       "8300         Male             2            6               6  \n",
       "8812       Female             2           10              10  \n",
       "8456         Male             1            7               7  \n",
       "8380         Male             3            8               8  \n",
       "\n",
       "[25717 rows x 12 columns]"
      ]
     },
     "execution_count": 43,
     "metadata": {},
     "output_type": "execute_result"
    }
   ],
   "source": [
    "# Sort your duplicated rides\n",
    "duplicated_rides = ride_sharing[duplicates].sort_values('bike_id')\n",
    "duplicated_rides"
   ]
  },
  {
   "cell_type": "code",
   "execution_count": 45,
   "id": "9acf9cb8-02bf-422f-96c5-bc357897014c",
   "metadata": {},
   "outputs": [
    {
     "name": "stdout",
     "output_type": "stream",
     "text": [
      "       bike_id    duration  user_birth_year\n",
      "10857       11   4 minutes             1987\n",
      "3638        11  12 minutes             1988\n",
      "6088        11   5 minutes             1985\n",
      "16021       27  12 minutes             1989\n",
      "17119       27  11 minutes             1996\n",
      "...        ...         ...              ...\n",
      "6815      6638   5 minutes             1995\n",
      "8300      6638   6 minutes             1962\n",
      "8812      6638  10 minutes             1986\n",
      "8456      6638   7 minutes             1983\n",
      "8380      6638   8 minutes             1984\n",
      "\n",
      "[25717 rows x 3 columns]\n"
     ]
    }
   ],
   "source": [
    "# Print relevant columns of duplicated_rides\n",
    "print(duplicated_rides[['bike_id','duration','user_birth_year']])"
   ]
  },
  {
   "cell_type": "code",
   "execution_count": null,
   "id": "142770c1-d364-489f-b0cb-dafcd78f0f3d",
   "metadata": {},
   "outputs": [],
   "source": [
    "# Find duplicates\n",
    "duplicates = ride_sharing.duplicated(subset='ride_id', keep=False)\n",
    "\n",
    "# Sort your duplicated rides\n",
    "duplicated_rides = ride_sharing[duplicates].sort_values('ride_id')\n",
    "\n",
    "# Print relevant columns of duplicated_rides\n",
    "print(duplicated_rides[['ride_id','duration','user_birth_year']])"
   ]
  },
  {
   "cell_type": "markdown",
   "id": "f6242417-f5c3-4ca2-a7a6-5a198fc5ad62",
   "metadata": {},
   "source": [
    "- Great job! Notice that rides 33 and 89 are incomplete duplicates, whereas the remaining are complete. You'll learn how to treat them in the next exercise!"
   ]
  },
  {
   "cell_type": "markdown",
   "id": "f547d933-0eff-4d7c-8426-ae737637aec0",
   "metadata": {},
   "source": [
    "### Treating duplicates\n",
    "In the last exercise, you were able to verify that the new update feeding into ride_sharing contains a bug generating both complete and incomplete duplicated rows for some values of the ride_id column, with occasional discrepant values for the user_birth_year and duration columns.\n",
    "\n",
    "In this exercise, you will be treating those duplicated rows by first dropping complete duplicates, and then merging the incomplete duplicate rows into one while keeping the average duration, and the minimum user_birth_year for each set of incomplete duplicate rows."
   ]
  },
  {
   "cell_type": "code",
   "execution_count": null,
   "id": "8bd0c64d-81d9-43a7-9dc9-b27ce3ff4608",
   "metadata": {},
   "outputs": [],
   "source": [
    "# Drop complete duplicates from ride_sharing\n",
    "ride_dup = ride_sharing.drop_duplicates()\n",
    "\n",
    "# Create statistics dictionary for aggregation function\n",
    "statistics = {'user_birth_year': 'min', 'duration': 'mean'}\n",
    "\n",
    "# Group by ride_id and compute new statistics\n",
    "ride_unique = ride_dup.groupby('ride_id').agg(statistics).reset_index()\n",
    "\n",
    "# Find duplicated values again\n",
    "duplicates = ride_unique.duplicated(subset = 'ride_id', keep = False)\n",
    "duplicated_rides = ride_unique[duplicates == True]\n",
    "\n",
    "# Assert duplicates are processed\n",
    "assert duplicated_rides.shape[0] == 0"
   ]
  },
  {
   "cell_type": "markdown",
   "id": "6812f0fb-d7f1-4c1d-aac8-aca6cda4fd94",
   "metadata": {},
   "source": [
    "- Awesome work! You can bet after this fix that ride sharing KPIs will come back to normal."
   ]
  },
  {
   "cell_type": "code",
   "execution_count": null,
   "id": "c0fc240e-ba47-4f7e-ada0-2fd6b36a9a3c",
   "metadata": {},
   "outputs": [],
   "source": []
  },
  {
   "cell_type": "code",
   "execution_count": null,
   "id": "21abd69d-64f9-4c9d-bcef-53e1d86e0002",
   "metadata": {},
   "outputs": [],
   "source": []
  }
 ],
 "metadata": {
  "kernelspec": {
   "display_name": "Python 3 (ipykernel)",
   "language": "python",
   "name": "python3"
  },
  "language_info": {
   "codemirror_mode": {
    "name": "ipython",
    "version": 3
   },
   "file_extension": ".py",
   "mimetype": "text/x-python",
   "name": "python",
   "nbconvert_exporter": "python",
   "pygments_lexer": "ipython3",
   "version": "3.9.13"
  }
 },
 "nbformat": 4,
 "nbformat_minor": 5
}
